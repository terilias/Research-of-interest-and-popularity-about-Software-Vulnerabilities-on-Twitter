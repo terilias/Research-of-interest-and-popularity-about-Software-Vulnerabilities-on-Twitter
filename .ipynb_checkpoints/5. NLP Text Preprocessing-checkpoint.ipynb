{
 "cells": [
  {
   "cell_type": "markdown",
   "id": "f3f25180",
   "metadata": {},
   "source": [
    "# Σημειωματάριο πέμπτο: NLP Ετοιμάζοντας τα δεδομένα μας για την βαθύτερη ανάλυση"
   ]
  },
  {
   "cell_type": "markdown",
   "id": "1ff5c3ea",
   "metadata": {},
   "source": [
    "Σε αυτό το notebook ακολουθούμε όλα τα απαραίτητα βήματα προεπεξεργασίας των δεδομένων κειμένου (δηλαδή των \n",
    "tweets μας) πριν τα τροφοδοτήσουμε στην ανάλυσή μας.Δημιουργούμε ακόμη κάποιες νέες στήλες στο DataFrame που μπορεί να μας φανούν χρήσιμα στη συνέχεια (feature extraction). Είναι σημαντικό να σημειωθεί ότι τα βήματα αυτά πρέπει να εκτελεστούν στην σωστή σειρά ώστε να αποφύγουμε την απώλεια πληροφορίας ή την δημιουργία περισσότερου θορύβου στα δεδομένα μας. Για παράδειγμα ένα σημαντικό βήμα στην προεπεξεργασία κειμένου είναι η αφαίρεση των σημείων στίξης. Αυτό όμως πρέπει να γίνει αφού πρώτα διαχειριστούμε τα *#hashtags*, τα *em@ils* και τα *@mentions* γιατί αλλιώς από τη μία θα χάσουμε την πληροφορία που υπάρχει σε τέτοιου είδους μεταδεδομένα κι από την άλλη με την αφαίρεση των σημείων στίξης από αυτά, εκείνο που μένει ενδεχομένως να είναι θόρυβος.\n",
    " \n",
    "Μερικά άρθρα και online υλικό που συμβουλευτήκαμε για την υλοποίηση των βημάτων προεπεξεργασίας είναι τα ακόλουθα: \n",
    "- https://towardsdatascience.com/nlp-text-preprocessing-a-practical-guide-and-template-d80874676e79\n",
    "- https://www.udemy.com/course/nlp-in-python/\n",
    "- https://www.analyticsvidhya.com/blog/2021/08/a-friendly-guide-to-nlp-text-pre-processing-with-python-example/\n",
    "- https://machinelearningmastery.com/gentle-introduction-bag-words-model/"
   ]
  },
  {
   "cell_type": "code",
   "execution_count": 51,
   "id": "39acf355",
   "metadata": {},
   "outputs": [],
   "source": [
    "import pandas as pd\n",
    "import nltk\n",
    "import re\n",
    "import string\n",
    "import unicodedata\n",
    "import unidecode"
   ]
  },
  {
   "cell_type": "code",
   "execution_count": 2,
   "id": "e1e57611",
   "metadata": {},
   "outputs": [],
   "source": [
    "tweets = pd.read_csv('Data/tweets/tweets_2021_with_users_matched.csv', lineterminator='\\n')"
   ]
  },
  {
   "cell_type": "markdown",
   "id": "bfa12bb4",
   "metadata": {},
   "source": [
    "Θα δημιουργήσουμε μια νέα στήλη με όνομα *clean_text* όπου θα αποθηκεύονται τα tweets ύστερα από την εφαρμογή των βημάτων preprocessing. Αρχικά διατηρούμε και την στήλη των *tweets* όπου έχουμε τα πρωτότυπα κείμενα έτσι ώστε να μπορούμε να βλέπουμε τις διαφορές που προκύπτουν. Στο τέλος όμως, πριν από την ανάλυση, θα χρειαστεί να αφαιρεθούν.\n",
    "\n",
    "Στην συνέχεια ακολουθούν ένα ένα τα βήματα του preprocessing."
   ]
  },
  {
   "cell_type": "code",
   "execution_count": 3,
   "id": "cc16f58c",
   "metadata": {},
   "outputs": [],
   "source": [
    "# Lowercase\n",
    "tweets[\"clean_text\"] = tweets[\"text\"].apply(lambda tweet: tweet.lower())"
   ]
  },
  {
   "cell_type": "code",
   "execution_count": 4,
   "id": "5cecde7d",
   "metadata": {},
   "outputs": [],
   "source": [
    "tweets = tweets.reindex(columns = ['id', 'text', 'clean_text', 'matched_CVE_IDs', 'created_at', 'retweet_count',\n",
    "       'reply_count', 'like_count', 'quote_count', 'author_id', 'author_name',\n",
    "       'author_username', 'author_description', 'author_followers_count',\n",
    "       'author_following_count', 'author_tweet_count', 'author_listed_count'])"
   ]
  },
  {
   "cell_type": "code",
   "execution_count": 48,
   "id": "abae52b0",
   "metadata": {},
   "outputs": [],
   "source": [
    "# Δημιουργία νέας στήλης όπου αποθηκεύουμε το μέγεθος του tweet σε χαρακτήρες\n",
    "\n",
    "tweets['size_of_tweet_in_characters'] = tweets['text'].apply(lambda tweet: len(tweet))"
   ]
  },
  {
   "cell_type": "code",
   "execution_count": 5,
   "id": "f02e493a",
   "metadata": {},
   "outputs": [],
   "source": [
    "# Διαχείριση υπερσυνδέσμων.\n",
    "# https://stackoverflow.com/a/54086404\n",
    "\n",
    "# Πρώτα τους παίρνουμε από το text και τους κρατάμε σε μια νέα στήλη\n",
    "url_pattern = '''(?:(?:https?|ftp):\\/\\/|\\b(?:[a-z\\d]+\\.))(?:(?:[^\\s()<>]+|\\((?:[^\\s()<>]+|(?:\\([^\\s()<>]+\\)))?\\))+(?:\\((?:[^\\s()<>]+|(?:\\(?:[^\\s()<>]+\\)))?\\)|[^\\s`!()\\[\\]{};:'\".,<>?«»“”‘’]))?'''\n",
    "tweets['number_of_links_included'] = tweets['text'].apply(lambda tweet: len(re.findall(url_pattern, tweet)))\n",
    "tweets['links_included'] = tweets['text'].apply(lambda tweet: re.findall(url_pattern, tweet))\n"
   ]
  },
  {
   "cell_type": "code",
   "execution_count": 6,
   "id": "88360e8b",
   "metadata": {},
   "outputs": [],
   "source": [
    "# Και μετά τους διαγράφουμε από το clean_text\n",
    "tweets['clean_text'] = tweets['clean_text'].apply(lambda tweet: re.sub(url_pattern, '', tweet))"
   ]
  },
  {
   "cell_type": "code",
   "execution_count": 7,
   "id": "da77d657",
   "metadata": {},
   "outputs": [],
   "source": [
    "# Διαχείριση emails\n",
    "\n",
    "# Πρώτα τα παίρνουμε από το text και τους κρατάμε σε μια νέα στήλη\n",
    "email_pattern = '([a-z0-9+._-]+@[a-z0-9+._-]+\\.[a-z+_-]+)'\n",
    "tweets['number_of_emails_included'] = tweets['text'].apply(lambda tweet: len(re.findall(email_pattern, tweet)))\n",
    "tweets['emails_included'] = tweets['text'].apply(lambda tweet: re.findall(email_pattern, tweet))\n"
   ]
  },
  {
   "cell_type": "code",
   "execution_count": 8,
   "id": "f1de7654",
   "metadata": {},
   "outputs": [
    {
     "data": {
      "text/plain": [
       "24"
      ]
     },
     "execution_count": 8,
     "metadata": {},
     "output_type": "execute_result"
    }
   ],
   "source": [
    "len(tweets[tweets['number_of_emails_included']>0])"
   ]
  },
  {
   "cell_type": "code",
   "execution_count": 9,
   "id": "6f636ae9",
   "metadata": {},
   "outputs": [],
   "source": [
    "# Και μετά τα διαγράφουμε από το clean_text\n",
    "tweets['clean_text'] = tweets['clean_text'].apply(lambda tweet: re.sub(email_pattern, '', tweet))"
   ]
  },
  {
   "cell_type": "code",
   "execution_count": 10,
   "id": "3a1420d0",
   "metadata": {},
   "outputs": [],
   "source": [
    "# Αφαίρεση αχρείαστων κενών (μπορεί να έχουν δημιουργηθεί ξανά)\n",
    "tweets['clean_text'] = tweets['clean_text'].apply(lambda tweet: ' '.join(tweet.split()))"
   ]
  },
  {
   "cell_type": "code",
   "execution_count": 11,
   "id": "80df49c5",
   "metadata": {
    "scrolled": true
   },
   "outputs": [
    {
     "data": {
      "text/html": [
       "<div>\n",
       "<style scoped>\n",
       "    .dataframe tbody tr th:only-of-type {\n",
       "        vertical-align: middle;\n",
       "    }\n",
       "\n",
       "    .dataframe tbody tr th {\n",
       "        vertical-align: top;\n",
       "    }\n",
       "\n",
       "    .dataframe thead th {\n",
       "        text-align: right;\n",
       "    }\n",
       "</style>\n",
       "<table border=\"1\" class=\"dataframe\">\n",
       "  <thead>\n",
       "    <tr style=\"text-align: right;\">\n",
       "      <th></th>\n",
       "      <th>id</th>\n",
       "      <th>text</th>\n",
       "      <th>clean_text</th>\n",
       "      <th>matched_CVE_IDs</th>\n",
       "      <th>created_at</th>\n",
       "      <th>retweet_count</th>\n",
       "      <th>reply_count</th>\n",
       "      <th>like_count</th>\n",
       "      <th>quote_count</th>\n",
       "      <th>author_id</th>\n",
       "      <th>...</th>\n",
       "      <th>author_username</th>\n",
       "      <th>author_description</th>\n",
       "      <th>author_followers_count</th>\n",
       "      <th>author_following_count</th>\n",
       "      <th>author_tweet_count</th>\n",
       "      <th>author_listed_count</th>\n",
       "      <th>number_of_links_included</th>\n",
       "      <th>links_included</th>\n",
       "      <th>number_of_emails_included</th>\n",
       "      <th>emails_included</th>\n",
       "    </tr>\n",
       "  </thead>\n",
       "  <tbody>\n",
       "    <tr>\n",
       "      <th>0</th>\n",
       "      <td>1458428897368940553</td>\n",
       "      <td>CVE-2021-34582\\n\\nIn Phoenix Contact FL MGUARD...</td>\n",
       "      <td>cve-2021-34582 in phoenix contact fl mguard 11...</td>\n",
       "      <td>['CVE-2021-34582']</td>\n",
       "      <td>2021-11-10T13:38:40.000Z</td>\n",
       "      <td>0</td>\n",
       "      <td>0</td>\n",
       "      <td>0</td>\n",
       "      <td>0</td>\n",
       "      <td>941389496771399680</td>\n",
       "      <td>...</td>\n",
       "      <td>VulmonFeeds</td>\n",
       "      <td>Vulnerability Feed Bot (tweets new and some ol...</td>\n",
       "      <td>1830</td>\n",
       "      <td>2</td>\n",
       "      <td>85176</td>\n",
       "      <td>46</td>\n",
       "      <td>1</td>\n",
       "      <td>[https://t.co/YDYnY307QV]</td>\n",
       "      <td>0</td>\n",
       "      <td>[]</td>\n",
       "    </tr>\n",
       "  </tbody>\n",
       "</table>\n",
       "<p>1 rows × 21 columns</p>\n",
       "</div>"
      ],
      "text/plain": [
       "                    id                                               text  \\\n",
       "0  1458428897368940553  CVE-2021-34582\\n\\nIn Phoenix Contact FL MGUARD...   \n",
       "\n",
       "                                          clean_text     matched_CVE_IDs  \\\n",
       "0  cve-2021-34582 in phoenix contact fl mguard 11...  ['CVE-2021-34582']   \n",
       "\n",
       "                 created_at  retweet_count  reply_count  like_count  \\\n",
       "0  2021-11-10T13:38:40.000Z              0            0           0   \n",
       "\n",
       "   quote_count           author_id  ... author_username  \\\n",
       "0            0  941389496771399680  ...     VulmonFeeds   \n",
       "\n",
       "                                  author_description author_followers_count  \\\n",
       "0  Vulnerability Feed Bot (tweets new and some ol...                   1830   \n",
       "\n",
       "   author_following_count  author_tweet_count  author_listed_count  \\\n",
       "0                       2               85176                   46   \n",
       "\n",
       "   number_of_links_included             links_included  \\\n",
       "0                         1  [https://t.co/YDYnY307QV]   \n",
       "\n",
       "  number_of_emails_included  emails_included  \n",
       "0                         0               []  \n",
       "\n",
       "[1 rows x 21 columns]"
      ]
     },
     "execution_count": 11,
     "metadata": {},
     "output_type": "execute_result"
    }
   ],
   "source": [
    "tweets.head(1)"
   ]
  },
  {
   "cell_type": "code",
   "execution_count": 12,
   "id": "5c87df3e",
   "metadata": {},
   "outputs": [],
   "source": [
    "# Διαχείριση mentions\n",
    "# Το εφαρμόζουμε στο clean_text γιατί από εκεί έχουμε αφαιρέσει τα emails οπότε δεν υπάρχει κίμδυνος να πάρουμε \n",
    "# και email domains.\n",
    "# Πρώτα τα παίρνουμε και τα κρατάμε σε μια νέα στήλη\n",
    "# Χρησιμοποιούμε το replace για να αφαιρέσουμε τπν χαρακτήρα ':' που υπάρχει σε αρκετά mentions. Δεν μπορεί άλλωστε \n",
    "# να είναι τμήμα του username καθώς διαβάζουμε ότι \"A username can only contain alphanumeric \n",
    "# characters (letters A-Z, numbers 0-9) with the exception of underscores\"\n",
    "\n",
    "tweets['number_of_mentions_included'] = tweets['clean_text'].apply(lambda tweet: len([word for word in tweet.split() if word.startswith('@')]))\n",
    "tweets['mentions_included'] = tweets['clean_text'].apply(lambda tweet: [word.replace(':','') for word in tweet.split() if word.startswith('@')])"
   ]
  },
  {
   "cell_type": "code",
   "execution_count": 13,
   "id": "333ab804",
   "metadata": {},
   "outputs": [],
   "source": [
    "# Και μετά τα διαγράφουμε από το clean_text\n",
    "\n",
    "tweets['clean_text'] = tweets['clean_text'].apply(lambda tweet: ' '.join([word for word in tweet.split() if not word.startswith('@')]))"
   ]
  },
  {
   "cell_type": "code",
   "execution_count": 14,
   "id": "ab313cc0",
   "metadata": {},
   "outputs": [
    {
     "data": {
      "text/html": [
       "<div>\n",
       "<style scoped>\n",
       "    .dataframe tbody tr th:only-of-type {\n",
       "        vertical-align: middle;\n",
       "    }\n",
       "\n",
       "    .dataframe tbody tr th {\n",
       "        vertical-align: top;\n",
       "    }\n",
       "\n",
       "    .dataframe thead th {\n",
       "        text-align: right;\n",
       "    }\n",
       "</style>\n",
       "<table border=\"1\" class=\"dataframe\">\n",
       "  <thead>\n",
       "    <tr style=\"text-align: right;\">\n",
       "      <th></th>\n",
       "      <th>id</th>\n",
       "      <th>text</th>\n",
       "      <th>clean_text</th>\n",
       "      <th>matched_CVE_IDs</th>\n",
       "      <th>created_at</th>\n",
       "      <th>retweet_count</th>\n",
       "      <th>reply_count</th>\n",
       "      <th>like_count</th>\n",
       "      <th>quote_count</th>\n",
       "      <th>author_id</th>\n",
       "      <th>...</th>\n",
       "      <th>author_followers_count</th>\n",
       "      <th>author_following_count</th>\n",
       "      <th>author_tweet_count</th>\n",
       "      <th>author_listed_count</th>\n",
       "      <th>number_of_links_included</th>\n",
       "      <th>links_included</th>\n",
       "      <th>number_of_emails_included</th>\n",
       "      <th>emails_included</th>\n",
       "      <th>number_of_mentions_included</th>\n",
       "      <th>mentions_included</th>\n",
       "    </tr>\n",
       "  </thead>\n",
       "  <tbody>\n",
       "    <tr>\n",
       "      <th>98</th>\n",
       "      <td>1458406769668067329</td>\n",
       "      <td>RT @JohnAlvahCoe: ZOHO ManageEngine ADSelfServ...</td>\n",
       "      <td>rt zoho manageengine adselfservice plus versio...</td>\n",
       "      <td>['CVE-2021-40539']</td>\n",
       "      <td>2021-11-10T12:10:44.000Z</td>\n",
       "      <td>0</td>\n",
       "      <td>0</td>\n",
       "      <td>0</td>\n",
       "      <td>0</td>\n",
       "      <td>234435858</td>\n",
       "      <td>...</td>\n",
       "      <td>2561</td>\n",
       "      <td>2005</td>\n",
       "      <td>37649</td>\n",
       "      <td>101</td>\n",
       "      <td>1</td>\n",
       "      <td>[https://t.co/XCyrSUrjvW]</td>\n",
       "      <td>0</td>\n",
       "      <td>[]</td>\n",
       "      <td>4</td>\n",
       "      <td>[@johnalvahcoe, @msftsecintel, @paloaltontwks,...</td>\n",
       "    </tr>\n",
       "    <tr>\n",
       "      <th>105</th>\n",
       "      <td>1458402615172161539</td>\n",
       "      <td>ZOHO ManageEngine ADSelfService Plus versions ...</td>\n",
       "      <td>zoho manageengine adselfservice plus versions ...</td>\n",
       "      <td>['CVE-2021-40539']</td>\n",
       "      <td>2021-11-10T11:54:13.000Z</td>\n",
       "      <td>0</td>\n",
       "      <td>0</td>\n",
       "      <td>1</td>\n",
       "      <td>0</td>\n",
       "      <td>64812320</td>\n",
       "      <td>...</td>\n",
       "      <td>363</td>\n",
       "      <td>610</td>\n",
       "      <td>8235</td>\n",
       "      <td>95</td>\n",
       "      <td>1</td>\n",
       "      <td>[https://t.co/8E87aM1IoI]</td>\n",
       "      <td>0</td>\n",
       "      <td>[]</td>\n",
       "      <td>3</td>\n",
       "      <td>[@msftsecintel, @paloaltontwks, @blacklotuslabs]</td>\n",
       "    </tr>\n",
       "    <tr>\n",
       "      <th>328</th>\n",
       "      <td>1458343878176788489</td>\n",
       "      <td>#SonicWall RT @SonicWallAlerts: SonicAlert: Th...</td>\n",
       "      <td>#sonicwall rt sonicalert: the sonicwall captur...</td>\n",
       "      <td>['CVE-2021-35215']</td>\n",
       "      <td>2021-11-10T08:00:49.000Z</td>\n",
       "      <td>0</td>\n",
       "      <td>0</td>\n",
       "      <td>0</td>\n",
       "      <td>0</td>\n",
       "      <td>123521998</td>\n",
       "      <td>...</td>\n",
       "      <td>573</td>\n",
       "      <td>1051</td>\n",
       "      <td>41911</td>\n",
       "      <td>5</td>\n",
       "      <td>1</td>\n",
       "      <td>[https://t.co/LwtiUeAvoF]</td>\n",
       "      <td>0</td>\n",
       "      <td>[]</td>\n",
       "      <td>1</td>\n",
       "      <td>[@sonicwallalerts]</td>\n",
       "    </tr>\n",
       "    <tr>\n",
       "      <th>333</th>\n",
       "      <td>1458342506970615809</td>\n",
       "      <td>For my Danish followers: @DCIS_SUND: I bør hav...</td>\n",
       "      <td>for my danish followers: i bør have et vågent ...</td>\n",
       "      <td>['CVE-2021-31886']</td>\n",
       "      <td>2021-11-10T07:55:23.000Z</td>\n",
       "      <td>2</td>\n",
       "      <td>1</td>\n",
       "      <td>4</td>\n",
       "      <td>0</td>\n",
       "      <td>18669683</td>\n",
       "      <td>...</td>\n",
       "      <td>12890</td>\n",
       "      <td>829</td>\n",
       "      <td>11936</td>\n",
       "      <td>504</td>\n",
       "      <td>1</td>\n",
       "      <td>[https://t.co/Aj3ItkOQlV]</td>\n",
       "      <td>0</td>\n",
       "      <td>[]</td>\n",
       "      <td>1</td>\n",
       "      <td>[@dcis_sund]</td>\n",
       "    </tr>\n",
       "    <tr>\n",
       "      <th>351</th>\n",
       "      <td>1458342250245722117</td>\n",
       "      <td>Our latest @McAfee_ATR analysis looks at CVE-2...</td>\n",
       "      <td>our latest analysis looks at cve-2021-38666 ye...</td>\n",
       "      <td>['CVE-2021-38666']</td>\n",
       "      <td>2021-11-10T07:54:21.000Z</td>\n",
       "      <td>6</td>\n",
       "      <td>0</td>\n",
       "      <td>8</td>\n",
       "      <td>0</td>\n",
       "      <td>100983645</td>\n",
       "      <td>...</td>\n",
       "      <td>13758</td>\n",
       "      <td>629</td>\n",
       "      <td>9753</td>\n",
       "      <td>461</td>\n",
       "      <td>1</td>\n",
       "      <td>[https://t.co/G7eZCc0gVD]</td>\n",
       "      <td>0</td>\n",
       "      <td>[]</td>\n",
       "      <td>3</td>\n",
       "      <td>[@mcafee_atr, @w3knight, @eayep]</td>\n",
       "    </tr>\n",
       "    <tr>\n",
       "      <th>...</th>\n",
       "      <td>...</td>\n",
       "      <td>...</td>\n",
       "      <td>...</td>\n",
       "      <td>...</td>\n",
       "      <td>...</td>\n",
       "      <td>...</td>\n",
       "      <td>...</td>\n",
       "      <td>...</td>\n",
       "      <td>...</td>\n",
       "      <td>...</td>\n",
       "      <td>...</td>\n",
       "      <td>...</td>\n",
       "      <td>...</td>\n",
       "      <td>...</td>\n",
       "      <td>...</td>\n",
       "      <td>...</td>\n",
       "      <td>...</td>\n",
       "      <td>...</td>\n",
       "      <td>...</td>\n",
       "      <td>...</td>\n",
       "      <td>...</td>\n",
       "    </tr>\n",
       "    <tr>\n",
       "      <th>199079</th>\n",
       "      <td>1347658302424023041</td>\n",
       "      <td>#Vulnerabilities: #LaminasProject Laminas-Http...</td>\n",
       "      <td>#vulnerabilities: #laminasproject laminas-http...</td>\n",
       "      <td>['CVE-2021-3007']</td>\n",
       "      <td>2021-01-08T21:35:52.000Z</td>\n",
       "      <td>2</td>\n",
       "      <td>0</td>\n",
       "      <td>0</td>\n",
       "      <td>0</td>\n",
       "      <td>172545314</td>\n",
       "      <td>...</td>\n",
       "      <td>937</td>\n",
       "      <td>1</td>\n",
       "      <td>19423</td>\n",
       "      <td>591</td>\n",
       "      <td>2</td>\n",
       "      <td>[https://t.co/IP3Zl1LcUo, https://t.co/lv2ayR3...</td>\n",
       "      <td>0</td>\n",
       "      <td>[]</td>\n",
       "      <td>1</td>\n",
       "      <td>[@github]</td>\n",
       "    </tr>\n",
       "    <tr>\n",
       "      <th>199224</th>\n",
       "      <td>1347473290902835200</td>\n",
       "      <td>ZF3/Laminas-http (CVE-2021-3007) under active ...</td>\n",
       "      <td>zf3/laminas-http (cve-2021-3007) under active ...</td>\n",
       "      <td>['CVE-2021-3007']</td>\n",
       "      <td>2021-01-08T09:20:42.000Z</td>\n",
       "      <td>0</td>\n",
       "      <td>0</td>\n",
       "      <td>2</td>\n",
       "      <td>0</td>\n",
       "      <td>2367201715</td>\n",
       "      <td>...</td>\n",
       "      <td>80</td>\n",
       "      <td>259</td>\n",
       "      <td>246</td>\n",
       "      <td>3</td>\n",
       "      <td>0</td>\n",
       "      <td>[]</td>\n",
       "      <td>0</td>\n",
       "      <td>[]</td>\n",
       "      <td>1</td>\n",
       "      <td>[@spazef0rze]</td>\n",
       "    </tr>\n",
       "    <tr>\n",
       "      <th>199381</th>\n",
       "      <td>1347131121457377281</td>\n",
       "      <td>✅ Google publica actualización de seguridad pa...</td>\n",
       "      <td>✅ google publica actualización de seguridad pa...</td>\n",
       "      <td>['CVE-2021-0316']</td>\n",
       "      <td>2021-01-07T10:41:02.000Z</td>\n",
       "      <td>0</td>\n",
       "      <td>0</td>\n",
       "      <td>0</td>\n",
       "      <td>0</td>\n",
       "      <td>390945473</td>\n",
       "      <td>...</td>\n",
       "      <td>355</td>\n",
       "      <td>190</td>\n",
       "      <td>5010</td>\n",
       "      <td>3</td>\n",
       "      <td>1</td>\n",
       "      <td>[https://t.co/BanXLw1teL]</td>\n",
       "      <td>0</td>\n",
       "      <td>[]</td>\n",
       "      <td>1</td>\n",
       "      <td>[@securityaffairs]</td>\n",
       "    </tr>\n",
       "    <tr>\n",
       "      <th>199534</th>\n",
       "      <td>1346390178865156097</td>\n",
       "      <td>An untrusted deserialization vulnerability, tr...</td>\n",
       "      <td>an untrusted deserialization vulnerability, tr...</td>\n",
       "      <td>['CVE-2021-3007']</td>\n",
       "      <td>2021-01-05T09:36:48.000Z</td>\n",
       "      <td>0</td>\n",
       "      <td>0</td>\n",
       "      <td>0</td>\n",
       "      <td>0</td>\n",
       "      <td>3228055976</td>\n",
       "      <td>...</td>\n",
       "      <td>717</td>\n",
       "      <td>2055</td>\n",
       "      <td>2320</td>\n",
       "      <td>38</td>\n",
       "      <td>1</td>\n",
       "      <td>[https://t.co/wMx9oeVkM5]</td>\n",
       "      <td>0</td>\n",
       "      <td>[]</td>\n",
       "      <td>2</td>\n",
       "      <td>[@adminahead, @katzionglobal]</td>\n",
       "    </tr>\n",
       "    <tr>\n",
       "      <th>199582</th>\n",
       "      <td>1346201796050640899</td>\n",
       "      <td>DoS y RCE bajo ciertas circunstancias en Zend ...</td>\n",
       "      <td>dos y rce bajo ciertas circunstancias en zend ...</td>\n",
       "      <td>['CVE-2021-3007']</td>\n",
       "      <td>2021-01-04T21:08:14.000Z</td>\n",
       "      <td>0</td>\n",
       "      <td>0</td>\n",
       "      <td>0</td>\n",
       "      <td>0</td>\n",
       "      <td>800881615</td>\n",
       "      <td>...</td>\n",
       "      <td>52</td>\n",
       "      <td>47</td>\n",
       "      <td>10574</td>\n",
       "      <td>0</td>\n",
       "      <td>1</td>\n",
       "      <td>[https://t.co/Pwuubqqzb9]</td>\n",
       "      <td>0</td>\n",
       "      <td>[]</td>\n",
       "      <td>1</td>\n",
       "      <td>[@informatico_mcy]</td>\n",
       "    </tr>\n",
       "  </tbody>\n",
       "</table>\n",
       "<p>3604 rows × 23 columns</p>\n",
       "</div>"
      ],
      "text/plain": [
       "                         id  \\\n",
       "98      1458406769668067329   \n",
       "105     1458402615172161539   \n",
       "328     1458343878176788489   \n",
       "333     1458342506970615809   \n",
       "351     1458342250245722117   \n",
       "...                     ...   \n",
       "199079  1347658302424023041   \n",
       "199224  1347473290902835200   \n",
       "199381  1347131121457377281   \n",
       "199534  1346390178865156097   \n",
       "199582  1346201796050640899   \n",
       "\n",
       "                                                     text  \\\n",
       "98      RT @JohnAlvahCoe: ZOHO ManageEngine ADSelfServ...   \n",
       "105     ZOHO ManageEngine ADSelfService Plus versions ...   \n",
       "328     #SonicWall RT @SonicWallAlerts: SonicAlert: Th...   \n",
       "333     For my Danish followers: @DCIS_SUND: I bør hav...   \n",
       "351     Our latest @McAfee_ATR analysis looks at CVE-2...   \n",
       "...                                                   ...   \n",
       "199079  #Vulnerabilities: #LaminasProject Laminas-Http...   \n",
       "199224  ZF3/Laminas-http (CVE-2021-3007) under active ...   \n",
       "199381  ✅ Google publica actualización de seguridad pa...   \n",
       "199534  An untrusted deserialization vulnerability, tr...   \n",
       "199582  DoS y RCE bajo ciertas circunstancias en Zend ...   \n",
       "\n",
       "                                               clean_text     matched_CVE_IDs  \\\n",
       "98      rt zoho manageengine adselfservice plus versio...  ['CVE-2021-40539']   \n",
       "105     zoho manageengine adselfservice plus versions ...  ['CVE-2021-40539']   \n",
       "328     #sonicwall rt sonicalert: the sonicwall captur...  ['CVE-2021-35215']   \n",
       "333     for my danish followers: i bør have et vågent ...  ['CVE-2021-31886']   \n",
       "351     our latest analysis looks at cve-2021-38666 ye...  ['CVE-2021-38666']   \n",
       "...                                                   ...                 ...   \n",
       "199079  #vulnerabilities: #laminasproject laminas-http...   ['CVE-2021-3007']   \n",
       "199224  zf3/laminas-http (cve-2021-3007) under active ...   ['CVE-2021-3007']   \n",
       "199381  ✅ google publica actualización de seguridad pa...   ['CVE-2021-0316']   \n",
       "199534  an untrusted deserialization vulnerability, tr...   ['CVE-2021-3007']   \n",
       "199582  dos y rce bajo ciertas circunstancias en zend ...   ['CVE-2021-3007']   \n",
       "\n",
       "                      created_at  retweet_count  reply_count  like_count  \\\n",
       "98      2021-11-10T12:10:44.000Z              0            0           0   \n",
       "105     2021-11-10T11:54:13.000Z              0            0           1   \n",
       "328     2021-11-10T08:00:49.000Z              0            0           0   \n",
       "333     2021-11-10T07:55:23.000Z              2            1           4   \n",
       "351     2021-11-10T07:54:21.000Z              6            0           8   \n",
       "...                          ...            ...          ...         ...   \n",
       "199079  2021-01-08T21:35:52.000Z              2            0           0   \n",
       "199224  2021-01-08T09:20:42.000Z              0            0           2   \n",
       "199381  2021-01-07T10:41:02.000Z              0            0           0   \n",
       "199534  2021-01-05T09:36:48.000Z              0            0           0   \n",
       "199582  2021-01-04T21:08:14.000Z              0            0           0   \n",
       "\n",
       "        quote_count   author_id  ... author_followers_count  \\\n",
       "98                0   234435858  ...                   2561   \n",
       "105               0    64812320  ...                    363   \n",
       "328               0   123521998  ...                    573   \n",
       "333               0    18669683  ...                  12890   \n",
       "351               0   100983645  ...                  13758   \n",
       "...             ...         ...  ...                    ...   \n",
       "199079            0   172545314  ...                    937   \n",
       "199224            0  2367201715  ...                     80   \n",
       "199381            0   390945473  ...                    355   \n",
       "199534            0  3228055976  ...                    717   \n",
       "199582            0   800881615  ...                     52   \n",
       "\n",
       "       author_following_count author_tweet_count  author_listed_count  \\\n",
       "98                       2005              37649                  101   \n",
       "105                       610               8235                   95   \n",
       "328                      1051              41911                    5   \n",
       "333                       829              11936                  504   \n",
       "351                       629               9753                  461   \n",
       "...                       ...                ...                  ...   \n",
       "199079                      1              19423                  591   \n",
       "199224                    259                246                    3   \n",
       "199381                    190               5010                    3   \n",
       "199534                   2055               2320                   38   \n",
       "199582                     47              10574                    0   \n",
       "\n",
       "        number_of_links_included  \\\n",
       "98                             1   \n",
       "105                            1   \n",
       "328                            1   \n",
       "333                            1   \n",
       "351                            1   \n",
       "...                          ...   \n",
       "199079                         2   \n",
       "199224                         0   \n",
       "199381                         1   \n",
       "199534                         1   \n",
       "199582                         1   \n",
       "\n",
       "                                           links_included  \\\n",
       "98                              [https://t.co/XCyrSUrjvW]   \n",
       "105                             [https://t.co/8E87aM1IoI]   \n",
       "328                             [https://t.co/LwtiUeAvoF]   \n",
       "333                             [https://t.co/Aj3ItkOQlV]   \n",
       "351                             [https://t.co/G7eZCc0gVD]   \n",
       "...                                                   ...   \n",
       "199079  [https://t.co/IP3Zl1LcUo, https://t.co/lv2ayR3...   \n",
       "199224                                                 []   \n",
       "199381                          [https://t.co/BanXLw1teL]   \n",
       "199534                          [https://t.co/wMx9oeVkM5]   \n",
       "199582                          [https://t.co/Pwuubqqzb9]   \n",
       "\n",
       "        number_of_emails_included  emails_included  \\\n",
       "98                              0               []   \n",
       "105                             0               []   \n",
       "328                             0               []   \n",
       "333                             0               []   \n",
       "351                             0               []   \n",
       "...                           ...              ...   \n",
       "199079                          0               []   \n",
       "199224                          0               []   \n",
       "199381                          0               []   \n",
       "199534                          0               []   \n",
       "199582                          0               []   \n",
       "\n",
       "       number_of_mentions_included  \\\n",
       "98                               4   \n",
       "105                              3   \n",
       "328                              1   \n",
       "333                              1   \n",
       "351                              3   \n",
       "...                            ...   \n",
       "199079                           1   \n",
       "199224                           1   \n",
       "199381                           1   \n",
       "199534                           2   \n",
       "199582                           1   \n",
       "\n",
       "                                        mentions_included  \n",
       "98      [@johnalvahcoe, @msftsecintel, @paloaltontwks,...  \n",
       "105      [@msftsecintel, @paloaltontwks, @blacklotuslabs]  \n",
       "328                                    [@sonicwallalerts]  \n",
       "333                                          [@dcis_sund]  \n",
       "351                      [@mcafee_atr, @w3knight, @eayep]  \n",
       "...                                                   ...  \n",
       "199079                                          [@github]  \n",
       "199224                                      [@spazef0rze]  \n",
       "199381                                 [@securityaffairs]  \n",
       "199534                      [@adminahead, @katzionglobal]  \n",
       "199582                                 [@informatico_mcy]  \n",
       "\n",
       "[3604 rows x 23 columns]"
      ]
     },
     "execution_count": 14,
     "metadata": {},
     "output_type": "execute_result"
    }
   ],
   "source": [
    "tweets[tweets['number_of_mentions_included']>0]"
   ]
  },
  {
   "cell_type": "code",
   "execution_count": 15,
   "id": "a00d352c",
   "metadata": {},
   "outputs": [],
   "source": [
    "# Διαγραφή των 'rt'\n",
    "\n",
    "tweets['clean_text'] = tweets['clean_text'].apply(lambda tweet: ' '.join([word for word in tweet.split() if not word == 'rt']))"
   ]
  },
  {
   "cell_type": "code",
   "execution_count": 16,
   "id": "cc020776",
   "metadata": {},
   "outputs": [],
   "source": [
    "# Διαχείριση hashtags\n",
    "# Πρώτα τα κρατάμε σε μια νέα στήλη \n",
    "\n",
    "tweets['number_of_hashtags_included'] = tweets['clean_text'].apply(lambda tweet: len([word for word in tweet.split() if word.startswith('#')]))\n",
    "tweets['hashtags_included'] = tweets['clean_text'].apply(lambda tweet: [word for word in tweet.split() if word.startswith('#')])"
   ]
  },
  {
   "cell_type": "code",
   "execution_count": 17,
   "id": "09dbc565",
   "metadata": {},
   "outputs": [],
   "source": [
    "# Και μετά τα διαγράφουμε από το clean_text\n",
    "\n",
    "tweets['clean_text'] = tweets['clean_text'].apply(lambda tweet: ' '.join([word for word in tweet.split() if not word.startswith('#')]))"
   ]
  },
  {
   "cell_type": "code",
   "execution_count": 18,
   "id": "074764fa",
   "metadata": {},
   "outputs": [
    {
     "data": {
      "text/plain": [
       "34206"
      ]
     },
     "execution_count": 18,
     "metadata": {},
     "output_type": "execute_result"
    }
   ],
   "source": [
    "len(tweets[tweets['number_of_hashtags_included']>0])"
   ]
  },
  {
   "cell_type": "code",
   "execution_count": 55,
   "id": "798386a9",
   "metadata": {},
   "outputs": [
    {
     "data": {
      "text/plain": [
       "['new',\n",
       " 'cve-2021-24014',\n",
       " 'multipl',\n",
       " 'instanc',\n",
       " 'improp',\n",
       " 'neutral',\n",
       " 'input',\n",
       " 'web',\n",
       " 'page',\n",
       " 'gener',\n",
       " 'vulner',\n",
       " 'fortisandbox',\n",
       " '400',\n",
       " 'may',\n",
       " 'allow',\n",
       " 'unauthent',\n",
       " 'attack',\n",
       " 'perform',\n",
       " 'xss',\n",
       " 'attack',\n",
       " 'click',\n",
       " 'sever',\n",
       " 'medium']"
      ]
     },
     "execution_count": 55,
     "metadata": {},
     "output_type": "execute_result"
    }
   ],
   "source": [
    "tweets.iloc[75555].text"
   ]
  },
  {
   "cell_type": "code",
   "execution_count": 20,
   "id": "65de19e5",
   "metadata": {},
   "outputs": [],
   "source": [
    "# https://datagy.io/python-remove-punctuation-from-string/\n",
    "# Είναι σημαντικό να αφαιρέσουμε τα σημεία στίξης αφού πρώτα διαχειριστούμε υπερσυνδέσμους, hashtags, emojis\n",
    "# και mentions.\n",
    "def remove_punctuations(text):\n",
    "    '''\n",
    "    Με την συνάρτηση αυτή αφαιρούμε τα σημεία στίξης.\n",
    "    Η παύλα δεν αφαιρείται για να παραμείνει στο CVE αν και θα ήταν καλό να μπορούμε να αφαιρέσουμε όλες τις παύλες\n",
    "    που δεν είναι μέρος του CVE.\n",
    "    '''\n",
    "    my_punctuations = string.punctuation\n",
    "    new_text = text.translate(str.maketrans('', '', string.punctuation.replace('-','')))\n",
    "    return new_text"
   ]
  },
  {
   "cell_type": "code",
   "execution_count": 21,
   "id": "d607ee4a",
   "metadata": {},
   "outputs": [],
   "source": [
    "# Αφαίρεση σημείων στίξης\n",
    "tweets['clean_text'] = tweets['clean_text'].apply(lambda tweet: remove_punctuations(tweet))"
   ]
  },
  {
   "cell_type": "code",
   "execution_count": 22,
   "id": "ac2811ab",
   "metadata": {},
   "outputs": [],
   "source": [
    "# κειμενο απο αλλες γλωσσες\n",
    "# τονισμενες λεξεις\n",
    "# emojis"
   ]
  },
  {
   "cell_type": "code",
   "execution_count": 23,
   "id": "f05d057d",
   "metadata": {},
   "outputs": [],
   "source": [
    "def remove_accented_chars(text):\n",
    "    \"\"\"Συνάρτηση για αφαίρεση των τόνων, π.χ. από café θα γίνει μετατροπή σε cafe.\n",
    "       Αυτό είναι απαραίτητο ώστε οι αλγόριθμοι να μην αντιμετωπίσουν ως ξεχωριστές λέξεις δύο ίδιες λόγω διαφορετικού \n",
    "       τονισμού.\n",
    "       SOS: αυτό αφαιρεί και emoji και κείμενο από άλλες γλωσσες και επίσης και άλλους χαρακτήρες όπως # και @ \n",
    "       οπότε αφαιρείται.\"\"\"\n",
    "    text = unicodedata.normalize('NFKD', text).encode('ascii', 'ignore').decode('utf-8', 'ignore')\n",
    "    return text"
   ]
  },
  {
   "cell_type": "code",
   "execution_count": 24,
   "id": "4787edb6",
   "metadata": {},
   "outputs": [
    {
     "name": "stdout",
     "output_type": "stream",
     "text": [
      "Accented text rks Browser   NEW:  CVE-2021-24014  Multiple #git @github\n"
     ]
    },
    {
     "data": {
      "text/plain": [
       "'Accented text rks Browser NEW: CVE-2021-24014 Multiple #git @github'"
      ]
     },
     "execution_count": 24,
     "metadata": {},
     "output_type": "execute_result"
    }
   ],
   "source": [
    "# Παράδειγμα:\n",
    "x = 'Áccěntěd těxt rks Browser に複数の脆弱性 🚨 NEW: καλημέρα CVE-2021-24014 🚨 Multiple #git @github' \n",
    "x = remove_accented_chars(x)\n",
    "print(x)\n",
    "' '.join(x.split())"
   ]
  },
  {
   "cell_type": "code",
   "execution_count": 25,
   "id": "fccbb86e",
   "metadata": {},
   "outputs": [
    {
     "data": {
      "text/plain": [
       "'Kalemera!'"
      ]
     },
     "execution_count": 25,
     "metadata": {},
     "output_type": "execute_result"
    }
   ],
   "source": [
    "# υπάρχει και αυτή η επιλογή για το transiteration\n",
    "unidecode.unidecode(\"Καλημέρα!\")"
   ]
  },
  {
   "cell_type": "code",
   "execution_count": 26,
   "id": "0efd6004",
   "metadata": {},
   "outputs": [],
   "source": [
    "# Αφαίρεση τονισμένων, emojis, και κειμένου από άλλες γλώσσες \n",
    "tweets[\"clean_text\"] = tweets[\"clean_text\"].apply(lambda tweet: remove_accented_chars(tweet))"
   ]
  },
  {
   "cell_type": "code",
   "execution_count": 27,
   "id": "e396af58",
   "metadata": {},
   "outputs": [],
   "source": [
    "# Αφαίρεση αχρείαστων κενών (μπορεί να έχουν δημιουργηθεί από την αφαίρεση emojis...)\n",
    "tweets['clean_text'] = tweets['clean_text'].apply(lambda tweet: ' '.join(tweet.split()))"
   ]
  },
  {
   "cell_type": "code",
   "execution_count": 34,
   "id": "f0a5e88b",
   "metadata": {},
   "outputs": [],
   "source": [
    "# Tokenization \n",
    "\n",
    "tweets['clean_text'] = tweets['clean_text'].apply(lambda tweet: nltk.tokenize.word_tokenize(tweet))"
   ]
  },
  {
   "cell_type": "code",
   "execution_count": 28,
   "id": "5650a032",
   "metadata": {},
   "outputs": [
    {
     "name": "stderr",
     "output_type": "stream",
     "text": [
      "[nltk_data] Downloading package stopwords to\n",
      "[nltk_data]     /home/terzisilias/nltk_data...\n",
      "[nltk_data]   Package stopwords is already up-to-date!\n"
     ]
    },
    {
     "data": {
      "text/plain": [
       "True"
      ]
     },
     "execution_count": 28,
     "metadata": {},
     "output_type": "execute_result"
    }
   ],
   "source": [
    "nltk.download('stopwords')"
   ]
  },
  {
   "cell_type": "code",
   "execution_count": 37,
   "id": "972e9d7f",
   "metadata": {},
   "outputs": [],
   "source": [
    "# Αφαίρεση stopwords\n",
    "\n",
    "stop_words = set(nltk.corpus.stopwords.words('english'))\n",
    "tweets['clean_text'] = tweets['clean_text'].apply(lambda tweet: [word for word in tweet if word not in stop_words])"
   ]
  },
  {
   "cell_type": "code",
   "execution_count": 42,
   "id": "7ea6b21c",
   "metadata": {},
   "outputs": [],
   "source": [
    "# Stemming\n",
    "\n",
    "tweets['clean_text'] = tweets['clean_text'].apply(lambda tweet: [nltk.stem.PorterStemmer().stem(word) for word in tweet])"
   ]
  },
  {
   "cell_type": "code",
   "execution_count": null,
   "id": "713a68b7",
   "metadata": {},
   "outputs": [],
   "source": [
    "#pipeline για το model"
   ]
  },
  {
   "cell_type": "code",
   "execution_count": 32,
   "id": "b7793fee",
   "metadata": {},
   "outputs": [],
   "source": [
    "# Απομένουν:\n",
    "\n",
    "# διαχείριση αριθμών (εκτός από αυτών που είναι σε CVE)\n",
    "# καλύτερα θα ήταν να μεταφράζουμε το κείμενο άλλων γλωσσών που δεν είναι σε λατινικούς χαρακτήρες αντί να το διαγράφουμε; \n",
    "# καλύτερα θα ήταν να \"μεταφράζουμε\" τα emojis;\n",
    "# χρειάζονται τα Common words removal  και Rare words removal  πρίν το μοντέλο; (από ινδό)\n",
    "# Spelling Correction ? (από το notebook του ινδού)\n",
    "# κάνε και ένα wordcloud τώρα που είναι φτιαγμένα τα data"
   ]
  }
 ],
 "metadata": {
  "kernelspec": {
   "display_name": "Python 3 (ipykernel)",
   "language": "python",
   "name": "python3"
  },
  "language_info": {
   "codemirror_mode": {
    "name": "ipython",
    "version": 3
   },
   "file_extension": ".py",
   "mimetype": "text/x-python",
   "name": "python",
   "nbconvert_exporter": "python",
   "pygments_lexer": "ipython3",
   "version": "3.9.7"
  }
 },
 "nbformat": 4,
 "nbformat_minor": 5
}
