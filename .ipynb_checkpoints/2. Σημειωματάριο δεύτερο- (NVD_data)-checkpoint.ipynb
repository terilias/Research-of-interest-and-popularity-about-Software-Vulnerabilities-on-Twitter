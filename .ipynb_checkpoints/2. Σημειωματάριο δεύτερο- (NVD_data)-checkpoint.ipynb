{
 "cells": [
  {
   "cell_type": "markdown",
   "id": "0397eab3",
   "metadata": {
    "id": "0397eab3"
   },
   "source": [
    "# Σημειωματάριο δεύτερο: Συνθέτοντας το DataFrame των ευπαθειών"
   ]
  },
  {
   "cell_type": "markdown",
   "id": "b8521c36",
   "metadata": {
    "id": "b8521c36"
   },
   "source": [
    "## Από το JSON του NVD Data Feed στο CSV "
   ]
  },
  {
   "cell_type": "markdown",
   "id": "d689d001",
   "metadata": {
    "id": "d689d001"
   },
   "source": [
    "Με τον όρο ευπάθεια λογισμικού, **software vulnerability** αναφερόμαστε σε οποιοδήποτε σφάλμα υπάρχει στον σχεδιασμό, την υλοποίηση ή την λειτουργία ενός λογισμικού, το οποίο επιτρέπει εξωτερικούς παράγοντες να παραβιάσουν την πολιτική ασφαλείας του. Ένα μέρος λογισμικού, δεδομένων ή μια ακολουθία εντολών που εκμεταλλεύεται ένα σφάλμα ή μια ευπάθεια για να προκαλέσει απρόβλεπτη ή ακούσια συμπεριφορά σε software, hardware ή firmware καλείται **exploit** (εκμετάλλευση).\n",
    "\n",
    "Η διαδικασία με την οποία καταγράφονται οι ευπάθειες είναι σε γενικές γραμμές η εξής: όταν κάποιος εντοπίσει μια ευπάθεια λογισμικού, ενημερώνει τον προμηθευτή του λογισμικού και του αφήνει ένα ορισμένο χρονικό διάστημα ώστε εκείνος να το διορθώσει και να δημοσιεύσει μια ενημερωμένη έκδοση του λογισμικού η οποία επιλύει το πρόβλημα. Στην συνέχεια η ευπάθεια κοινοποιείται, ώστε οι χρήστες του λογισμικού να ενημερωθούν και να κάνουν τις απαραίτητες ενέργειες που απαιτούνται για να είναι προστατευμένοι.\n",
    "\n",
    "Οι προμηθευτές λογισμικού (software vendors), οι προγραμματιστές, οι κάτοχοι λογισμικού και όλα γενικά τα εμπλεκόμενα άτομα και οι φορείς, μπορούν να ενημερώνονται για τις ευπάθειες λογισμικού που εντοπίζονται αλλά και να ενημερώνουν την κοινότητα για τις ευπάθειες που εντοπίζουν, χρησιμοποιώντας την λίστα ευπαθειών **CVE** (Common Vulnerabilities and Exposures). Η λίστα CVE είναι μια λίστα από δημόσια διαθέσιμα ελαττώματα ασφάλειας υπολογιστικών συστημάτων, η οποία επιτηρήται απο τον αμερικανικό οργανισμό διαχείρισης κέντρων έρευνας κι ανάπτυξης **MITRE**.\n",
    "\n",
    "Το CVE είναι ένα free & opensource πρότυπο που χρησιμοποιείται από το 1999 έτσι ώστε να υπάρχει κοινή αναφορά στις ευπάθειες από την κοινότητα. Κάτι τέτοιο είναι ιδιαίτερα σημαντικό μιας και μέχρι τότε, υπήρχαν διαφορετικές βάσεις δεδομένων που ακολουθούσαν τα δικά τους πρότυπα. Το CVE δεν αποτελεί βάση δεδομένων αλλά μια λίστα με αντιστοιχείες ευπαθειών με τα **CVE IDs** που τους δίνονται. Μια εγγραφή σε αυτή την λίστα, εκτός από το αναγνωριστικό CVE ID περιλαμβάνει μια μικρή περιγραφή της ευπάθειας και τουλάχιστον μια αναφορά (reference).\n",
    "\n",
    "Η **NVD** (National Vulnerability Database) είναι το αποθετήριο της κυβέρνησης των ΗΠΑ για τα δεδομένα διαχείρισης ευπαθειών. Η βάση δεδομένων που παρέχεται προκύπτει από την λίστα ευπαθειών **CVE** και προσθέτει επιπλέον πληροφορίες για τις ευπάθειες όπως τον βαθμό σημαντικότητας της ευπάθειας που ακολουθεί το πρότυπο βαθμολόγησης **CVSS** και μια λίστα από προϊόντα λιγισμικού που επηεράζονται. \n",
    "\n",
    "Σε αυτό το notebook, συλλέγουμε τα δεδομένα των ευπαθειών λογισμικού που καταγράφηκαν το έτος 2021 σε ένα DataFrame. Τα δεδομένα λαμβάνονται από το JSON αρχείο το οποίο προέρχεται από την [πηγή δεδομένων](https://nvd.nist.gov/vuln/data-feeds) της NVD. \n",
    "\n",
    "Ο **σκοπός** είναι να έχουμε όλες τις πληροφορίες που χρειαζόμαστε για τις ευπάθειες συγκεντρωμένες, έτσι ώστε να αντιστοιχήσουμε στην συνέχεια τα tweets με τις εγγραφές των ευπαθειών με τον εξής τρόπο: για κάθε ένα από τα tweets να καταγράψουμε σε ποιες ευπάθειες αυτό αναφέρεται έτσι ώστε να αναλύσουμε αργότερα την δημοτικότητα των ευπαθειών λογισμικού στο Twitter."
   ]
  },
  {
   "cell_type": "code",
   "execution_count": null,
   "id": "41c2f6bc",
   "metadata": {
    "id": "41c2f6bc"
   },
   "outputs": [],
   "source": [
    "import json\n",
    "import pandas as pd\n",
    "import numpy as np"
   ]
  },
  {
   "cell_type": "code",
   "execution_count": null,
   "id": "754a6ffd",
   "metadata": {
    "id": "754a6ffd"
   },
   "outputs": [],
   "source": [
    "# Aνοίγουμε το json αρχείο με τα nvd records και διαβάζουμε τα δεδομένα του παιρνώντας τα στην nvd_data όπου\n",
    "# αποθηκεύεται το dictionary που δημιουργείται από το parse του json file.\n",
    "with open('Data/NVD/nvdcve for 2021 - downoload at February 2022 01-02-2022.json') as file:\n",
    "    nvd_data = json.load(file)"
   ]
  },
  {
   "cell_type": "markdown",
   "id": "6900b23c",
   "metadata": {
    "id": "6900b23c"
   },
   "source": [
    "Για κάθε ευπάθεια, η NVD παρέχει αρκετές πληροφορίες τις οποίες βλέπουμε στην συνέχεια για την 1η εγγραφή από αυτές που περιέχει το dataset:"
   ]
  },
  {
   "cell_type": "code",
   "execution_count": null,
   "id": "6a0e0a74",
   "metadata": {
    "id": "6a0e0a74",
    "outputId": "1bb05681-82e1-4ebb-8bca-55fac49bfd1e"
   },
   "outputs": [
    {
     "name": "stdout",
     "output_type": "stream",
     "text": [
      "Το πρώτο nvd record:\n",
      "\n",
      "{\n",
      " \"cve\": {\n",
      "  \"data_type\": \"CVE\",\n",
      "  \"data_format\": \"MITRE\",\n",
      "  \"data_version\": \"4.0\",\n",
      "  \"CVE_data_meta\": {\n",
      "   \"ID\": \"CVE-2021-0001\",\n",
      "   \"ASSIGNER\": \"secure@intel.com\"\n",
      "  },\n",
      "  \"problemtype\": {\n",
      "   \"problemtype_data\": [\n",
      "    {\n",
      "     \"description\": [\n",
      "      {\n",
      "       \"lang\": \"en\",\n",
      "       \"value\": \"CWE-203\"\n",
      "      }\n",
      "     ]\n",
      "    }\n",
      "   ]\n",
      "  },\n",
      "  \"references\": {\n",
      "   \"reference_data\": [\n",
      "    {\n",
      "     \"url\": \"https://www.intel.com/content/www/us/en/security-center/advisory/intel-sa-00477.html\",\n",
      "     \"name\": \"https://www.intel.com/content/www/us/en/security-center/advisory/intel-sa-00477.html\",\n",
      "     \"refsource\": \"MISC\",\n",
      "     \"tags\": [\n",
      "      \"Patch\",\n",
      "      \"Vendor Advisory\"\n",
      "     ]\n",
      "    }\n",
      "   ]\n",
      "  },\n",
      "  \"description\": {\n",
      "   \"description_data\": [\n",
      "    {\n",
      "     \"lang\": \"en\",\n",
      "     \"value\": \"Observable timing discrepancy in Intel(R) IPP before version 2020 update 1 may allow authorized user to potentially enable information disclosure via local access.\"\n",
      "    }\n",
      "   ]\n",
      "  }\n",
      " },\n",
      " \"configurations\": {\n",
      "  \"CVE_data_version\": \"4.0\",\n",
      "  \"nodes\": [\n",
      "   {\n",
      "    \"operator\": \"OR\",\n",
      "    \"children\": [],\n",
      "    \"cpe_match\": [\n",
      "     {\n",
      "      \"vulnerable\": true,\n",
      "      \"cpe23Uri\": \"cpe:2.3:a:intel:integrated_performance_primitives_cryptography:2019:-:*:*:*:*:*:*\",\n",
      "      \"cpe_name\": []\n",
      "     },\n",
      "     {\n",
      "      \"vulnerable\": true,\n",
      "      \"cpe23Uri\": \"cpe:2.3:a:intel:integrated_performance_primitives_cryptography:2019:update_1:*:*:*:*:*:*\",\n",
      "      \"cpe_name\": []\n",
      "     },\n",
      "     {\n",
      "      \"vulnerable\": true,\n",
      "      \"cpe23Uri\": \"cpe:2.3:a:intel:integrated_performance_primitives_cryptography:2019:update_2:*:*:*:*:*:*\",\n",
      "      \"cpe_name\": []\n",
      "     },\n",
      "     {\n",
      "      \"vulnerable\": true,\n",
      "      \"cpe23Uri\": \"cpe:2.3:a:intel:integrated_performance_primitives_cryptography:2019:update_3:*:*:*:*:*:*\",\n",
      "      \"cpe_name\": []\n",
      "     },\n",
      "     {\n",
      "      \"vulnerable\": true,\n",
      "      \"cpe23Uri\": \"cpe:2.3:a:intel:integrated_performance_primitives_cryptography:2019:update_4:*:*:*:*:*:*\",\n",
      "      \"cpe_name\": []\n",
      "     },\n",
      "     {\n",
      "      \"vulnerable\": true,\n",
      "      \"cpe23Uri\": \"cpe:2.3:a:intel:integrated_performance_primitives_cryptography:2020:-:*:*:*:*:*:*\",\n",
      "      \"cpe_name\": []\n",
      "     },\n",
      "     {\n",
      "      \"vulnerable\": true,\n",
      "      \"cpe23Uri\": \"cpe:2.3:a:intel:sgx_dcap:*:*:*:*:*:linux:*:*\",\n",
      "      \"versionEndIncluding\": \"1.10.100.4\",\n",
      "      \"cpe_name\": []\n",
      "     },\n",
      "     {\n",
      "      \"vulnerable\": true,\n",
      "      \"cpe23Uri\": \"cpe:2.3:a:intel:sgx_dcap:*:*:*:*:*:windows:*:*\",\n",
      "      \"versionEndIncluding\": \"1.10.100.4\",\n",
      "      \"cpe_name\": []\n",
      "     },\n",
      "     {\n",
      "      \"vulnerable\": true,\n",
      "      \"cpe23Uri\": \"cpe:2.3:a:intel:sgx_psw:*:*:*:*:*:windows:*:*\",\n",
      "      \"versionEndIncluding\": \"2.12.100.4\",\n",
      "      \"cpe_name\": []\n",
      "     },\n",
      "     {\n",
      "      \"vulnerable\": true,\n",
      "      \"cpe23Uri\": \"cpe:2.3:a:intel:sgx_psw:*:*:*:*:*:linux:*:*\",\n",
      "      \"versionEndIncluding\": \"2.13.100.4\",\n",
      "      \"cpe_name\": []\n",
      "     },\n",
      "     {\n",
      "      \"vulnerable\": true,\n",
      "      \"cpe23Uri\": \"cpe:2.3:a:intel:sgx_sdk:*:*:*:*:*:windows:*:*\",\n",
      "      \"versionEndIncluding\": \"2.12.100.4\",\n",
      "      \"cpe_name\": []\n",
      "     },\n",
      "     {\n",
      "      \"vulnerable\": true,\n",
      "      \"cpe23Uri\": \"cpe:2.3:a:intel:sgx_sdk:*:*:*:*:*:linux:*:*\",\n",
      "      \"versionEndIncluding\": \"2.13.100.4\",\n",
      "      \"cpe_name\": []\n",
      "     }\n",
      "    ]\n",
      "   }\n",
      "  ]\n",
      " },\n",
      " \"impact\": {\n",
      "  \"baseMetricV3\": {\n",
      "   \"cvssV3\": {\n",
      "    \"version\": \"3.1\",\n",
      "    \"vectorString\": \"CVSS:3.1/AV:L/AC:H/PR:L/UI:N/S:U/C:H/I:N/A:N\",\n",
      "    \"attackVector\": \"LOCAL\",\n",
      "    \"attackComplexity\": \"HIGH\",\n",
      "    \"privilegesRequired\": \"LOW\",\n",
      "    \"userInteraction\": \"NONE\",\n",
      "    \"scope\": \"UNCHANGED\",\n",
      "    \"confidentialityImpact\": \"HIGH\",\n",
      "    \"integrityImpact\": \"NONE\",\n",
      "    \"availabilityImpact\": \"NONE\",\n",
      "    \"baseScore\": 4.7,\n",
      "    \"baseSeverity\": \"MEDIUM\"\n",
      "   },\n",
      "   \"exploitabilityScore\": 1.0,\n",
      "   \"impactScore\": 3.6\n",
      "  },\n",
      "  \"baseMetricV2\": {\n",
      "   \"cvssV2\": {\n",
      "    \"version\": \"2.0\",\n",
      "    \"vectorString\": \"AV:L/AC:L/Au:N/C:P/I:N/A:N\",\n",
      "    \"accessVector\": \"LOCAL\",\n",
      "    \"accessComplexity\": \"LOW\",\n",
      "    \"authentication\": \"NONE\",\n",
      "    \"confidentialityImpact\": \"PARTIAL\",\n",
      "    \"integrityImpact\": \"NONE\",\n",
      "    \"availabilityImpact\": \"NONE\",\n",
      "    \"baseScore\": 2.1\n",
      "   },\n",
      "   \"severity\": \"LOW\",\n",
      "   \"exploitabilityScore\": 3.9,\n",
      "   \"impactScore\": 2.9,\n",
      "   \"acInsufInfo\": false,\n",
      "   \"obtainAllPrivilege\": false,\n",
      "   \"obtainUserPrivilege\": false,\n",
      "   \"obtainOtherPrivilege\": false,\n",
      "   \"userInteractionRequired\": false\n",
      "  }\n",
      " },\n",
      " \"publishedDate\": \"2021-06-09T20:15Z\",\n",
      " \"lastModifiedDate\": \"2021-06-28T18:03Z\"\n",
      "}\n"
     ]
    }
   ],
   "source": [
    "# Eμφάνιση του πρώτου nvd record για να δούμε τί δεδομένα έχουμε στη διάθεσή μας για κάθε τέτοια εγγραφή.\n",
    "# Χρησιμοποιούμε την json.dumps η οποία μετατρέπει ένα αντικείμενο σε json format (serialization) προς εγγραφή σε αρχείο\n",
    "# για να εμφανίσουμε το record με \"όμορφο\" τρόπο, δηλαδή με τη στοίχιση και τις εσοχές αντί για απλό string.\n",
    "print(\"Το πρώτο nvd record:\\n\")\n",
    "print(json.dumps(nvd_data['CVE_Items'][0], indent = 1))"
   ]
  },
  {
   "cell_type": "code",
   "execution_count": null,
   "id": "e7c14921",
   "metadata": {
    "id": "e7c14921",
    "outputId": "06502781-8e8b-4082-cd5f-34c3c39fd8d9"
   },
   "outputs": [
    {
     "name": "stdout",
     "output_type": "stream",
     "text": [
      "\n",
      "Συνολικά έχουμε στη διάθεσή μας πληροφορίες για 17741 εγγραφές ευπαθειών.\n"
     ]
    }
   ],
   "source": [
    "# Eμφάνιση του αριθμού των vulnerabilities records που περιέχονται στο json αρχείο μας\n",
    "print(\"\\nΣυνολικά έχουμε στη διάθεσή μας πληροφορίες για\", len(nvd_data['CVE_Items']), \"εγγραφές ευπαθειών.\") "
   ]
  },
  {
   "cell_type": "markdown",
   "id": "7b0a9361",
   "metadata": {
    "id": "7b0a9361"
   },
   "source": [
    "Στην συνέχεια, ανακαλύπτουμε τον τρόπο με τον οποίο μπορούμε να εντοπίσουμε τις πληροφορίες αυτές, έτσι ώστε να ξέρουμε πως να διατρέξουμε το JSON αρχείο μας για την συλλογή των δεδομένων.\n",
    "\n",
    "Η περιγραφή της πρώτης ευπάθειας:"
   ]
  },
  {
   "cell_type": "code",
   "execution_count": null,
   "id": "be5d3126",
   "metadata": {
    "id": "be5d3126",
    "outputId": "59d3d4af-740c-4cdc-8dbe-73300ac92b6a"
   },
   "outputs": [
    {
     "name": "stdout",
     "output_type": "stream",
     "text": [
      "Observable timing discrepancy in Intel(R) IPP before version 2020 update 1 may allow authorized user to potentially enable information disclosure via local access.\n"
     ]
    }
   ],
   "source": [
    "# O τρόπος παρακάτω είναι για να πάρουμε το description ενός vulnerability record\n",
    "print(nvd_data['CVE_Items'][0]['cve']['description']['description_data'][0]['value'])"
   ]
  },
  {
   "cell_type": "markdown",
   "id": "2ac1728f",
   "metadata": {
    "id": "2ac1728f"
   },
   "source": [
    "Η κατηγορία της πρώτης ευπάθειας κατά [Common Weakness Enumeration Specification (CWE)](https://nvd.nist.gov/vuln/categories):"
   ]
  },
  {
   "cell_type": "code",
   "execution_count": null,
   "id": "f91c2912",
   "metadata": {
    "id": "f91c2912",
    "outputId": "53172758-f26a-4c29-b7f2-a2464995abf5"
   },
   "outputs": [
    {
     "name": "stdout",
     "output_type": "stream",
     "text": [
      "CWE-203\n"
     ]
    }
   ],
   "source": [
    "print(nvd_data['CVE_Items'][0]['cve']['problemtype']['problemtype_data'][0]['description'][0]['value'])"
   ]
  },
  {
   "cell_type": "markdown",
   "id": "43244e6e",
   "metadata": {
    "id": "43244e6e"
   },
   "source": [
    "Ο αριθμός των references:"
   ]
  },
  {
   "cell_type": "code",
   "execution_count": null,
   "id": "09f3c9c0",
   "metadata": {
    "id": "09f3c9c0",
    "outputId": "6ff43f32-a412-4ffc-fac2-860dc9a90020"
   },
   "outputs": [
    {
     "name": "stdout",
     "output_type": "stream",
     "text": [
      "1\n"
     ]
    }
   ],
   "source": [
    "# O τρόπος παρακάτω είναι για να πάρουμε τον αριθμό των references ενός vulnerability record\n",
    "print(len(nvd_data['CVE_Items'][0]['cve']['references']['reference_data']))"
   ]
  },
  {
   "cell_type": "markdown",
   "id": "6f7ed713",
   "metadata": {
    "id": "6f7ed713"
   },
   "source": [
    "Οι affeted vendors, όπως λαβαίνονται από το [CPE](https://en.wikipedia.org/wiki/Common_Platform_Enumeration) των προϊόντων που επηρεάζονται από την ευπάθεια:"
   ]
  },
  {
   "cell_type": "code",
   "execution_count": null,
   "id": "3b287624",
   "metadata": {
    "id": "3b287624",
    "outputId": "305379f8-865e-4f99-c195-ca6001392922"
   },
   "outputs": [
    {
     "name": "stdout",
     "output_type": "stream",
     "text": [
      "Ολόκληρο το CPE για το πρώτο record είναι το:  cpe:2.3:a:intel:integrated_performance_primitives_cryptography:2019:-:*:*:*:*:*:*\n",
      "\n",
      "Ένας από τους vendors που επηρεάζονται από την ευπάθεια  CVE-2021-0001 του πρώτου record είναι ο vendor: intel\n"
     ]
    }
   ],
   "source": [
    "# Ο τρόπος παρακάτω είναι για να δούμε το κομμάτι <vendor> του CPE για την 1η record. \n",
    "# Παρακάτω στο \"χτίσιμο\" του DataFrame θα δούμε ότι για κάποια records τα cpe εμφανίζονται σε άλλο σημείο του JSON \n",
    "# που πρέπει να το βρούμε προσεκτικά για να μην δημιουργηθεί σφάλμα προσπέλασης στο βρόχο.\n",
    "# Κάτω από το υποαντικείμενο 'configurations' στη λίστα του 'cpe_match' υπάρχουν τα CPE όλων των πακέτων λογισμικού που\n",
    "# επηρεάζονται από την συγκεκριμένη ευπάθεια. Εδώ προς το παρόν συμβατικά κρατάμε απλώς το vendor του πρώτου CPE\n",
    "# που συναντάμε υποθέτοντας ότι αφορά τον κύριο κατασκευαστή λογισμικού (vendor) που επηρεάζεται.\n",
    "\n",
    "print(\"Ολόκληρο το CPE για το πρώτο record είναι το: \",nvd_data['CVE_Items'][0]['configurations']['nodes'][0]['cpe_match'][0]['cpe23Uri'])\n",
    "print(\"\\nΈνας από τους vendors που επηρεάζονται από την ευπάθεια \", nvd_data['CVE_Items'][0]['cve']['CVE_data_meta']['ID'],\"του πρώτου record είναι ο vendor:\",nvd_data['CVE_Items'][0]['configurations']['nodes'][0]['cpe_match'][0]['cpe23Uri'].split(\":\")[3])"
   ]
  },
  {
   "cell_type": "markdown",
   "id": "fca94b2b",
   "metadata": {
    "id": "fca94b2b"
   },
   "source": [
    "Ελέγχουμε το ενδεχόμενο να υπάρχει έστω και μια εγγραφή με καμία ή περισσότερες από μια περιγραφές. Θέλουμε να είμαστε σίγουροι πριν από την συλλογή των δεδεομένων."
   ]
  },
  {
   "cell_type": "code",
   "execution_count": null,
   "id": "c3d3da17",
   "metadata": {
    "id": "c3d3da17",
    "scrolled": true
   },
   "outputs": [],
   "source": [
    "for v in nvd_data['CVE_Items']:\n",
    "      \n",
    "    if len(v['cve']['description']['description_data']) != 1:\n",
    "        print(\"Υπάρχει εγγραφή με καθόλου ή περισσότερες του ενός περιγραφές!\")\n",
    "        print(v['cve']['description']['description_data'])\n",
    "        break   "
   ]
  },
  {
   "cell_type": "markdown",
   "id": "0673b9e8",
   "metadata": {
    "id": "0673b9e8"
   },
   "source": [
    "Αφού δεν εμφανίζεται τίποτα ύστερα από την εκτέλεση του παραπάνω κελιού, σημαίνει ότι κάθε μια από τις εγγραφές των ευπαθειών περιέχει ακριβώς μία περιγραφή, οπότε θα το έχουμε υπόψη μας στη συνέχεια, στην συλλογή των δεδομένων που ακολουθεί."
   ]
  },
  {
   "cell_type": "markdown",
   "id": "c2939445",
   "metadata": {
    "id": "c2939445"
   },
   "source": [
    "## Η συλλογή των δεδομένων από το JSON\n",
    "\n",
    "Αφού είδαμε την μορφή των περιεχομένων του json file μπορούμε στην συνέχεια να κρατήσουμε τις πληροφορίες που\n",
    "επιθυμούμε από τα δεδομένα για τις ευπάθειες σε μια λίστα η οποία στη συνέχεια θα μετατραπεί σε DataFrame.\n",
    "Στο παρακάτω κελί συλλέγουμε τις τιμές των εγγραφών για τα χαρακτηριστικά *cve_id, assigner, number_of_references, description, anAffectedVendor, CVSS_baseScore,* και *CVSS_baseSeverity*."
   ]
  },
  {
   "cell_type": "code",
   "execution_count": null,
   "id": "83bf974f",
   "metadata": {
    "id": "83bf974f"
   },
   "outputs": [],
   "source": [
    "records = []\n",
    "\n",
    "for v in nvd_data['CVE_Items']:\n",
    "    \n",
    "    # Γίνονται έλεγχοι για το εάν υπάρχουν στο record καταχωρημένα ή όχι: η αξιολόγηση σοβαρότητας και CPE ονομασία.\n",
    "    # Για τα πεδία id, assigner, description και references δεν υπάρχει πρόβλημα καθώς μετά από έλεγχο \n",
    "    # στο json βρέθηκε ότι δεν παραλείπονται από καμία εγγραφή του dataset.\n",
    "    try:\n",
    "                \n",
    "        # Εάν η συγκεκριμένη NVD record δεν περιέχει πληροφορίες σχετικά με την αξιολόγηση της σοβαρότητας της\n",
    "        # ευπάθειας τότε εδώ η αντίστοιχη γραμμή του DataFrame θα έχει missing values. Οι έλεγχοι είναι απαραίτητοι\n",
    "        # για να μην δημιουργηθεί exception του τύπου 'list index out of range' ή προσπάθειας προσπέλασης ενός key\n",
    "        # που δεν υπάρχει σε ένα αντικείμενο του dict.\n",
    "        if (('impact' in v)\n",
    "            and ('baseMetricV3' in v['impact'])\n",
    "            and ('cvssV3' in v['impact']['baseMetricV3'])\n",
    "            and ('baseScore' in v['impact']['baseMetricV3']['cvssV3'])\n",
    "            and ('baseSeverity' in v['impact']['baseMetricV3']['cvssV3'])):\n",
    "            \n",
    "            basescore = v['impact']['baseMetricV3']['cvssV3']['baseScore']\n",
    "            baseseverity = v['impact']['baseMetricV3']['cvssV3']['baseSeverity'] \n",
    "        else:            \n",
    "            basescore = np.NaN \n",
    "            baseseverity = np.NaN    \n",
    "            \n",
    "        # Εάν η συγκεκριμένη NVD record δεν περιέχει πληροφορίες σχετικά με τα πακέτα λογισμικού που επηρεάζονται\n",
    "        # από την ευπάθεια τότε εδώ θα έχει missing values.\n",
    "        # Εάν υπάρχουν τα affected configurations κρατάμε το όνομα του πρώτου vendor.\n",
    "        # Εδώ η συνθήκη είναι πολύ πολύπλοκη αλλά οι έλεγχοι που πραγματοποιούνται απαραίτητοι για να μην συμβεί \n",
    "        # σφάλμα.\n",
    "        if (('configurations' in v)\n",
    "            and ('nodes' in v['configurations'])\n",
    "            and (len(v['configurations']['nodes'])!=0)\n",
    "            and ('cpe_match' in v['configurations']['nodes'][0])):\n",
    "            \n",
    "            # Όταν ικανοποιείται η παραπάνω συνθήκη σημαίνει ότι υπάρχει CPE. \n",
    "            if ((len(v['configurations']['nodes'][0]['cpe_match'])!=0) and ('cpe23Uri' in v['configurations']['nodes'][0]['cpe_match'][0])):\n",
    "                \n",
    "                # Εάν υπάρχει μόνο ένα στοιχείο στον πίνακα node τότε σημαίνει ότι θα βρούμε το cpe με τον παρακάτω\n",
    "                # τρόπο:\n",
    "                vendor = v['configurations']['nodes'][0]['cpe_match'][0]['cpe23Uri'].split(\":\")[3]\n",
    "            else: \n",
    "                \n",
    "                # Εάν υπάρχουν πολλά nodes τότε το cpe θα το βρούμε μέσα στα children:\n",
    "                vendor = v['configurations']['nodes'][0]['children'][0]['cpe_match'][0]['cpe23Uri'].split(\":\")[3]\n",
    "        else:\n",
    "            \n",
    "            # Εάν δεν υπάρχει cpe καταχωρούμε NaN.\n",
    "            vendor = np.NaN \n",
    "            \n",
    "        # Αναθέσεις των υπόλοιπων τιμών σε μεταβλητές\n",
    "        cve_id = v['cve']['CVE_data_meta']['ID']\n",
    "        assigner = v['cve']['CVE_data_meta']['ASSIGNER']\n",
    "        number_of_references = len(v['cve']['references']['reference_data'])\n",
    "        description = v['cve']['description']['description_data'][0]['value']\n",
    "        anAffectedVendor = vendor\n",
    "        CVSS_baseScore = basescore\n",
    "        CVSS_baseSeverity = baseseverity\n",
    "        \n",
    "        #\"Γέμισμα\" της λίστας.\n",
    "        records.append([cve_id,\n",
    "                        assigner,\n",
    "                        number_of_references,\n",
    "                        description,\n",
    "                        anAffectedVendor,\n",
    "                        CVSS_baseScore,\n",
    "                        CVSS_baseSeverity])\n",
    "    \n",
    "    except Exception as e:\n",
    "        print(\"Ένα σφάλμα εμφανίστηκε:\")\n",
    "        print(e)\n",
    "        break\n",
    "     "
   ]
  },
  {
   "cell_type": "markdown",
   "id": "fb35c26f",
   "metadata": {
    "id": "fb35c26f"
   },
   "source": [
    "### Συλλέγοντας τις τιμές CWE\n"
   ]
  },
  {
   "cell_type": "markdown",
   "id": "e08e82f8",
   "metadata": {
    "id": "e08e82f8"
   },
   "source": [
    "Συνεχίζουμε με την συλλογή των τιμών CWE, δηλαδή τις κατηγορίες ευπάθειας. Σημειώνεται ότι ως CWE δεχόμαστε και τις ειδικές τιμές όπως 'NVD-CWE-noinfo' και 'NVD-CWE-Other'. Από την στιγμή που περιέχουν πληροφορία, θα ήταν λάθος να καταχωρίσουμε NaN εκεί, αφού δεν είναι missing values.\n",
    "\n",
    "Επειδή εδώ η δομή και ο τρόπος εντοπισμού των δεδομένων στην ιεραρχία των αντικειμένων στο JSON παρουσιάζουν μια δυσκολία, η συλλογή γίνεται ξεχωριστά από τα υπόλοιπα χαρακτηριστικά και στη συνέχεια θα ενώσουμε την λίστα των CWEs με τα δεδομένα που συλλέξαμε ήδη."
   ]
  },
  {
   "cell_type": "code",
   "execution_count": null,
   "id": "b0bf61d0",
   "metadata": {
    "id": "b0bf61d0",
    "outputId": "537080e0-feac-4c8d-acb9-94167e319d4c",
    "scrolled": true
   },
   "outputs": [
    {
     "name": "stdout",
     "output_type": "stream",
     "text": [
      "17741\n"
     ]
    }
   ],
   "source": [
    "all_cwes = []\n",
    "for v in nvd_data['CVE_Items']:\n",
    "    \n",
    "    \n",
    "    if len(v['cve']['problemtype']['problemtype_data']) != 1:\n",
    "        print(\"Υπάρχει εγγραφή με καθόλου ή περισσότερα του ενός αντικείμενα στη λίστα problemtype_data!\")\n",
    "        print(v['cve']['problemtype']['problemtype_data'])\n",
    "        break\n",
    "    \n",
    "    # Επειδή το κομμάτι κώδικα του παραπάνω if statement δεν ενεργοποιείται ποτέ, αυτό σημαίνει ότι κάθε μια\n",
    "    # λίστα problemtype_data έχει μόνο ένα αντικείμενο. Αυτό πρακτικά σημαίνει ότι ακόμα και αν μια εγγραφή δεν\n",
    "    # περιέχει CWE, θα υπάρχει description που όμως όπως θα δούμε είναι κενό.\n",
    "    if len(v['cve']['problemtype']['problemtype_data'][0]['description']) == 0:        \n",
    "        all_cwes.append(np.NaN)\n",
    "    else:  \n",
    "        \n",
    "        # Κάθε ευπάθεια ενδέχεται να ανήκει σε πάνω από μία κατηγορία. Οπότε κρατάμε όλες τις κατηγορίες στη λίστα\n",
    "        # cwes και θα έχουμε μια λίστα για κάθε ευπάθεια.\n",
    "        cwes = []\n",
    "        for cwe in v['cve']['problemtype']['problemtype_data'][0]['description']:               \n",
    "            cwes.append(cwe['value'])\n",
    "            \n",
    "        all_cwes.append(cwes)\n",
    "        \n",
    "print(len(all_cwes))"
   ]
  },
  {
   "cell_type": "markdown",
   "id": "eced7348",
   "metadata": {
    "id": "eced7348"
   },
   "source": [
    "### Από την λίστα στο DataFrame\n",
    "\n",
    "Έχοντας ολοκληρώσει την συλλογή των CWEs βλέπουμε ότι το έχουμε κάνει για όλες τις εγγραφές μας, οπότε μπορούμε να προχωρήσουμε με τον σχηματισμό του DataFrame. Θα δημιουργήσουμε το DataFrame αρχικά με τα δεδομένα της λίστας records (που περιέχει τα πολλά χαρακτηριστικά) και μετά θα ενώσουμε με αυτό και την στήλη που δημιουργήσαμε με τα CWEs."
   ]
  },
  {
   "cell_type": "code",
   "execution_count": null,
   "id": "6c9ab679",
   "metadata": {
    "id": "6c9ab679"
   },
   "outputs": [],
   "source": [
    "# Oι πληροφορίες ανήκουν στα 3 sub-objects του record: cve (οι 4 πρώτες  \n",
    "# στήλες που δίνουμε στο DataFrame και η CWEs που δημιουργείται με την insert), \n",
    "# configurations (η 5η στήλη),και impact (οι 2 τελευταίες στήλες).\n",
    "\n",
    "vuln = pd.DataFrame(records, columns = ['cve_id',\n",
    "                                        'assigner',\n",
    "                                        'number_of_references',\n",
    "                                        'description',\n",
    "                                        'anAffectedVendor',\n",
    "                                        'CVSS_baseScore',\n",
    "                                        'CVSS_baseSeverity'])"
   ]
  },
  {
   "cell_type": "code",
   "execution_count": null,
   "id": "07a633d7",
   "metadata": {
    "id": "07a633d7"
   },
   "outputs": [],
   "source": [
    "vuln.insert(2, \"CWEs\", all_cwes, allow_duplicates=True)"
   ]
  },
  {
   "cell_type": "code",
   "execution_count": null,
   "id": "0954c04f",
   "metadata": {
    "id": "0954c04f",
    "outputId": "7e175602-a2fd-46a3-801a-8c346224f0ce"
   },
   "outputs": [
    {
     "data": {
      "text/html": [
       "<div>\n",
       "<style scoped>\n",
       "    .dataframe tbody tr th:only-of-type {\n",
       "        vertical-align: middle;\n",
       "    }\n",
       "\n",
       "    .dataframe tbody tr th {\n",
       "        vertical-align: top;\n",
       "    }\n",
       "\n",
       "    .dataframe thead th {\n",
       "        text-align: right;\n",
       "    }\n",
       "</style>\n",
       "<table border=\"1\" class=\"dataframe\">\n",
       "  <thead>\n",
       "    <tr style=\"text-align: right;\">\n",
       "      <th></th>\n",
       "      <th>cve_id</th>\n",
       "      <th>assigner</th>\n",
       "      <th>CWEs</th>\n",
       "      <th>number_of_references</th>\n",
       "      <th>description</th>\n",
       "      <th>anAffectedVendor</th>\n",
       "      <th>CVSS_baseScore</th>\n",
       "      <th>CVSS_baseSeverity</th>\n",
       "    </tr>\n",
       "  </thead>\n",
       "  <tbody>\n",
       "    <tr>\n",
       "      <th>0</th>\n",
       "      <td>CVE-2021-0001</td>\n",
       "      <td>secure@intel.com</td>\n",
       "      <td>[CWE-203]</td>\n",
       "      <td>1</td>\n",
       "      <td>Observable timing discrepancy in Intel(R) IPP ...</td>\n",
       "      <td>intel</td>\n",
       "      <td>4.7</td>\n",
       "      <td>MEDIUM</td>\n",
       "    </tr>\n",
       "    <tr>\n",
       "      <th>1</th>\n",
       "      <td>CVE-2021-0002</td>\n",
       "      <td>secure@intel.com</td>\n",
       "      <td>[CWE-754]</td>\n",
       "      <td>5</td>\n",
       "      <td>Improper conditions check in some Intel(R) Eth...</td>\n",
       "      <td>intel</td>\n",
       "      <td>7.1</td>\n",
       "      <td>HIGH</td>\n",
       "    </tr>\n",
       "    <tr>\n",
       "      <th>2</th>\n",
       "      <td>CVE-2021-0003</td>\n",
       "      <td>secure@intel.com</td>\n",
       "      <td>[CWE-755]</td>\n",
       "      <td>2</td>\n",
       "      <td>Improper conditions check in some Intel(R) Eth...</td>\n",
       "      <td>intel</td>\n",
       "      <td>5.5</td>\n",
       "      <td>MEDIUM</td>\n",
       "    </tr>\n",
       "    <tr>\n",
       "      <th>3</th>\n",
       "      <td>CVE-2021-0004</td>\n",
       "      <td>secure@intel.com</td>\n",
       "      <td>[CWE-119]</td>\n",
       "      <td>3</td>\n",
       "      <td>Improper buffer restrictions in the firmware o...</td>\n",
       "      <td>intel</td>\n",
       "      <td>4.4</td>\n",
       "      <td>MEDIUM</td>\n",
       "    </tr>\n",
       "    <tr>\n",
       "      <th>4</th>\n",
       "      <td>CVE-2021-0005</td>\n",
       "      <td>secure@intel.com</td>\n",
       "      <td>[CWE-755]</td>\n",
       "      <td>2</td>\n",
       "      <td>Uncaught exception in firmware for Intel(R) Et...</td>\n",
       "      <td>intel</td>\n",
       "      <td>4.4</td>\n",
       "      <td>MEDIUM</td>\n",
       "    </tr>\n",
       "    <tr>\n",
       "      <th>...</th>\n",
       "      <td>...</td>\n",
       "      <td>...</td>\n",
       "      <td>...</td>\n",
       "      <td>...</td>\n",
       "      <td>...</td>\n",
       "      <td>...</td>\n",
       "      <td>...</td>\n",
       "      <td>...</td>\n",
       "    </tr>\n",
       "    <tr>\n",
       "      <th>17736</th>\n",
       "      <td>CVE-2021-46665</td>\n",
       "      <td>cve@mitre.org</td>\n",
       "      <td>NaN</td>\n",
       "      <td>1</td>\n",
       "      <td>MariaDB through 10.5.9 allows a sql_parse.cc a...</td>\n",
       "      <td>NaN</td>\n",
       "      <td>NaN</td>\n",
       "      <td>NaN</td>\n",
       "    </tr>\n",
       "    <tr>\n",
       "      <th>17737</th>\n",
       "      <td>CVE-2021-46666</td>\n",
       "      <td>cve@mitre.org</td>\n",
       "      <td>NaN</td>\n",
       "      <td>1</td>\n",
       "      <td>MariaDB before 10.6.2 allows an application cr...</td>\n",
       "      <td>NaN</td>\n",
       "      <td>NaN</td>\n",
       "      <td>NaN</td>\n",
       "    </tr>\n",
       "    <tr>\n",
       "      <th>17738</th>\n",
       "      <td>CVE-2021-46667</td>\n",
       "      <td>cve@mitre.org</td>\n",
       "      <td>NaN</td>\n",
       "      <td>1</td>\n",
       "      <td>MariaDB before 10.6.5 has a sql_lex.cc integer...</td>\n",
       "      <td>NaN</td>\n",
       "      <td>NaN</td>\n",
       "      <td>NaN</td>\n",
       "    </tr>\n",
       "    <tr>\n",
       "      <th>17739</th>\n",
       "      <td>CVE-2021-46668</td>\n",
       "      <td>cve@mitre.org</td>\n",
       "      <td>NaN</td>\n",
       "      <td>1</td>\n",
       "      <td>MariaDB through 10.5.9 allows an application c...</td>\n",
       "      <td>NaN</td>\n",
       "      <td>NaN</td>\n",
       "      <td>NaN</td>\n",
       "    </tr>\n",
       "    <tr>\n",
       "      <th>17740</th>\n",
       "      <td>CVE-2021-46669</td>\n",
       "      <td>cve@mitre.org</td>\n",
       "      <td>NaN</td>\n",
       "      <td>1</td>\n",
       "      <td>MariaDB through 10.5.9 allows attackers to tri...</td>\n",
       "      <td>NaN</td>\n",
       "      <td>NaN</td>\n",
       "      <td>NaN</td>\n",
       "    </tr>\n",
       "  </tbody>\n",
       "</table>\n",
       "<p>17741 rows × 8 columns</p>\n",
       "</div>"
      ],
      "text/plain": [
       "               cve_id          assigner       CWEs  number_of_references  \\\n",
       "0       CVE-2021-0001  secure@intel.com  [CWE-203]                     1   \n",
       "1       CVE-2021-0002  secure@intel.com  [CWE-754]                     5   \n",
       "2       CVE-2021-0003  secure@intel.com  [CWE-755]                     2   \n",
       "3       CVE-2021-0004  secure@intel.com  [CWE-119]                     3   \n",
       "4       CVE-2021-0005  secure@intel.com  [CWE-755]                     2   \n",
       "...               ...               ...        ...                   ...   \n",
       "17736  CVE-2021-46665     cve@mitre.org        NaN                     1   \n",
       "17737  CVE-2021-46666     cve@mitre.org        NaN                     1   \n",
       "17738  CVE-2021-46667     cve@mitre.org        NaN                     1   \n",
       "17739  CVE-2021-46668     cve@mitre.org        NaN                     1   \n",
       "17740  CVE-2021-46669     cve@mitre.org        NaN                     1   \n",
       "\n",
       "                                             description anAffectedVendor  \\\n",
       "0      Observable timing discrepancy in Intel(R) IPP ...            intel   \n",
       "1      Improper conditions check in some Intel(R) Eth...            intel   \n",
       "2      Improper conditions check in some Intel(R) Eth...            intel   \n",
       "3      Improper buffer restrictions in the firmware o...            intel   \n",
       "4      Uncaught exception in firmware for Intel(R) Et...            intel   \n",
       "...                                                  ...              ...   \n",
       "17736  MariaDB through 10.5.9 allows a sql_parse.cc a...              NaN   \n",
       "17737  MariaDB before 10.6.2 allows an application cr...              NaN   \n",
       "17738  MariaDB before 10.6.5 has a sql_lex.cc integer...              NaN   \n",
       "17739  MariaDB through 10.5.9 allows an application c...              NaN   \n",
       "17740  MariaDB through 10.5.9 allows attackers to tri...              NaN   \n",
       "\n",
       "       CVSS_baseScore CVSS_baseSeverity  \n",
       "0                 4.7            MEDIUM  \n",
       "1                 7.1              HIGH  \n",
       "2                 5.5            MEDIUM  \n",
       "3                 4.4            MEDIUM  \n",
       "4                 4.4            MEDIUM  \n",
       "...               ...               ...  \n",
       "17736             NaN               NaN  \n",
       "17737             NaN               NaN  \n",
       "17738             NaN               NaN  \n",
       "17739             NaN               NaN  \n",
       "17740             NaN               NaN  \n",
       "\n",
       "[17741 rows x 8 columns]"
      ]
     },
     "execution_count": 14,
     "metadata": {},
     "output_type": "execute_result"
    }
   ],
   "source": [
    "vuln"
   ]
  },
  {
   "cell_type": "markdown",
   "id": "82f96bd3",
   "metadata": {
    "id": "82f96bd3"
   },
   "source": [
    "Ελέγχουμε εάν το dataset περιέχει εγγραφές τύπου \\*\\**REJECT** ή \\*\\**UNVERIFIABLE** ή \\*\\**RESERVED** και τις υπόλοιπες ειδικές κατηγορίες εγγραφών που δεν θέλουμε να κρατήσουμε στο dataset. "
   ]
  },
  {
   "cell_type": "code",
   "execution_count": null,
   "id": "0ab0ce79",
   "metadata": {
    "id": "0ab0ce79",
    "outputId": "b2ae5bf6-ade7-4f14-8208-242211c79382"
   },
   "outputs": [
    {
     "name": "stdout",
     "output_type": "stream",
     "text": [
      "0\n",
      "0\n",
      "0\n",
      "0\n",
      "0\n"
     ]
    }
   ],
   "source": [
    "print(len(vuln.loc[vuln['description'].str.contains(\"**REJECT**\", regex=False)]))\n",
    "print(len(vuln.loc[vuln['description'].str.contains(\"**RESERVED**\", regex=False)]))\n",
    "print(len(vuln.loc[vuln['description'].str.contains(\"**UNVERIFIABLE**\", regex=False)]))\n",
    "print(len(vuln.loc[vuln['description'].str.contains(\"**DISPUTED**\", regex=False)]))\n",
    "print(len(vuln.loc[vuln['description'].str.contains(\"**PRERELEASE**\", regex=False)]))"
   ]
  },
  {
   "cell_type": "markdown",
   "id": "8e1a6463",
   "metadata": {
    "id": "8e1a6463"
   },
   "source": [
    "Τέλος, εξετάζουμε τα missing values.\n",
    " "
   ]
  },
  {
   "cell_type": "code",
   "execution_count": null,
   "id": "5af47b01",
   "metadata": {
    "id": "5af47b01",
    "outputId": "e1b01137-ee6f-4f2d-a5a8-68cda22d4bae"
   },
   "outputs": [
    {
     "name": "stdout",
     "output_type": "stream",
     "text": [
      "cve_id                    0\n",
      "assigner                  0\n",
      "CWEs                    553\n",
      "number_of_references      0\n",
      "description               0\n",
      "anAffectedVendor        555\n",
      "CVSS_baseScore          555\n",
      "CVSS_baseSeverity       555\n",
      "dtype: int64\n"
     ]
    }
   ],
   "source": [
    "print(vuln.isnull().sum())  "
   ]
  },
  {
   "cell_type": "markdown",
   "id": "3789e0ae",
   "metadata": {
    "id": "3789e0ae"
   },
   "source": [
    " Τα missing values οφείλονται στο ότι κάποιες εγγραφές της NVD δεν έχουν την αξιολόγηση του βαθμού σοβαρότητας της ευπάθειας ή το CPE στην παρούσα έκδοση του dataset. H NVD  ενημερώνει τα δεδομένα για τις ήδη υπάρχουσες ευπάθειες των περασμένων ετών. Ισχύει επίσης και ότι ο αριθμός των NVD records αυξάνεται ακόμα και αν έχει περάσει καιρός από το έτος αναφοράς CVE.\n",
    "\n",
    "Το 555 σαν αριθμός των missing values είναι καλό γιατί τόσα είναι τα records τα οποία προστέθηκαν από τον Ιανουάριο του 2022. Το dataset που είχε δημιουργηθεί τότε σε μια παλαιότερη έκδοση του παρόντος notebook είχε λιγότερες εγγραφές και επίσης στις εγγραφές που είχε έλειπαν οι πληροφορίες αξιολόγησης και CPE. Τώρα έχουν προστεθεί. \n",
    "\n",
    "Δεν προβληματιζόμαστε με τα missing values αυτά στις τελευταίες εγγραφές μιας και είναι πολύ πιθανό να μην είχε γίνει συζήτηση στο Twitter για αυτές τις ευπάθειες αφού δεν είχαν καταχωρηθεί στην NVD μέχρι την ημερομηνία που κάναμε την λήψη των tweets από το Twitter API.\n",
    "Ως γνωστόν οι CNAs συνήθως παίρνουν έναν αριθμό από CVE-IDs που τους καταχωρούνται και στην πορεία αρχίζουν και τα\n",
    "χρησιμοποιούν. Όπως συμβαίνει και με τις IP. Στο JSON dataset που μας δίνει η NIST όμως δεν περιλαμβάνονται\n",
    "εγγραφές \\*\\**REJECT** ή \\*\\**UNVERIFIABLE** ή \\*\\**RESERVED** κλπ οπότε είμαστε ικανοποιημένοι και μπορούμε να προχωρήσουμε την ανάλυση με αυτές.\n",
    "\n",
    "Τώρα που έχουμε έτοιμο το dataset με όλα τα NVD records του 2021, το αποθηκεύουμε σε ένα CSV αρχείο για να μπορούμε να το διαβάζουμε εύκολα\n"
   ]
  },
  {
   "cell_type": "code",
   "execution_count": null,
   "id": "eee3634e",
   "metadata": {
    "id": "eee3634e"
   },
   "outputs": [],
   "source": [
    "vuln.to_csv('Data/NVD/NVD_records_2022_downoload_at_February_2022_01-02-2022.csv', index=False)"
   ]
  }
 ],
 "metadata": {
  "colab": {
   "collapsed_sections": [],
   "name": "2 Σημειωματάριο δεύτερο- (NVD_data).ipynb",
   "provenance": []
  },
  "kernelspec": {
   "display_name": "Python 3 (ipykernel)",
   "language": "python",
   "name": "python3"
  },
  "language_info": {
   "codemirror_mode": {
    "name": "ipython",
    "version": 3
   },
   "file_extension": ".py",
   "mimetype": "text/x-python",
   "name": "python",
   "nbconvert_exporter": "python",
   "pygments_lexer": "ipython3",
   "version": "3.9.7"
  }
 },
 "nbformat": 4,
 "nbformat_minor": 5
}
