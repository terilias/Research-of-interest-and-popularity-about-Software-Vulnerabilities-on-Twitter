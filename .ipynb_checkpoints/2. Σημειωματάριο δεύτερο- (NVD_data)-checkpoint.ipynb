{
 "cells": [
  {
   "cell_type": "markdown",
   "id": "0397eab3",
   "metadata": {
    "id": "0397eab3"
   },
   "source": [
    "# Σημειωματάριο δεύτερο: Συνθέτοντας το DataFrame των ευπαθειών"
   ]
  },
  {
   "cell_type": "markdown",
   "id": "b8521c36",
   "metadata": {
    "id": "b8521c36"
   },
   "source": [
    "## Από το JSON του NVD Data Feed στο CSV "
   ]
  },
  {
   "cell_type": "markdown",
   "id": "d689d001",
   "metadata": {
    "id": "d689d001"
   },
   "source": [
    "Με τον όρο ευπάθεια λογισμικού, **software vulnerability** αναφερόμαστε σε οποιοδήποτε σφάλμα υπάρχει στον σχεδιασμό, την υλοποίηση ή την λειτουργία ενός λογισμικού, το οποίο επιτρέπει εξωτερικούς παράγοντες να παραβιάσουν την πολιτική ασφαλείας του. Ένα μέρος λογισμικού, δεδομένων ή μια ακολουθία εντολών που εκμεταλλεύεται ένα σφάλμα ή μια ευπάθεια για να προκαλέσει απρόβλεπτη ή ακούσια συμπεριφορά σε software, hardware ή firmware καλείται **exploit** (εκμετάλλευση).\n",
    "\n",
    "Η διαδικασία με την οποία καταγράφονται οι ευπάθειες είναι σε γενικές γραμμές η εξής: όταν κάποιος εντοπίσει μια ευπάθεια λογισμικού, ενημερώνει τον προμηθευτή του λογισμικού και του αφήνει ένα ορισμένο χρονικό διάστημα ώστε εκείνος να το διορθώσει και να δημοσιεύσει μια ενημερωμένη έκδοση του λογισμικού η οποία επιλύει το πρόβλημα. Στην συνέχεια η ευπάθεια κοινοποιείται, ώστε οι χρήστες του λογισμικού να ενημερωθούν και να κάνουν τις απαραίτητες ενέργειες που απαιτούνται για να είναι προστατευμένοι.\n",
    "\n",
    "Οι προμηθευτές λογισμικού (software vendors), οι προγραμματιστές, οι κάτοχοι λογισμικού και όλα γενικά τα εμπλεκόμενα άτομα και οι φορείς, μπορούν να ενημερώνονται για τις ευπάθειες λογισμικού που εντοπίζονται αλλά και να ενημερώνουν την κοινότητα για τις ευπάθειες που εντοπίζουν, χρησιμοποιώντας την λίστα ευπαθειών **CVE** (Common Vulnerabilities and Exposures). Η λίστα CVE είναι μια λίστα από δημόσια διαθέσιμα ελαττώματα ασφάλειας υπολογιστικών συστημάτων, η οποία επιτηρήται απο τον αμερικανικό οργανισμό διαχείρισης κέντρων έρευνας κι ανάπτυξης **MITRE**.\n",
    "\n",
    "Το CVE είναι ένα free & opensource πρότυπο που χρησιμοποιείται από το 1999 έτσι ώστε να υπάρχει κοινή αναφορά στις ευπάθειες από την κοινότητα. Κάτι τέτοιο είναι ιδιαίτερα σημαντικό μιας και μέχρι τότε, υπήρχαν διαφορετικές βάσεις δεδομένων που ακολουθούσαν τα δικά τους πρότυπα. Το CVE δεν αποτελεί βάση δεδομένων αλλά μια λίστα με αντιστοιχείες ευπαθειών με τα **CVE IDs** που τους δίνονται. Μια εγγραφή σε αυτή την λίστα, εκτός από το αναγνωριστικό CVE ID περιλαμβάνει μια μικρή περιγραφή της ευπάθειας και τουλάχιστον μια αναφορά (reference).\n",
    "\n",
    "Η **NVD** (National Vulnerability Database) είναι το αποθετήριο της κυβέρνησης των ΗΠΑ για τα δεδομένα διαχείρισης ευπαθειών. Η βάση δεδομένων που παρέχεται προκύπτει από την λίστα ευπαθειών **CVE** και προσθέτει επιπλέον πληροφορίες για τις ευπάθειες όπως τον βαθμό σημαντικότητας της ευπάθειας που ακολουθεί το πρότυπο βαθμολόγησης **CVSS** και μια λίστα από προϊόντα λογισμικού που επηρεάζονται. \n",
    "\n",
    "Αξίζει να προστεθεί σε αυτό το σημείο ο σύνδεσμος για τον ιστότοπο https://www.cvedetails.com/ όπου μπορούν να βρεθούν γραφήματα και πληροφορίες σχετικά με τις ευπάθειες, τα προϊόντα και τους vendors ανά έτος και για διάφορες κατηγορίες.\n",
    "\n",
    "Σε αυτό το notebook, συλλέγουμε τα δεδομένα των ευπαθειών λογισμικού που καταγράφηκαν το έτος 2021 σε ένα DataFrame. Τα δεδομένα λαμβάνονται από το JSON αρχείο το οποίο προέρχεται από την [πηγή δεδομένων](https://nvd.nist.gov/vuln/data-feeds) της NVD. \n",
    "\n",
    "Ο **σκοπός** είναι να έχουμε όλες τις πληροφορίες που χρειαζόμαστε για τις ευπάθειες συγκεντρωμένες, έτσι ώστε να αντιστοιχήσουμε στην συνέχεια τα tweets με τις εγγραφές των ευπαθειών με τον εξής τρόπο: για κάθε ένα από τα tweets να καταγράψουμε σε ποιες ευπάθειες αυτό αναφέρεται έτσι ώστε να αναλύσουμε αργότερα την δημοτικότητα των ευπαθειών λογισμικού στο Twitter."
   ]
  },
  {
   "cell_type": "code",
   "execution_count": 1,
   "id": "41c2f6bc",
   "metadata": {
    "id": "41c2f6bc"
   },
   "outputs": [],
   "source": [
    "import json\n",
    "import pandas as pd\n",
    "import numpy as np"
   ]
  },
  {
   "cell_type": "code",
   "execution_count": 2,
   "id": "754a6ffd",
   "metadata": {
    "id": "754a6ffd"
   },
   "outputs": [],
   "source": [
    "# Aνοίγουμε το json αρχείο με τα nvd records και διαβάζουμε τα δεδομένα του παιρνώντας τα στην nvd_data όπου\n",
    "# αποθηκεύεται το dictionary που δημιουργείται από το parse του json file.\n",
    "with open('Data/NVD/nvdcve for 2021 - downoload at February 2022 01-02-2022.json') as file:\n",
    "    nvd_data = json.load(file)"
   ]
  },
  {
   "cell_type": "markdown",
   "id": "6900b23c",
   "metadata": {
    "id": "6900b23c"
   },
   "source": [
    "Για κάθε ευπάθεια, η NVD παρέχει αρκετές πληροφορίες τις οποίες βλέπουμε στην συνέχεια για την 1η εγγραφή από αυτές που περιέχει το dataset:"
   ]
  },
  {
   "cell_type": "code",
   "execution_count": 3,
   "id": "6a0e0a74",
   "metadata": {
    "id": "6a0e0a74",
    "outputId": "1bb05681-82e1-4ebb-8bca-55fac49bfd1e"
   },
   "outputs": [
    {
     "name": "stdout",
     "output_type": "stream",
     "text": [
      "Το πρώτο nvd record:\n",
      "\n",
      "{\n",
      " \"cve\": {\n",
      "  \"data_type\": \"CVE\",\n",
      "  \"data_format\": \"MITRE\",\n",
      "  \"data_version\": \"4.0\",\n",
      "  \"CVE_data_meta\": {\n",
      "   \"ID\": \"CVE-2021-0001\",\n",
      "   \"ASSIGNER\": \"secure@intel.com\"\n",
      "  },\n",
      "  \"problemtype\": {\n",
      "   \"problemtype_data\": [\n",
      "    {\n",
      "     \"description\": [\n",
      "      {\n",
      "       \"lang\": \"en\",\n",
      "       \"value\": \"CWE-203\"\n",
      "      }\n",
      "     ]\n",
      "    }\n",
      "   ]\n",
      "  },\n",
      "  \"references\": {\n",
      "   \"reference_data\": [\n",
      "    {\n",
      "     \"url\": \"https://www.intel.com/content/www/us/en/security-center/advisory/intel-sa-00477.html\",\n",
      "     \"name\": \"https://www.intel.com/content/www/us/en/security-center/advisory/intel-sa-00477.html\",\n",
      "     \"refsource\": \"MISC\",\n",
      "     \"tags\": [\n",
      "      \"Patch\",\n",
      "      \"Vendor Advisory\"\n",
      "     ]\n",
      "    }\n",
      "   ]\n",
      "  },\n",
      "  \"description\": {\n",
      "   \"description_data\": [\n",
      "    {\n",
      "     \"lang\": \"en\",\n",
      "     \"value\": \"Observable timing discrepancy in Intel(R) IPP before version 2020 update 1 may allow authorized user to potentially enable information disclosure via local access.\"\n",
      "    }\n",
      "   ]\n",
      "  }\n",
      " },\n",
      " \"configurations\": {\n",
      "  \"CVE_data_version\": \"4.0\",\n",
      "  \"nodes\": [\n",
      "   {\n",
      "    \"operator\": \"OR\",\n",
      "    \"children\": [],\n",
      "    \"cpe_match\": [\n",
      "     {\n",
      "      \"vulnerable\": true,\n",
      "      \"cpe23Uri\": \"cpe:2.3:a:intel:integrated_performance_primitives_cryptography:2019:-:*:*:*:*:*:*\",\n",
      "      \"cpe_name\": []\n",
      "     },\n",
      "     {\n",
      "      \"vulnerable\": true,\n",
      "      \"cpe23Uri\": \"cpe:2.3:a:intel:integrated_performance_primitives_cryptography:2019:update_1:*:*:*:*:*:*\",\n",
      "      \"cpe_name\": []\n",
      "     },\n",
      "     {\n",
      "      \"vulnerable\": true,\n",
      "      \"cpe23Uri\": \"cpe:2.3:a:intel:integrated_performance_primitives_cryptography:2019:update_2:*:*:*:*:*:*\",\n",
      "      \"cpe_name\": []\n",
      "     },\n",
      "     {\n",
      "      \"vulnerable\": true,\n",
      "      \"cpe23Uri\": \"cpe:2.3:a:intel:integrated_performance_primitives_cryptography:2019:update_3:*:*:*:*:*:*\",\n",
      "      \"cpe_name\": []\n",
      "     },\n",
      "     {\n",
      "      \"vulnerable\": true,\n",
      "      \"cpe23Uri\": \"cpe:2.3:a:intel:integrated_performance_primitives_cryptography:2019:update_4:*:*:*:*:*:*\",\n",
      "      \"cpe_name\": []\n",
      "     },\n",
      "     {\n",
      "      \"vulnerable\": true,\n",
      "      \"cpe23Uri\": \"cpe:2.3:a:intel:integrated_performance_primitives_cryptography:2020:-:*:*:*:*:*:*\",\n",
      "      \"cpe_name\": []\n",
      "     },\n",
      "     {\n",
      "      \"vulnerable\": true,\n",
      "      \"cpe23Uri\": \"cpe:2.3:a:intel:sgx_dcap:*:*:*:*:*:linux:*:*\",\n",
      "      \"versionEndIncluding\": \"1.10.100.4\",\n",
      "      \"cpe_name\": []\n",
      "     },\n",
      "     {\n",
      "      \"vulnerable\": true,\n",
      "      \"cpe23Uri\": \"cpe:2.3:a:intel:sgx_dcap:*:*:*:*:*:windows:*:*\",\n",
      "      \"versionEndIncluding\": \"1.10.100.4\",\n",
      "      \"cpe_name\": []\n",
      "     },\n",
      "     {\n",
      "      \"vulnerable\": true,\n",
      "      \"cpe23Uri\": \"cpe:2.3:a:intel:sgx_psw:*:*:*:*:*:windows:*:*\",\n",
      "      \"versionEndIncluding\": \"2.12.100.4\",\n",
      "      \"cpe_name\": []\n",
      "     },\n",
      "     {\n",
      "      \"vulnerable\": true,\n",
      "      \"cpe23Uri\": \"cpe:2.3:a:intel:sgx_psw:*:*:*:*:*:linux:*:*\",\n",
      "      \"versionEndIncluding\": \"2.13.100.4\",\n",
      "      \"cpe_name\": []\n",
      "     },\n",
      "     {\n",
      "      \"vulnerable\": true,\n",
      "      \"cpe23Uri\": \"cpe:2.3:a:intel:sgx_sdk:*:*:*:*:*:windows:*:*\",\n",
      "      \"versionEndIncluding\": \"2.12.100.4\",\n",
      "      \"cpe_name\": []\n",
      "     },\n",
      "     {\n",
      "      \"vulnerable\": true,\n",
      "      \"cpe23Uri\": \"cpe:2.3:a:intel:sgx_sdk:*:*:*:*:*:linux:*:*\",\n",
      "      \"versionEndIncluding\": \"2.13.100.4\",\n",
      "      \"cpe_name\": []\n",
      "     }\n",
      "    ]\n",
      "   }\n",
      "  ]\n",
      " },\n",
      " \"impact\": {\n",
      "  \"baseMetricV3\": {\n",
      "   \"cvssV3\": {\n",
      "    \"version\": \"3.1\",\n",
      "    \"vectorString\": \"CVSS:3.1/AV:L/AC:H/PR:L/UI:N/S:U/C:H/I:N/A:N\",\n",
      "    \"attackVector\": \"LOCAL\",\n",
      "    \"attackComplexity\": \"HIGH\",\n",
      "    \"privilegesRequired\": \"LOW\",\n",
      "    \"userInteraction\": \"NONE\",\n",
      "    \"scope\": \"UNCHANGED\",\n",
      "    \"confidentialityImpact\": \"HIGH\",\n",
      "    \"integrityImpact\": \"NONE\",\n",
      "    \"availabilityImpact\": \"NONE\",\n",
      "    \"baseScore\": 4.7,\n",
      "    \"baseSeverity\": \"MEDIUM\"\n",
      "   },\n",
      "   \"exploitabilityScore\": 1.0,\n",
      "   \"impactScore\": 3.6\n",
      "  },\n",
      "  \"baseMetricV2\": {\n",
      "   \"cvssV2\": {\n",
      "    \"version\": \"2.0\",\n",
      "    \"vectorString\": \"AV:L/AC:L/Au:N/C:P/I:N/A:N\",\n",
      "    \"accessVector\": \"LOCAL\",\n",
      "    \"accessComplexity\": \"LOW\",\n",
      "    \"authentication\": \"NONE\",\n",
      "    \"confidentialityImpact\": \"PARTIAL\",\n",
      "    \"integrityImpact\": \"NONE\",\n",
      "    \"availabilityImpact\": \"NONE\",\n",
      "    \"baseScore\": 2.1\n",
      "   },\n",
      "   \"severity\": \"LOW\",\n",
      "   \"exploitabilityScore\": 3.9,\n",
      "   \"impactScore\": 2.9,\n",
      "   \"acInsufInfo\": false,\n",
      "   \"obtainAllPrivilege\": false,\n",
      "   \"obtainUserPrivilege\": false,\n",
      "   \"obtainOtherPrivilege\": false,\n",
      "   \"userInteractionRequired\": false\n",
      "  }\n",
      " },\n",
      " \"publishedDate\": \"2021-06-09T20:15Z\",\n",
      " \"lastModifiedDate\": \"2021-06-28T18:03Z\"\n",
      "}\n"
     ]
    }
   ],
   "source": [
    "# Eμφάνιση του πρώτου nvd record για να δούμε τί δεδομένα έχουμε στη διάθεσή μας για κάθε τέτοια εγγραφή.\n",
    "# Χρησιμοποιούμε την json.dumps η οποία μετατρέπει ένα αντικείμενο σε json format (serialization) προς εγγραφή σε αρχείο\n",
    "# για να εμφανίσουμε το record με \"όμορφο\" τρόπο, δηλαδή με τη στοίχιση και τις εσοχές αντί για απλό string.\n",
    "print(\"Το πρώτο nvd record:\\n\")\n",
    "print(json.dumps(nvd_data['CVE_Items'][0], indent = 1))"
   ]
  },
  {
   "cell_type": "code",
   "execution_count": 4,
   "id": "e7c14921",
   "metadata": {
    "id": "e7c14921",
    "outputId": "06502781-8e8b-4082-cd5f-34c3c39fd8d9"
   },
   "outputs": [
    {
     "name": "stdout",
     "output_type": "stream",
     "text": [
      "\n",
      "Συνολικά έχουμε στη διάθεσή μας πληροφορίες για 17741 εγγραφές ευπαθειών.\n"
     ]
    }
   ],
   "source": [
    "# Eμφάνιση του αριθμού των vulnerabilities records που περιέχονται στο json αρχείο μας\n",
    "print(\"\\nΣυνολικά έχουμε στη διάθεσή μας πληροφορίες για\", len(nvd_data['CVE_Items']), \"εγγραφές ευπαθειών.\") "
   ]
  },
  {
   "cell_type": "markdown",
   "id": "7b0a9361",
   "metadata": {
    "id": "7b0a9361"
   },
   "source": [
    "Στην συνέχεια, ανακαλύπτουμε τον τρόπο με τον οποίο μπορούμε να εντοπίσουμε τις πληροφορίες αυτές, έτσι ώστε να ξέρουμε πως να διατρέξουμε το JSON αρχείο μας για την συλλογή των δεδομένων.\n",
    "\n",
    "Η περιγραφή της πρώτης ευπάθειας:"
   ]
  },
  {
   "cell_type": "code",
   "execution_count": 5,
   "id": "be5d3126",
   "metadata": {
    "id": "be5d3126",
    "outputId": "59d3d4af-740c-4cdc-8dbe-73300ac92b6a"
   },
   "outputs": [
    {
     "name": "stdout",
     "output_type": "stream",
     "text": [
      "Observable timing discrepancy in Intel(R) IPP before version 2020 update 1 may allow authorized user to potentially enable information disclosure via local access.\n"
     ]
    }
   ],
   "source": [
    "# O τρόπος παρακάτω είναι για να πάρουμε το description ενός vulnerability record\n",
    "print(nvd_data['CVE_Items'][0]['cve']['description']['description_data'][0]['value'])"
   ]
  },
  {
   "cell_type": "markdown",
   "id": "2ac1728f",
   "metadata": {
    "id": "2ac1728f"
   },
   "source": [
    "Η κατηγορία της πρώτης ευπάθειας κατά [Common Weakness Enumeration Specification (CWE)](https://nvd.nist.gov/vuln/categories):"
   ]
  },
  {
   "cell_type": "code",
   "execution_count": 6,
   "id": "f91c2912",
   "metadata": {
    "id": "f91c2912",
    "outputId": "53172758-f26a-4c29-b7f2-a2464995abf5"
   },
   "outputs": [
    {
     "name": "stdout",
     "output_type": "stream",
     "text": [
      "CWE-203\n"
     ]
    }
   ],
   "source": [
    "print(nvd_data['CVE_Items'][0]['cve']['problemtype']['problemtype_data'][0]['description'][0]['value'])"
   ]
  },
  {
   "cell_type": "markdown",
   "id": "43244e6e",
   "metadata": {
    "id": "43244e6e"
   },
   "source": [
    "Ο αριθμός των references:"
   ]
  },
  {
   "cell_type": "code",
   "execution_count": 7,
   "id": "09f3c9c0",
   "metadata": {
    "id": "09f3c9c0",
    "outputId": "6ff43f32-a412-4ffc-fac2-860dc9a90020"
   },
   "outputs": [
    {
     "name": "stdout",
     "output_type": "stream",
     "text": [
      "1\n"
     ]
    }
   ],
   "source": [
    "# O τρόπος παρακάτω είναι για να πάρουμε τον αριθμό των references ενός vulnerability record\n",
    "print(len(nvd_data['CVE_Items'][0]['cve']['references']['reference_data']))"
   ]
  },
  {
   "cell_type": "markdown",
   "id": "6f7ed713",
   "metadata": {
    "id": "6f7ed713"
   },
   "source": [
    "Οι affeted vendors, όπως λαβαίνονται από το [CPE](https://en.wikipedia.org/wiki/Common_Platform_Enumeration) των προϊόντων που επηρεάζονται από την ευπάθεια:"
   ]
  },
  {
   "cell_type": "code",
   "execution_count": 8,
   "id": "3b287624",
   "metadata": {
    "id": "3b287624",
    "outputId": "305379f8-865e-4f99-c195-ca6001392922"
   },
   "outputs": [
    {
     "name": "stdout",
     "output_type": "stream",
     "text": [
      "Ολόκληρο το CPE για το πρώτο record είναι το:  cpe:2.3:a:intel:integrated_performance_primitives_cryptography:2019:-:*:*:*:*:*:*\n",
      "\n",
      "Ένας από τους vendors που επηρεάζονται από την ευπάθεια  CVE-2021-0001 του πρώτου record είναι ο vendor: intel\n",
      "και το επηρεαζόμενο προϊόν είναι τύπου a\n"
     ]
    }
   ],
   "source": [
    "# Ο τρόπος παρακάτω είναι για να δούμε το κομμάτι <vendor> του CPE για την 1η record. \n",
    "# Κάτω από το υποαντικείμενο 'configurations' στη λίστα του 'cpe_match' υπάρχουν τα CPE όλων των πακέτων λογισμικού που\n",
    "# επηρεάζονται από την συγκεκριμένη ευπάθεια. Εδώ προς το παρόν εμφανίζουμε απλώς τον vendor του πρώτου CPE\n",
    "# που συναντάμε υποθέτοντας ότι αφορά τον κύριο κατασκευαστή λογισμικού (vendor) που επηρεάζεται.\n",
    "\n",
    "print(\"Ολόκληρο το CPE για το πρώτο record είναι το: \",nvd_data['CVE_Items'][0]['configurations']['nodes'][0]['cpe_match'][0]['cpe23Uri'])\n",
    "print(\"\\nΈνας από τους vendors που επηρεάζονται από την ευπάθεια \", nvd_data['CVE_Items'][0]['cve']['CVE_data_meta']['ID'],\"του πρώτου record είναι ο vendor:\",nvd_data['CVE_Items'][0]['configurations']['nodes'][0]['cpe_match'][0]['cpe23Uri'].split(\":\")[3])\n",
    "print(\"και το επηρεαζόμενο προϊόν είναι τύπου\",nvd_data['CVE_Items'][0]['configurations']['nodes'][0]['cpe_match'][0]['cpe23Uri'].split(\":\")[2])"
   ]
  },
  {
   "cell_type": "markdown",
   "id": "fca94b2b",
   "metadata": {
    "id": "fca94b2b"
   },
   "source": [
    "Ελέγχουμε το ενδεχόμενο να υπάρχει έστω και μια εγγραφή με καμία ή περισσότερες από μια περιγραφές. Θέλουμε να είμαστε σίγουροι πριν από την συλλογή των δεδεομένων."
   ]
  },
  {
   "cell_type": "code",
   "execution_count": 9,
   "id": "c3d3da17",
   "metadata": {
    "id": "c3d3da17",
    "scrolled": true
   },
   "outputs": [],
   "source": [
    "for v in nvd_data['CVE_Items']:\n",
    "      \n",
    "    if len(v['cve']['description']['description_data']) != 1:\n",
    "        print(\"Υπάρχει εγγραφή με καθόλου ή περισσότερες του ενός περιγραφές!\")\n",
    "        print(v['cve']['description']['description_data'])\n",
    "        break   "
   ]
  },
  {
   "cell_type": "markdown",
   "id": "0673b9e8",
   "metadata": {
    "id": "0673b9e8"
   },
   "source": [
    "Αφού δεν εμφανίζεται τίποτα ύστερα από την εκτέλεση του παραπάνω κελιού, σημαίνει ότι κάθε μια από τις εγγραφές των ευπαθειών περιέχει ακριβώς μία περιγραφή, οπότε θα το έχουμε υπόψη μας στη συνέχεια, στην συλλογή των δεδομένων που ακολουθεί.\n",
    "\n",
    "### Σχετικά με το αντικείμενο Configurations\n",
    "\n",
    "Στη συνέχεια εξετάζουμε αναλυτικότερα το υπο-αντικείμενο *configurations* όπου καταγράφονται για κάθε εγγραφή τα προϊόντα που είναι τρωτά με την συγκεκριμένη ευπάθεια. Περισσότερες πληροφορίες για αυτό το υπο-αντικείμενο αλλά και για όλα τα υπόλοιπα που υπάρχουν σε κάθε εγγραφή ευπάθειας μπορούν να βρεθούν στην [βοηθητική σελίδα κατανόησης της NVD](https://nvd.nist.gov/vuln/vulnerability-detail-pages). Επειδή είναι ιδιαίτερα σημαντικό να κρατήσουμε τους vendors όλων των προϊόντων, η διαδικασία συλλογής θα γίνει στη συνέχεια ξεχωριστά από τα υπόλοιπα αντικείμενα.\n",
    "\n",
    "Αρχικά εξετάζουμε τον τρόπο με τον οποίο είναι καταγεγραμμένα τα CPE των τρωτών προϊόντων για να δούμε με ποιον τρόπο να τα προσπελάσουμε στην συνέχεια κατά την συλλογή των δεδομένων που ακολουθεί πιο κάτω.\n",
    "\n",
    "Αξίζει να αναφερθεί ότι για την διαδικασία αυτή, ήταν ιδιαίτερα βοηθητική η προβολή της δομής του JSON για μερικές εγγραφές ευπαθειών σαν παραδείγματα σε online εργαλείο οπτικοποίησης για JSON, όπως το [Online JSON Viewer](http://jsonviewer.stack.hu/).  \n",
    "\n",
    "**Πώς είναι οργανωμένες όμως οι πληροφορίες των configurations;**\n",
    "\n",
    "Κάθε ευπάθεια περιέχει τις σχετικές πληροφορίες σε nodes. Σε κάθε node έχουμε κι ένα configuration τουλάχιστον για να βρούμε τα προϊόντα που θεωρούνται τρωτά. Αυτό μπορεί να είναι είτε ένα προϊόν είτε ένα προϊόν που συνδυάζεται με άλλα. Γιαυτό και έχουμε τους τελεστές AND και OR οι οποίοι μας δείχνουν πότε πρέπει να θεωρηθεί ένα σύστημα ότι κινδυνεύει. Αν είναι AND θα κινδυνεύει όταν υπάρχουν όλα τα προϊόντα που αναφέρονται στο configuration ταυτόχρονα στο ίδιο σύστημα - σαν να λέμε ότι τότε υπάρχει ο κακός συνδυασμός. Αν είναι OR τότε αρκεί ένα να υπάρχει και δεν απαιτείται ο συνδυασμός - οπότε και θα λέγαμε ότι είναι πιο δύσκολα τα πράγματα, και πιο πιθανό να εντοπιστεί κίνδυνος.\n",
    "\n",
    "Εκτός από την βοηθητική σελίδα κατανόησης που παρέχεται με τον σύνδεσμο που δόθηκε παραπάνω, για να γίνει πιο κατανοητός ο τρόπος με τον οποίο καταγράφονται τα configurations μπορεί ο αναγνώστης να ανατρέξει και στην [βοηθητική σελίδα κατανόησης του τρόπου λειτουργίας του API της NVD](https://nvd.nist.gov/developers/vulnerabilities) εντοπίζοντας τις πληροφορίες που υπάρχουν στο *response body*. Εκεί περιγράφονται οι πληροφορίες που επιστρέφει το API και είναι ίδιες με αυτές που εμείς πήραμε από το JSON. Η ίδια η NVD όμως δηλώνει ότι τα configurations \"*was designed primarily to be processed by machines and thus is not easy to digest for human readers*\". \n",
    "\n",
    "Οπότε για να γίνει ακόμα καλύτερα αντιληπτό, αξίζει να επισκεφτείτε τις πληροφορίες για μια συγκεκριμένη ευπάθεια στην σελίδα της NVD και παράλληλα να έχετε ανοικτή την οπτικοποίηση του JSON της συγκεκριμένης ευπάθειας. Για να κάνετε αυτό, αντιγράψτε το JSON για μια εγγραφή και κάνετε επικόλληση στον Online JSON Viewer . Μπορείτε να πάρετε το JSON οποιασδήποτε ευπάθειας από το output του 3ου κελιού του παρόντος notebook (εκεί εμφανίζουμε το JSON για την 1η εγγραφή αλλά μπορείτε να το αλλάξετε αυτό και να εμφανίσετε όποια εγγραφή θέλετε τροποποιώντας το index της λίστας). Στη συνέχεια βάλτε το CVE ID της συγκεκριμένης ευπάθειας στο τέλος του ακόλουθου συνδέσμου, στη θέση του CVE ID που υπάρχει τώρα: https://nvd.nist.gov/vuln/detail/CVE-2021-44181. Εκεί μπορείτε να βρείτε τα configurations και βλέποντας το JSON της συγκεκριμένης ευπάθειας στον Online Viewer μπορεί να καταλάβετε καλύτερα τον τρόπο με τον οποίο είναι οργανωμένες οι πληροφορίες του υπο-αντικειμένου *configurations*.\n",
    "\n",
    "Στο επόμενο κελί πειραματιζόμαστε με τα configurations προσπαθώντας να εντοπίσουμε τον τρόπο με τον οποίο καταγράφονται οι σχετικές πληροφορίες, την δομή τους και το επίπεδο εμφώλευσης."
   ]
  },
  {
   "cell_type": "code",
   "execution_count": 10,
   "id": "0010fcf4",
   "metadata": {
    "id": "83bf974f"
   },
   "outputs": [],
   "source": [
    "for v in nvd_data['CVE_Items']:  \n",
    "    \n",
    "    try:    \n",
    "        \n",
    "        # Κάθε αντικείμενο configuration αποτελείται από μια λίστα από nodes όπου έχουμε τα CPE των προϊόντων.\n",
    "        # Στη συνέχεια προσπελαύνουμε επαναληπτικά κάθε τέτοιο αντικείμενο node.\n",
    "        for node in v['configurations']['nodes']:\n",
    "            \n",
    "            # Κάθε node μπορεί να έχει children ή CPE και σύμφωνα με το Documentation της NVD που βρίσκεται στις \n",
    "            # σελίδες που αναφέρονται παραπάνω, δεν υπάρχουν ταυτόχρονα και children και CPEs.\n",
    "            # To children έχει CPEs αλλά όχι κάθε φορά. Οπότε ο παρακάτω εμφωλευμένος κώδικας είναι για κάθε \n",
    "            # ένα node που η λίστα του με όνομα children δεν είναι κενή.\n",
    "            if len(node['children']) > 0:\n",
    "                \n",
    "                # Τώρα διατρέχουμε κάθε ένα αντικείμενο που υπάρχει μέσα στην λίστα children, διατρέχουμε δηλ. τα παιδιά.\n",
    "                for children in node['children']:\n",
    "                    \n",
    "                    # Εδώ εξετάζουμε το εξής ερώτημα: \n",
    "                    # μπορεί να υπάρχει κι άλλο children μέσα στην λίστα των children (δηλαδή εγγόνι του node :));\n",
    "                    if len(children['children']) > 0:                        \n",
    "                        print(json.dumps(v, indent=1))\n",
    "                        raise SystemExit(\"Stop right there!\")\n",
    "            \n",
    "    except Exception as e:\n",
    "        print(\"Ένα σφάλμα εμφανίστηκε:\")\n",
    "        print(e)\n",
    "        break\n",
    "     "
   ]
  },
  {
   "cell_type": "markdown",
   "id": "eb5d537e",
   "metadata": {},
   "source": [
    "Επειδή δεν υπάρχει παραπάνω κάποια εμφάνιση, σημαίνει ότι έχουμε εντοπίσει το ανώτερο επίπεδο εμφώλευσης στα children του configuration.\n",
    "\n",
    "#### Ένα ενδιαφέρον ερώτημα\n",
    "\n",
    "Στην συνέχεια αναζητούμε την απάντηση στο ερώτημα: *υπάρχει η περίπτωση μια ευπάθεια να επηρεάζει λογισμικό διαφορετικών vendors;* Θα εξετάσουμε το ερώτημα κρατώντας τους vendors για τα προϊόντα που θεωρούνται vulnerable."
   ]
  },
  {
   "cell_type": "code",
   "execution_count": 11,
   "id": "ad65a165",
   "metadata": {
    "id": "83bf974f"
   },
   "outputs": [
    {
     "name": "stdout",
     "output_type": "stream",
     "text": [
      "Ας δούμε μερικά παραδείγματα ευπαθειών που επηρεάζουν προϊόντα διαφορετικών vendors:\n",
      "==================================\n",
      "Βρέθηκε μια ευπάθεια, η οποία βάζει σε κίνδυνο προϊόντα που ανήκουν  σε πάνω από έναν vendors. Είναι η ευπάθεια:  CVE-2021-0002\n",
      "Και επηρεάζει τους vendors: {'intel', 'fedoraproject'}\n",
      "==================================\n",
      "Βρέθηκε μια ευπάθεια, η οποία βάζει σε κίνδυνο προϊόντα που ανήκουν  σε πάνω από έναν vendors. Είναι η ευπάθεια:  CVE-2021-0086\n",
      "Και επηρεάζει τους vendors: {'intel', 'fedoraproject'}\n",
      "==================================\n",
      "Βρέθηκε μια ευπάθεια, η οποία βάζει σε κίνδυνο προϊόντα που ανήκουν  σε πάνω από έναν vendors. Είναι η ευπάθεια:  CVE-2021-0089\n",
      "Και επηρεάζει τους vendors: {'intel', 'fedoraproject', 'debian'}\n",
      "==================================\n",
      "Βρέθηκε μια ευπάθεια, η οποία βάζει σε κίνδυνο προϊόντα που ανήκουν  σε πάνω από έναν vendors. Είναι η ευπάθεια:  CVE-2021-0129\n",
      "Και επηρεάζει τους vendors: {'bluez', 'redhat', 'debian'}\n",
      "==================================\n",
      "Βρέθηκε μια ευπάθεια, η οποία βάζει σε κίνδυνο προϊόντα που ανήκουν  σε πάνω από έναν vendors. Είναι η ευπάθεια:  CVE-2021-0308\n",
      "Και επηρεάζει τους vendors: {'google', 'debian'}\n",
      "==================================\n",
      "Βρέθηκε μια ευπάθεια, η οποία βάζει σε κίνδυνο προϊόντα που ανήκουν  σε πάνω από έναν vendors. Είναι η ευπάθεια:  CVE-2021-0326\n",
      "Και επηρεάζει τους vendors: {'fedoraproject', 'google', 'debian'}\n",
      "==================================\n",
      "Βρέθηκε μια ευπάθεια, η οποία βάζει σε κίνδυνο προϊόντα που ανήκουν  σε πάνω από έναν vendors. Είναι η ευπάθεια:  CVE-2021-0920\n",
      "Και επηρεάζει τους vendors: {'google', 'debian'}\n",
      "...\n",
      "...\n",
      " Συνολικά  1477  ευπάθειες επηρεάζουν παραπάνω από έναν vendors.\n"
     ]
    }
   ],
   "source": [
    "i = 0 # Μετρητής των εγγραφών εκείνων στις οποίες παρατηρείτια αυτό το φαινόμενο.\n",
    "print(\"Ας δούμε μερικά παραδείγματα ευπαθειών που επηρεάζουν προϊόντα διαφορετικών vendors:\")\n",
    "for v in nvd_data['CVE_Items']:  \n",
    "    \n",
    "    # Από κάθε ευπάθεια κρατάμε τις διαφορετικές-μοναδικές εμφανίσεις των ονομάτων των vendors.\n",
    "    vendors = set() \n",
    "    try:    \n",
    "        \n",
    "        for node in v['configurations']['nodes']:\n",
    "                \n",
    "            for children in node['children']:\n",
    "                \n",
    "                for children_cpe_match in children['cpe_match']:         \n",
    "\n",
    "                    if children_cpe_match['vulnerable'] == True:                    \n",
    "                        vendors.add(children_cpe_match['cpe23Uri'].split(\":\")[3])\n",
    "                    \n",
    "            for node_cpe_match in node['cpe_match']:\n",
    "                if node_cpe_match['vulnerable'] == True:\n",
    "                    vendors.add(node_cpe_match['cpe23Uri'].split(\":\")[3])\n",
    "                \n",
    "        if len(vendors)>1:\n",
    "            i = i + 1\n",
    "            \n",
    "            if i < 8: # Για να εμφανίσουμε μόνο τις πρώτες 8 σαν παραδείγματα...       \n",
    "                print(\"==================================\")\n",
    "                print(\"Βρέθηκε μια ευπάθεια, η οποία βάζει σε κίνδυνο προϊόντα που ανήκουν  σε πάνω από έναν vendors. Είναι η ευπάθεια: \",v['cve']['CVE_data_meta']['ID'])\n",
    "                print(\"Και επηρεάζει τους vendors:\", vendors)\n",
    "                #print(json.dumps(v, indent = 1)) # Εάν θέλουμε να εμφανίσουμε την τρέχουσα εγγραφή.\n",
    " \n",
    "    except Exception as e:\n",
    "        print(\"Ένα σφάλμα εμφανίστηκε:\")\n",
    "        print(e)\n",
    "        break\n",
    "print(\"...\\n...\\n Συνολικά \", i, \" ευπάθειες επηρεάζουν παραπάνω από έναν vendors.\")"
   ]
  },
  {
   "cell_type": "markdown",
   "id": "81f0a7e0",
   "metadata": {},
   "source": [
    "Βλέπουμε ότι η απάντηση στο παραπάνω ερώτημα είναι *ναι* κι αυτό σημαίνει ότι θα χρειαστούμε και στο στάδιο της συλλογής των δεδομένων μια δομή δεδομένων όπως το set ή list για να αποθηκεύουμε για κάθε ευπάθεια τους επηρεαζόμενους vendors. Μπορούμε να επισκεφτούμε επιλεκτικά τις πληροφορίες για μερικές από αυτές τις ευπάθειες στην NVD για να κατανοήσουμε το γιατί συμβαίνει αυτό τοποθετώντας και πάλι το CVE ID στο τέλος του συνδέσμου: https://nvd.nist.gov/vuln/detail/CVE-2021-21898 Μπορούμε να δούμε για παράδειγμα την σελίδα για την ευπάθεια CVE-2021-21898 η οποία αποτελεί περίπτωση διαφορετικών προϊόντων που παρέχονται από διαφορετικούς παρόχους και όμως παρουσιάζονται ως τρωτά ακόμα και αν δεν είναι εγκατεστημένα ταυτόχρονα. Ένα άλλο παράδειγμα που συναντάμε σε αρκετές διαφορετικές εγγραφές αφορά στο ζεύγος Google - Microsoft και από την εξέταση των πληροφοριών τους στον ιστότοπο της NVD συμπαιρένουμε ότι εμφανίζονται στην περίπτωση του Chrome και edge-chromium."
   ]
  },
  {
   "cell_type": "markdown",
   "id": "c2939445",
   "metadata": {
    "id": "c2939445"
   },
   "source": [
    "## Η συλλογή των δεδομένων από το JSON\n",
    "\n",
    "Αφού είδαμε την μορφή των περιεχομένων του json file μπορούμε στην συνέχεια να κρατήσουμε τις πληροφορίες που\n",
    "επιθυμούμε από τα δεδομένα για τις ευπάθειες σε μια λίστα η οποία στη συνέχεια θα μετατραπεί σε DataFrame.\n",
    "Στο παρακάτω κελί συλλέγουμε τις τιμές των εγγραφών για τα χαρακτηριστικά *cve_id, assigner, number_of_references, description, vendor(s)* και τις στήλες για όλα τα πεδία του *cvssV3* (εκτός από τα πεδία *version* και *vectorString* που περιέχουν αντίστοιχα την έκδοση του πρωτοκόλλου CVSS που έχει χρησιμοποιηθεί και όλες τις πληροφορίες που εμείς κρατάμε σε ξεχωριστές στήλες συγκεντρωμένες σε ένα διάνυσμα)."
   ]
  },
  {
   "cell_type": "code",
   "execution_count": 12,
   "id": "2dae28b7",
   "metadata": {
    "id": "83bf974f"
   },
   "outputs": [],
   "source": [
    "records = []\n",
    "\n",
    "for v in nvd_data['CVE_Items']:\n",
    "    \n",
    "    try:\n",
    "        \n",
    "    # Γίνονται έλεγχοι για το εάν υπάρχουν στο record καταχωρημένα ή όχι: η αξιολόγηση σοβαρότητας και CPE ονομασία.\n",
    "    # Για τα πεδία id, assigner, description και references δεν υπάρχει πρόβλημα καθώς μετά από έλεγχο \n",
    "    # στο json βρέθηκε ότι δεν παραλείπονται σε καμία εγγραφή του dataset.\n",
    "            \n",
    "        vendors = set() # Εδώ θα κρατάμε τους vendors από τα CPE κάθε ευπάθειας.   \n",
    "        productType = set() # Εδώ θα κρατάμε το product type από τα CPE κάθε ευπάθειας.\n",
    "\n",
    "        # Εάν η συγκεκριμένη NVD record δεν περιέχει πληροφορίες σχετικά με την αξιολόγηση της σοβαρότητας της\n",
    "        # ευπάθειας τότε εδώ η αντίστοιχη γραμμή του DataFrame θα έχει missing values στις σχετικές στήλες.\n",
    "        # Ο έλεγχος είναι απαραίτητος για να μην δημιουργηθεί exception του τύπου 'list index out of range' ή\n",
    "        # προσπάθειας προσπέλασης ενός key που δεν υπάρχει σε ένα αντικείμενο του dict. \n",
    "        if 'impact' in v and 'baseMetricV3' in v['impact']:\n",
    "            \n",
    "            baseScore = v['impact']['baseMetricV3']['cvssV3']['baseScore']\n",
    "            baseSeverity = v['impact']['baseMetricV3']['cvssV3']['baseSeverity']\n",
    "            attackVector = v['impact']['baseMetricV3']['cvssV3']['attackVector']\n",
    "            attackComplexity = v['impact']['baseMetricV3']['cvssV3']['attackComplexity']\n",
    "            privilegesRequired = v['impact']['baseMetricV3']['cvssV3']['privilegesRequired']\n",
    "            userInteraction = v['impact']['baseMetricV3']['cvssV3']['userInteraction']\n",
    "            scope = v['impact']['baseMetricV3']['cvssV3']['scope']\n",
    "            confidentialityImpact = v['impact']['baseMetricV3']['cvssV3']['confidentialityImpact']\n",
    "            integrityImpact = v['impact']['baseMetricV3']['cvssV3']['integrityImpact']\n",
    "            availabilityImpact = v['impact']['baseMetricV3']['cvssV3']['availabilityImpact']\n",
    "            exploitabilityScore = v['impact']['baseMetricV3']['exploitabilityScore']\n",
    "            impactScore = v['impact']['baseMetricV3']['impactScore']\n",
    "            \n",
    "        else:            \n",
    "            baseScore = np.NaN \n",
    "            baseSeverity = np.NaN    \n",
    "            attackVector = np.NaN\n",
    "            attackComplexity = np.NaN\n",
    "            privilegesRequired = np.NaN\n",
    "            userInteraction = np.NaN\n",
    "            scope = np.NaN\n",
    "            confidentialityImpact = np.NaN\n",
    "            integrityImpact = np.NaN\n",
    "            availabilityImpact = np.NaN\n",
    "            exploitabilityScore = np.NaN\n",
    "            impactScore = np.NaN\n",
    "        \n",
    "        # Εάν η συγκεκριμένη NVD record δεν περιέχει πληροφορίες σχετικά με τα πακέτα λογισμικού που επηρεάζονται\n",
    "        # από την ευπάθεια τότε εδώ η αντίστοιχη γραμμή θα έχει missing values.\n",
    "        # Εάν υπάρχουν τιμές configurations κρατάμε τα ονόματα των vendors  των προϊόντων που θεωρούνται τρωτά.\n",
    "        # Εδώ η προσπέλαση είναι πολύ πολύπλοκη αλλά οι έλεγχοι που πραγματοποιούνται απαραίτητοι για να μην συμβεί \n",
    "        # σφάλμα. \n",
    "        if 'configurations' in v:\n",
    "                        \n",
    "            # Κάθε αντικείμενο configuration αποτελείται από μια λίστα από nodes όπου έχουμε τα CPE των προϊόντων.\n",
    "            # Στη συνέχεια προσπελαύνουμε επαναληπτικά κάθε τέτοιο αντικείμενο node και τα εμφωλευμένα σε αυτό children.\n",
    "            for node in v['configurations']['nodes']:       \n",
    "                \n",
    "                for children in node['children']:\n",
    "                \n",
    "                    for children_cpe_match in children['cpe_match']:         \n",
    "\n",
    "                        if children_cpe_match['vulnerable'] == True:                    \n",
    "                            vendors.add(children_cpe_match['cpe23Uri'].split(\":\")[3])\n",
    "                            productType.add(children_cpe_match['cpe23Uri'].split(\":\")[2])\n",
    "                    \n",
    "                for node_cpe_match in node['cpe_match']:\n",
    "                    if node_cpe_match['vulnerable'] == True:\n",
    "                        vendors.add(node_cpe_match['cpe23Uri'].split(\":\")[3])\n",
    "                        productType.add(node_cpe_match['cpe23Uri'].split(\":\")[2])            \n",
    "                        \n",
    "        # Εάν δεν είναι κενό το set με τους vendors τότε το μετατρέπουμε σε λίστα αφού τώρα δεν υπάρχει περίπτωση να έχουμε\n",
    "        # διπλότυπα. Χρησιμοποιούμε λίστα για να τηρήσουμε σαν σύμβαση την χρήση λίστας για να αποθηκεύουμε\n",
    "        # πολλαπλές τιμές στο DataFrame.\n",
    "        if len(vendors) != 0:\n",
    "            vendors = list(vendors)\n",
    "        else:\n",
    "            vendors = np.NaN\n",
    "            \n",
    "        # Παρόμοια και για το set με τα product types.\n",
    "        if len(productType) != 0:\n",
    "            productType = list(productType)\n",
    "        else:\n",
    "            productType = np.NaN\n",
    "        \n",
    "        # Αναθέσεις των υπόλοιπων τιμών σε μεταβλητές ακολουθώντας την σειρά με την οποία εμφανίζονται στο JSON.\n",
    "        cve_id = v['cve']['CVE_data_meta']['ID']\n",
    "        assigner = v['cve']['CVE_data_meta']['ASSIGNER']\n",
    "        number_of_references = len(v['cve']['references']['reference_data'])\n",
    "        description = v['cve']['description']['description_data'][0]['value']       \n",
    "        \n",
    "                    \n",
    "        #\"Γέμισμα\" της λίστας.\n",
    "        records.append([cve_id,\n",
    "                        assigner,\n",
    "                        number_of_references,\n",
    "                        description,\n",
    "                        vendors,\n",
    "                        productType,\n",
    "                        attackVector,\n",
    "                        attackComplexity, \n",
    "                        privilegesRequired, \n",
    "                        userInteraction, \n",
    "                        scope, \n",
    "                        confidentialityImpact,\n",
    "                        integrityImpact, \n",
    "                        availabilityImpact,\n",
    "                        baseScore,\n",
    "                        baseSeverity,\n",
    "                        exploitabilityScore,\n",
    "                        impactScore])\n",
    "        \n",
    "    except Exception as e:\n",
    "        print(\"Ένα σφάλμα εμφανίστηκε:\")\n",
    "        print(e)\n",
    "        break\n",
    "    "
   ]
  },
  {
   "cell_type": "markdown",
   "id": "e08e82f8",
   "metadata": {
    "id": "e08e82f8"
   },
   "source": [
    "### Συλλέγοντας τις τιμές CWE\n",
    "\n",
    "Συνεχίζουμε με την συλλογή των τιμών CWE, δηλαδή τις κατηγορίες ευπάθειας. Σημειώνεται ότι ως CWE δεχόμαστε και τις ειδικές τιμές όπως 'NVD-CWE-noinfo' και 'NVD-CWE-Other'. Από την στιγμή που περιέχουν πληροφορία, θα ήταν λάθος να καταχωρίσουμε NaN εκεί, αφού δεν είναι missing values.\n",
    "\n",
    "Επειδή εδώ η δομή και ο τρόπος εντοπισμού των δεδομένων στην ιεραρχία των αντικειμένων στο JSON παρουσιάζουν μια δυσκολία, η συλλογή γίνεται ξεχωριστά από τα υπόλοιπα χαρακτηριστικά και στη συνέχεια θα ενώσουμε την λίστα των CWEs με τα δεδομένα που συλλέξαμε ήδη. \n",
    "\n",
    "Πριν την συλλογή ελέγχουμε το ενδεχόμενο να υπάρχουν εγγραφές που στη λίστα problem_type να έχουν πάνω από ένα ή κανένα αντικείμενο."
   ]
  },
  {
   "cell_type": "code",
   "execution_count": 13,
   "id": "b0bf61d0",
   "metadata": {
    "id": "b0bf61d0",
    "outputId": "537080e0-feac-4c8d-acb9-94167e319d4c",
    "scrolled": true
   },
   "outputs": [],
   "source": [
    "for v in nvd_data['CVE_Items']:\n",
    "        \n",
    "    if len(v['cve']['problemtype']['problemtype_data']) != 1:\n",
    "        print(\"Υπάρχει εγγραφή με καθόλου ή περισσότερα του ενός αντικείμενα στη λίστα problemtype_data!\")\n",
    "        print(v['cve']['problemtype']['problemtype_data'])\n",
    "        break "
   ]
  },
  {
   "cell_type": "markdown",
   "id": "48c363fb",
   "metadata": {},
   "source": [
    "Επειδή το κομμάτι κώδικα του παραπάνω if statement δεν ενεργοποιείται ποτέ, αυτό σημαίνει ότι κάθε μια λίστα problemtype_data έχει μόνο ένα αντικείμενο. Αυτό πρακτικά σημαίνει ότι ακόμα και αν μια εγγραφή δεν περιέχει CWE, θα υπάρχει description που όμως όπως θα δούμε είναι κενό. Η NVD [δηλώνει](https://nvd.nist.gov/developers/vulnerabilities) \"*All CWE assigned to a vulnerability are found in problem_type. In some cases there are more than one CWE*\". "
   ]
  },
  {
   "cell_type": "code",
   "execution_count": 14,
   "id": "020f929d",
   "metadata": {
    "id": "b0bf61d0",
    "outputId": "537080e0-feac-4c8d-acb9-94167e319d4c"
   },
   "outputs": [
    {
     "name": "stdout",
     "output_type": "stream",
     "text": [
      "Έχουν συλλεχθεί τα CWEs για όλες τις ευπάθειες επιτυχώς.\n"
     ]
    }
   ],
   "source": [
    "all_cwes = []\n",
    "\n",
    "for v in nvd_data['CVE_Items']:\n",
    "    \n",
    "    #  Αν μια εγγραφή δεν περιέχει CWE, θα υπάρχει description αλλά θα είναι κενό.\n",
    "    if len(v['cve']['problemtype']['problemtype_data'][0]['description']) == 0:        \n",
    "        all_cwes.append(np.NaN)\n",
    "    else:  \n",
    "        \n",
    "        # Κάθε ευπάθεια ενδέχεται να ανήκει σε πάνω από μία κατηγορία. Οπότε κρατάμε όλες τις κατηγορίες στη λίστα\n",
    "        # CWEs και θα έχουμε μια λίστα για κάθε ευπάθεια.\n",
    "        cwes = []\n",
    "        for cwe in v['cve']['problemtype']['problemtype_data'][0]['description']:               \n",
    "            cwes.append(cwe['value'])\n",
    "            \n",
    "        all_cwes.append(cwes)\n",
    "        \n",
    "if len(all_cwes) == len(records):\n",
    "    print(\"Έχουν συλλεχθεί τα CWEs για όλες τις ευπάθειες επιτυχώς.\")"
   ]
  },
  {
   "cell_type": "markdown",
   "id": "eced7348",
   "metadata": {
    "id": "eced7348"
   },
   "source": [
    "### Από την λίστα στο DataFrame\n",
    "\n",
    "Έχοντας ολοκληρώσει την συλλογή των CWEs βλέπουμε ότι το έχουμε κάνει για όλες τις εγγραφές μας, οπότε μπορούμε να προχωρήσουμε με τον σχηματισμό του DataFrame. Θα δημιουργήσουμε το DataFrame αρχικά με τα δεδομένα της λίστας records (που περιέχει τα πολλά χαρακτηριστικά) και μετά θα ενώσουμε με αυτό και την στήλη που δημιουργήσαμε με τα CWEs."
   ]
  },
  {
   "cell_type": "code",
   "execution_count": 15,
   "id": "6c9ab679",
   "metadata": {
    "id": "6c9ab679"
   },
   "outputs": [],
   "source": [
    "# Oι πληροφορίες ανήκουν στα 3 sub-objects του record: cve (οι 4 πρώτες  \n",
    "# στήλες που δίνουμε στο DataFrame και η CWEs που δημιουργείται με την insert στο επόμενο κελί), \n",
    "# configurations (η 5η στήλη με όνομα associatedVendors και η 6η με το όνομα associatedProductsType),και impact (όλες οι υπόλοιπες στήλες).\n",
    "\n",
    "vuln = pd.DataFrame(records, columns = ['cve_id',\n",
    "                                        'assigner',\n",
    "                                        'number_of_references',\n",
    "                                        'description',\n",
    "                                        'associatedVendors',\n",
    "                                        'associatedProductsType',\n",
    "                                        'attackVector',\n",
    "                                        'attackComplexity', \n",
    "                                        'privilegesRequired', \n",
    "                                        'userInteraction', \n",
    "                                        'scope', \n",
    "                                        'confidentialityImpact',\n",
    "                                        'integrityImpact', \n",
    "                                        'availabilityImpact',\n",
    "                                        'CVSS_baseScore',\n",
    "                                        'CVSS_baseSeverity',\n",
    "                                        'exploitabilityScore',\n",
    "                                        'impactScore'])"
   ]
  },
  {
   "cell_type": "code",
   "execution_count": 16,
   "id": "07a633d7",
   "metadata": {
    "id": "07a633d7"
   },
   "outputs": [],
   "source": [
    "vuln.insert(2, \"CWEs\", all_cwes, allow_duplicates=True)"
   ]
  },
  {
   "cell_type": "code",
   "execution_count": 17,
   "id": "0954c04f",
   "metadata": {
    "id": "0954c04f",
    "outputId": "7e175602-a2fd-46a3-801a-8c346224f0ce"
   },
   "outputs": [
    {
     "data": {
      "text/html": [
       "<div>\n",
       "<style scoped>\n",
       "    .dataframe tbody tr th:only-of-type {\n",
       "        vertical-align: middle;\n",
       "    }\n",
       "\n",
       "    .dataframe tbody tr th {\n",
       "        vertical-align: top;\n",
       "    }\n",
       "\n",
       "    .dataframe thead th {\n",
       "        text-align: right;\n",
       "    }\n",
       "</style>\n",
       "<table border=\"1\" class=\"dataframe\">\n",
       "  <thead>\n",
       "    <tr style=\"text-align: right;\">\n",
       "      <th></th>\n",
       "      <th>cve_id</th>\n",
       "      <th>assigner</th>\n",
       "      <th>CWEs</th>\n",
       "      <th>number_of_references</th>\n",
       "      <th>description</th>\n",
       "      <th>associatedVendors</th>\n",
       "      <th>associatedProductsType</th>\n",
       "      <th>attackVector</th>\n",
       "      <th>attackComplexity</th>\n",
       "      <th>privilegesRequired</th>\n",
       "      <th>userInteraction</th>\n",
       "      <th>scope</th>\n",
       "      <th>confidentialityImpact</th>\n",
       "      <th>integrityImpact</th>\n",
       "      <th>availabilityImpact</th>\n",
       "      <th>CVSS_baseScore</th>\n",
       "      <th>CVSS_baseSeverity</th>\n",
       "      <th>exploitabilityScore</th>\n",
       "      <th>impactScore</th>\n",
       "    </tr>\n",
       "  </thead>\n",
       "  <tbody>\n",
       "    <tr>\n",
       "      <th>0</th>\n",
       "      <td>CVE-2021-0001</td>\n",
       "      <td>secure@intel.com</td>\n",
       "      <td>[CWE-203]</td>\n",
       "      <td>1</td>\n",
       "      <td>Observable timing discrepancy in Intel(R) IPP ...</td>\n",
       "      <td>[intel]</td>\n",
       "      <td>[a]</td>\n",
       "      <td>LOCAL</td>\n",
       "      <td>HIGH</td>\n",
       "      <td>LOW</td>\n",
       "      <td>NONE</td>\n",
       "      <td>UNCHANGED</td>\n",
       "      <td>HIGH</td>\n",
       "      <td>NONE</td>\n",
       "      <td>NONE</td>\n",
       "      <td>4.7</td>\n",
       "      <td>MEDIUM</td>\n",
       "      <td>1.0</td>\n",
       "      <td>3.6</td>\n",
       "    </tr>\n",
       "    <tr>\n",
       "      <th>1</th>\n",
       "      <td>CVE-2021-0002</td>\n",
       "      <td>secure@intel.com</td>\n",
       "      <td>[CWE-754]</td>\n",
       "      <td>5</td>\n",
       "      <td>Improper conditions check in some Intel(R) Eth...</td>\n",
       "      <td>[intel, fedoraproject]</td>\n",
       "      <td>[o]</td>\n",
       "      <td>LOCAL</td>\n",
       "      <td>LOW</td>\n",
       "      <td>LOW</td>\n",
       "      <td>NONE</td>\n",
       "      <td>UNCHANGED</td>\n",
       "      <td>HIGH</td>\n",
       "      <td>NONE</td>\n",
       "      <td>HIGH</td>\n",
       "      <td>7.1</td>\n",
       "      <td>HIGH</td>\n",
       "      <td>1.8</td>\n",
       "      <td>5.2</td>\n",
       "    </tr>\n",
       "    <tr>\n",
       "      <th>2</th>\n",
       "      <td>CVE-2021-0003</td>\n",
       "      <td>secure@intel.com</td>\n",
       "      <td>[CWE-755]</td>\n",
       "      <td>2</td>\n",
       "      <td>Improper conditions check in some Intel(R) Eth...</td>\n",
       "      <td>[intel]</td>\n",
       "      <td>[o]</td>\n",
       "      <td>LOCAL</td>\n",
       "      <td>LOW</td>\n",
       "      <td>LOW</td>\n",
       "      <td>NONE</td>\n",
       "      <td>UNCHANGED</td>\n",
       "      <td>HIGH</td>\n",
       "      <td>NONE</td>\n",
       "      <td>NONE</td>\n",
       "      <td>5.5</td>\n",
       "      <td>MEDIUM</td>\n",
       "      <td>1.8</td>\n",
       "      <td>3.6</td>\n",
       "    </tr>\n",
       "    <tr>\n",
       "      <th>3</th>\n",
       "      <td>CVE-2021-0004</td>\n",
       "      <td>secure@intel.com</td>\n",
       "      <td>[CWE-119]</td>\n",
       "      <td>3</td>\n",
       "      <td>Improper buffer restrictions in the firmware o...</td>\n",
       "      <td>[intel]</td>\n",
       "      <td>[o]</td>\n",
       "      <td>LOCAL</td>\n",
       "      <td>LOW</td>\n",
       "      <td>HIGH</td>\n",
       "      <td>NONE</td>\n",
       "      <td>UNCHANGED</td>\n",
       "      <td>NONE</td>\n",
       "      <td>NONE</td>\n",
       "      <td>HIGH</td>\n",
       "      <td>4.4</td>\n",
       "      <td>MEDIUM</td>\n",
       "      <td>0.8</td>\n",
       "      <td>3.6</td>\n",
       "    </tr>\n",
       "    <tr>\n",
       "      <th>4</th>\n",
       "      <td>CVE-2021-0005</td>\n",
       "      <td>secure@intel.com</td>\n",
       "      <td>[CWE-755]</td>\n",
       "      <td>2</td>\n",
       "      <td>Uncaught exception in firmware for Intel(R) Et...</td>\n",
       "      <td>[intel]</td>\n",
       "      <td>[o]</td>\n",
       "      <td>LOCAL</td>\n",
       "      <td>LOW</td>\n",
       "      <td>HIGH</td>\n",
       "      <td>NONE</td>\n",
       "      <td>UNCHANGED</td>\n",
       "      <td>NONE</td>\n",
       "      <td>NONE</td>\n",
       "      <td>HIGH</td>\n",
       "      <td>4.4</td>\n",
       "      <td>MEDIUM</td>\n",
       "      <td>0.8</td>\n",
       "      <td>3.6</td>\n",
       "    </tr>\n",
       "  </tbody>\n",
       "</table>\n",
       "</div>"
      ],
      "text/plain": [
       "          cve_id          assigner       CWEs  number_of_references  \\\n",
       "0  CVE-2021-0001  secure@intel.com  [CWE-203]                     1   \n",
       "1  CVE-2021-0002  secure@intel.com  [CWE-754]                     5   \n",
       "2  CVE-2021-0003  secure@intel.com  [CWE-755]                     2   \n",
       "3  CVE-2021-0004  secure@intel.com  [CWE-119]                     3   \n",
       "4  CVE-2021-0005  secure@intel.com  [CWE-755]                     2   \n",
       "\n",
       "                                         description       associatedVendors  \\\n",
       "0  Observable timing discrepancy in Intel(R) IPP ...                 [intel]   \n",
       "1  Improper conditions check in some Intel(R) Eth...  [intel, fedoraproject]   \n",
       "2  Improper conditions check in some Intel(R) Eth...                 [intel]   \n",
       "3  Improper buffer restrictions in the firmware o...                 [intel]   \n",
       "4  Uncaught exception in firmware for Intel(R) Et...                 [intel]   \n",
       "\n",
       "  associatedProductsType attackVector attackComplexity privilegesRequired  \\\n",
       "0                    [a]        LOCAL             HIGH                LOW   \n",
       "1                    [o]        LOCAL              LOW                LOW   \n",
       "2                    [o]        LOCAL              LOW                LOW   \n",
       "3                    [o]        LOCAL              LOW               HIGH   \n",
       "4                    [o]        LOCAL              LOW               HIGH   \n",
       "\n",
       "  userInteraction      scope confidentialityImpact integrityImpact  \\\n",
       "0            NONE  UNCHANGED                  HIGH            NONE   \n",
       "1            NONE  UNCHANGED                  HIGH            NONE   \n",
       "2            NONE  UNCHANGED                  HIGH            NONE   \n",
       "3            NONE  UNCHANGED                  NONE            NONE   \n",
       "4            NONE  UNCHANGED                  NONE            NONE   \n",
       "\n",
       "  availabilityImpact  CVSS_baseScore CVSS_baseSeverity  exploitabilityScore  \\\n",
       "0               NONE             4.7            MEDIUM                  1.0   \n",
       "1               HIGH             7.1              HIGH                  1.8   \n",
       "2               NONE             5.5            MEDIUM                  1.8   \n",
       "3               HIGH             4.4            MEDIUM                  0.8   \n",
       "4               HIGH             4.4            MEDIUM                  0.8   \n",
       "\n",
       "   impactScore  \n",
       "0          3.6  \n",
       "1          5.2  \n",
       "2          3.6  \n",
       "3          3.6  \n",
       "4          3.6  "
      ]
     },
     "execution_count": 17,
     "metadata": {},
     "output_type": "execute_result"
    }
   ],
   "source": [
    "vuln.head()"
   ]
  },
  {
   "cell_type": "markdown",
   "id": "82f96bd3",
   "metadata": {
    "id": "82f96bd3"
   },
   "source": [
    "Ελέγχουμε εάν το dataset περιέχει εγγραφές τύπου \\*\\**REJECT** ή \\*\\**UNVERIFIABLE** ή \\*\\**RESERVED** και τις υπόλοιπες ειδικές κατηγορίες εγγραφών που δεν θέλουμε να κρατήσουμε στο dataset. "
   ]
  },
  {
   "cell_type": "code",
   "execution_count": 18,
   "id": "0ab0ce79",
   "metadata": {
    "id": "0ab0ce79",
    "outputId": "b2ae5bf6-ade7-4f14-8208-242211c79382"
   },
   "outputs": [
    {
     "name": "stdout",
     "output_type": "stream",
     "text": [
      "0\n",
      "0\n",
      "0\n",
      "0\n",
      "0\n"
     ]
    }
   ],
   "source": [
    "print(len(vuln.loc[vuln['description'].str.contains(\"**REJECT**\", regex=False)]))\n",
    "print(len(vuln.loc[vuln['description'].str.contains(\"**RESERVED**\", regex=False)]))\n",
    "print(len(vuln.loc[vuln['description'].str.contains(\"**UNVERIFIABLE**\", regex=False)]))\n",
    "print(len(vuln.loc[vuln['description'].str.contains(\"**DISPUTED**\", regex=False)]))\n",
    "print(len(vuln.loc[vuln['description'].str.contains(\"**PRERELEASE**\", regex=False)]))"
   ]
  },
  {
   "cell_type": "markdown",
   "id": "8e1a6463",
   "metadata": {
    "id": "8e1a6463"
   },
   "source": [
    "Τέλος, εξετάζουμε τα missing values.\n",
    " "
   ]
  },
  {
   "cell_type": "code",
   "execution_count": 19,
   "id": "5af47b01",
   "metadata": {
    "id": "5af47b01",
    "outputId": "e1b01137-ee6f-4f2d-a5a8-68cda22d4bae"
   },
   "outputs": [
    {
     "name": "stdout",
     "output_type": "stream",
     "text": [
      "cve_id                      0\n",
      "assigner                    0\n",
      "CWEs                      553\n",
      "number_of_references        0\n",
      "description                 0\n",
      "associatedVendors         555\n",
      "associatedProductsType    555\n",
      "attackVector              555\n",
      "attackComplexity          555\n",
      "privilegesRequired        555\n",
      "userInteraction           555\n",
      "scope                     555\n",
      "confidentialityImpact     555\n",
      "integrityImpact           555\n",
      "availabilityImpact        555\n",
      "CVSS_baseScore            555\n",
      "CVSS_baseSeverity         555\n",
      "exploitabilityScore       555\n",
      "impactScore               555\n",
      "dtype: int64\n"
     ]
    }
   ],
   "source": [
    "print(vuln.isnull().sum())  "
   ]
  },
  {
   "cell_type": "markdown",
   "id": "3789e0ae",
   "metadata": {
    "id": "3789e0ae"
   },
   "source": [
    " Τα missing values οφείλονται στο ότι κάποιες εγγραφές της NVD δεν έχουν την αξιολόγηση του βαθμού σοβαρότητας της ευπάθειας ή το CPE στην παρούσα έκδοση του dataset. H NVD  ενημερώνει τα δεδομένα για τις ήδη υπάρχουσες ευπάθειες των περασμένων ετών. Ισχύει επίσης και ότι ο αριθμός των NVD records αυξάνεται ακόμα και αν έχει περάσει καιρός από το έτος αναφοράς CVE.\n",
    "\n",
    "Το 555 σαν αριθμός των missing values είναι καλό γιατί τόσα είναι τα records τα οποία προστέθηκαν από τον Ιανουάριο του 2022. Το dataset που είχε δημιουργηθεί τότε σε μια παλαιότερη έκδοση του παρόντος notebook είχε λιγότερες εγγραφές και επίσης στις εγγραφές που είχε έλειπαν οι πληροφορίες αξιολόγησης και CPE. Τώρα έχουν προστεθεί. \n",
    "\n",
    "Δεν προβληματιζόμαστε με αυτά τα missing values στις τελευταίες εγγραφές μιας και είναι πολύ πιθανό να μην είχε γίνει συζήτηση στο Twitter για αυτές τις ευπάθειες αφού δεν είχαν καταχωρηθεί στην NVD μέχρι την ημερομηνία που κάναμε την λήψη των tweets από το Twitter API.\n",
    "Ως γνωστόν οι CNAs συνήθως παίρνουν έναν αριθμό από CVE-IDs που τους καταχωρούνται και στην πορεία αρχίζουν και τα\n",
    "χρησιμοποιούν. Όπως συμβαίνει και με τις IP. Στο JSON dataset που μας δίνει η NIST όμως δεν περιλαμβάνονται\n",
    "εγγραφές \\*\\**REJECT** ή \\*\\**UNVERIFIABLE** ή \\*\\**RESERVED** κλπ οπότε είμαστε ικανοποιημένοι και μπορούμε να προχωρήσουμε την ανάλυση με αυτές.\n",
    "\n",
    "Τώρα που έχουμε έτοιμο το dataset με όλα τα NVD records του 2021, το αποθηκεύουμε σε ένα CSV αρχείο για να μπορούμε να το διαβάζουμε εύκολα\n"
   ]
  },
  {
   "cell_type": "code",
   "execution_count": 20,
   "id": "eee3634e",
   "metadata": {
    "id": "eee3634e"
   },
   "outputs": [],
   "source": [
    "vuln.to_csv('Data/NVD/NVD_records_2022_downoload_at_February_2022_01-02-2022.csv', index=False)"
   ]
  }
 ],
 "metadata": {
  "colab": {
   "collapsed_sections": [],
   "name": "2 Σημειωματάριο δεύτερο- (NVD_data).ipynb",
   "provenance": []
  },
  "kernelspec": {
   "display_name": "Python 3 (ipykernel)",
   "language": "python",
   "name": "python3"
  },
  "language_info": {
   "codemirror_mode": {
    "name": "ipython",
    "version": 3
   },
   "file_extension": ".py",
   "mimetype": "text/x-python",
   "name": "python",
   "nbconvert_exporter": "python",
   "pygments_lexer": "ipython3",
   "version": "3.9.7"
  }
 },
 "nbformat": 4,
 "nbformat_minor": 5
}
