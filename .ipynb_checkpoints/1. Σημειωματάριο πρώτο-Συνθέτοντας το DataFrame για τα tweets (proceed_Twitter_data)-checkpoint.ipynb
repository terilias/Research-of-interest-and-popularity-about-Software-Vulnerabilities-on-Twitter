{
 "cells": [
  {
   "cell_type": "markdown",
   "id": "7a1cea59",
   "metadata": {
    "id": "7a1cea59"
   },
   "source": [
    "# Σημειωματάριο πρώτο: Συνθέτοντας το DataFrame των Tweets"
   ]
  },
  {
   "cell_type": "markdown",
   "id": "56776f54",
   "metadata": {
    "id": "56776f54"
   },
   "source": [
    "## Από το JSON του Twitter API στο CSV "
   ]
  },
  {
   "cell_type": "markdown",
   "id": "395bfde8",
   "metadata": {
    "id": "395bfde8"
   },
   "source": [
    "Στο πρώτο notebook, συλλέγουμε τα δεδομένα για τα tweets σε ένα DataFrame. Τα δεδομένα λαμβάνονται από το JSON που μας επέστρεψε το *search endpoint* του Twitter API ύστερα από αναζήτηση με τον όρο \"*CVE-2021*\". Το JSON αυτό περιέχει τα tweets και τα δεδομένα που τα συνοδεύουν. Στο παρόν notebook, δημιουργείται η πρωταρχική μορφή του dataset με την αποθήκευση των tweets και των πληροφοριών των χρηστών εκείνων που δημοσίευσαν τα συγκεκριμένα tweets. Τα δεδομένα συλλέγονται και συσσωρεύονται σε ένα DataFrame το οποίο στη συνέχεια εξάγεται σε ένα αρχείο CSV. "
   ]
  },
  {
   "cell_type": "code",
   "execution_count": 1,
   "id": "761bb58c",
   "metadata": {
    "id": "761bb58c"
   },
   "outputs": [],
   "source": [
    "import json\n",
    "import pandas as pd\n",
    "import numpy as np"
   ]
  },
  {
   "cell_type": "code",
   "execution_count": 3,
   "id": "aa0e2498",
   "metadata": {
    "id": "aa0e2498"
   },
   "outputs": [],
   "source": [
    "# Aνοίγουμε το json αρχείο με τα tweets και διαβάζουμε τα δεδομένα του παιρνώντας τα στην twitter_data.\n",
    "# Εάν κάνουμε type(twitter_data) τώρα θα μας εμφανίσει dict που σημαίνει ότι διαβάζει το json file και δημιουργεί\n",
    "# ένα dictionary.\n",
    "with open('Data/tweets/app_CVE_2021_since_2020_all_tweets.json') as file:\n",
    "    twitter_data = json.load(file)"
   ]
  },
  {
   "cell_type": "markdown",
   "id": "bdff4935",
   "metadata": {
    "id": "bdff4935"
   },
   "source": [
    "Για κάθε tweet το Twitter API μας δίνει πρόσβαση σε αρκετές διαφορετικές πληροφορίες, τις οποία βλέπουμε στην συνέχεια για το 1ο tweet από αυτά που μας επιστράφηκαν:"
   ]
  },
  {
   "cell_type": "code",
   "execution_count": null,
   "id": "bb0b8b6c",
   "metadata": {
    "id": "bb0b8b6c",
    "outputId": "de69cc12-bc11-4755-b1c8-79f1fd714374",
    "scrolled": false
   },
   "outputs": [
    {
     "name": "stdout",
     "output_type": "stream",
     "text": [
      "Οι πληροφορίες για το πρώτο από τα tweets που μας επέστρεψε το API:\n",
      "\n",
      "{\n",
      "  \"text\": \"CVE-2021-34582\\n\\nIn Phoenix Contact FL MGUARD 1102 and 1105 in Versions 1.4.0, 1.4.1 and 1.5.0 a user with high privileges can inject HTML code (XSS) through web-based management or the REST API with a manipulated c...\\n\\nhttps://t.co/YDYnY307QV\",\n",
      "  \"author_id\": \"941389496771399680\",\n",
      "  \"created_at\": \"2021-11-10T13:38:40.000Z\",\n",
      "  \"public_metrics\": {\n",
      "    \"retweet_count\": 0,\n",
      "    \"reply_count\": 0,\n",
      "    \"like_count\": 0,\n",
      "    \"quote_count\": 0\n",
      "  },\n",
      "  \"id\": \"1458428897368940553\"\n",
      "}\n"
     ]
    }
   ],
   "source": [
    "# Eμφάνιση του πρώτου tweet για να δούμε τί είδους δεδομένα έχουμε στη διάθεσή μας για κάθε tweet.\n",
    "# Χρησιμοποιούμε την json.dumps η οποία μετατρέπει ένα αντικείμενο σε json format (serialization) προς εγγραφή\n",
    "# σε αρχείο για να εμφανίσουμε το record του tweet με \"όμορφο\" τρόπο,\n",
    "# δηλαδή με τη στοίχιση και τις εσοχές αντί για απλό string.\n",
    "print(\"Οι πληροφορίες για το πρώτο από τα tweets που μας επέστρεψε το API:\\n\")\n",
    "print(json.dumps(twitter_data['data'][0], indent = 2))"
   ]
  },
  {
   "cell_type": "markdown",
   "id": "6bd48587",
   "metadata": {
    "id": "6bd48587"
   },
   "source": [
    "### Ποιά είναι η δομή του JSON με τα δεδομένα μας;\n",
    "\n",
    "Το JSON που μας επιστρέφει το search endpoint του Twitter API, περιλαμβάνει τα αντικείμενα:\n",
    "\n",
    "* **data**: Το κύριο object που μας ενδιαφέρει καθώς εδώ βρίσκονται τα tweets και οι πληροφορίες που τα συνοδεύουν. Είναι μια λίστα από αντικείμενα tweets σαν αυτό που φαίνεται παραπάνω.\n",
    "* **includes**: Λίστα που περιέχει τα υποαντικείμενα:\n",
    "    * **users**:  με τις πληροφορίες των χρηστών που δημοσίευσαν τα tweets, και\n",
    "    * **media**, με τις πληροφορίες για τα πολυμέσα που συνοδεύουν εκείνα τα tweets που περιέχουν media.\n",
    "* **meta**: Αντικείμενο με τα metadata της αναζήτησης.\n",
    "\n",
    "Αφού είδαμε ένα μέρος από το αντικείμενο **data** με τις πληροφορίες που συνοδεύουν το κάθε tweet, θα ρίξουμε μια ματιά και στα άλλα αντικείμενα του JSON.\n",
    "\n",
    "Για κάθε αντικείμενο από την λίστα **users** και **media** που συσχετίζεται με τα παραπάνω tweets, το Twitter API μας επιστρέφει\n",
    "αρκετά δεδομένα, τα οποία βλέπουμε στην συνέχεια."
   ]
  },
  {
   "cell_type": "code",
   "execution_count": null,
   "id": "3141bec6",
   "metadata": {
    "id": "3141bec6",
    "outputId": "3c15e7a6-9738-4b13-a266-d71c7a1c70ee"
   },
   "outputs": [
    {
     "name": "stdout",
     "output_type": "stream",
     "text": [
      "Για το 1ο αντικείμενο user έχουμε:\n",
      "{\n",
      "  \"description\": \"Vulnerability Feed Bot (tweets new and some old vulns) \\n\\nFollow @vulmoncom for human-controlled official account\",\n",
      "  \"username\": \"VulmonFeeds\",\n",
      "  \"public_metrics\": {\n",
      "    \"followers_count\": 1830,\n",
      "    \"following_count\": 2,\n",
      "    \"tweet_count\": 85174,\n",
      "    \"listed_count\": 46\n",
      "  },\n",
      "  \"id\": \"941389496771399680\",\n",
      "  \"name\": \"Vulmon Vulnerability Feed\"\n",
      "}\n",
      "\n",
      "Για το 1ο αντικείμενο media έχουμε:\n",
      "{\n",
      "  \"media_key\": \"3_1458428421445459974\",\n",
      "  \"type\": \"photo\"\n",
      "}\n",
      "\n",
      "Και τέλος, μέσα στο json file έχουμε και μεταδεδομένα που σχετίζονται με την αναζήτηση που κάναμε για να βρούμε αυτά τα tweets:\n",
      "{\n",
      "  \"newest_id\": \"1346143505337511939\",\n",
      "  \"oldest_id\": \"1458328731110445056\",\n",
      "  \"result_count\": 500,\n",
      "  \"next_token\": \"b26v89c19zqg8o3foshu7l6iqb1pu476whajftkbuysu5\"\n",
      "}\n"
     ]
    }
   ],
   "source": [
    "# Eμφάνιση του πρώτου αντικειμένου από τις λίστες users και media του αντικειμένου includes για να δούμε τί δεδομένα έχουμε\n",
    "# στη διάθεσή μας για κάθε χρήστη και πολυμέσο τα οποία σχετίζονται με τα tweets που βρίσκονται στο αντικείμενο data.\n",
    "print(\"Για το 1ο αντικείμενο user έχουμε:\")\n",
    "print(json.dumps(twitter_data['includes']['users'][0], indent = 2))\n",
    "print(\"\\nΓια το 1ο αντικείμενο media έχουμε:\")\n",
    "print(json.dumps(twitter_data['includes']['media'][0], indent = 2))\n",
    "print(\"\\nΚαι τέλος, μέσα στο json file έχουμε και μεταδεδομένα που σχετίζονται με την αναζήτηση που κάναμε για να βρούμε αυτά τα tweets:\")\n",
    "print(json.dumps(twitter_data['meta'], indent = 2))"
   ]
  },
  {
   "cell_type": "markdown",
   "id": "4b67df04",
   "metadata": {
    "id": "4b67df04"
   },
   "source": [
    "## Η συλλογή των δεδομένων από το JSON\n",
    "\n",
    "Στην συνέχεια παρουσιάζονται με μεγαλύτερη λεπτομέρεια τα αντικείμενα **data** και **users**, όπου εντοπίζονται τα tweets (δηλαδή τα κύρια δεδομένα) και οι πληροφορίες των χρηστών που τα δημοσίευσαν αντίστοιχα. Ύστερα από την διερεύνηση των αντικειμένων αυτών, συλλέγονται τα δεδομένα και δημιουργείται το DataFrame.\n",
    "\n",
    "### Το αντικείμενο data\n",
    "\n",
    "Αφού είδαμε την μορφή των περιεχομένων του JSON file μπορούμε στην συνέχεια να προσωρήσουμε στην διαδικασία της συλλογής των δεδομένων που χρειαζόμαστε.\n",
    "\n",
    "Θα χρειαστεί να γίνει επαναληπτικά η διαπέραση του JSON για την συλλογή των δεδομένων των tweets σε μια λίστα. Η  μορφή όμως του αρχείου είναι τέτοια, που **απαιτεί ιδιαίτερη προσοχή**. Ύστερα από αρκετές αποτυχημένες προσπάθειες για την συλλογή των δεδομένων, οδηγηθήκαμε στο συμπέρασμα ότι μόνο τα πρώτα 500 αντικείμενα της λίστας του αντικειμένου **data** (δηλ. η twitter_data['data']) αποτελούν μεμονωμένες εγγραφές για tweets. Από το index 500 και μετά, σε κάθε θέση της λίστας, υπάρχουν εμφωλευμένες λίστες που η κάθε μια περιέχει από 500 εγγραφές για tweets, εκτός από το index 920, δηλαδή το τελευταίο, που περιέχει 167 tweets."
   ]
  },
  {
   "cell_type": "code",
   "execution_count": null,
   "id": "13fe47bf",
   "metadata": {
    "id": "13fe47bf",
    "outputId": "bb824c61-8998-4bea-d6d4-a3aaea0f0cd4"
   },
   "outputs": [
    {
     "name": "stdout",
     "output_type": "stream",
     "text": [
      "Δεν υπάρχουν public metrics στο index  500 της λίστας. Ας δούμε λοιπόν τί υπάρχει εδώ:\n",
      "\n",
      "\n",
      "[{'public_metrics': {'retweet_count': 0, 'reply_count': 0, 'like_count': 0, 'quote_count': 0}, 'created_at': '2021-11-10T07:00:37.000Z', 'author_id': '941389496771399680', 'id': '1458328726047965184', 'text': 'CVE-2021-38665\\n\\nRemote Desktop Protocol Client Information Disclosure Vulnerability\\n\\nhttps://t.co/RD0vHAFSFG'}, {'public_metrics': {'retweet_count': 0, 'reply_count': 0, 'like_count': 0, 'quote_count': 0}, 'created_at': '2021-11-10T07:00:06.000Z', 'author_id': '1083500716235223040', 'id': '1458328596356169728', 'text': 'CVE-2021-24827 https://t.co/LpoBm5H7hW #HarsiaInfo'}, {'public_metrics': {'retweet_count': 0, 'reply_count': 0, 'like_count': 0, 'quote_count': 0}, 'created_at': '2021-11-10T06:57:37.000Z', 'author_id': '941389496771399680', 'id': '1458327971111002115', 'text': 'CVE-2021-42285\\n\\nWindows Kernel Elevation of Privilege Vulnerability\\n\\nhttps://t.co/72IIYlNvE2'}, {'public_metrics': {'retweet_count': 0, 'reply_count': 0, 'like_count': 0, 'quote_count': 0}, 'created_at': '2021-11-10T06:54:37.000Z', 'author_id': '941389496771399680', 'id': '1458327215960117253', 'text': 'CVE-2021-42305\\n\\nMicrosoft Exchange Server Spoofing Vulnerability This CVE ID is unique from CVE-2021-41349.\\n\\nhttps://t.co/2WFpwVAFbd'}, {'public_metrics': {'retweet_count': 0, 'reply_count': 0, 'like_count': 0, 'quote_count': 0}, 'created_at': '2021-11-10T06:52:51.000Z', 'author_id': '121075313', 'id': '1458326771481329668', 'text': 'https://t.co/y1B1dZ3VGC https://t.co/3V55DKftfQ'}, {'public_metrics': {'retweet_count': 0, 'reply_count': 0, 'like_count': 0, 'quote_count': 0}, 'created_at': '2021-11-10T06:52:41.000Z', 'author_id': '2457285240', 'id': '1458326729311854597', 'text': 'CVE-2021-22870 https://t.co/ZffFvBUplp'}, {'public_metrics': {'retweet_count': 0, 'reply_count': 0, 'like_count': 0, 'quote_count': 0}, 'created_at': '2021-11-10T06:51:37.000Z', 'author_id': '941389496771399680', 'id': '1458326461157347330', 'text': 'CVE-2021-42286\\n\\nWindows Core Shell SI Host Extension Framework for Composable Shell Elevation of Privilege Vulnerability\\n\\nhttps://t.co/J2dHoWlkXu'}, {'public_metrics': {'retweet_count': 0, 'reply_count': 0, 'like_count': 0, 'quote_count': 0}, 'created_at': '2021-11-10T06:50:16.000Z', 'author_id': '955014888446939136', 'id': '1458326122169516032', 'text': 'New post from https://t.co/uXvPWJy6tj (CVE-2021-38666) has been published on https://t.co/S0IrZ2WOwB'}, {'public_metrics': {'retweet_count': 0, 'reply_count': 0, 'like_count': 0, 'quote_count': 0}, 'created_at': '2021-11-10T06:50:16.000Z', 'author_id': '955014888446939136', 'id': '1458326120600903682', 'text': 'New post from https://t.co/uXvPWJy6tj (CVE-2021-41349) has been published on https://t.co/RuRxKeGKGg'}, {'public_metrics': {'retweet_count': 0, 'reply_count': 0, 'like_count': 0, 'quote_count': 0}, 'created_at': '2021-11-10T06:50:15.000Z', 'author_id': '958005194398289920', 'id': '1458326119162253320', 'text': 'New post from https://t.co/9KYxtdZjkl (CVE-2021-40442) has been published on https://t.co/5dQWYUuf1t'}, {'public_metrics': {'retweet_count': 0, 'reply_count': 0, 'like_count': 0, 'quote_count': 0}, 'created_at': '2021-11-10T06:50:15.000Z', 'author_id': '958005194398289920', 'id': '1458326117572620289', 'text': 'New post from https://t.co/9KYxtdZjkl (CVE-2021-41349) has been published on https://t.co/sChWtfXouU'}, {'public_metrics': {'retweet_count': 0, 'reply_count': 0, 'like_count': 0, 'quote_count': 0}, 'created_at': '2021-11-10T06:50:15.000Z', 'author_id': '955014888446939136', 'id': '1458326116129726466', 'text': 'New post from https://t.co/uXvPWJy6tj (CVE-2021-40442) has been published on https://t.co/tXiuerLbUY'}, {'public_metrics': {'retweet_count': 0, 'reply_count': 0, 'like_count': 0, 'quote_count': 0}, 'created_at': '2021-11-10T06:50:14.000Z', 'author_id': '958005194398289920', 'id': '1458326115001507842', 'text': 'New post from https://t.co/9KYxtdZjkl (CVE-2021-38666) has been published on https://t.co/JHkKVURDLD'}, {'public_metrics': {'retweet_count': 0, 'reply_count': 0, 'like_count': 0, 'quote_count': 0}, 'created_at': '2021-11-10T06:50:14.000Z', 'author_id': '955014888446939136', 'id': '1458326113776775172', 'text': 'New post from https://t.co/uXvPWJy6tj (CVE-2021-41356) has been published on https://t.co/UIHf3f6QZM'}, {'public_metrics': {'retweet_count': 0, 'reply_count': 0, 'like_count': 0, 'quote_count': 0}, 'created_at': '2021-11-10T06:50:14.000Z', 'author_id': '958005194398289920', 'id': '1458326112568741890', 'text': 'New post from https://t.co/9KYxtdZjkl (CVE-2021-41351) has been published on https://t.co/6IHuanmipy'}, {'public_metrics': {'retweet_count': 0, 'reply_count': 0, 'like_count': 0, 'quote_count': 0}, 'created_at': '2021-11-10T06:50:13.000Z', 'author_id': '955014888446939136', 'id': '1458326110865870853', 'text': 'New post from https://t.co/uXvPWJy6tj (CVE-2021-41351) has been published on https://t.co/v4rHAZzhe9'}, {'public_metrics': {'retweet_count': 0, 'reply_count': 0, 'like_count': 0, 'quote_count': 0}, 'created_at': '2021-11-10T06:50:13.000Z', 'author_id': '958005194398289920', 'id': '1458326109364293635', 'text': 'New post from https://t.co/9KYxtdZjkl (CVE-2021-41356) has been published on https://t.co/VdBMytt434'}, {'public_metrics': {'retweet_count': 0, 'reply_count': 0, 'like_count': 0, 'quote_count': 0}, 'created_at': '2021-11-10T06:49:32.000Z', 'author_id': '904129001723011072', 'id': '1458325937003450373', 'text': '🚨 NEW: CVE-2021-35546 🚨 Vulnerability in the MySQL Server product of Oracle MySQL (component: Server: Replication). Supported versions that are affected are 8.0.26 and prior. Easily exploitable vulnerability allows... (click for more) Severity: MEDIUM https://t.co/izvha1BaFP'}, {'public_metrics': {'retweet_count': 0, 'reply_count': 0, 'like_count': 0, 'quote_count': 0}, 'created_at': '2021-11-10T06:48:37.000Z', 'author_id': '941389496771399680', 'id': '1458325705813549057', 'text': 'CVE-2021-42288\\n\\nWindows Hello Security Feature Bypass Vulnerability\\n\\nhttps://t.co/tmiYvRnWoi'}, {'public_metrics': {'retweet_count': 0, 'reply_count': 0, 'like_count': 0, 'quote_count': 0}, 'created_at': '2021-11-10T06:46:03.000Z', 'author_id': '1098266147915485184', 'id': '1458325060238790657', 'text': 'CVE-2021-22870 https://t.co/7DdS5ogNgV #TribeSecure #CyberAwareness'}, {'public_metrics': {'retweet_count': 0, 'reply_count': 0, 'like_count': 0, 'quote_count': 0}, 'created_at': '2021-11-10T06:46:02.000Z', 'author_id': '1098266147915485184', 'id': '1458325054933004291', 'text': 'CVE-2021-43208 https://t.co/UgGIgCz0ms #TribeSecure #CyberAwareness'}, {'public_metrics': {'retweet_count': 0, 'reply_count': 0, 'like_count': 0, 'quote_count': 0}, 'created_at': '2021-11-10T06:45:37.000Z', 'author_id': '941389496771399680', 'id': '1458324950830526467', 'text': 'CVE-2021-42291\\n\\nActive Directory Domain Services Elevation of Privilege Vulnerability This CVE ID is unique from CVE-2021-42278, CVE-2021-42282, CVE-2021-42287.\\n\\nhttps://t.co/fhQAnY5DjV'}, {'public_metrics': {'retweet_count': 0, 'reply_count': 0, 'like_count': 0, 'quote_count': 0}, 'created_at': '2021-11-10T06:43:40.000Z', 'author_id': '1376419326685765633', 'id': '1458324462982492160', 'text': 'Microsoft’s November 2021 Patch Tuesday Addresses 55 CVEs (CVE-2021-42321) https://t.co/y0ikVLHXju'}, {'public_metrics': {'retweet_count': 0, 'reply_count': 0, 'like_count': 0, 'quote_count': 0}, 'created_at': '2021-11-10T06:42:37.000Z', 'author_id': '941389496771399680', 'id': '1458324195922923530', 'text': 'CVE-2021-42296\\n\\nMicrosoft Word Remote Code Execution Vulnerability\\n\\nhttps://t.co/zmoIYXFhcw'}, {'public_metrics': {'retweet_count': 0, 'reply_count': 0, 'like_count': 0, 'quote_count': 0}, 'created_at': '2021-11-10T06:40:27.000Z', 'author_id': '1007984400', 'id': '1458323651120574464', 'text': 'New vulnerability on the NVD: CVE-2021-22870 https://t.co/PxyuFL01HU'}, {'public_metrics': {'retweet_count': 0, 'reply_count': 0, 'like_count': 0, 'quote_count': 0}, 'created_at': '2021-11-10T06:39:37.000Z', 'author_id': '941389496771399680', 'id': '1458323440910413826', 'text': 'CVE-2021-42287\\n\\nActive Directory Domain Services Elevation of Privilege Vulnerability This CVE ID is unique from CVE-2021-42278, CVE-2021-42282, CVE-2021-42291.\\n\\nhttps://t.co/pfaQHWB7XM'}, {'public_metrics': {'retweet_count': 0, 'reply_count': 0, 'like_count': 0, 'quote_count': 0}, 'created_at': '2021-11-10T06:39:36.000Z', 'author_id': '65891900', 'id': '1458323438498582530', 'text': '#Microsoft ออกแพตช์ความปลอดภัยสำหรับช่องโหว่ใหม่ 55 ช่องโหว่ รวมถึงช่องโหว่ซีโร่เดย์สองช่องโหว่ใน Excel (CVE-2021-42292) และ Exchange Server (CVE-2021-42321) https://t.co/I3qAFLytHg'}, {'public_metrics': {'retweet_count': 0, 'reply_count': 0, 'like_count': 0, 'quote_count': 0}, 'created_at': '2021-11-10T06:37:31.000Z', 'author_id': '2290453579', 'id': '1458322913136889856', 'text': '\"&lt; Nov. 2021 #PatchTuesday &gt; \\n\\n#Microsoft releases security patches for 55 new vulnerabilities, including two actively exploited zero-day flaws in Excel (CVE-2021-42292) and Exchange Server (CVE-2021-42321).\\n\\nRead Details: https://t.co/sDe5U7E2jx\\n\\n#infosec #hacking #cybersecuri…'}, {'public_metrics': {'retweet_count': 0, 'reply_count': 0, 'like_count': 0, 'quote_count': 0}, 'created_at': '2021-11-10T06:36:37.000Z', 'author_id': '941389496771399680', 'id': '1458322686107701248', 'text': 'CVE-2021-42323\\n\\nAzure RTOS Information Disclosure Vulnerability This CVE ID is unique from CVE-2021-26444, CVE-2021-42301.\\n\\nhttps://t.co/oPH5HDsL4k'}, {'public_metrics': {'retweet_count': 0, 'reply_count': 0, 'like_count': 0, 'quote_count': 0}, 'created_at': '2021-11-10T06:35:17.000Z', 'author_id': '955014888446939136', 'id': '1458322353222475776', 'text': 'New post from https://t.co/uXvPWJy6tj (CVE-2021-26443) has been published on https://t.co/wvutRSdZfO'}, {'public_metrics': {'retweet_count': 0, 'reply_count': 0, 'like_count': 0, 'quote_count': 0}, 'created_at': '2021-11-10T06:35:17.000Z', 'author_id': '958005194398289920', 'id': '1458322351859376134', 'text': 'New post from https://t.co/9KYxtdZjkl (CVE-2021-42372 (lpar2rrd, stor2rrd)) has been published on https://t.co/4AfTSeR7j3'}, {'public_metrics': {'retweet_count': 0, 'reply_count': 0, 'like_count': 0, 'quote_count': 0}, 'created_at': '2021-11-10T06:35:17.000Z', 'author_id': '955014888446939136', 'id': '1458322350672338944', 'text': 'New post from https://t.co/uXvPWJy6tj (CVE-2021-26444) has been published on https://t.co/vwtq5IX7UD'}, {'public_metrics': {'retweet_count': 0, 'reply_count': 0, 'like_count': 0, 'quote_count': 0}, 'created_at': '2021-11-10T06:35:17.000Z', 'author_id': '958005194398289920', 'id': '1458322349103714307', 'text': 'New post from https://t.co/9KYxtdZjkl (CVE-2021-26443) has been published on https://t.co/rfLoM0CNmM'}, {'public_metrics': {'retweet_count': 0, 'reply_count': 0, 'like_count': 0, 'quote_count': 0}, 'created_at': '2021-11-10T06:35:16.000Z', 'author_id': '955014888446939136', 'id': '1458322347866341379', 'text': 'New post from https://t.co/uXvPWJy6tj (CVE-2021-42372 (lpar2rrd, stor2rrd)) has been published on https://t.co/NVdnIVLjus'}, {'public_metrics': {'retweet_count': 0, 'reply_count': 0, 'like_count': 0, 'quote_count': 0}, 'created_at': '2021-11-10T06:35:16.000Z', 'author_id': '958005194398289920', 'id': '1458322346708701185', 'text': 'New post from https://t.co/9KYxtdZjkl (CVE-2021-36957) has been published on https://t.co/qIEzE04cWP'}, {'public_metrics': {'retweet_count': 0, 'reply_count': 0, 'like_count': 0, 'quote_count': 0}, 'created_at': '2021-11-10T06:35:15.000Z', 'author_id': '958005194398289920', 'id': '1458322344892633089', 'text': 'New post from https://t.co/9KYxtdZjkl (CVE-2021-38631) has been published on https://t.co/dJldjzaBmE'}, {'public_metrics': {'retweet_count': 0, 'reply_count': 0, 'like_count': 0, 'quote_count': 0}, 'created_at': '2021-11-10T06:35:15.000Z', 'author_id': '958005194398289920', 'id': '1458322343772704769', 'text': 'New post from https://t.co/9KYxtdZjkl (CVE-2021-26444) has been published on https://t.co/bj4gV4PrP7'}, {'public_metrics': {'retweet_count': 0, 'reply_count': 0, 'like_count': 0, 'quote_count': 0}, 'created_at': '2021-11-10T06:35:15.000Z', 'author_id': '955014888446939136', 'id': '1458322342090842113', 'text': 'New post from https://t.co/uXvPWJy6tj (CVE-2021-38665) has been published on https://t.co/KdKTMN5kv8'}, {'public_metrics': {'retweet_count': 0, 'reply_count': 0, 'like_count': 0, 'quote_count': 0}, 'created_at': '2021-11-10T06:35:15.000Z', 'author_id': '958005194398289920', 'id': '1458322340778020869', 'text': 'New post from https://t.co/9KYxtdZjkl (CVE-2021-38665) has been published on https://t.co/RgjQ6NOcwT'}, {'public_metrics': {'retweet_count': 0, 'reply_count': 0, 'like_count': 0, 'quote_count': 0}, 'created_at': '2021-11-10T06:35:14.000Z', 'author_id': '955014888446939136', 'id': '1458322339104542732', 'text': 'New post from https://t.co/uXvPWJy6tj (CVE-2021-36957) has been published on https://t.co/tUseo9QZzx'}, {'public_metrics': {'retweet_count': 0, 'reply_count': 0, 'like_count': 0, 'quote_count': 0}, 'created_at': '2021-11-10T06:35:14.000Z', 'author_id': '955014888446939136', 'id': '1458322337942679556', 'text': 'New post from https://t.co/uXvPWJy6tj (GO vulnerability CVE-2021-3114) has been published on https://t.co/yZEifioi9G'}, {'public_metrics': {'retweet_count': 0, 'reply_count': 0, 'like_count': 0, 'quote_count': 0}, 'created_at': '2021-11-10T06:35:13.000Z', 'author_id': '955014888446939136', 'id': '1458322336290156544', 'text': 'New post from https://t.co/uXvPWJy6tj (CVE-2021-38631) has been published on https://t.co/zpFsuM5NK0'}, {'public_metrics': {'retweet_count': 0, 'reply_count': 0, 'like_count': 0, 'quote_count': 0}, 'created_at': '2021-11-10T06:35:13.000Z', 'author_id': '958005194398289920', 'id': '1458322334805336070', 'text': 'New post from https://t.co/9KYxtdZjkl (GO vulnerability CVE-2021-3114) has been published on https://t.co/taunBMnTUa'}, {'public_metrics': {'retweet_count': 0, 'reply_count': 0, 'like_count': 1, 'quote_count': 0}, 'created_at': '2021-11-10T06:33:37.000Z', 'author_id': '941389496771399680', 'id': '1458321930956718080', 'text': 'CVE-2021-22870\\n\\nA path traversal vulnerability was identified in GitHub Pages builds on ...\\n\\nhttps://t.co/VrkZreBkVy\\n\\nVulnerability Notification: https://t.co/xhLrNnfyrO'}, {'public_metrics': {'retweet_count': 0, 'reply_count': 0, 'like_count': 0, 'quote_count': 0}, 'created_at': '2021-11-10T06:33:30.000Z', 'author_id': '1132127578922344448', 'id': '1458321903433797632', 'text': '&lt; Nov. 2021 Patch Tuesday &gt; \\n\\nMicrosoft releases security patches for 55 new vulnerabilities, including two actively exploited zero-day flaws in Excel (CVE-2021-42292) and Exchange Server (CVE-2021-42321).\\n\\nRead Details: https://t.co/Wd53OAVf3f... https://t.co/czkiGcTw7R'}, {'public_metrics': {'retweet_count': 0, 'reply_count': 0, 'like_count': 0, 'quote_count': 0}, 'created_at': '2021-11-10T06:33:06.000Z', 'author_id': '2363943357', 'id': '1458321802556497925', 'text': 'New vulnerability on the NVD: CVE-2021-22870 https://t.co/nFQghAYEHO'}, {'public_metrics': {'retweet_count': 0, 'reply_count': 0, 'like_count': 0, 'quote_count': 0}, 'created_at': '2021-11-10T06:32:31.000Z', 'author_id': '1313296360112820225', 'id': '1458321655214772227', 'text': 'Emerging Vulnerability Found CVE-2021-42292 - Microsoft Excel Security Feature Bypass Vulnerability\\n\\nSee https://t.co/bF43eTZbye'}, {'public_metrics': {'retweet_count': 73, 'reply_count': 0, 'like_count': 116, 'quote_count': 5}, 'created_at': '2021-11-10T06:32:20.000Z', 'author_id': '209811713', 'id': '1458321608175546371', 'text': '&lt; Nov. 2021 #PatchTuesday &gt; \\n\\n#Microsoft releases security patches for 55 new vulnerabilities, including two actively exploited zero-day flaws in Excel (CVE-2021-42292) and Exchange Server (CVE-2021-42321).\\n\\nRead Details: https://t.co/zpfi4q9bIU\\n\\n#infosec #hacking #cybersecurity'}, {'public_metrics': {'retweet_count': 0, 'reply_count': 0, 'like_count': 0, 'quote_count': 0}, 'created_at': '2021-11-10T06:28:06.000Z', 'author_id': '799521214356197377', 'id': '1458320542046556162', 'text': 'Mysql - CVE-2021-2481: https://t.co/czNbsub51v'}, {'public_metrics': {'retweet_count': 0, 'reply_count': 0, 'like_count': 0, 'quote_count': 0}, 'created_at': '2021-11-10T06:28:05.000Z', 'author_id': '799521214356197377', 'id': '1458320541149024257', 'text': 'Mysql - CVE-2021-35604: https://t.co/czNbsub51v'}, {'public_metrics': {'retweet_count': 0, 'reply_count': 0, 'like_count': 0, 'quote_count': 0}, 'created_at': '2021-11-10T06:28:05.000Z', 'author_id': '799521214356197377', 'id': '1458320540280758272', 'text': 'Mysql - CVE-2021-2479: https://t.co/czNbsub51v'}, {'public_metrics': {'retweet_count': 0, 'reply_count': 0, 'like_count': 0, 'quote_count': 0}, 'created_at': '2021-11-10T06:28:05.000Z', 'author_id': '799521214356197377', 'id': '1458320539374784515', 'text': 'Mysql - CVE-2021-35602: https://t.co/czNbsub51v'}, {'public_metrics': {'retweet_count': 0, 'reply_count': 0, 'like_count': 0, 'quote_count': 0}, 'created_at': '2021-11-10T06:28:05.000Z', 'author_id': '799521214356197377', 'id': '1458320538481397764', 'text': 'Mysql - CVE-2021-35607: https://t.co/czNbsub51v'}, {'public_metrics': {'retweet_count': 0, 'reply_count': 0, 'like_count': 0, 'quote_count': 0}, 'created_at': '2021-11-10T06:28:05.000Z', 'author_id': '799521214356197377', 'id': '1458320537420173317', 'text': 'Mysql - CVE-2021-35610: https://t.co/czNbsub51v'}, {'public_metrics': {'retweet_count': 0, 'reply_count': 0, 'like_count': 0, 'quote_count': 0}, 'created_at': '2021-11-10T06:28:04.000Z', 'author_id': '799521214356197377', 'id': '1458320536522604546', 'text': 'Mysql - CVE-2021-2478: https://t.co/czNbsub51v'}, {'public_metrics': {'retweet_count': 0, 'reply_count': 0, 'like_count': 0, 'quote_count': 0}, 'created_at': '2021-11-10T06:28:04.000Z', 'author_id': '799521214356197377', 'id': '1458320535646056448', 'text': 'Mysql - CVE-2021-35597: https://t.co/czNbsub51v'}, {'public_metrics': {'retweet_count': 0, 'reply_count': 0, 'like_count': 0, 'quote_count': 0}, 'created_at': '2021-11-10T06:28:04.000Z', 'author_id': '799521214356197377', 'id': '1458320534735921155', 'text': 'Mysql - CVE-2021-35608: https://t.co/czNbsub51v'}, {'public_metrics': {'retweet_count': 0, 'reply_count': 0, 'like_count': 0, 'quote_count': 0}, 'created_at': '2021-11-10T06:23:44.000Z', 'author_id': '932598565620158464', 'id': '1458319444262928385', 'text': 'CVE-2021-22870 https://t.co/72rWqqBk2N #CVE #Vulnerability'}, {'public_metrics': {'retweet_count': 0, 'reply_count': 0, 'like_count': 0, 'quote_count': 0}, 'created_at': '2021-11-10T06:22:05.000Z', 'author_id': '1017187965318172672', 'id': '1458319029488308228', 'text': 'New vulnerability on the NVD: CVE-2021-22870 https://t.co/NuihOFM9dM #exploit #toutatis #darknet #news'}, {'public_metrics': {'retweet_count': 0, 'reply_count': 0, 'like_count': 0, 'quote_count': 0}, 'created_at': '2021-11-10T06:20:51.000Z', 'author_id': '955014888446939136', 'id': '1458318718224801793', 'text': 'New post from https://t.co/uXvPWJy6tj (CVE-2021-29735 (security_guardium)) has been published on https://t.co/eElbO9T2vL'}, {'public_metrics': {'retweet_count': 0, 'reply_count': 0, 'like_count': 0, 'quote_count': 0}, 'created_at': '2021-11-10T06:20:47.000Z', 'author_id': '958005194398289920', 'id': '1458318703997632512', 'text': 'New post from https://t.co/9KYxtdZjkl (CVE-2021-29735 (security_guardium)) has been published on https://t.co/QOrrzHMMyh'}, {'public_metrics': {'retweet_count': 0, 'reply_count': 0, 'like_count': 0, 'quote_count': 0}, 'created_at': '2021-11-10T06:20:46.000Z', 'author_id': '2932879327', 'id': '1458318699593715714', 'text': 'New vulnerability on the NVD: CVE-2021-22870 https://t.co/Q9QvrcEcjd'}, {'public_metrics': {'retweet_count': 0, 'reply_count': 0, 'like_count': 0, 'quote_count': 0}, 'created_at': '2021-11-10T06:20:43.000Z', 'author_id': '955014888446939136', 'id': '1458318687044317186', 'text': 'New post from https://t.co/uXvPWJy6tj (CVE-2021-29843 (mq_appliance)) has been published on https://t.co/UKSHvMTEA3'}, {'public_metrics': {'retweet_count': 0, 'reply_count': 0, 'like_count': 0, 'quote_count': 0}, 'created_at': '2021-11-10T06:20:39.000Z', 'author_id': '958005194398289920', 'id': '1458318669709185025', 'text': 'New post from https://t.co/9KYxtdZjkl (CVE-2021-29843 (mq_appliance)) has been published on https://t.co/1RHWDjgjJ4'}, {'public_metrics': {'retweet_count': 0, 'reply_count': 0, 'like_count': 0, 'quote_count': 0}, 'created_at': '2021-11-10T06:20:35.000Z', 'author_id': '955014888446939136', 'id': '1458318653447938050', 'text': 'New post from https://t.co/uXvPWJy6tj (CVE-2021-37726 (aruba_instant, scalance_w1750d_firmware)) has been published on https://t.co/4gDslXyQeE'}, {'public_metrics': {'retweet_count': 0, 'reply_count': 0, 'like_count': 0, 'quote_count': 0}, 'created_at': '2021-11-10T06:20:35.000Z', 'author_id': '955014888446939136', 'id': '1458318652177059845', 'text': 'New post from https://t.co/uXvPWJy6tj (CVE-2021-42370 (lpar2rrd, stor2rrd)) has been published on https://t.co/poJQuH5DNn'}, {'public_metrics': {'retweet_count': 0, 'reply_count': 0, 'like_count': 0, 'quote_count': 0}, 'created_at': '2021-11-10T06:20:35.000Z', 'author_id': '958005194398289920', 'id': '1458318650943983616', 'text': 'New post from https://t.co/9KYxtdZjkl (CVE-2021-37726 (aruba_instant, scalance_w1750d_firmware)) has been published on https://t.co/5HAMkMYZeZ'}, {'public_metrics': {'retweet_count': 0, 'reply_count': 0, 'like_count': 0, 'quote_count': 0}, 'created_at': '2021-11-10T06:20:34.000Z', 'author_id': '958005194398289920', 'id': '1458318649501130752', 'text': 'New post from https://t.co/9KYxtdZjkl (CVE-2021-22870) has been published on https://t.co/cXuyWAJhJW'}, {'public_metrics': {'retweet_count': 0, 'reply_count': 0, 'like_count': 0, 'quote_count': 0}, 'created_at': '2021-11-10T06:20:31.000Z', 'author_id': '958005194398289920', 'id': '1458318634636431361', 'text': 'New post from https://t.co/9KYxtdZjkl (CVE-2021-42371 (lpar2rrd, stor2rrd)) has been published on https://t.co/b1y3iudQ7y'}, {'public_metrics': {'retweet_count': 0, 'reply_count': 0, 'like_count': 0, 'quote_count': 0}, 'created_at': '2021-11-10T06:20:31.000Z', 'author_id': '958005194398289920', 'id': '1458318633428529152', 'text': 'New post from https://t.co/9KYxtdZjkl (CVE-2021-42370 (lpar2rrd, stor2rrd)) has been published on https://t.co/W11DFtKOyT'}, {'public_metrics': {'retweet_count': 0, 'reply_count': 0, 'like_count': 0, 'quote_count': 0}, 'created_at': '2021-11-10T06:20:30.000Z', 'author_id': '955014888446939136', 'id': '1458318632228900867', 'text': 'New post from https://t.co/uXvPWJy6tj (CVE-2021-22870) has been published on https://t.co/VdrX6BcsqI'}, {'public_metrics': {'retweet_count': 0, 'reply_count': 0, 'like_count': 0, 'quote_count': 0}, 'created_at': '2021-11-10T06:20:25.000Z', 'author_id': '955014888446939136', 'id': '1458318608057126912', 'text': 'New post from https://t.co/uXvPWJy6tj (CVE-2021-42371 (lpar2rrd, stor2rrd)) has been published on https://t.co/0tNA0wr0wh'}, {'public_metrics': {'retweet_count': 0, 'reply_count': 0, 'like_count': 0, 'quote_count': 0}, 'created_at': '2021-11-10T06:20:24.000Z', 'author_id': '955014888446939136', 'id': '1458318606568206338', 'text': 'New post from https://t.co/uXvPWJy6tj (CVE-2021-24664 (wpschoolpress)) has been published on https://t.co/x6SPazgibB'}, {'public_metrics': {'retweet_count': 0, 'reply_count': 0, 'like_count': 0, 'quote_count': 0}, 'created_at': '2021-11-10T06:20:24.000Z', 'author_id': '955014888446939136', 'id': '1458318605167251459', 'text': 'New post from https://t.co/uXvPWJy6tj (CVE-2021-24669 (maz_loader)) has been published on https://t.co/xa1SmWNQzM'}, {'public_metrics': {'retweet_count': 0, 'reply_count': 0, 'like_count': 0, 'quote_count': 0}, 'created_at': '2021-11-10T06:20:24.000Z', 'author_id': '958005194398289920', 'id': '1458318603741278210', 'text': 'New post from https://t.co/9KYxtdZjkl (CVE-2021-24664 (wpschoolpress)) has been published on https://t.co/zZPLJsVUAz'}, {'public_metrics': {'retweet_count': 0, 'reply_count': 0, 'like_count': 0, 'quote_count': 0}, 'created_at': '2021-11-10T06:20:23.000Z', 'author_id': '955014888446939136', 'id': '1458318602302541824', 'text': 'New post from https://t.co/uXvPWJy6tj (CVE-2021-24631 (unlimited_popups)) has been published on https://t.co/lgvyo17lz2'}, {'public_metrics': {'retweet_count': 0, 'reply_count': 0, 'like_count': 0, 'quote_count': 0}, 'created_at': '2021-11-10T06:20:20.000Z', 'author_id': '958005194398289920', 'id': '1458318589413531651', 'text': 'New post from https://t.co/9KYxtdZjkl (CVE-2021-24631 (unlimited_popups)) has been published on https://t.co/Z89IPOlPXK'}, {'public_metrics': {'retweet_count': 0, 'reply_count': 0, 'like_count': 0, 'quote_count': 0}, 'created_at': '2021-11-10T06:20:17.000Z', 'author_id': '958005194398289920', 'id': '1458318575912034306', 'text': 'New post from https://t.co/9KYxtdZjkl (CVE-2021-24674 (genie_wp_favicon)) has been published on https://t.co/tEXKIXwWOW'}, {'public_metrics': {'retweet_count': 0, 'reply_count': 0, 'like_count': 0, 'quote_count': 0}, 'created_at': '2021-11-10T06:20:17.000Z', 'author_id': '955014888446939136', 'id': '1458318574288883712', 'text': 'New post from https://t.co/uXvPWJy6tj (CVE-2021-24674 (genie_wp_favicon)) has been published on https://t.co/DOggY3GjhE'}, {'public_metrics': {'retweet_count': 0, 'reply_count': 0, 'like_count': 0, 'quote_count': 0}, 'created_at': '2021-11-10T06:20:16.000Z', 'author_id': '958005194398289920', 'id': '1458318572938317826', 'text': 'New post from https://t.co/9KYxtdZjkl (CVE-2021-24669 (maz_loader)) has been published on https://t.co/9Y5cAVvIF1'}, {'public_metrics': {'retweet_count': 1, 'reply_count': 1, 'like_count': 2, 'quote_count': 0}, 'created_at': '2021-11-10T06:18:56.000Z', 'author_id': '1457566960808517634', 'id': '1458318235003199488', 'text': 'First Vulnerability reported to Microsoft  with upcoming tool osiris by reconbounty\\nupcoming alpha demo in the works stay tuned\\nhttps://t.co/mOMfgs6nz4\\n\\nhttps://t.co/AkI8okq2n3'}, {'public_metrics': {'retweet_count': 0, 'reply_count': 0, 'like_count': 0, 'quote_count': 0}, 'created_at': '2021-11-10T06:18:54.000Z', 'author_id': '3183315712', 'id': '1458318227260518414', 'text': 'https://t.co/Y2rwEGc1xv  Azure RTOS Information Disclosure Vulnerability This CVE ID is unique from CVE-2021-26444, CVE-2021-42301....'}, {'public_metrics': {'retweet_count': 0, 'reply_count': 0, 'like_count': 0, 'quote_count': 0}, 'created_at': '2021-11-10T06:18:33.000Z', 'author_id': '3183315712', 'id': '1458318138332811268', 'text': 'https://t.co/z7g7EFIUCJ  Visual Studio Code Elevation of Privilege Vulnerability...'}, {'public_metrics': {'retweet_count': 0, 'reply_count': 0, 'like_count': 0, 'quote_count': 0}, 'created_at': '2021-11-10T06:18:07.000Z', 'author_id': '3183315712', 'id': '1458318032720252931', 'text': 'https://t.co/oH66HMsuRg  Microsoft Exchange Server Remote Code Execution Vulnerability...'}, {'public_metrics': {'retweet_count': 0, 'reply_count': 0, 'like_count': 0, 'quote_count': 0}, 'created_at': '2021-11-10T06:17:39.000Z', 'author_id': '3183315712', 'id': '1458317914331918340', 'text': 'https://t.co/hlMfilap8s  Visual Studio Elevation of Privilege Vulnerability...'}, {'public_metrics': {'retweet_count': 0, 'reply_count': 0, 'like_count': 0, 'quote_count': 0}, 'created_at': '2021-11-10T06:17:16.000Z', 'author_id': '3183315712', 'id': '1458317816998805506', 'text': 'https://t.co/Re4T7I5EBY  Microsoft Dynamics 365  on-premises  Remote Code Execution Vulnerability...'}, {'public_metrics': {'retweet_count': 0, 'reply_count': 0, 'like_count': 0, 'quote_count': 0}, 'created_at': '2021-11-10T06:16:50.000Z', 'author_id': '3183315712', 'id': '1458317707124871169', 'text': 'https://t.co/PNysIxMNbB  Microsoft Exchange Server Spoofing Vulnerability This CVE ID is unique from CVE-2021-41349....'}, {'public_metrics': {'retweet_count': 0, 'reply_count': 0, 'like_count': 0, 'quote_count': 0}, 'created_at': '2021-11-10T06:16:36.000Z', 'author_id': '3183315712', 'id': '1458317647574089733', 'text': 'https://t.co/92KBDEPvuj  Azure RTOS Elevation of Privilege Vulnerability This CVE ID is unique from CVE-2021-42302, CVE-2021-42303....'}, {'public_metrics': {'retweet_count': 0, 'reply_count': 0, 'like_count': 0, 'quote_count': 0}, 'created_at': '2021-11-10T06:16:22.000Z', 'author_id': '3183315712', 'id': '1458317592158949376', 'text': 'https://t.co/7FeAcA8Tjh  Azure RTOS Elevation of Privilege Vulnerability This CVE ID is unique from CVE-2021-42302, CVE-2021-42304....'}, {'public_metrics': {'retweet_count': 0, 'reply_count': 0, 'like_count': 0, 'quote_count': 0}, 'created_at': '2021-11-10T06:16:01.000Z', 'author_id': '3183315712', 'id': '1458317503315288066', 'text': 'https://t.co/x5BxUlyz7d  Azure RTOS Elevation of Privilege Vulnerability This CVE ID is unique from CVE-2021-42303, CVE-2021-42304....'}, {'public_metrics': {'retweet_count': 0, 'reply_count': 0, 'like_count': 0, 'quote_count': 0}, 'created_at': '2021-11-10T06:15:42.000Z', 'author_id': '3183315712', 'id': '1458317422788808704', 'text': 'https://t.co/qmAw9gcTU5  Azure RTOS Information Disclosure Vulnerability This CVE ID is unique from CVE-2021-26444, CVE-2021-42323....'}, {'public_metrics': {'retweet_count': 0, 'reply_count': 0, 'like_count': 1, 'quote_count': 0}, 'created_at': '2021-11-10T06:10:45.000Z', 'author_id': '1115168528', 'id': '1458316177785171968', 'text': 'TA505 exploits SolarWinds Serv-U vulnerability (CVE-2021-35211) for initial access – NCC Group Research https://t.co/SJSy3zU8DI'}, {'public_metrics': {'retweet_count': 0, 'reply_count': 0, 'like_count': 0, 'quote_count': 0}, 'created_at': '2021-11-10T06:08:25.000Z', 'author_id': '1437489413043408903', 'id': '1458315590343348225', 'text': 'Severity: 🔥🔥  | Vulnerability in the MySQL Server produc... | CVE-2021-2478 | Link for more: https://t.co/3GvLAo0Bw1'}, {'public_metrics': {'retweet_count': 0, 'reply_count': 0, 'like_count': 0, 'quote_count': 0}, 'created_at': '2021-11-10T06:08:04.000Z', 'author_id': '1109319878828130305', 'id': '1458315499826302979', 'text': '(Same from about 26 hours ago.)\\nI think that the most retweeted(92 times) tweet that contains CVE ID between Nov 9 2021 06:01 UTC and Nov 10 2021 06:00 UTC is:\\nhttps://t.co/PqqFkkatKQ\\nIt has CVE-2021-40449. #l24_qak5lrlulueoo'}, {'public_metrics': {'retweet_count': 0, 'reply_count': 0, 'like_count': 0, 'quote_count': 0}, 'created_at': '2021-11-10T06:08:02.000Z', 'author_id': '1109319878828130305', 'id': '1458315494608547842', 'text': '(Same from about 4 hours ago.)\\nI think that the second retweeted(56 times) tweet that contains CVE ID between Nov 9 2021 06:01 UTC and Nov 10 2021 06:00 UTC is:\\nhttps://t.co/Xh4ZezVu5P\\nIt has CVE-2021-42292. #l24_3hbseibsjw5bu'}, {'public_metrics': {'retweet_count': 0, 'reply_count': 0, 'like_count': 0, 'quote_count': 0}, 'created_at': '2021-11-10T06:08:01.000Z', 'author_id': '1109319878828130305', 'id': '1458315489172758532', 'text': '(Same from about 4 hours ago.)\\nI think that the third retweeted(44 times) tweet that contains CVE ID between Nov 9 2021 06:01 UTC and Nov 10 2021 06:00 UTC is:\\nhttps://t.co/CqMqC9ZKuv\\nIt has CVE-2021-42292. #l24_3hbseibsjw5bu'}, {'public_metrics': {'retweet_count': 0, 'reply_count': 0, 'like_count': 0, 'quote_count': 0}, 'created_at': '2021-11-10T06:07:49.000Z', 'author_id': '1437489413043408903', 'id': '1458315439897911297', 'text': 'Severity: 🔥🔥  | Vulnerability in the MySQL Server produc... | CVE-2021-35596 | Link for more: https://t.co/f50dNvGJra'}, {'public_metrics': {'retweet_count': 0, 'reply_count': 0, 'like_count': 0, 'quote_count': 0}, 'created_at': '2021-11-10T06:07:13.000Z', 'author_id': '1437489413043408903', 'id': '1458315289456615428', 'text': 'Severity: 🔥🔥  | Vulnerability in the MySQL Client produc... | CVE-2021-35597 | Link for more: https://t.co/EPxNszjhoi'}, {'public_metrics': {'retweet_count': 0, 'reply_count': 0, 'like_count': 0, 'quote_count': 0}, 'created_at': '2021-11-10T06:06:37.000Z', 'author_id': '1437489413043408903', 'id': '1458315139082440706', 'text': 'Severity: 🔥🔥  | Vulnerability in the MySQL Server produc... | CVE-2021-35602 | Link for more: https://t.co/E4YbmOgEB1'}, {'public_metrics': {'retweet_count': 0, 'reply_count': 0, 'like_count': 0, 'quote_count': 0}, 'created_at': '2021-11-10T06:06:02.000Z', 'author_id': '1437489413043408903', 'id': '1458314988137824256', 'text': 'Severity: 🔥🔥  | Vulnerability in the MySQL Server produc... | CVE-2021-35604 | Link for more: https://t.co/McSbl6SgeR'}, {'public_metrics': {'retweet_count': 0, 'reply_count': 0, 'like_count': 0, 'quote_count': 0}, 'created_at': '2021-11-10T06:05:26.000Z', 'author_id': '1437489413043408903', 'id': '1458314837738409984', 'text': 'Severity: 🔥🔥  | Vulnerability in the MySQL Server produc... | CVE-2021-35607 | Link for more: https://t.co/B4NflWGm1p'}, {'public_metrics': {'retweet_count': 0, 'reply_count': 0, 'like_count': 0, 'quote_count': 0}, 'created_at': '2021-11-10T06:04:50.000Z', 'author_id': '3152112828', 'id': '1458314690006634500', 'text': 'Microsoft Exchange Serverの脆弱性「リモートコード実行の脆弱性 (CVE-2021-42321) 」を悪用した攻撃が既に確認されています。\\n早めに11月の累積更新プログラムを適用しましょう！\\nhttps://t.co/qPLGaZeauM'}, {'public_metrics': {'retweet_count': 0, 'reply_count': 0, 'like_count': 0, 'quote_count': 0}, 'created_at': '2021-11-10T06:04:50.000Z', 'author_id': '1437489413043408903', 'id': '1458314687301382146', 'text': 'Severity: 🔥  | Vulnerability in the MySQL Server produc... | CVE-2021-35608 | Link for more: https://t.co/RFIfx51eZj'}, {'public_metrics': {'retweet_count': 0, 'reply_count': 0, 'like_count': 0, 'quote_count': 0}, 'created_at': '2021-11-10T06:04:14.000Z', 'author_id': '1437489413043408903', 'id': '1458314536763772928', 'text': 'Severity: 🔥🔥  | Vulnerability in the MySQL Server produc... | CVE-2021-35610 | Link for more: https://t.co/saXNsn6aUu'}, {'public_metrics': {'retweet_count': 0, 'reply_count': 0, 'like_count': 0, 'quote_count': 0}, 'created_at': '2021-11-10T06:03:38.000Z', 'author_id': '1437489413043408903', 'id': '1458314385512796162', 'text': 'Severity: 🔥🔥  | Vulnerability in the MySQL Server produc... | CVE-2021-2479 | Link for more: https://t.co/bpaGaW3TPu'}, {'public_metrics': {'retweet_count': 0, 'reply_count': 0, 'like_count': 0, 'quote_count': 0}, 'created_at': '2021-11-10T06:03:02.000Z', 'author_id': '1437489413043408903', 'id': '1458314234899492871', 'text': 'Severity: 🔥🔥  | Vulnerability in the MySQL Server produc... | CVE-2021-35591 | Link for more: https://t.co/WLswDK4bBb'}, {'public_metrics': {'retweet_count': 0, 'reply_count': 0, 'like_count': 0, 'quote_count': 0}, 'created_at': '2021-11-10T06:02:26.000Z', 'author_id': '1437489413043408903', 'id': '1458314084479168513', 'text': 'Severity: 🔥🔥  | Vulnerability in the MySQL Server produc... | CVE-2021-2481 | Link for more: https://t.co/g2oZl1IFJp'}, {'public_metrics': {'retweet_count': 0, 'reply_count': 0, 'like_count': 0, 'quote_count': 0}, 'created_at': '2021-11-10T06:01:50.000Z', 'author_id': '1437489413043408903', 'id': '1458313933886922758', 'text': 'Severity: 🔥🔥  | Vulnerability in the MySQL Server produc... | CVE-2021-35546 | Link for more: https://t.co/aDem1gvshg'}, {'public_metrics': {'retweet_count': 0, 'reply_count': 0, 'like_count': 0, 'quote_count': 0}, 'created_at': '2021-11-10T06:01:14.000Z', 'author_id': '1437489413043408903', 'id': '1458313781776322561', 'text': 'Severity: 🔥🔥  | Vulnerability in the MySQL Server produc... | CVE-2021-35575 | Link for more: https://t.co/yUo6M44aKm'}, {'public_metrics': {'retweet_count': 0, 'reply_count': 0, 'like_count': 0, 'quote_count': 0}, 'created_at': '2021-11-10T06:00:38.000Z', 'author_id': '1437489413043408903', 'id': '1458313631485988866', 'text': 'Severity: 🔥🔥  | Vulnerability in the MySQL Server produc... | CVE-2021-35577 | Link for more: https://t.co/3iavJDb8Ey'}, {'public_metrics': {'retweet_count': 0, 'reply_count': 0, 'like_count': 0, 'quote_count': 0}, 'created_at': '2021-11-10T05:44:55.000Z', 'attachments': {'media_keys': ['3_1458309665616326656']}, 'author_id': '1028967670568378370', 'id': '1458309676194357249', 'text': 'I just Pwned Driver in Hack the box ! \\n(smb-scf exploit, responder, hashcat, evil-winrm, CVE-2021-1675 ) https://t.co/9rC20lNXFX'}, {'public_metrics': {'retweet_count': 0, 'reply_count': 0, 'like_count': 0, 'quote_count': 0}, 'created_at': '2021-11-10T05:19:32.000Z', 'author_id': '904129001723011072', 'id': '1458303287950823425', 'text': '🚨 NEW: CVE-2021-3927 🚨 vim is vulnerable to Heap-based Buffer Overflow Severity: HIGH https://t.co/vayWubdKln'}, {'public_metrics': {'retweet_count': 0, 'reply_count': 0, 'like_count': 0, 'quote_count': 0}, 'created_at': '2021-11-10T05:19:32.000Z', 'author_id': '904129001723011072', 'id': '1458303287808102401', 'text': '🚨 NEW: CVE-2021-3928 🚨 vim is vulnerable to Stack-based Buffer Overflow Severity: HIGH https://t.co/phRZzCWHx2'}, {'public_metrics': {'retweet_count': 2, 'reply_count': 1, 'like_count': 8, 'quote_count': 0}, 'created_at': '2021-11-10T05:08:43.000Z', 'attachments': {'media_keys': ['3_1458300549229854721']}, 'author_id': '881355034503532545', 'id': '1458300566220595208', 'text': \"#북한 #NorthKorea #CyberWar #CVE_2021_40444\\n\\nCVE-2021-40444 취약점을 이용한 북한의 대남 사이버 공격이 증가하고 있습니다.\\n\\n지금 즉시 사용중인 'MS 운영체제' 및 'MS 오피스' 프로그램을 최신 버전으로 업데이트 하시길 강력 권고드립니다. https://t.co/y9dhPmYz6o\"}, {'public_metrics': {'retweet_count': 0, 'reply_count': 0, 'like_count': 0, 'quote_count': 0}, 'created_at': '2021-11-10T04:47:33.000Z', 'author_id': '61508180', 'id': '1458295239089721345', 'text': 'Microsoft patches actively exploited Exchange, Excel zero-days (CVE-2021-42321, CVE-2021-42292) https://t.co/spcNpXl0K6'}, {'public_metrics': {'retweet_count': 5, 'reply_count': 0, 'like_count': 40, 'quote_count': 1}, 'created_at': '2021-11-10T04:44:30.000Z', 'author_id': '14624478', 'id': '1458294470768828423', 'text': 'Çok kritik yeni bir Exchange server yaması daha yayınlandı.Aktif şekilde saldırganlar tarafından kullanıldığı tespit edilen bir 0-day açığı sayesinde saldırganlar Exchange 2016 ve 2019 üzerinde uzaktan yetkisiz şekilde kod çalıştırabiliyorlar.Yama zamanı.\\nhttps://t.co/9HfPlOR2E7'}, {'public_metrics': {'retweet_count': 0, 'reply_count': 0, 'like_count': 0, 'quote_count': 0}, 'created_at': '2021-11-10T04:19:33.000Z', 'author_id': '904129001723011072', 'id': '1458288191501373442', 'text': '🚨 NEW: CVE-2021-2478 🚨 Vulnerability in the MySQL Server product of Oracle MySQL (component: Server: DML). Supported versions that are affected are 8.0.26 and prior. Easily exploitable vulnerability allows high pr... (click for more) Severity: MEDIUM https://t.co/GSeIxjjVnO'}, {'public_metrics': {'retweet_count': 0, 'reply_count': 0, 'like_count': 0, 'quote_count': 0}, 'created_at': '2021-11-10T04:19:33.000Z', 'author_id': '904129001723011072', 'id': '1458288191497244674', 'text': '🚨 NEW: CVE-2021-35596 🚨 Vulnerability in the MySQL Server product of Oracle MySQL (component: Server: Error Handling). Supported versions that are affected are 8.0.26 and prior. Easily exploitable vulnerability all... (click for more) Severity: MEDIUM https://t.co/WordS47NQk'}, {'public_metrics': {'retweet_count': 0, 'reply_count': 0, 'like_count': 0, 'quote_count': 0}, 'created_at': '2021-11-10T04:19:33.000Z', 'author_id': '904129001723011072', 'id': '1458288191488802824', 'text': '🚨 NEW: CVE-2021-2479 🚨 Vulnerability in the MySQL Server product of Oracle MySQL (component: Server: DML). Supported versions that are affected are 8.0.26 and prior. Easily exploitable vulnerability allows high pr... (click for more) Severity: MEDIUM https://t.co/vSVxJHFBiC'}, {'public_metrics': {'retweet_count': 0, 'reply_count': 0, 'like_count': 0, 'quote_count': 0}, 'created_at': '2021-11-10T04:19:33.000Z', 'author_id': '904129001723011072', 'id': '1458288191484702730', 'text': '🚨 NEW: CVE-2021-2481 🚨 Vulnerability in the MySQL Server product of Oracle MySQL (component: Server: Optimizer). Supported versions that are affected are 8.0.26 and prior. Easily exploitable vulnerability allows l... (click for more) Severity: MEDIUM https://t.co/GgtT4acug0'}, {'public_metrics': {'retweet_count': 0, 'reply_count': 0, 'like_count': 0, 'quote_count': 0}, 'created_at': '2021-11-10T04:19:33.000Z', 'author_id': '904129001723011072', 'id': '1458288191459495938', 'text': '🚨 NEW: CVE-2021-35546 🚨 Vulnerability in the MySQL Server product of Oracle MySQL (component: Server: Replication). Supported versions that are affected are 8.0.26 and prior. Easily exploitable vulnerability allows... (click for more) Severity: MEDIUM https://t.co/izvha1jzOh'}, {'public_metrics': {'retweet_count': 0, 'reply_count': 0, 'like_count': 0, 'quote_count': 0}, 'created_at': '2021-11-10T04:19:33.000Z', 'author_id': '904129001723011072', 'id': '1458288191430172672', 'text': '🚨 NEW: CVE-2021-35577 🚨 Vulnerability in the MySQL Server product of Oracle MySQL (component: Server: Optimizer). Supported versions that are affected are 8.0.26 and prior. Easily exploitable vulnerability allows h... (click for more) Severity: MEDIUM https://t.co/VcAladdjKZ'}, {'public_metrics': {'retweet_count': 0, 'reply_count': 0, 'like_count': 0, 'quote_count': 0}, 'created_at': '2021-11-10T04:19:33.000Z', 'author_id': '904129001723011072', 'id': '1458288191417556999', 'text': '🚨 NEW: CVE-2021-35591 🚨 Vulnerability in the MySQL Server product of Oracle MySQL (component: Server: DML). Supported versions that are affected are 8.0.26 and prior. Easily exploitable vulnerability allows high pr... (click for more) Severity: MEDIUM https://t.co/fpwaE9LFCk'}, {'public_metrics': {'retweet_count': 0, 'reply_count': 0, 'like_count': 0, 'quote_count': 0}, 'created_at': '2021-11-10T04:19:33.000Z', 'author_id': '904129001723011072', 'id': '1458288191417507844', 'text': '🚨 NEW: CVE-2021-35575 🚨 Vulnerability in the MySQL Server product of Oracle MySQL (component: Server: Optimizer). Supported versions that are affected are 8.0.26 and prior. Easily exploitable vulnerability allows h... (click for more) Severity: MEDIUM https://t.co/0D00qxsdIP'}, {'public_metrics': {'retweet_count': 0, 'reply_count': 0, 'like_count': 0, 'quote_count': 0}, 'created_at': '2021-11-10T04:19:33.000Z', 'author_id': '904129001723011072', 'id': '1458288191404916736', 'text': '🚨 NEW: CVE-2021-35597 🚨 Vulnerability in the MySQL Client product of Oracle MySQL (component: C API). Supported versions that are affected are 8.0.26 and prior. Easily exploitable vulnerability allows low privilege... (click for more) Severity: MEDIUM https://t.co/Yi7nP0EThk'}, {'public_metrics': {'retweet_count': 0, 'reply_count': 0, 'like_count': 0, 'quote_count': 0}, 'created_at': '2021-11-10T04:19:33.000Z', 'author_id': '904129001723011072', 'id': '1458288191354585090', 'text': '🚨 NEW: CVE-2021-35602 🚨 Vulnerability in the MySQL Server product of Oracle MySQL (component: Server: Options). Supported versions that are affected are 8.0.26 and prior. Difficult to exploit vulnerability allows h... (click for more) Severity: MEDIUM https://t.co/0NnF3dkfRC'}, {'public_metrics': {'retweet_count': 0, 'reply_count': 0, 'like_count': 0, 'quote_count': 0}, 'created_at': '2021-11-10T04:19:33.000Z', 'author_id': '904129001723011072', 'id': '1458288191329521667', 'text': '🚨 NEW: CVE-2021-35608 🚨 Vulnerability in the MySQL Server product of Oracle MySQL (component: Server: Group Replication Plugin). Supported versions that are affected are 8.0.26 and prior. Difficult to exploit vulne... (click for more) Severity: MEDIUM https://t.co/1gzkc5cdnY'}, {'public_metrics': {'retweet_count': 0, 'reply_count': 0, 'like_count': 0, 'quote_count': 0}, 'created_at': '2021-11-10T04:19:33.000Z', 'author_id': '904129001723011072', 'id': '1458288191325282306', 'text': '🚨 NEW: CVE-2021-35610 🚨 Vulnerability in the MySQL Server product of Oracle MySQL (component: Server: Optimizer). Supported versions that are affected are 8.0.26 and prior. Easily exploitable vulnerability allows l... (click for more) Severity: HIGH https://t.co/SKhRqAzD0X'}, {'public_metrics': {'retweet_count': 0, 'reply_count': 0, 'like_count': 0, 'quote_count': 0}, 'created_at': '2021-11-10T04:19:33.000Z', 'author_id': '904129001723011072', 'id': '1458288191312736262', 'text': '🚨 NEW: CVE-2021-35607 🚨 Vulnerability in the MySQL Server product of Oracle MySQL (component: Server: DML). Supported versions that are affected are 8.0.26 and prior. Easily exploitable vulnerability allows low pri... (click for more) Severity: MEDIUM https://t.co/5HvmfVyqsh'}, {'public_metrics': {'retweet_count': 0, 'reply_count': 0, 'like_count': 0, 'quote_count': 0}, 'created_at': '2021-11-10T04:19:33.000Z', 'author_id': '904129001723011072', 'id': '1458288191295967233', 'text': '🚨 NEW: CVE-2021-35604 🚨 Vulnerability in the MySQL Server product of Oracle MySQL (component: InnoDB). Supported versions that are affected are 5.7.35 and prior and 8.0.26 and prior. Easily exploitable vulnerabilit... (click for more) Severity: MEDIUM https://t.co/WrRNZ22aie'}, {'public_metrics': {'retweet_count': 0, 'reply_count': 0, 'like_count': 0, 'quote_count': 0}, 'created_at': '2021-11-10T04:15:33.000Z', 'author_id': '1345711683147186177', 'id': '1458287185610743808', 'text': 'IT Risk:\\nIntel.Multiple vulnerabilities in Graphics Drivers\\nWindows\\nIncreased Privileges\\nDenial of Service \\nCVE-2021-0121 CVE-2021-0120 CVE-2021-012\\nhttps://t.co/tjZNYJor7b\\nhttps://t.co/XiYF5VNNJV'}, {'public_metrics': {'retweet_count': 0, 'reply_count': 0, 'like_count': 0, 'quote_count': 0}, 'created_at': '2021-11-10T04:15:27.000Z', 'author_id': '1345711683147186177', 'id': '1458287162399473669', 'text': 'IT Risk:\\nhttps://t.co/LKjpkYElGs Driversに複数の脆弱性\\nWindows\\nIncreased Privileges\\nDenial of Service \\nCVE-2021-0121 CVE-2021-0120 CVE-2021-012\\nhttps://t.co/tjZNYJor7b\\nhttps://t.co/XiYF5VNNJV'}, {'public_metrics': {'retweet_count': 0, 'reply_count': 0, 'like_count': 0, 'quote_count': 0}, 'created_at': '2021-11-10T04:13:23.000Z', 'author_id': '1345711683147186177', 'id': '1458286640183402501', 'text': 'IT Risk:\\nIntel.Multiple vulnerabilities in Intel Ethernet Drivers\\nWindows/UNIX variants (UNIX, Linux, OSX)\\nIncreased Privileges\\nDenial of Service \\nCVE-2021-33098 CVE-2021-33059 CVE-2021-33058\\nhttps://t.co/fqd3eRhBHG\\nhttps://t.co/kj7b0Y41Ba'}, {'public_metrics': {'retweet_count': 0, 'reply_count': 0, 'like_count': 0, 'quote_count': 0}, 'created_at': '2021-11-10T04:13:16.000Z', 'author_id': '1345711683147186177', 'id': '1458286610777210885', 'text': 'IT Risk:\\nhttps://t.co/NT6YrQ9BVF Ethernet Driversに複数の脆弱性\\nWindows/UNIX variants (UNIX, Linux, OSX)\\nIncreased Privileges\\nDenial of Service \\nCVE-2021-33098 CVE-2021-33059 CVE-2021-33058\\nhttps://t.co/fqd3eRhBHG\\nhttps://t.co/kj7b0Y41Ba'}, {'public_metrics': {'retweet_count': 0, 'reply_count': 0, 'like_count': 0, 'quote_count': 0}, 'created_at': '2021-11-10T04:11:18.000Z', 'author_id': '1345711683147186177', 'id': '1458286117132779520', 'text': 'IT Risk:\\nIntel.Ethernet Diagnostic Driver Vulnerability\\nWindows\\nIncreased Privileges\\nCVE-2021-0135\\nhttps://t.co/kvfwba4ioy\\nhttps://t.co/Z9Fn4IjDLC'}, {'public_metrics': {'retweet_count': 0, 'reply_count': 0, 'like_count': 0, 'quote_count': 0}, 'created_at': '2021-11-10T04:11:09.000Z', 'author_id': '1345711683147186177', 'id': '1458286078893314051', 'text': 'IT Risk:\\nIntel.Ethernet Diagnostic Driverに脆弱性\\nWindows\\nIncreased Privileges\\nCVE-2021-0135\\nhttps://t.co/kvfwba4ioy\\nhttps://t.co/Z9Fn4IjDLC'}, {'public_metrics': {'retweet_count': 0, 'reply_count': 0, 'like_count': 0, 'quote_count': 0}, 'created_at': '2021-11-10T04:09:24.000Z', 'author_id': '1345711683147186177', 'id': '1458285639057612800', 'text': 'IT Risk:\\nIntel.Multiple vulnerabilities in Ethernet controllers\\nWindows/NIX variants (UNIX, Linux, OSX)\\nIncreased Privileges\\nDenial of Service \\nCVE-2021-0200 CVE-2021-0199 CVE-2021-0198 CVE-2021-0197 \\nhttps://t.co/CG8ieyh2A8\\nhttps://t.co/flvJfFvAI9'}, {'public_metrics': {'retweet_count': 0, 'reply_count': 0, 'like_count': 0, 'quote_count': 0}, 'created_at': '2021-11-10T04:09:17.000Z', 'author_id': '1345711683147186177', 'id': '1458285610058207235', 'text': 'IT Risk:\\nIntel.Ethernet controllersに複数の脆弱性\\nWindows/NIX variants (UNIX, Linux, OSX)\\nIncreased Privileges\\nDenial of Service \\nCVE-2021-0200 CVE-2021-0199 CVE-2021-0198 CVE-2021-0197 \\nhttps://t.co/CG8ieyh2A8\\nhttps://t.co/flvJfFvAI9'}, {'public_metrics': {'retweet_count': 0, 'reply_count': 0, 'like_count': 0, 'quote_count': 0}, 'created_at': '2021-11-10T04:08:03.000Z', 'author_id': '1109319878828130305', 'id': '1458285300568965122', 'text': '(Same from about 24 hours ago.)\\nI think that the most retweeted(108 times) tweet that contains CVE ID between Nov 9 2021 04:01 UTC and Nov 10 2021 04:00 UTC is:\\nhttps://t.co/PqqFkkatKQ\\nIt has CVE-2021-40449. #l24_qak5lrlulueoo'}, {'public_metrics': {'retweet_count': 0, 'reply_count': 0, 'like_count': 0, 'quote_count': 0}, 'created_at': '2021-11-10T04:08:02.000Z', 'author_id': '1109319878828130305', 'id': '1458285295334461445', 'text': '(Same from about 2 hours ago.)\\nI think that the second retweeted(51 times) tweet that contains CVE ID between Nov 9 2021 04:01 UTC and Nov 10 2021 04:00 UTC is:\\nhttps://t.co/Xh4ZezVu5P\\nIt has CVE-2021-42292. #l24_3hbseibsjw5bu'}, {'public_metrics': {'retweet_count': 0, 'reply_count': 0, 'like_count': 0, 'quote_count': 0}, 'created_at': '2021-11-10T04:08:01.000Z', 'author_id': '1109319878828130305', 'id': '1458285290045456387', 'text': '(Same from about 2 hours ago.)\\nI think that the third retweeted(42 times) tweet that contains CVE ID between Nov 9 2021 04:01 UTC and Nov 10 2021 04:00 UTC is:\\nhttps://t.co/CqMqC9ZKuv\\nIt has CVE-2021-42292. #l24_3hbseibsjw5bu'}, {'public_metrics': {'retweet_count': 0, 'reply_count': 0, 'like_count': 0, 'quote_count': 0}, 'created_at': '2021-11-10T04:06:48.000Z', 'author_id': '1345711683147186177', 'id': '1458284985689903105', 'text': 'IT Risk:\\nIntel.Vulnerability in Endpoint Management Assistant (EMA)\\nWindows\\nDenial of Service \\nCVE-2021-0013\\nhttps://t.co/56PcEPlOAM\\nhttps://t.co/mfH3xzz4nS'}, {'public_metrics': {'retweet_count': 0, 'reply_count': 0, 'like_count': 0, 'quote_count': 0}, 'created_at': '2021-11-10T04:06:42.000Z', 'author_id': '1345711683147186177', 'id': '1458284958498189315', 'text': 'IT Risk:\\nIntel.Endpoint Management Assistant (EMA)に脆弱性\\nWindows\\nDenial of Service \\nCVE-2021-0013\\nhttps://t.co/56PcEPlOAM\\nhttps://t.co/mfH3xzz4nS'}, {'public_metrics': {'retweet_count': 0, 'reply_count': 0, 'like_count': 0, 'quote_count': 0}, 'created_at': '2021-11-10T04:04:49.000Z', 'author_id': '1437489413043408903', 'id': '1458284486349627399', 'text': 'Severity: 🔥🔥🔥  | A shell command injection in the HW Even... | CVE-2021-42372 | Link for more: https://t.co/UCrE99ypDL'}, {'public_metrics': {'retweet_count': 0, 'reply_count': 0, 'like_count': 0, 'quote_count': 0}, 'created_at': '2021-11-10T04:04:45.000Z', 'author_id': '1345711683147186177', 'id': '1458284469467574272', 'text': 'IT Risk:\\nIntel.Vulnerability in OpenVINO Toolkit\\nWindows/UNIX variants (UNIX, Linux, OSX)\\nDenial of Service\\nCVE-2021-33073\\nhttps://t.co/8niD8jd8Mm\\nhttps://t.co/qqSUNkTHFU'}, {'public_metrics': {'retweet_count': 0, 'reply_count': 0, 'like_count': 0, 'quote_count': 0}, 'created_at': '2021-11-10T04:04:34.000Z', 'author_id': '1345711683147186177', 'id': '1458284422965256199', 'text': 'IT Risk:\\nIntel.OpenVINO Toolkitに脆弱性\\nWindows/UNIX variants (UNIX, Linux, OSX)\\nDenial of Service\\nCVE-2021-33073\\nhttps://t.co/8niD8jd8Mm\\nhttps://t.co/qqSUNkTHFU'}, {'public_metrics': {'retweet_count': 0, 'reply_count': 0, 'like_count': 0, 'quote_count': 0}, 'created_at': '2021-11-10T04:04:23.000Z', 'author_id': '1345711683147186177', 'id': '1458284373959081984', 'text': 'IT Risk:\\nIntel.Vulnerability in Crypto API Toolkit\\nLinux variants\\nIncreased Privileges\\nCVE-2021-33097\\nhttps://t.co/RebpPtqcpq\\nhttps://t.co/NHHdOgwDx3'}, {'public_metrics': {'retweet_count': 0, 'reply_count': 0, 'like_count': 0, 'quote_count': 0}, 'created_at': '2021-11-10T04:04:13.000Z', 'author_id': '1437489413043408903', 'id': '1458284335950286850', 'text': 'Severity: 🔥🔥🔥  | lpar2rrd is a hardcoded system account i... | CVE-2021-42371 | Link for more: https://t.co/VvS23NVy8E'}, {'public_metrics': {'retweet_count': 0, 'reply_count': 0, 'like_count': 0, 'quote_count': 0}, 'created_at': '2021-11-10T04:03:37.000Z', 'author_id': '1437489413043408903', 'id': '1458284183936114693', 'text': 'Severity: 🔥  | IBM Security Guardium 10.5, 10.6, 11.0, ... | CVE-2021-29735 | Link for more: https://t.co/DLfDDp0iYa'}, {'public_metrics': {'retweet_count': 0, 'reply_count': 0, 'like_count': 0, 'quote_count': 0}, 'created_at': '2021-11-10T04:03:01.000Z', 'author_id': '1437489413043408903', 'id': '1458284033553563654', 'text': 'Severity: 🔥🔥  | The Genie WP Favicon WordPress plugin th... | CVE-2021-24674 | Link for more: https://t.co/D1rWLUnIPK'}, {'public_metrics': {'retweet_count': 0, 'reply_count': 0, 'like_count': 0, 'quote_count': 0}, 'created_at': '2021-11-10T04:02:25.000Z', 'author_id': '1437489413043408903', 'id': '1458283883124822016', 'text': 'Severity: 🔥🔥  | IBM MQ 9.1 LTS, 9.1 CD, 9.2 LTS, and 9.2... | CVE-2021-29843 | Link for more: https://t.co/Jcs8v1vMxX'}, {'public_metrics': {'retweet_count': 0, 'reply_count': 0, 'like_count': 0, 'quote_count': 0}, 'created_at': '2021-11-10T04:01:50.000Z', 'author_id': '1437489413043408903', 'id': '1458283732532531204', 'text': 'Severity: 🔥🔥  | The Unlimited PopUps WordPress plugin th... | CVE-2021-24631 | Link for more: https://t.co/Ww2NPnfxot'}, {'public_metrics': {'retweet_count': 0, 'reply_count': 0, 'like_count': 0, 'quote_count': 0}, 'created_at': '2021-11-10T04:01:14.000Z', 'author_id': '1437489413043408903', 'id': '1458283582288367617', 'text': 'Severity: 🔥  | The School Management System â€“ WPSchoo... | CVE-2021-24664 | Link for more: https://t.co/sFQfGHgYoD'}, {'public_metrics': {'retweet_count': 0, 'reply_count': 1, 'like_count': 0, 'quote_count': 0}, 'created_at': '2021-11-10T04:01:03.000Z', 'author_id': '1345711683147186177', 'id': '1458283537451261962', 'text': 'IT Risk:\\nIntel.Multiple vulnerabilities in Core Processors with Radeon RX Vega M GL Graphics -1/3\\nWindows\\nIncreased Privileges\\nDenial of Service\\nAccess Confidential Data\\nCVE-2021-33105 CVE-2020-12987 CVE-2020-12986 CVE-2020-12985 CVE-2020-12983 CVE-2020-12982 CVE-2020-12981'}, {'public_metrics': {'retweet_count': 0, 'reply_count': 0, 'like_count': 0, 'quote_count': 0}, 'created_at': '2021-11-10T04:00:38.000Z', 'author_id': '1437489413043408903', 'id': '1458283431670939654', 'text': 'Severity: 🔥🔥  | The MAZ Loader â€“ Preloader Builder for... | CVE-2021-24669 | Link for more: https://t.co/QglAHMpnRE'}, {'public_metrics': {'retweet_count': 0, 'reply_count': 1, 'like_count': 0, 'quote_count': 0}, 'created_at': '2021-11-10T03:59:14.000Z', 'author_id': '1345711683147186177', 'id': '1458283078883758082', 'text': 'IT Risk:\\nIntel.Core Processors with Radeon RX Vega M GL Graphicsに複数の脆弱性 -1/3\\nWindows\\nIncreased Privileges\\nDenial of Service\\nAccess Confidential Data\\nCVE-2021-33105 CVE-2020-12987 CVE-2020-12986 CVE-2020-12985 CVE-2020-12983 CVE-2020-12982 CVE-2020-12981 CVE-2020-12980'}, {'public_metrics': {'retweet_count': 0, 'reply_count': 0, 'like_count': 0, 'quote_count': 0}, 'created_at': '2021-11-10T03:55:08.000Z', 'author_id': '1345711683147186177', 'id': '1458282046556545029', 'text': 'IT Risk:\\nIntel.Crypto API Toolkitに脆弱性\\nLinux variants\\nIncreased Privileges\\nCVE-2021-33097\\nhttps://t.co/RebpPtqcpq\\nhttps://t.co/NHHdOgwDx3'}, {'public_metrics': {'retweet_count': 0, 'reply_count': 0, 'like_count': 0, 'quote_count': 0}, 'created_at': '2021-11-10T03:51:44.000Z', 'author_id': '1450380687580663816', 'id': '1458281191832969216', 'text': 'https://t.co/C8AdoAtPve'}, {'public_metrics': {'retweet_count': 0, 'reply_count': 0, 'like_count': 0, 'quote_count': 0}, 'created_at': '2021-11-10T03:49:57.000Z', 'author_id': '1096056138569842688', 'id': '1458280742102917122', 'text': 'Let the annals of the day show that CVE-2021-37157... has been granted the moniker Sunken Ghoul\\nhttps://t.co/Se1XfpUyr1'}, {'public_metrics': {'retweet_count': 0, 'reply_count': 0, 'like_count': 0, 'quote_count': 0}, 'created_at': '2021-11-10T03:49:32.000Z', 'author_id': '904129001723011072', 'id': '1458280639984128005', 'text': '🚨 NEW: CVE-2021-42343 🚨 An issue was discovered in Dask (aka python-dask) through 2021.09.1. Single machine Dask clusters started with dask.distributed.LocalCluster or dask.distributed.Client (which defaults to usi... (click for more) Severity: CRITICAL https://t.co/pic9Y6TBoD'}, {'public_metrics': {'retweet_count': 0, 'reply_count': 0, 'like_count': 0, 'quote_count': 0}, 'created_at': '2021-11-10T03:46:03.000Z', 'author_id': '1098266147915485184', 'id': '1458279762082746369', 'text': 'CVE-2021-37157 https://t.co/pyW1mnhJfX #TribeSecure #CyberAwareness'}, {'public_metrics': {'retweet_count': 0, 'reply_count': 0, 'like_count': 0, 'quote_count': 0}, 'created_at': '2021-11-10T03:46:02.000Z', 'author_id': '1098266147915485184', 'id': '1458279756772691972', 'text': 'CVE-2021-37158 https://t.co/yCcapEG9kn #TribeSecure #CyberAwareness'}, {'public_metrics': {'retweet_count': 0, 'reply_count': 0, 'like_count': 0, 'quote_count': 0}, 'created_at': '2021-11-10T03:36:21.000Z', 'author_id': '1096056138569842688', 'id': '1458277321895563265', 'text': 'I declare CVE-2021-37158 to be named Dejected Mallard\\nhttps://t.co/0beQ6OBfOJ'}, {'public_metrics': {'retweet_count': 0, 'reply_count': 0, 'like_count': 0, 'quote_count': 0}, 'created_at': '2021-11-10T03:30:30.000Z', 'author_id': '1096056138569842688', 'id': '1458275847660609538', 'text': 'Let the annals of the day show that CVE-2021-43575... has been granted the moniker Pilotless Alpaca\\nhttps://t.co/8JpYyjpvPM'}, {'public_metrics': {'retweet_count': 0, 'reply_count': 0, 'like_count': 0, 'quote_count': 0}, 'created_at': '2021-11-10T03:19:33.000Z', 'author_id': '904129001723011072', 'id': '1458273091331702787', 'text': '🚨 NEW: CVE-2021-37726 🚨 A remote buffer overflow vulnerability was discovered in HPE Aruba Instant (IAP) version(s): Aruba Instant 8.7.x.x: 8.7.0.0 through 8.7.1.2. Aruba has released patches for Aruba Instant (IAP... (click for more) Severity: CRITICAL https://t.co/9kvbxTXgr6'}, {'public_metrics': {'retweet_count': 0, 'reply_count': 0, 'like_count': 0, 'quote_count': 0}, 'created_at': '2021-11-10T03:13:03.000Z', 'attachments': {'media_keys': ['3_1458271457268494336']}, 'author_id': '1002585844958597120', 'id': '1458271459462111235', 'text': 'CVE-2021-42280: Windows Feedback Hub Elevation of Privilege Vulnerability Alert https://t.co/WjaotLkMaC https://t.co/LFI4gTU0Jk'}, {'public_metrics': {'retweet_count': 0, 'reply_count': 0, 'like_count': 0, 'quote_count': 0}, 'created_at': '2021-11-10T03:07:53.000Z', 'author_id': '1096056138569842688', 'id': '1458270158246580229', 'text': 'My real name is CVE-2021-35489 but all my friends call me Purdy Kalong\\nhttps://t.co/KEYLyW2r0m'}, {'public_metrics': {'retweet_count': 1, 'reply_count': 0, 'like_count': 0, 'quote_count': 0}, 'created_at': '2021-11-10T03:06:48.000Z', 'author_id': '233467047', 'id': '1458269883079168001', 'text': 'CVE-2021-42280: #Windows Feedback Hub Elevation of Privilege #Vulnerability Alert\\nhttps://t.co/5T3Q0685RL'}, {'public_metrics': {'retweet_count': 0, 'reply_count': 0, 'like_count': 0, 'quote_count': 0}, 'created_at': '2021-11-10T03:00:38.000Z', 'author_id': '1437489413043408903', 'id': '1458268331773808640', 'text': 'Severity: 🔥🔥  | A password mismanagement situation exist... | CVE-2021-42370 | Link for more: https://t.co/FqwLp63Teh'}, {'public_metrics': {'retweet_count': 0, 'reply_count': 0, 'like_count': 1, 'quote_count': 0}, 'created_at': '2021-11-10T02:56:54.000Z', 'attachments': {'media_keys': ['3_1458264496003338242']}, 'author_id': '1967824027', 'id': '1458267393248178177', 'text': '#CRITICO Más de 55 Vulnerabilidades criticas advierte Microsoft 9 de Noviembre del 2021 CVE-2021-42298 CVE-2021-38631  CVE-2021-41371 CVE-2021-42292 @AgeticBolivia https://t.co/yQFFTarNH8 @LaRazon_Bolivia @ANBOLIVIA \\n@TsunamiBoom https://t.co/ntgmbp0yWp'}, {'public_metrics': {'retweet_count': 0, 'reply_count': 0, 'like_count': 0, 'quote_count': 0}, 'created_at': '2021-11-10T02:49:32.000Z', 'author_id': '904129001723011072', 'id': '1458265539298861056', 'text': '🚨 NEW: CVE-2021-43056 🚨 An issue was discovered in the Linux kernel for powerpc before 5.14.15. It allows a malicious KVM guest to crash the host, when the host is running on Power8, due to an arch/powerpc/kvm/book... (click for more) Severity: MEDIUM https://t.co/ZDeh8DKkdY'}, {'public_metrics': {'retweet_count': 0, 'reply_count': 0, 'like_count': 0, 'quote_count': 0}, 'created_at': '2021-11-10T02:49:32.000Z', 'author_id': '904129001723011072', 'id': '1458265538950488071', 'text': '🚨 NEW: CVE-2021-24674 🚨 The Genie WP Favicon WordPress plugin through 0.5.2 does not have CSRF in place when updating the favicon, which could allow attackers to make a logged in admin change it via a CSRF attack Severity: MEDIUM https://t.co/0mryuPBLlm'}, {'public_metrics': {'retweet_count': 0, 'reply_count': 0, 'like_count': 0, 'quote_count': 0}, 'created_at': '2021-11-10T02:49:32.000Z', 'author_id': '904129001723011072', 'id': '1458265538904350720', 'text': '🚨 NEW: CVE-2021-24669 🚨 The MAZ Loader â€“ Preloader Builder for WordPress plugin before 1.3.3 does not validate or escape the loader_id parameter of the mzldr shortcode, which allows users with a role as low as Co... (click for more) Severity: HIGH https://t.co/OqZyx0c8eh'}, {'public_metrics': {'retweet_count': 0, 'reply_count': 0, 'like_count': 0, 'quote_count': 0}, 'created_at': '2021-11-10T02:49:32.000Z', 'author_id': '904129001723011072', 'id': '1458265538900156422', 'text': '🚨 NEW: CVE-2021-24664 🚨 The School Management System â€“ WPSchoolPress WordPress plugin before 2.1.17 sanitise some fields using sanitize_text_field() but does not escape them before outputting in attributes, resul... (click for more) Severity: MEDIUM https://t.co/kc85mGMCHg'}, {'public_metrics': {'retweet_count': 0, 'reply_count': 0, 'like_count': 0, 'quote_count': 0}, 'created_at': '2021-11-10T02:49:32.000Z', 'author_id': '904129001723011072', 'id': '1458265538887573509', 'text': '🚨 NEW: CVE-2021-29843 🚨 IBM MQ 9.1 LTS, 9.1 CD, 9.2 LTS, and 9.2CD is vulnerable to a denial of service attack caused by an issue processing message properties. IBM X-Force ID: 205203. Severity: MEDIUM https://t.co/uPi8tlxrWW'}, {'public_metrics': {'retweet_count': 2, 'reply_count': 0, 'like_count': 3, 'quote_count': 0}, 'created_at': '2021-11-10T02:45:08.000Z', 'author_id': '821806287461740544', 'id': '1458264430819545093', 'text': 'CVE-2021-22870 A path traversal vulnerability was identified in GitHub Pages builds on GitHub Enterprise Server that could allow an attacker to read system files. To exploit this vulnerability, an attacker would need permission to create and build... https://t.co/jAucyP1Yg2'}, {'public_metrics': {'retweet_count': 0, 'reply_count': 0, 'like_count': 0, 'quote_count': 0}, 'created_at': '2021-11-10T02:19:32.000Z', 'author_id': '904129001723011072', 'id': '1458257990407098373', 'text': '🚨 NEW: CVE-2021-42372 🚨 A shell command injection in the HW Events SNMP community in XoruX LPAR2RRD and STOR2RRD before 7.30 allows authenticated remote attackers to execute arbitrary shell commands as the user run... (click for more) Severity: HIGH https://t.co/p4lZkPbfOB'}, {'public_metrics': {'retweet_count': 0, 'reply_count': 0, 'like_count': 0, 'quote_count': 0}, 'created_at': '2021-11-10T02:19:32.000Z', 'author_id': '904129001723011072', 'id': '1458257990390272004', 'text': '🚨 NEW: CVE-2021-43209 🚨 3D Viewer Remote Code Execution Vulnerability This CVE ID is unique from CVE-2021-43208. Severity: [object Object] https://t.co/gu3qWm6sJ4'}, {'public_metrics': {'retweet_count': 0, 'reply_count': 0, 'like_count': 0, 'quote_count': 0}, 'created_at': '2021-11-10T02:19:32.000Z', 'author_id': '904129001723011072', 'id': '1458257990356717568', 'text': '🚨 NEW: CVE-2021-29735 🚨 IBM Security Guardium 10.5, 10.6, 11.0, 11.1, 11.2, and 11.3 is vulnerable to cross-site scripting. This vulnerability allows users to embed arbitrary JavaScript code in the Web UI thus alte... (click for more) Severity: MEDIUM https://t.co/K6dmd9yeId'}, {'public_metrics': {'retweet_count': 0, 'reply_count': 0, 'like_count': 0, 'quote_count': 0}, 'created_at': '2021-11-10T02:19:32.000Z', 'author_id': '904129001723011072', 'id': '1458257990348312578', 'text': '🚨 NEW: CVE-2021-24631 🚨 The Unlimited PopUps WordPress plugin through 4.5.3 does not sanitise or escape the did GET parameter before using it in a SQL statement, available to users as low as editor, leading to an a... (click for more) Severity: HIGH https://t.co/dUbXmr8rE5'}, {'public_metrics': {'retweet_count': 0, 'reply_count': 0, 'like_count': 0, 'quote_count': 0}, 'created_at': '2021-11-10T02:19:32.000Z', 'author_id': '904129001723011072', 'id': '1458257990306390016', 'text': '🚨 NEW: CVE-2021-42370 🚨 A password mismanagement situation exists in XoruX LPAR2RRD and STOR2RRD before 7.30 because cleartext information is present in HTML password input fields in the device properties. (Viewing... (click for more) Severity: HIGH https://t.co/jostofzhjb'}, {'public_metrics': {'retweet_count': 0, 'reply_count': 0, 'like_count': 0, 'quote_count': 0}, 'created_at': '2021-11-10T02:19:32.000Z', 'author_id': '904129001723011072', 'id': '1458257990289657859', 'text': '🚨 NEW: CVE-2021-42371 🚨 lpar2rrd is a hardcoded system account in XoruX LPAR2RRD and STOR2RRD before 7.30. Severity: CRITICAL https://t.co/BelJyOCtwK'}, {'public_metrics': {'retweet_count': 0, 'reply_count': 0, 'like_count': 0, 'quote_count': 0}, 'created_at': '2021-11-10T02:08:03.000Z', 'author_id': '1109319878828130305', 'id': '1458255100389072899', 'text': '(Same from about 22 hours ago.)\\nI think that the most retweeted(116 times) tweet that contains CVE ID between Nov 9 2021 02:01 UTC and Nov 10 2021 02:00 UTC is:\\nhttps://t.co/PqqFkkatKQ\\nIt has CVE-2021-40449. #l24_qak5lrlulueoo'}, {'public_metrics': {'retweet_count': 0, 'reply_count': 0, 'like_count': 0, 'quote_count': 0}, 'created_at': '2021-11-10T02:08:02.000Z', 'author_id': '1109319878828130305', 'id': '1458255095175524354', 'text': 'I think that the second retweeted(42 times) tweet that contains CVE ID between Nov 9 2021 02:01 UTC and Nov 10 2021 02:00 UTC is:\\nhttps://t.co/Xh4ZezVu5P\\nIt has CVE-2021-42292. #l24_3hbseibsjw5bu'}, {'public_metrics': {'retweet_count': 0, 'reply_count': 0, 'like_count': 0, 'quote_count': 0}, 'created_at': '2021-11-10T02:08:01.000Z', 'author_id': '1109319878828130305', 'id': '1458255090163322882', 'text': '(second → third)\\nI think that the third retweeted(38 times) tweet that contains CVE ID between Nov 9 2021 02:01 UTC and Nov 10 2021 02:00 UTC is:\\nhttps://t.co/CqMqC9ZKuv\\nIt has CVE-2021-42292. #l24_3hbseibsjw5bu'}, {'public_metrics': {'retweet_count': 0, 'reply_count': 0, 'like_count': 0, 'quote_count': 0}, 'created_at': '2021-11-10T02:07:32.000Z', 'author_id': '1096056138569842688', 'id': '1458254968444657664', 'text': 'My real name is CVE-2021-43570 but all my friends call me Specious Sackbut\\nhttps://t.co/LQKDhyjBgX'}, {'public_metrics': {'retweet_count': 0, 'reply_count': 0, 'like_count': 0, 'quote_count': 0}, 'created_at': '2021-11-10T02:06:00.000Z', 'author_id': '1109319878828130305', 'id': '1458254585756274689', 'text': 'The vuln CVE-2021-42287 has a tweet created 0 days ago and retweeted 20 times.\\nhttps://t.co/XXiXQm3uqD\\n#pow1rtrtwwcve'}, {'public_metrics': {'retweet_count': 0, 'reply_count': 1, 'like_count': 1, 'quote_count': 0}, 'created_at': '2021-11-10T02:05:38.000Z', 'author_id': '82751257', 'id': '1458254491061342208', 'text': 'Subject: [PATCH 001/284] CVE-2021-...\\nうげぇ…。'}, {'public_metrics': {'retweet_count': 0, 'reply_count': 0, 'like_count': 0, 'quote_count': 0}, 'created_at': '2021-11-10T02:02:02.000Z', 'author_id': '1109319878828130305', 'id': '1458253584873701380', 'text': 'I know one more IPS that has a protection/signature/rule for the vulnerability CVE-2021-40539.\\nhttps://t.co/n7OoNl94BE\\n#Svvbjgbwg2ac7e'}, {'public_metrics': {'retweet_count': 0, 'reply_count': 0, 'like_count': 0, 'quote_count': 0}, 'created_at': '2021-11-10T02:02:02.000Z', 'author_id': '1109319878828130305', 'id': '1458253583711932418', 'text': \"It's new to me that proofpoint has a protection/signature/rule for the vulnerability CVE-2021-40539.\\nhttps://t.co/sY7NyXHS4A\\nhttps://t.co/n38ZVGqbNH\\nThe vuln was published 63 days ago by NIST.\\n#Svvbjgbwg2ac7e\"}, {'public_metrics': {'retweet_count': 0, 'reply_count': 0, 'like_count': 0, 'quote_count': 0}, 'created_at': '2021-11-10T02:02:01.000Z', 'author_id': '1109319878828130305', 'id': '1458253582743089154', 'text': 'It is the first time for me to know a protection/signature/rule for the vulnerability CVE-2021-20837.\\n#Scrc2fe6lmsw2s'}, {'public_metrics': {'retweet_count': 0, 'reply_count': 0, 'like_count': 0, 'quote_count': 0}, 'created_at': '2021-11-10T02:02:01.000Z', 'author_id': '1109319878828130305', 'id': '1458253581900034060', 'text': \"It's new to me that proofpoint has a protection/signature/rule for the vulnerability CVE-2021-20837.\\nhttps://t.co/sY7NyXHS4A\\nhttps://t.co/e6zxQGHGJ2\\nThe vuln was published 14 days ago by NIST.\\n#Scrc2fe6lmsw2s\"}, {'public_metrics': {'retweet_count': 0, 'reply_count': 0, 'like_count': 0, 'quote_count': 0}, 'created_at': '2021-11-10T02:00:08.000Z', 'author_id': '1414976114443882503', 'id': '1458253108899942410', 'text': 'Potentially Critical CVE Detected!\\nCVE-2021-42316\\nDescription: Microsoft Dynamics 365 (on-premises) Remote Code Execution Vulnerability...\\nCVSS: 8.85\\n#CVE #CyberSecurity #DataBreach'}, {'public_metrics': {'retweet_count': 0, 'reply_count': 0, 'like_count': 0, 'quote_count': 0}, 'created_at': '2021-11-10T01:58:06.000Z', 'author_id': '3183315712', 'id': '1458252594971881473', 'text': 'CVE-2021-22870 : A path traversal vulnerability was identified in GitHub Pages builds on GitHub Enterprise Server that could allow an attacker to read system files. To exploit this vulnerability, an attacker would need permission to crea... https://t.co/iiZn3UXGPc'}, {'public_metrics': {'retweet_count': 0, 'reply_count': 0, 'like_count': 0, 'quote_count': 0}, 'created_at': '2021-11-10T01:55:10.000Z', 'author_id': '1281947625512751105', 'id': '1458251859488124930', 'text': '#fox-it  #threatreport #osint https://t.co/iwfHPK5XDP'}, {'public_metrics': {'retweet_count': 0, 'reply_count': 0, 'like_count': 0, 'quote_count': 0}, 'created_at': '2021-11-10T01:53:25.000Z', 'author_id': '1096056138569842688', 'id': '1458251418129817600', 'text': \"Hi, I'm CVE-2021-43571.  I was never good with numbers though, so you can call me Misshapen Gull\\nhttps://t.co/w5ydVcgYoc\"}, {'public_metrics': {'retweet_count': 0, 'reply_count': 0, 'like_count': 0, 'quote_count': 0}, 'created_at': '2021-11-10T01:50:55.000Z', 'author_id': '799521214356197377', 'id': '1458250788413874177', 'text': 'Bash - CVE-2021-37158: https://t.co/5506b6mR3c'}, {'public_metrics': {'retweet_count': 1, 'reply_count': 0, 'like_count': 0, 'quote_count': 0}, 'created_at': '2021-11-10T01:50:36.000Z', 'author_id': '941389496771399680', 'id': '1458250707602231296', 'text': 'CVE-2021-35489\\n\\nThruk 2.40-2 allows /thruk/#cgi-bin/extinfo.cgi?type=2&amp;host={HOST...\\n\\nhttps://t.co/QAKNUF3yC3\\n\\nVulnerability Alert Subscriptions: https://t.co/hrQhy5uz4x'}, {'public_metrics': {'retweet_count': 0, 'reply_count': 0, 'like_count': 0, 'quote_count': 0}, 'created_at': '2021-11-10T01:49:46.000Z', 'author_id': '1313296360112820225', 'id': '1458250500114157575', 'text': 'Emerging Vulnerability Found CVE-2021-42321 - Microsoft Exchange Server Remote Code Execution Vulnerability\\n\\nSee https://t.co/l4796zqIMv'}, {'public_metrics': {'retweet_count': 0, 'reply_count': 0, 'like_count': 0, 'quote_count': 0}, 'created_at': '2021-11-10T01:49:46.000Z', 'author_id': '1313296360112820225', 'id': '1458250497396297735', 'text': 'Emerging Vulnerability Found CVE-2021-43208 - 3D Viewer Remote Code Execution Vulnerability This CVE ID is unique from CVE-2021-43209.\\n\\nSee https://t.co/hX2l0gPaJX'}, {'public_metrics': {'retweet_count': 0, 'reply_count': 0, 'like_count': 0, 'quote_count': 0}, 'created_at': '2021-11-10T01:49:45.000Z', 'author_id': '1313296360112820225', 'id': '1458250494917423106', 'text': 'Emerging Vulnerability Found CVE-2021-43209 - 3D Viewer Remote Code Execution Vulnerability This CVE ID is unique from CVE-2021-43208.\\n\\nSee https://t.co/4FH1XGmkXz'}, {'public_metrics': {'retweet_count': 0, 'reply_count': 0, 'like_count': 0, 'quote_count': 0}, 'created_at': '2021-11-10T01:49:33.000Z', 'author_id': '904129001723011072', 'id': '1458250446016065540', 'text': '🚨 NEW: CVE-2021-42301 🚨 Azure RTOS Information Disclosure Vulnerability This CVE ID is unique from CVE-2021-26444, CVE-2021-42323. Severity: [object Object] https://t.co/AQEJAANkyg'}, {'public_metrics': {'retweet_count': 0, 'reply_count': 0, 'like_count': 0, 'quote_count': 0}, 'created_at': '2021-11-10T01:49:33.000Z', 'author_id': '904129001723011072', 'id': '1458250445894324224', 'text': '🚨 NEW: CVE-2021-42303 🚨 Azure RTOS Elevation of Privilege Vulnerability This CVE ID is unique from CVE-2021-42302, CVE-2021-42304. Severity: [object Object] https://t.co/78cGbRKL31'}, {'public_metrics': {'retweet_count': 0, 'reply_count': 0, 'like_count': 0, 'quote_count': 0}, 'created_at': '2021-11-10T01:49:33.000Z', 'author_id': '904129001723011072', 'id': '1458250445890146309', 'text': '🚨 NEW: CVE-2021-42305 🚨 Microsoft Exchange Server Spoofing Vulnerability This CVE ID is unique from CVE-2021-41349. Severity: [object Object] https://t.co/w6anDBvL3v'}, {'public_metrics': {'retweet_count': 0, 'reply_count': 0, 'like_count': 0, 'quote_count': 0}, 'created_at': '2021-11-10T01:49:33.000Z', 'author_id': '904129001723011072', 'id': '1458250445877661703', 'text': '🚨 NEW: CVE-2021-42323 🚨 Azure RTOS Information Disclosure Vulnerability This CVE ID is unique from CVE-2021-26444, CVE-2021-42301. Severity: [object Object] https://t.co/SRqsVTHo7r'}, {'public_metrics': {'retweet_count': 0, 'reply_count': 0, 'like_count': 0, 'quote_count': 0}, 'created_at': '2021-11-10T01:49:33.000Z', 'author_id': '904129001723011072', 'id': '1458250445869273097', 'text': '🚨 NEW: CVE-2021-42302 🚨 Azure RTOS Elevation of Privilege Vulnerability This CVE ID is unique from CVE-2021-42303, CVE-2021-42304. Severity: [object Object] https://t.co/2EGZDt5lhU'}, {'public_metrics': {'retweet_count': 0, 'reply_count': 0, 'like_count': 0, 'quote_count': 0}, 'created_at': '2021-11-10T01:49:33.000Z', 'author_id': '904129001723011072', 'id': '1458250445869158402', 'text': '🚨 NEW: CVE-2021-42304 🚨 Azure RTOS Elevation of Privilege Vulnerability This CVE ID is unique from CVE-2021-42302, CVE-2021-42303. Severity: [object Object] https://t.co/lPfxdd21mR'}, {'public_metrics': {'retweet_count': 0, 'reply_count': 0, 'like_count': 0, 'quote_count': 0}, 'created_at': '2021-11-10T01:49:33.000Z', 'author_id': '904129001723011072', 'id': '1458250445865033730', 'text': '🚨 NEW: CVE-2021-42316 🚨 Microsoft Dynamics 365 (on-premises) Remote Code Execution Vulnerability Severity: [object Object] https://t.co/vuWNn5kLDG'}, {'public_metrics': {'retweet_count': 0, 'reply_count': 0, 'like_count': 0, 'quote_count': 0}, 'created_at': '2021-11-10T01:49:33.000Z', 'author_id': '904129001723011072', 'id': '1458250445852401668', 'text': '🚨 NEW: CVE-2021-42321 🚨 Microsoft Exchange Server Remote Code Execution Vulnerability Severity: [object Object] https://t.co/9W6K3Qydk2'}, {'public_metrics': {'retweet_count': 0, 'reply_count': 0, 'like_count': 0, 'quote_count': 0}, 'created_at': '2021-11-10T01:49:33.000Z', 'author_id': '904129001723011072', 'id': '1458250445755932674', 'text': '🚨 NEW: CVE-2021-42322 🚨 Visual Studio Code Elevation of Privilege Vulnerability Severity: [object Object] https://t.co/G8KFni702T'}, {'public_metrics': {'retweet_count': 0, 'reply_count': 0, 'like_count': 0, 'quote_count': 0}, 'created_at': '2021-11-10T01:49:33.000Z', 'author_id': '904129001723011072', 'id': '1458250445743435787', 'text': '🚨 NEW: CVE-2021-42319 🚨 Visual Studio Elevation of Privilege Vulnerability Severity: [object Object] https://t.co/LS6AG71BTj'}, {'public_metrics': {'retweet_count': 0, 'reply_count': 0, 'like_count': 0, 'quote_count': 0}, 'created_at': '2021-11-10T01:49:33.000Z', 'author_id': '904129001723011072', 'id': '1458250445714038785', 'text': '🚨 NEW: CVE-2021-42327 🚨 dp_link_settings_write in drivers/gpu/drm/amd/display/amdgpu_dm/amdgpu_dm_debugfs.c in the Linux kernel through 5.14.14 allows a heap-based buffer overflow by an attacker who can write a str... (click for more) Severity: MEDIUM https://t.co/vlKZrlY0Hy'}, {'public_metrics': {'retweet_count': 0, 'reply_count': 0, 'like_count': 0, 'quote_count': 0}, 'created_at': '2021-11-10T01:49:33.000Z', 'author_id': '904129001723011072', 'id': '1458250445709721603', 'text': '🚨 NEW: CVE-2021-43209 🚨 3D Viewer Remote Code Execution Vulnerability This CVE ID is unique from CVE-2021-43208. Severity: [object Object] https://t.co/gu3qWmo3AC'}, {'public_metrics': {'retweet_count': 0, 'reply_count': 0, 'like_count': 0, 'quote_count': 0}, 'created_at': '2021-11-10T01:49:33.000Z', 'author_id': '904129001723011072', 'id': '1458250445684629504', 'text': '🚨 NEW: CVE-2021-43056 🚨 An issue was discovered in the Linux kernel for powerpc before 5.14.15. It allows a malicious KVM guest to crash the host, when the host is running on Power8, due to an arch/powerpc/kvm/book... (click for more) Severity: MEDIUM https://t.co/ZDeh8DJMoq'}, {'public_metrics': {'retweet_count': 0, 'reply_count': 0, 'like_count': 0, 'quote_count': 0}, 'created_at': '2021-11-10T01:49:33.000Z', 'author_id': '904129001723011072', 'id': '1458250445676220426', 'text': '🚨 NEW: CVE-2021-42343 🚨 An issue was discovered in Dask (aka python-dask) through 2021.09.1. Single machine Dask clusters started with dask.distributed.LocalCluster or dask.distributed.Client (which defaults to usi... (click for more) Severity: CRITICAL https://t.co/pic9Y6C0x5'}, {'public_metrics': {'retweet_count': 0, 'reply_count': 0, 'like_count': 0, 'quote_count': 0}, 'created_at': '2021-11-10T01:49:33.000Z', 'author_id': '904129001723011072', 'id': '1458250445663744001', 'text': '🚨 NEW: CVE-2021-42715 🚨 An issue was discovered in stb stb_image.h 1.33 through 2.27. The HDR loader parsed truncated end-of-file RLE scanlines as an infinite sequence of zero-length runs. An attacker could potenti... (click for more) Severity: MEDIUM https://t.co/HogK7J2bU9'}, {'public_metrics': {'retweet_count': 0, 'reply_count': 0, 'like_count': 0, 'quote_count': 0}, 'created_at': '2021-11-10T01:49:33.000Z', 'author_id': '904129001723011072', 'id': '1458250445655322627', 'text': '🚨 NEW: CVE-2021-42716 🚨 An issue was discovered in stb stb_image.h 2.27. The PNM loader incorrectly interpreted 16-bit PGM files as 8-bit when converting to RGBA, leading to a buffer overflow when later reinterpret... (click for more) Severity: CRITICAL https://t.co/splxV54udy'}, {'public_metrics': {'retweet_count': 0, 'reply_count': 0, 'like_count': 0, 'quote_count': 0}, 'created_at': '2021-11-10T01:49:33.000Z', 'author_id': '904129001723011072', 'id': '1458250445651054601', 'text': '🚨 NEW: CVE-2021-42340 🚨 The fix for bug 63362 present in Apache Tomcat 10.1.0-M1 to 10.1.0-M5, 10.0.0-M1 to 10.0.11, 9.0.40 to 9.0.53 and 8.5.60 to 8.5.71 introduced a memory leak. The object introduced to collect ... (click for more) Severity: HIGH https://t.co/9fdR6hTRBZ'}, {'public_metrics': {'retweet_count': 0, 'reply_count': 0, 'like_count': 0, 'quote_count': 0}, 'created_at': '2021-11-10T01:49:33.000Z', 'author_id': '904129001723011072', 'id': '1458250445630103561', 'text': '🚨 NEW: CVE-2021-43208 🚨 3D Viewer Remote Code Execution Vulnerability This CVE ID is unique from CVE-2021-43209. Severity: [object Object] https://t.co/fHuLBo6o7r'}, {'public_metrics': {'retweet_count': 0, 'reply_count': 0, 'like_count': 0, 'quote_count': 0}, 'created_at': '2021-11-10T01:49:33.000Z', 'author_id': '904129001723011072', 'id': '1458250445579816973', 'text': '🚨 NEW: CVE-2021-42762 🚨 BubblewrapLauncher.cpp in WebKitGTK and WPE WebKit before 2.34.1 allows a limited sandbox bypass that allows a sandboxed process to trick host processes into thinking the sandboxed process i... (click for more) Severity: MEDIUM https://t.co/6wUJa5oOTF'}, {'public_metrics': {'retweet_count': 0, 'reply_count': 0, 'like_count': 1, 'quote_count': 0}, 'created_at': '2021-11-10T01:47:36.000Z', 'author_id': '941389496771399680', 'id': '1458249952258314243', 'text': 'CVE-2021-35488\\n\\nThruk 2.40-2 allows /thruk/#cgi-bin/status.cgi?style=combined&amp;title={TITLE] Reflected XSS via the host or title parameter. An attacker could inject arbitrary JavaScript into status.cgi. The payload ...\\n\\nhttps://t.co/nD2CJBHK8E'}, {'public_metrics': {'retweet_count': 0, 'reply_count': 0, 'like_count': 0, 'quote_count': 0}, 'created_at': '2021-11-10T01:45:36.000Z', 'author_id': '821806287461740544', 'id': '1458249449315180546', 'text': 'CVE-2021-43209 3D Viewer Remote Code Execution Vulnerability This CVE ID is unique from CVE-2021-43208. https://t.co/0x9oGTmvAQ'}, {'public_metrics': {'retweet_count': 0, 'reply_count': 0, 'like_count': 0, 'quote_count': 0}, 'created_at': '2021-11-10T01:45:35.000Z', 'author_id': '821806287461740544', 'id': '1458249447062790146', 'text': 'CVE-2021-43208 3D Viewer Remote Code Execution Vulnerability This CVE ID is unique from CVE-2021-43209. https://t.co/2Q7zjrayDX'}, {'public_metrics': {'retweet_count': 0, 'reply_count': 0, 'like_count': 0, 'quote_count': 0}, 'created_at': '2021-11-10T01:45:35.000Z', 'author_id': '821806287461740544', 'id': '1458249444101603328', 'text': 'CVE-2021-42304 Azure RTOS Elevation of Privilege Vulnerability This CVE ID is unique from CVE-2021-42302, CVE-2021-42303. https://t.co/4MkON4hZZC'}, {'public_metrics': {'retweet_count': 0, 'reply_count': 0, 'like_count': 1, 'quote_count': 1}, 'created_at': '2021-11-10T01:45:34.000Z', 'author_id': '821806287461740544', 'id': '1458249441023074304', 'text': 'CVE-2021-42280 Windows Feedback Hub Elevation of Privilege Vulnerability https://t.co/VDqR3Zonw6'}, {'public_metrics': {'retweet_count': 0, 'reply_count': 0, 'like_count': 0, 'quote_count': 0}, 'created_at': '2021-11-10T01:45:33.000Z', 'author_id': '821806287461740544', 'id': '1458249438535823364', 'text': 'CVE-2021-42316 Microsoft Dynamics 365 (on-premises) Remote Code Execution Vulnerability https://t.co/UraH7mEnZf'}, {'public_metrics': {'retweet_count': 0, 'reply_count': 0, 'like_count': 0, 'quote_count': 0}, 'created_at': '2021-11-10T01:45:33.000Z', 'author_id': '821806287461740544', 'id': '1458249436488994823', 'text': 'CVE-2021-42322 Visual Studio Code Elevation of Privilege Vulnerability https://t.co/OZJTmW1cPS'}, {'public_metrics': {'retweet_count': 0, 'reply_count': 0, 'like_count': 0, 'quote_count': 0}, 'created_at': '2021-11-10T01:45:32.000Z', 'author_id': '821806287461740544', 'id': '1458249434756681740', 'text': 'CVE-2021-42274 Windows Hyper-V Discrete Device Assignment (DDA) Denial of Service Vulnerability https://t.co/69lok8ocjr'}, {'public_metrics': {'retweet_count': 0, 'reply_count': 0, 'like_count': 0, 'quote_count': 0}, 'created_at': '2021-11-10T01:45:32.000Z', 'author_id': '821806287461740544', 'id': '1458249432768688133', 'text': 'CVE-2021-42301 Azure RTOS Information Disclosure Vulnerability This CVE ID is unique from CVE-2021-26444, CVE-2021-42323. https://t.co/nuLjJwi4xQ'}, {'public_metrics': {'retweet_count': 0, 'reply_count': 0, 'like_count': 0, 'quote_count': 0}, 'created_at': '2021-11-10T01:45:31.000Z', 'author_id': '821806287461740544', 'id': '1458249427014012929', 'text': 'CVE-2021-42300 Azure Sphere Tampering Vulnerability https://t.co/yUIZJfQST8'}, {'public_metrics': {'retweet_count': 1, 'reply_count': 0, 'like_count': 0, 'quote_count': 0}, 'created_at': '2021-11-10T01:45:30.000Z', 'author_id': '821806287461740544', 'id': '1458249425046888450', 'text': 'CVE-2021-42287 Active Directory Domain Services Elevation of Privilege Vulnerability This CVE ID is unique from CVE-2021-42278, CVE-2021-42282, CVE-2021-42291. https://t.co/IPwyOZkKVc'}, {'public_metrics': {'retweet_count': 0, 'reply_count': 0, 'like_count': 0, 'quote_count': 0}, 'created_at': '2021-11-10T01:45:30.000Z', 'author_id': '821806287461740544', 'id': '1458249423062982657', 'text': 'CVE-2021-42279 Chakra Scripting Engine Memory Corruption Vulnerability https://t.co/bUQmimnTHk'}, {'public_metrics': {'retweet_count': 2, 'reply_count': 0, 'like_count': 1, 'quote_count': 0}, 'created_at': '2021-11-10T01:45:29.000Z', 'author_id': '821806287461740544', 'id': '1458249421297172484', 'text': 'CVE-2021-42278 Active Directory Domain Services Elevation of Privilege Vulnerability This CVE ID is unique from CVE-2021-42282, CVE-2021-42287, CVE-2021-42291. https://t.co/bnKI7FrObT'}, {'public_metrics': {'retweet_count': 3, 'reply_count': 0, 'like_count': 3, 'quote_count': 0}, 'created_at': '2021-11-10T01:45:29.000Z', 'author_id': '821806287461740544', 'id': '1458249419170717700', 'text': 'CVE-2021-42305 Microsoft Exchange Server Spoofing Vulnerability This CVE ID is unique from CVE-2021-41349. https://t.co/IyaKmIRgVK'}, {'public_metrics': {'retweet_count': 1, 'reply_count': 0, 'like_count': 1, 'quote_count': 0}, 'created_at': '2021-11-10T01:45:28.000Z', 'author_id': '821806287461740544', 'id': '1458249417056825347', 'text': 'CVE-2021-42284 Windows Hyper-V Denial of Service Vulnerability https://t.co/fob9wmfqoB'}, {'public_metrics': {'retweet_count': 0, 'reply_count': 0, 'like_count': 0, 'quote_count': 0}, 'created_at': '2021-11-10T01:45:27.000Z', 'author_id': '821806287461740544', 'id': '1458249413982306304', 'text': 'CVE-2021-42275 Microsoft COM for Windows Remote Code Execution Vulnerability https://t.co/lTEyJMY25o'}, {'public_metrics': {'retweet_count': 0, 'reply_count': 0, 'like_count': 0, 'quote_count': 0}, 'created_at': '2021-11-10T01:45:27.000Z', 'author_id': '821806287461740544', 'id': '1458249412069711878', 'text': 'CVE-2021-42319 Visual Studio Elevation of Privilege Vulnerability https://t.co/MFtONrLeB2'}, {'public_metrics': {'retweet_count': 1, 'reply_count': 0, 'like_count': 0, 'quote_count': 0}, 'created_at': '2021-11-10T01:45:27.000Z', 'author_id': '821806287461740544', 'id': '1458249410249379849', 'text': 'CVE-2021-42283 NTFS Elevation of Privilege Vulnerability This CVE ID is unique from CVE-2021-41367, CVE-2021-41370. https://t.co/LbAnou8DoA'}, {'public_metrics': {'retweet_count': 1, 'reply_count': 0, 'like_count': 1, 'quote_count': 0}, 'created_at': '2021-11-10T01:45:26.000Z', 'author_id': '821806287461740544', 'id': '1458249408609493000', 'text': 'CVE-2021-42292 Microsoft Excel Security Feature Bypass Vulnerability https://t.co/EKwm9GcYdX'}, {'public_metrics': {'retweet_count': 0, 'reply_count': 0, 'like_count': 0, 'quote_count': 0}, 'created_at': '2021-11-10T01:45:26.000Z', 'author_id': '821806287461740544', 'id': '1458249406751416321', 'text': 'CVE-2021-42276 Microsoft Windows Media Foundation Remote Code Execution Vulnerability https://t.co/ewoy3EIH48'}, {'public_metrics': {'retweet_count': 0, 'reply_count': 0, 'like_count': 0, 'quote_count': 0}, 'created_at': '2021-11-10T01:45:25.000Z', 'author_id': '821806287461740544', 'id': '1458249405136519171', 'text': 'CVE-2021-42285 Windows Kernel Elevation of Privilege Vulnerability https://t.co/wsnOzN8Q8l'}, {'public_metrics': {'retweet_count': 0, 'reply_count': 0, 'like_count': 0, 'quote_count': 0}, 'created_at': '2021-11-10T01:45:25.000Z', 'author_id': '821806287461740544', 'id': '1458249403148423180', 'text': 'CVE-2021-42303 Azure RTOS Elevation of Privilege Vulnerability This CVE ID is unique from CVE-2021-42302, CVE-2021-42304. https://t.co/FcqXRBVzJ0'}, {'public_metrics': {'retweet_count': 1, 'reply_count': 0, 'like_count': 0, 'quote_count': 0}, 'created_at': '2021-11-10T01:45:24.000Z', 'author_id': '821806287461740544', 'id': '1458249398555660288', 'text': 'CVE-2021-42282 Active Directory Domain Services Elevation of Privilege Vulnerability This CVE ID is unique from CVE-2021-42278, CVE-2021-42287, CVE-2021-42291. https://t.co/kNxFjt9NnE'}, {'public_metrics': {'retweet_count': 1, 'reply_count': 0, 'like_count': 0, 'quote_count': 0}, 'created_at': '2021-11-10T01:45:23.000Z', 'author_id': '821806287461740544', 'id': '1458249396689199104', 'text': 'CVE-2021-42291 Active Directory Domain Services Elevation of Privilege Vulnerability This CVE ID is unique from CVE-2021-42278, CVE-2021-42282, CVE-2021-42287. https://t.co/LWhmx7j5A6'}, {'public_metrics': {'retweet_count': 0, 'reply_count': 0, 'like_count': 0, 'quote_count': 0}, 'created_at': '2021-11-10T01:45:22.000Z', 'author_id': '821806287461740544', 'id': '1458249389223387137', 'text': 'CVE-2021-42288 Windows Hello Security Feature Bypass Vulnerability https://t.co/atJEdxjVnX'}, {'public_metrics': {'retweet_count': 0, 'reply_count': 0, 'like_count': 0, 'quote_count': 0}, 'created_at': '2021-11-10T01:45:21.000Z', 'author_id': '821806287461740544', 'id': '1458249387482750981', 'text': 'CVE-2021-42323 Azure RTOS Information Disclosure Vulnerability This CVE ID is unique from CVE-2021-26444, CVE-2021-42301. https://t.co/icECpiERkz'}, {'public_metrics': {'retweet_count': 2, 'reply_count': 0, 'like_count': 3, 'quote_count': 0}, 'created_at': '2021-11-10T01:45:21.000Z', 'author_id': '821806287461740544', 'id': '1458249385666568194', 'text': 'CVE-2021-42321 Microsoft Exchange Server Remote Code Execution Vulnerability https://t.co/ueY1GmUjzs'}, {'public_metrics': {'retweet_count': 1, 'reply_count': 0, 'like_count': 0, 'quote_count': 0}, 'created_at': '2021-11-10T01:45:20.000Z', 'author_id': '821806287461740544', 'id': '1458249382789271552', 'text': 'CVE-2021-42298 Microsoft Defender Remote Code Execution Vulnerability https://t.co/h2P9F8qCVm'}, {'public_metrics': {'retweet_count': 0, 'reply_count': 0, 'like_count': 0, 'quote_count': 0}, 'created_at': '2021-11-10T01:45:20.000Z', 'author_id': '821806287461740544', 'id': '1458249381052915713', 'text': 'CVE-2021-42286 Windows Core Shell SI Host Extension Framework for Composable Shell Elevation of Privilege Vulnerability https://t.co/YIMPdyYlNC'}, {'public_metrics': {'retweet_count': 0, 'reply_count': 0, 'like_count': 0, 'quote_count': 0}, 'created_at': '2021-11-10T01:45:19.000Z', 'author_id': '821806287461740544', 'id': '1458249379085791235', 'text': 'CVE-2021-42277 Diagnostics Hub Standard Collector Elevation of Privilege Vulnerability https://t.co/Oo7IUPphff'}, {'public_metrics': {'retweet_count': 0, 'reply_count': 0, 'like_count': 0, 'quote_count': 0}, 'created_at': '2021-11-10T01:45:19.000Z', 'author_id': '821806287461740544', 'id': '1458249377114435596', 'text': 'CVE-2021-42302 Azure RTOS Elevation of Privilege Vulnerability This CVE ID is unique from CVE-2021-42303, CVE-2021-42304. https://t.co/qoIFF2PnQV'}, {'public_metrics': {'retweet_count': 0, 'reply_count': 0, 'like_count': 0, 'quote_count': 0}, 'created_at': '2021-11-10T01:45:18.000Z', 'author_id': '821806287461740544', 'id': '1458249375256399872', 'text': 'CVE-2021-42296 Microsoft Word Remote Code Execution Vulnerability https://t.co/WpxMr2QhHi'}, {'public_metrics': {'retweet_count': 0, 'reply_count': 0, 'like_count': 0, 'quote_count': 0}, 'created_at': '2021-11-10T01:45:18.000Z', 'author_id': '821806287461740544', 'id': '1458249373133979650', 'text': 'CVE-2021-41356 Windows Denial of Service Vulnerability https://t.co/13XoFQmTt4'}, {'public_metrics': {'retweet_count': 1, 'reply_count': 0, 'like_count': 0, 'quote_count': 0}, 'created_at': '2021-11-10T01:45:17.000Z', 'author_id': '821806287461740544', 'id': '1458249371036831745', 'text': 'CVE-2021-41367 NTFS Elevation of Privilege Vulnerability This CVE ID is unique from CVE-2021-41370, CVE-2021-42283. https://t.co/Qf5knVQPo9'}, {'public_metrics': {'retweet_count': 0, 'reply_count': 0, 'like_count': 0, 'quote_count': 0}, 'created_at': '2021-11-10T01:45:17.000Z', 'author_id': '821806287461740544', 'id': '1458249369375891464', 'text': 'CVE-2021-41368 Microsoft Access Remote Code Execution Vulnerability https://t.co/jyxb7nSgOT'}, {'public_metrics': {'retweet_count': 0, 'reply_count': 0, 'like_count': 0, 'quote_count': 0}, 'created_at': '2021-11-10T01:45:16.000Z', 'author_id': '821806287461740544', 'id': '1458249367551463424', 'text': 'CVE-2021-41374 Azure Sphere Information Disclosure Vulnerability This CVE ID is unique from CVE-2021-41375, CVE-2021-41376. https://t.co/bDZTaPh0c9'}, {'public_metrics': {'retweet_count': 0, 'reply_count': 0, 'like_count': 0, 'quote_count': 0}, 'created_at': '2021-11-10T01:45:16.000Z', 'author_id': '821806287461740544', 'id': '1458249365936553984', 'text': 'CVE-2021-41372 Power BI Report Server Spoofing Vulnerability https://t.co/2acfZS7wRK'}, {'public_metrics': {'retweet_count': 0, 'reply_count': 0, 'like_count': 0, 'quote_count': 0}, 'created_at': '2021-11-10T01:45:15.000Z', 'author_id': '821806287461740544', 'id': '1458249363273170949', 'text': 'CVE-2021-41375 Azure Sphere Information Disclosure Vulnerability This CVE ID is unique from CVE-2021-41374, CVE-2021-41376. https://t.co/hI2V7x0Usz'}, {'public_metrics': {'retweet_count': 0, 'reply_count': 0, 'like_count': 0, 'quote_count': 0}, 'created_at': '2021-11-10T01:45:15.000Z', 'author_id': '821806287461740544', 'id': '1458249361297653765', 'text': 'CVE-2021-41349 Microsoft Exchange Server Spoofing Vulnerability This CVE ID is unique from CVE-2021-42305. https://t.co/Gp6JMpqSek'}, {'public_metrics': {'retweet_count': 0, 'reply_count': 0, 'like_count': 0, 'quote_count': 0}, 'created_at': '2021-11-10T01:45:14.000Z', 'author_id': '821806287461740544', 'id': '1458249359540248585', 'text': 'CVE-2021-41377 Windows Fast FAT File System Driver Elevation of Privilege Vulnerability https://t.co/h9lJezSMKB'}, {'public_metrics': {'retweet_count': 1, 'reply_count': 0, 'like_count': 1, 'quote_count': 0}, 'created_at': '2021-11-10T01:45:14.000Z', 'author_id': '821806287461740544', 'id': '1458249357707317249', 'text': 'CVE-2021-41371 Windows Remote Desktop Protocol (RDP) Information Disclosure Vulnerability This CVE ID is unique from CVE-2021-38631. https://t.co/ojRjnObJEf'}, {'public_metrics': {'retweet_count': 1, 'reply_count': 0, 'like_count': 1, 'quote_count': 0}, 'created_at': '2021-11-10T01:45:14.000Z', 'author_id': '821806287461740544', 'id': '1458249355727626253', 'text': 'CVE-2021-41378 Windows NTFS Remote Code Execution Vulnerability https://t.co/dU59UebcAX'}, {'public_metrics': {'retweet_count': 0, 'reply_count': 0, 'like_count': 0, 'quote_count': 0}, 'created_at': '2021-11-10T01:45:13.000Z', 'author_id': '821806287461740544', 'id': '1458249353538244610', 'text': 'CVE-2021-41376 Azure Sphere Information Disclosure Vulnerability This CVE ID is unique from CVE-2021-41374, CVE-2021-41375. https://t.co/Rt2RazjpQY'}, {'public_metrics': {'retweet_count': 0, 'reply_count': 0, 'like_count': 0, 'quote_count': 0}, 'created_at': '2021-11-10T01:45:13.000Z', 'author_id': '821806287461740544', 'id': '1458249351495655425', 'text': 'CVE-2021-41379 Windows Installer Elevation of Privilege Vulnerability https://t.co/lydSYOCPSH'}, {'public_metrics': {'retweet_count': 0, 'reply_count': 0, 'like_count': 1, 'quote_count': 0}, 'created_at': '2021-11-10T01:45:12.000Z', 'author_id': '821806287461740544', 'id': '1458249349566193666', 'text': 'CVE-2021-41366 Credential Security Support Provider Protocol (CredSSP) Elevation of Privilege Vulnerability https://t.co/1gaaBtWDja'}, {'public_metrics': {'retweet_count': 1, 'reply_count': 0, 'like_count': 0, 'quote_count': 0}, 'created_at': '2021-11-10T01:45:12.000Z', 'author_id': '821806287461740544', 'id': '1458249347834032130', 'text': 'CVE-2021-41370 NTFS Elevation of Privilege Vulnerability This CVE ID is unique from CVE-2021-41367, CVE-2021-42283. https://t.co/E0WvWIJU4x'}, {'public_metrics': {'retweet_count': 1, 'reply_count': 0, 'like_count': 1, 'quote_count': 0}, 'created_at': '2021-11-10T01:45:11.000Z', 'author_id': '821806287461740544', 'id': '1458249345913004039', 'text': 'CVE-2021-41351 Microsoft Edge (Chrome based) Spoofing on IE Mode https://t.co/jV3GruF8v3'}, {'public_metrics': {'retweet_count': 0, 'reply_count': 0, 'like_count': 0, 'quote_count': 0}, 'created_at': '2021-11-10T01:45:11.000Z', 'author_id': '821806287461740544', 'id': '1458249344281366531', 'text': 'CVE-2021-41373 FSLogix Information Disclosure Vulnerability https://t.co/jkfI5pdyHf'}, {'public_metrics': {'retweet_count': 1, 'reply_count': 0, 'like_count': 1, 'quote_count': 0}, 'created_at': '2021-11-10T01:45:10.000Z', 'author_id': '821806287461740544', 'id': '1458249342200995840', 'text': 'CVE-2021-40442 Microsoft Excel Remote Code Execution Vulnerability https://t.co/T3JyzOMRy8'}, {'public_metrics': {'retweet_count': 1, 'reply_count': 0, 'like_count': 1, 'quote_count': 1}, 'created_at': '2021-11-10T01:45:10.000Z', 'author_id': '821806287461740544', 'id': '1458249340535848968', 'text': 'CVE-2021-38666 Remote Desktop Client Remote Code Execution Vulnerability https://t.co/piTvOFxK8w'}, {'public_metrics': {'retweet_count': 0, 'reply_count': 0, 'like_count': 1, 'quote_count': 0}, 'created_at': '2021-11-10T01:45:09.000Z', 'author_id': '821806287461740544', 'id': '1458249338514202634', 'text': 'CVE-2021-38631 Windows Remote Desktop Protocol (RDP) Information Disclosure Vulnerability This CVE ID is unique from CVE-2021-41371. https://t.co/5JtIwX9ty8'}, {'public_metrics': {'retweet_count': 0, 'reply_count': 0, 'like_count': 1, 'quote_count': 0}, 'created_at': '2021-11-10T01:45:09.000Z', 'author_id': '821806287461740544', 'id': '1458249336526188544', 'text': 'CVE-2021-38665 Remote Desktop Protocol Client Information Disclosure Vulnerability https://t.co/5Cpx6b9GL0'}, {'public_metrics': {'retweet_count': 0, 'reply_count': 0, 'like_count': 0, 'quote_count': 0}, 'created_at': '2021-11-10T01:45:08.000Z', 'author_id': '821806287461740544', 'id': '1458249334164709388', 'text': 'CVE-2021-36957 Windows Desktop Bridge Elevation of Privilege Vulnerability https://t.co/QAHEZFY2uN'}, {'public_metrics': {'retweet_count': 0, 'reply_count': 0, 'like_count': 0, 'quote_count': 0}, 'created_at': '2021-11-10T01:45:08.000Z', 'author_id': '821806287461740544', 'id': '1458249331040006146', 'text': 'CVE-2021-26444 Azure RTOS Information Disclosure Vulnerability This CVE ID is unique from CVE-2021-42301, CVE-2021-42323. https://t.co/vz0Ut2ccdZ'}, {'public_metrics': {'retweet_count': 1, 'reply_count': 0, 'like_count': 0, 'quote_count': 0}, 'created_at': '2021-11-10T01:45:07.000Z', 'author_id': '821806287461740544', 'id': '1458249329404153859', 'text': 'CVE-2021-26443 Microsoft Virtual Machine Bus (VMBus) Remote Code Execution Vulnerability https://t.co/ReyLJsb8QT'}, {'public_metrics': {'retweet_count': 0, 'reply_count': 0, 'like_count': 0, 'quote_count': 0}, 'created_at': '2021-11-10T01:44:36.000Z', 'author_id': '941389496771399680', 'id': '1458249197367480324', 'text': 'CVE-2021-37157\\n\\nAn issue was discovered in OpenGamePanel OGP-Agent-Linux through 2021-08-14. $HOME/OGP/Cfg/Config.pm has the root password in cleartext.\\n\\nhttps://t.co/00Y2mM6euN'}, {'public_metrics': {'retweet_count': 0, 'reply_count': 0, 'like_count': 0, 'quote_count': 0}, 'created_at': '2021-11-10T01:44:06.000Z', 'author_id': '1096056138569842688', 'id': '1458249071567818754', 'text': 'I declare CVE-2021-43569 to be named Unsung Overfish\\nhttps://t.co/Jx2xnI3apu'}, {'public_metrics': {'retweet_count': 0, 'reply_count': 0, 'like_count': 0, 'quote_count': 0}, 'created_at': '2021-11-10T01:41:36.000Z', 'author_id': '941389496771399680', 'id': '1458248442371846151', 'text': 'CVE-2021-37158\\n\\nAn issue was discovered in OpenGamePanel OGP-Agent-Linux through 2021-08-14. An authenticated attacker could inject OS commands by starting a Counter-Strike server and using the map field to enter a...\\n\\nhttps://t.co/yDqdnkfa3Y'}, {'public_metrics': {'retweet_count': 1, 'reply_count': 0, 'like_count': 0, 'quote_count': 0}, 'created_at': '2021-11-10T01:39:16.000Z', 'author_id': '4329935834', 'id': '1458247858000625664', 'text': '#Malware #Windows TA505 exploits SolarWinds Serv-U vulnerability (CVE-2021-35211) for initial access – NCC Group Research https://t.co/uaMCsRmiLf'}, {'public_metrics': {'retweet_count': 0, 'reply_count': 0, 'like_count': 0, 'quote_count': 0}, 'created_at': '2021-11-10T01:36:56.000Z', 'author_id': '2408090048', 'id': '1458247270504222726', 'text': 'Microsoft patches actively exploited Exchange, Excel zero-days (CVE-2021-42321, CVE-2021-42292) https://t.co/r58HB9rZRf'}, {'public_metrics': {'retweet_count': 0, 'reply_count': 0, 'like_count': 0, 'quote_count': 0}, 'created_at': '2021-11-10T01:24:03.000Z', 'author_id': '1096056138569842688', 'id': '1458244028252762115', 'text': \"Hi, I'm CVE-2021-43572.  I was never good with numbers though, so you can call me Tepid Wapiti\\nhttps://t.co/VWw0LrQSEW\"}, {'public_metrics': {'retweet_count': 0, 'reply_count': 0, 'like_count': 0, 'quote_count': 0}, 'created_at': '2021-11-10T01:20:17.000Z', 'author_id': '955014888446939136', 'id': '1458243079383699458', 'text': 'New post from https://t.co/uXvPWJy6tj (CVE-2021-37157) has been published on https://t.co/eYb97VQExc'}, {'public_metrics': {'retweet_count': 0, 'reply_count': 0, 'like_count': 0, 'quote_count': 0}, 'created_at': '2021-11-10T01:20:17.000Z', 'author_id': '955014888446939136', 'id': '1458243078079369220', 'text': 'New post from https://t.co/uXvPWJy6tj (CVE-2021-37158) has been published on https://t.co/4FTAjj8zyt'}, {'public_metrics': {'retweet_count': 0, 'reply_count': 0, 'like_count': 0, 'quote_count': 0}, 'created_at': '2021-11-10T01:20:16.000Z', 'author_id': '955014888446939136', 'id': '1458243076510650371', 'text': 'New post from https://t.co/uXvPWJy6tj (CVE-2021-35488) has been published on https://t.co/ZjDrK3CSMn'}, {'public_metrics': {'retweet_count': 0, 'reply_count': 0, 'like_count': 0, 'quote_count': 0}, 'created_at': '2021-11-10T01:20:16.000Z', 'author_id': '958005194398289920', 'id': '1458243074887454722', 'text': 'New post from https://t.co/9KYxtdZjkl (CVE-2021-37158) has been published on https://t.co/s3HhsIQ5zM'}, {'public_metrics': {'retweet_count': 0, 'reply_count': 0, 'like_count': 0, 'quote_count': 0}, 'created_at': '2021-11-10T01:20:16.000Z', 'author_id': '958005194398289920', 'id': '1458243073541083137', 'text': 'New post from https://t.co/9KYxtdZjkl (CVE-2021-43575) has been published on https://t.co/qZ4VWJ6L7Q'}, {'public_metrics': {'retweet_count': 0, 'reply_count': 0, 'like_count': 0, 'quote_count': 0}, 'created_at': '2021-11-10T01:20:15.000Z', 'author_id': '958005194398289920', 'id': '1458243072341549058', 'text': 'New post from https://t.co/9KYxtdZjkl (CVE-2021-35488) has been published on https://t.co/HMDRI6fago'}, {'public_metrics': {'retweet_count': 0, 'reply_count': 0, 'like_count': 0, 'quote_count': 0}, 'created_at': '2021-11-10T01:20:15.000Z', 'author_id': '955014888446939136', 'id': '1458243070814740485', 'text': 'New post from https://t.co/uXvPWJy6tj (CVE-2021-35489) has been published on https://t.co/SFf8RE5jzk'}, {'public_metrics': {'retweet_count': 0, 'reply_count': 0, 'like_count': 0, 'quote_count': 0}, 'created_at': '2021-11-10T01:20:15.000Z', 'author_id': '955014888446939136', 'id': '1458243069413892101', 'text': 'New post from https://t.co/uXvPWJy6tj (CVE-2021-43575) has been published on https://t.co/vkuCxW7Eo9'}, {'public_metrics': {'retweet_count': 0, 'reply_count': 0, 'like_count': 0, 'quote_count': 0}, 'created_at': '2021-11-10T01:20:14.000Z', 'author_id': '958005194398289920', 'id': '1458243068231041025', 'text': 'New post from https://t.co/9KYxtdZjkl (CVE-2021-35489) has been published on https://t.co/HFv9xuObXf'}, {'public_metrics': {'retweet_count': 0, 'reply_count': 0, 'like_count': 0, 'quote_count': 0}, 'created_at': '2021-11-10T01:20:14.000Z', 'author_id': '958005194398289920', 'id': '1458243067018895362', 'text': 'New post from https://t.co/9KYxtdZjkl (CVE-2021-37157) has been published on https://t.co/ZBzh3V47kY'}, {'public_metrics': {'retweet_count': 0, 'reply_count': 0, 'like_count': 0, 'quote_count': 0}, 'created_at': '2021-11-10T01:19:34.000Z', 'author_id': '904129001723011072', 'id': '1458242899414446089', 'text': '🚨 NEW: CVE-2021-39358 🚨 In GNOME libgfbgraph through 0.2.4, gfbgraph-photo.c does not enable TLS certificate verification on the SoupSessionSync objects it creates, leaving users vulnerable to network MITM attacks.... (click for more) Severity: MEDIUM https://t.co/3qGF6mFxl6'}, {'public_metrics': {'retweet_count': 0, 'reply_count': 0, 'like_count': 0, 'quote_count': 0}, 'created_at': '2021-11-10T01:19:34.000Z', 'author_id': '904129001723011072', 'id': '1458242899330600961', 'text': '🚨 NEW: CVE-2021-39154 🚨 XStream is a simple library to serialize objects to XML and back again. In affected versions this vulnerability may allow a remote attacker to load and execute arbitrary code from a remote h... (click for more) Severity: HIGH https://t.co/r5ACdAkdjY'}, {'public_metrics': {'retweet_count': 0, 'reply_count': 0, 'like_count': 0, 'quote_count': 0}, 'created_at': '2021-11-10T01:19:34.000Z', 'author_id': '904129001723011072', 'id': '1458242899322212354', 'text': '🚨 NEW: CVE-2021-39226 🚨 Grafana is an open source data visualization platform. In affected versions unauthenticated and authenticated users are able to view the snapshot with the lowest database key by accessing th... (click for more) Severity: HIGH https://t.co/krol01kEXR'}, {'public_metrics': {'retweet_count': 0, 'reply_count': 0, 'like_count': 0, 'quote_count': 0}, 'created_at': '2021-11-10T01:19:34.000Z', 'author_id': '904129001723011072', 'id': '1458242899276091395', 'text': '🚨 NEW: CVE-2021-39360 🚨 In GNOME libzapojit through 0.0.3, zpj-skydrive.c does not enable TLS certificate verification on the SoupSessionSync objects it creates, leaving users vulnerable to network MITM attacks. NO... (click for more) Severity: MEDIUM https://t.co/zkGQEosjcF'}, {'public_metrics': {'retweet_count': 0, 'reply_count': 0, 'like_count': 0, 'quote_count': 0}, 'created_at': '2021-11-10T01:19:34.000Z', 'author_id': '904129001723011072', 'id': '1458242899255119873', 'text': '🚨 NEW: CVE-2021-39330 🚨 The Formidable Form Builder WordPress plugin is vulnerable to Stored Cross-Site Scripting due to insufficient input validation and sanitization found in the ~/classes/helpers/FrmAppHelper.ph... (click for more) Severity: MEDIUM https://t.co/DMP1Nnnjp0'}, {'public_metrics': {'retweet_count': 0, 'reply_count': 0, 'like_count': 0, 'quote_count': 0}, 'created_at': '2021-11-10T01:19:34.000Z', 'author_id': '904129001723011072', 'id': '1458242899251023876', 'text': \"🚨 NEW: CVE-2021-3520 🚨 There's a flaw in lz4. An attacker who submits a crafted file to an application linked with lz4 may be able to trigger an integer overflow, leading to calling of memmove() on a negative size... (click for more) Severity: CRITICAL https://t.co/6kE49IeRh6\"}, {'public_metrics': {'retweet_count': 0, 'reply_count': 0, 'like_count': 0, 'quote_count': 0}, 'created_at': '2021-11-10T01:19:34.000Z', 'author_id': '904129001723011072', 'id': '1458242899171319811', 'text': '🚨 NEW: CVE-2021-3872 🚨 vim is vulnerable to Heap-based Buffer Overflow Severity: HIGH https://t.co/zzhdvgUd9E'}, {'public_metrics': {'retweet_count': 0, 'reply_count': 0, 'like_count': 0, 'quote_count': 0}, 'created_at': '2021-11-10T01:19:34.000Z', 'author_id': '904129001723011072', 'id': '1458242899171287040', 'text': \"🚨 NEW: CVE-2021-3576 🚨 Execution with Unnecessary Privileges vulnerability in Bitdefender Endpoint Security Tools, Total Security allows a local attacker to elevate to 'NT AUTHORITY\\\\System. Impersonation enables t... (click for more) Severity: HIGH https://t.co/Vx63pxcu7G\"}, {'public_metrics': {'retweet_count': 0, 'reply_count': 0, 'like_count': 0, 'quote_count': 0}, 'created_at': '2021-11-10T01:19:34.000Z', 'author_id': '904129001723011072', 'id': '1458242899167039488', 'text': '🚨 NEW: CVE-2021-3579 🚨 Incorrect Default Permissions vulnerability in the bdservicehost.exe and Vulnerability.Scan.exe components as used in Bitdefender Endpoint Security Tools for Windows, Total Security allows a... (click for more) Severity: HIGH https://t.co/hOO1VjcgNV'}, {'public_metrics': {'retweet_count': 0, 'reply_count': 0, 'like_count': 0, 'quote_count': 0}, 'created_at': '2021-11-10T01:19:34.000Z', 'author_id': '904129001723011072', 'id': '1458242899162943488', 'text': \"🚨 NEW: CVE-2021-3580 🚨 A flaw was found in the way nettle's RSA decryption functions handled specially crafted ciphertext. An attacker could use this flaw to provide a manipulated ciphertext leading to application... (click for more) Severity: HIGH https://t.co/xUprmk8Oul\"}, {'public_metrics': {'retweet_count': 0, 'reply_count': 0, 'like_count': 0, 'quote_count': 0}, 'created_at': '2021-11-10T01:19:34.000Z', 'author_id': '904129001723011072', 'id': '1458242899150245889', 'text': '🚨 NEW: CVE-2021-3778 🚨 vim is vulnerable to Heap-based Buffer Overflow Severity: HIGH https://t.co/znDNc7CSbx'}, {'public_metrics': {'retweet_count': 0, 'reply_count': 0, 'like_count': 0, 'quote_count': 0}, 'created_at': '2021-11-10T01:19:34.000Z', 'author_id': '904129001723011072', 'id': '1458242899146166277', 'text': '🚨 NEW: CVE-2021-3875 🚨 vim is vulnerable to Heap-based Buffer Overflow Severity: MEDIUM https://t.co/i2ET7hiDQh'}, {'public_metrics': {'retweet_count': 0, 'reply_count': 0, 'like_count': 0, 'quote_count': 0}, 'created_at': '2021-11-10T01:19:34.000Z', 'author_id': '904129001723011072', 'id': '1458242899053846528', 'text': '🚨 NEW: CVE-2021-41091 🚨 Moby is an open-source project created by Docker to enable software containerization. A bug was found in Moby (Docker Engine) where the data directory (typically `/var/lib/docker`) contained... (click for more) Severity: MEDIUM https://t.co/HHsjpkTGiD'}, {'public_metrics': {'retweet_count': 0, 'reply_count': 0, 'like_count': 0, 'quote_count': 0}, 'created_at': '2021-11-10T01:19:34.000Z', 'author_id': '904129001723011072', 'id': '1458242899053842433', 'text': '🚨 NEW: CVE-2021-41089 🚨 Moby is an open-source project created by Docker to enable software containerization. A bug was found in Moby (Docker Engine) where attempting to copy files using `docker cp` into a speciall... (click for more) Severity: MEDIUM https://t.co/QiURF4Yxdz'}, {'public_metrics': {'retweet_count': 0, 'reply_count': 0, 'like_count': 0, 'quote_count': 0}, 'created_at': '2021-11-10T01:19:34.000Z', 'author_id': '904129001723011072', 'id': '1458242899049684998', 'text': '🚨 NEW: CVE-2021-3903 🚨 vim is vulnerable to Heap-based Buffer Overflow Severity: HIGH https://t.co/wY8gBz7jYP'}, {'public_metrics': {'retweet_count': 0, 'reply_count': 0, 'like_count': 0, 'quote_count': 0}, 'created_at': '2021-11-10T01:19:34.000Z', 'author_id': '904129001723011072', 'id': '1458242899049598976', 'text': '🚨 NEW: CVE-2021-41103 🚨 containerd is an open source container runtime with an emphasis on simplicity, robustness and portability. A bug was found in containerd where container root directories and some plugins had... (click for more) Severity: HIGH https://t.co/tZkMbFZgoI'}, {'public_metrics': {'retweet_count': 0, 'reply_count': 0, 'like_count': 0, 'quote_count': 0}, 'created_at': '2021-11-10T01:19:34.000Z', 'author_id': '904129001723011072', 'id': '1458242899049594885', 'text': '🚨 NEW: CVE-2021-41092 🚨 Docker CLI is the command line interface for the docker container runtime. A bug was found in the Docker CLI where running `docker login https://t.co/j3wxfmMbAR` with a misconfigured... (click for more) Severity: HIGH https://t.co/xJJXao1HCA'}, {'public_metrics': {'retweet_count': 0, 'reply_count': 0, 'like_count': 0, 'quote_count': 0}, 'created_at': '2021-11-10T01:19:34.000Z', 'author_id': '904129001723011072', 'id': '1458242899041193993', 'text': '🚨 NEW: CVE-2021-40442 🚨 Microsoft Excel Remote Code Execution Vulnerability Severity: [object Object] https://t.co/cPVkikl2wB'}, {'public_metrics': {'retweet_count': 0, 'reply_count': 0, 'like_count': 0, 'quote_count': 0}, 'created_at': '2021-11-10T01:18:14.000Z', 'author_id': '1345711683147186177', 'id': '1458242563370938379', 'text': 'IT Risk:\\nIntel.BIOS Reference Code vulnerable\\nWindows/UNIX variants (UNIX, Linux, OSX)\\nIncreased Privileges\\nCVE-2021-0158 CVE-2021-0157\\nhttps://t.co/IVNEnSdlGx\\nhttps://t.co/usQPznnwEU'}, {'public_metrics': {'retweet_count': 0, 'reply_count': 0, 'like_count': 0, 'quote_count': 0}, 'created_at': '2021-11-10T01:18:08.000Z', 'author_id': '1345711683147186177', 'id': '1458242538121293824', 'text': 'IT Risk:\\nIntel.BIOS Reference Codeに脆弱性\\nWindows/UNIX variants (UNIX, Linux, OSX)\\nIncreased Privileges\\nCVE-2021-0158 CVE-2021-0157\\nhttps://t.co/IVNEnSdlGx\\nhttps://t.co/usQPznnwEU'}, {'public_metrics': {'retweet_count': 0, 'reply_count': 0, 'like_count': 0, 'quote_count': 0}, 'created_at': '2021-11-10T01:10:29.000Z', 'author_id': '3183315712', 'id': '1458240613040730112', 'text': 'CVE-2021-42300 : Azure Sphere Tampering Vulnerability... https://t.co/3KPHUmAPKh'}, {'public_metrics': {'retweet_count': 0, 'reply_count': 0, 'like_count': 0, 'quote_count': 0}, 'created_at': '2021-11-10T01:10:13.000Z', 'author_id': '3183315712', 'id': '1458240545164255234', 'text': 'CVE-2021-42298 : Microsoft Defender Remote Code Execution Vulnerability... https://t.co/XcsBHcnBrt'}, {'public_metrics': {'retweet_count': 0, 'reply_count': 0, 'like_count': 0, 'quote_count': 0}, 'created_at': '2021-11-10T01:09:57.000Z', 'author_id': '3183315712', 'id': '1458240477266862085', 'text': 'CVE-2021-42296 : Microsoft Word Remote Code Execution Vulnerability... https://t.co/pWz6W6MuNW'}, {'public_metrics': {'retweet_count': 1, 'reply_count': 0, 'like_count': 0, 'quote_count': 0}, 'created_at': '2021-11-10T01:09:30.000Z', 'author_id': '3183315712', 'id': '1458240363152482305', 'text': 'CVE-2021-42292 : Microsoft Excel Security Feature Bypass Vulnerability... https://t.co/QJvywdT01e'}, {'public_metrics': {'retweet_count': 0, 'reply_count': 0, 'like_count': 0, 'quote_count': 0}, 'created_at': '2021-11-10T01:09:12.000Z', 'author_id': '3183315712', 'id': '1458240290880475138', 'text': 'CVE-2021-42291 : Active Directory Domain Services Elevation of Privilege Vulnerability This CVE ID is unique from CVE-2021-42278, CVE-2021-42282, CVE-2021-42287.... https://t.co/IaNsTaqTAN'}, {'public_metrics': {'retweet_count': 0, 'reply_count': 0, 'like_count': 0, 'quote_count': 0}, 'created_at': '2021-11-10T01:08:50.000Z', 'author_id': '3183315712', 'id': '1458240197682941952', 'text': 'CVE-2021-42288 : #Windows Hello Security Feature Bypass Vulnerability... https://t.co/F9r7g26s0b'}, {'public_metrics': {'retweet_count': 0, 'reply_count': 0, 'like_count': 0, 'quote_count': 0}, 'created_at': '2021-11-10T01:08:25.000Z', 'author_id': '3183315712', 'id': '1458240091852267525', 'text': 'CVE-2021-42287 : Active Directory Domain Services Elevation of Privilege Vulnerability This CVE ID is unique from CVE-2021-42278, CVE-2021-42282, CVE-2021-42291.... https://t.co/OXrP5Xc8S4'}, {'public_metrics': {'retweet_count': 0, 'reply_count': 0, 'like_count': 0, 'quote_count': 0}, 'created_at': '2021-11-10T01:08:08.000Z', 'author_id': '3183315712', 'id': '1458240019664187401', 'text': 'CVE-2021-42286 : #Windows Core Shell SI Host Extension Framework for Composable Shell Elevation of Privilege Vulnerability... https://t.co/Ey96zGfzgm'}, {'public_metrics': {'retweet_count': 0, 'reply_count': 0, 'like_count': 0, 'quote_count': 0}, 'created_at': '2021-11-10T01:07:52.000Z', 'author_id': '3183315712', 'id': '1458239955910680581', 'text': 'CVE-2021-42285 : #Windows Kernel Elevation of Privilege Vulnerability... https://t.co/Ox35Gtgvbs'}, {'public_metrics': {'retweet_count': 0, 'reply_count': 0, 'like_count': 0, 'quote_count': 0}, 'created_at': '2021-11-10T01:07:48.000Z', 'author_id': '1096056138569842688', 'id': '1458239937141170178', 'text': 'CVE-2021-43568 shall henceforth be named Careless Porcupine\\nhttps://t.co/ZVsoeyhCIS'}, {'public_metrics': {'retweet_count': 0, 'reply_count': 0, 'like_count': 0, 'quote_count': 0}, 'created_at': '2021-11-10T01:07:32.000Z', 'author_id': '3183315712', 'id': '1458239871181545475', 'text': 'CVE-2021-42284 : #Windows Hyper-V Denial of Service Vulnerability... https://t.co/RQBwURYlN2'}, {'public_metrics': {'retweet_count': 0, 'reply_count': 0, 'like_count': 0, 'quote_count': 0}, 'created_at': '2021-11-10T01:07:17.000Z', 'author_id': '3183315712', 'id': '1458239807352676357', 'text': 'CVE-2021-42283 : NTFS Elevation of Privilege Vulnerability This CVE ID is unique from CVE-2021-41367, CVE-2021-41370.... https://t.co/GP32ahhK9f'}, {'public_metrics': {'retweet_count': 0, 'reply_count': 0, 'like_count': 0, 'quote_count': 0}, 'created_at': '2021-11-10T01:07:04.000Z', 'author_id': '3183315712', 'id': '1458239751786483719', 'text': 'CVE-2021-42282 : Active Directory Domain Services Elevation of Privilege Vulnerability This CVE ID is unique from CVE-2021-42278, CVE-2021-42287, CVE-2021-42291.... https://t.co/xaCvvKKxPp'}, {'public_metrics': {'retweet_count': 0, 'reply_count': 0, 'like_count': 0, 'quote_count': 0}, 'created_at': '2021-11-10T01:06:45.000Z', 'author_id': '3183315712', 'id': '1458239671222390788', 'text': 'CVE-2021-42280 : #Windows Feedback Hub Elevation of Privilege Vulnerability... https://t.co/AbQGzOdsMC'}, {'public_metrics': {'retweet_count': 0, 'reply_count': 0, 'like_count': 0, 'quote_count': 0}, 'created_at': '2021-11-10T01:06:17.000Z', 'author_id': '3183315712', 'id': '1458239557061726208', 'text': 'CVE-2021-42279 : Chakra Scripting Engine Memory Corruption Vulnerability... https://t.co/uALMDoOL5S'}, {'public_metrics': {'retweet_count': 0, 'reply_count': 0, 'like_count': 0, 'quote_count': 0}, 'created_at': '2021-11-10T01:06:04.000Z', 'author_id': '3183315712', 'id': '1458239501583720453', 'text': 'CVE-2021-42278 : Active Directory Domain Services Elevation of Privilege Vulnerability This CVE ID is unique from CVE-2021-42282, CVE-2021-42287, CVE-2021-42291.... https://t.co/TfxVWpGP3m'}, {'public_metrics': {'retweet_count': 0, 'reply_count': 0, 'like_count': 0, 'quote_count': 0}, 'created_at': '2021-11-10T01:05:34.000Z', 'author_id': '3183315712', 'id': '1458239374819270656', 'text': 'CVE-2021-42277 : Diagnostics Hub Standard Collector Elevation of Privilege Vulnerability... https://t.co/VMVAQVYDGr'}, {'public_metrics': {'retweet_count': 0, 'reply_count': 0, 'like_count': 0, 'quote_count': 0}, 'created_at': '2021-11-10T01:05:07.000Z', 'author_id': '3183315712', 'id': '1458239260574818311', 'text': 'CVE-2021-42276 : Microsoft #Windows Media Foundation Remote Code Execution Vulnerability... https://t.co/BEXIRAmp35'}, {'public_metrics': {'retweet_count': 0, 'reply_count': 0, 'like_count': 0, 'quote_count': 0}, 'created_at': '2021-11-10T01:04:36.000Z', 'author_id': '3183315712', 'id': '1458239133810401285', 'text': 'CVE-2021-42275 : Microsoft COM for #Windows Remote Code Execution Vulnerability... https://t.co/X2AaTPkirU'}, {'public_metrics': {'retweet_count': 0, 'reply_count': 0, 'like_count': 0, 'quote_count': 0}, 'created_at': '2021-11-10T01:04:19.000Z', 'author_id': '3183315712', 'id': '1458239061622198277', 'text': 'CVE-2021-42274 : #Windows Hyper-V Discrete Device Assignment  DDA  Denial of Service Vulnerability... https://t.co/JjW6IIxcn8'}, {'public_metrics': {'retweet_count': 0, 'reply_count': 0, 'like_count': 0, 'quote_count': 0}, 'created_at': '2021-11-10T01:03:54.000Z', 'author_id': '3183315712', 'id': '1458238955812495360', 'text': 'CVE-2021-26444 : Azure RTOS Information Disclosure Vulnerability This CVE ID is unique from CVE-2021-42301, CVE-2021-42323.... https://t.co/EB7T467p6q'}, {'public_metrics': {'retweet_count': 0, 'reply_count': 0, 'like_count': 0, 'quote_count': 0}, 'created_at': '2021-11-10T01:03:38.000Z', 'author_id': '3183315712', 'id': '1458238887910858757', 'text': 'CVE-2021-26443 : Microsoft Virtual Machine Bus  VMBus  Remote Code Execution Vulnerability... https://t.co/beveEys3Sj'}, {'public_metrics': {'retweet_count': 0, 'reply_count': 0, 'like_count': 0, 'quote_count': 0}, 'created_at': '2021-11-10T01:03:37.000Z', 'author_id': '1345711683147186177', 'id': '1458238886472126468', 'text': 'IT Risk:\\nRed Hat.multiple vulnerabilities in container-tools:rhel8\\nDenial of Service\\nAccess Confidential Data\\nCVE-2021-20291 CVE-2021-3602\\nhttps://t.co/asWn60LA3R\\nhttps://t.co/X76eSfSdea'}, {'public_metrics': {'retweet_count': 0, 'reply_count': 0, 'like_count': 0, 'quote_count': 0}, 'created_at': '2021-11-10T01:03:29.000Z', 'author_id': '1345711683147186177', 'id': '1458238852431183876', 'text': 'IT Risk:\\nRed Hat.container-tools:rhel8に複数の脆弱性\\nDenial of Service\\nAccess Confidential Data\\nCVE-2021-20291 CVE-2021-3602\\nhttps://t.co/asWn60LA3R\\nhttps://t.co/X76eSfSdea'}, {'public_metrics': {'retweet_count': 0, 'reply_count': 0, 'like_count': 0, 'quote_count': 0}, 'created_at': '2021-11-10T01:03:17.000Z', 'author_id': '3183315712', 'id': '1458238798840705029', 'text': 'CVE-2021-43209 : 3D Viewer Remote Code Execution Vulnerability This CVE ID is unique from CVE-2021-43208.... https://t.co/SGGJ3rQMET'}, {'public_metrics': {'retweet_count': 0, 'reply_count': 0, 'like_count': 0, 'quote_count': 0}, 'created_at': '2021-11-10T01:02:52.000Z', 'author_id': '3183315712', 'id': '1458238697296572416', 'text': 'CVE-2021-43208 : 3D Viewer Remote Code Execution Vulnerability This CVE ID is unique from CVE-2021-43209.... https://t.co/n8ghuyAkKw'}, {'public_metrics': {'retweet_count': 0, 'reply_count': 0, 'like_count': 0, 'quote_count': 0}, 'created_at': '2021-11-10T01:02:29.000Z', 'author_id': '3183315712', 'id': '1458238600051560458', 'text': 'CVE-2021-41379 : #Windows Installer Elevation of Privilege Vulnerability... https://t.co/WfijhdJlNr'}, {'public_metrics': {'retweet_count': 0, 'reply_count': 0, 'like_count': 0, 'quote_count': 0}, 'created_at': '2021-11-10T01:02:13.000Z', 'author_id': '3183315712', 'id': '1458238532183597060', 'text': 'CVE-2021-41378 : #Windows NTFS Remote Code Execution Vulnerability... https://t.co/nuIKYwN0km'}, {'public_metrics': {'retweet_count': 0, 'reply_count': 0, 'like_count': 0, 'quote_count': 0}, 'created_at': '2021-11-10T01:01:57.000Z', 'author_id': '3183315712', 'id': '1458238464269357057', 'text': 'CVE-2021-41377 : #Windows Fast FAT File System Driver Elevation of Privilege Vulnerability... https://t.co/AjzRNLQY4D'}, {'public_metrics': {'retweet_count': 0, 'reply_count': 0, 'like_count': 0, 'quote_count': 0}, 'created_at': '2021-11-10T01:01:33.000Z', 'author_id': '3183315712', 'id': '1458238362633048067', 'text': 'CVE-2021-41376 : Azure Sphere Information Disclosure Vulnerability This CVE ID is unique from CVE-2021-41374, CVE-2021-41375.... https://t.co/CawsEDng0R'}, {'public_metrics': {'retweet_count': 0, 'reply_count': 0, 'like_count': 0, 'quote_count': 0}, 'created_at': '2021-11-10T01:01:05.000Z', 'author_id': '1345711683147186177', 'id': '1458238246110986243', 'text': 'IT Risk:\\nRed Hat.Vulnerability to dnsmasq\\nrovide Misleading Information\\nCVE-2021-3448\\nhttps://t.co/kBYNfs0fa6\\nhttps://t.co/d8IHql5yRV'}, {'public_metrics': {'retweet_count': 0, 'reply_count': 0, 'like_count': 0, 'quote_count': 0}, 'created_at': '2021-11-10T01:01:03.000Z', 'author_id': '3183315712', 'id': '1458238239924494339', 'text': 'CVE-2021-41375 : Azure Sphere Information Disclosure Vulnerability This CVE ID is unique from CVE-2021-41374, CVE-2021-41376.... https://t.co/BUGle3MDvG'}, {'public_metrics': {'retweet_count': 0, 'reply_count': 0, 'like_count': 0, 'quote_count': 0}, 'created_at': '2021-11-10T01:00:55.000Z', 'author_id': '1345711683147186177', 'id': '1458238205623300097', 'text': 'IT Risk:\\nRed Hat.dnsmasqに脆弱性\\nrovide Misleading Information\\nCVE-2021-3448\\nhttps://t.co/kBYNfs0fa6\\nhttps://t.co/d8IHql5yRV'}, {'public_metrics': {'retweet_count': 0, 'reply_count': 0, 'like_count': 0, 'quote_count': 0}, 'created_at': '2021-11-10T01:00:49.000Z', 'author_id': '3183315712', 'id': '1458238179715190788', 'text': 'CVE-2021-41374 : Azure Sphere Information Disclosure Vulnerability This CVE ID is unique from CVE-2021-41375, CVE-2021-41376.... https://t.co/dfRAoZG0SF'}, {'public_metrics': {'retweet_count': 0, 'reply_count': 0, 'like_count': 0, 'quote_count': 0}, 'created_at': '2021-11-10T01:00:27.000Z', 'author_id': '3183315712', 'id': '1458238086605938698', 'text': 'CVE-2021-41373 : FSLogix Information Disclosure Vulnerability... https://t.co/XmydpY8go4'}, {'public_metrics': {'retweet_count': 0, 'reply_count': 0, 'like_count': 0, 'quote_count': 0}, 'created_at': '2021-11-10T01:00:16.000Z', 'author_id': '1438178875935232000', 'id': '1458238042364387331', 'text': 'Se ha revelado una nueva #vulnerabilidad de #Apache (CVE-2021-41773), en la cual, los #servidores que ejecutan #ApacheHTTPServer 2.4.49 tienen deshabilitada la configuración de control de acceso \"requerir todo denegado\", lo que provoca una vulnerabilidad. https://t.co/At4JWVVSxd'}, {'public_metrics': {'retweet_count': 2, 'reply_count': 0, 'like_count': 0, 'quote_count': 0}, 'created_at': '2021-11-10T01:00:08.000Z', 'author_id': '1414976114443882503', 'id': '1458238008218603521', 'text': 'Potentially Critical CVE Detected!\\nCVE-2021-37157\\nDescription: An issue was discovered in OpenGamePanel OGP-Agent-Linux through 2021-08-14. $HO...\\nCVSS: 9.44\\n#CVE #CyberSecurity #DataBreach'}, {'public_metrics': {'retweet_count': 0, 'reply_count': 0, 'like_count': 0, 'quote_count': 0}, 'created_at': '2021-11-10T01:00:08.000Z', 'author_id': '3183315712', 'id': '1458238006083608585', 'text': 'CVE-2021-41372 : Power BI Report Server Spoofing Vulnerability... https://t.co/QScMmqKaku'}, {'public_metrics': {'retweet_count': 0, 'reply_count': 0, 'like_count': 0, 'quote_count': 0}, 'created_at': '2021-11-10T00:59:38.000Z', 'author_id': '3183315712', 'id': '1458237883396116488', 'text': 'CVE-2021-41371 : #Windows Remote Desktop Protocol  RDP  Information Disclosure Vulnerability This CVE ID is unique from CVE-2021-38631.... https://t.co/AFvl4jwllr'}, {'public_metrics': {'retweet_count': 0, 'reply_count': 0, 'like_count': 0, 'quote_count': 0}, 'created_at': '2021-11-10T00:59:08.000Z', 'author_id': '3183315712', 'id': '1458237756656787458', 'text': 'CVE-2021-41370 : NTFS Elevation of Privilege Vulnerability This CVE ID is unique from CVE-2021-41367, CVE-2021-42283.... https://t.co/rJ5W7PtZcq'}, {'public_metrics': {'retweet_count': 0, 'reply_count': 0, 'like_count': 0, 'quote_count': 0}, 'created_at': '2021-11-10T00:58:39.000Z', 'author_id': '3183315712', 'id': '1458237634178863112', 'text': 'CVE-2021-41368 : Microsoft Access Remote Code Execution Vulnerability... https://t.co/y5jYHZqsJ1'}, {'public_metrics': {'retweet_count': 0, 'reply_count': 0, 'like_count': 0, 'quote_count': 0}, 'created_at': '2021-11-10T00:58:11.000Z', 'author_id': '3183315712', 'id': '1458237515819798532', 'text': 'CVE-2021-41367 : NTFS Elevation of Privilege Vulnerability This CVE ID is unique from CVE-2021-41370, CVE-2021-42283.... https://t.co/zUmEMa2uHz'}, {'public_metrics': {'retweet_count': 0, 'reply_count': 0, 'like_count': 0, 'quote_count': 0}, 'created_at': '2021-11-10T00:57:46.000Z', 'author_id': '3183315712', 'id': '1458237414191902724', 'text': 'CVE-2021-41366 : Credential Security Support Provider Protocol  CredSSP  Elevation of Privilege Vulnerability... https://t.co/PN7kcXczlr'}, {'public_metrics': {'retweet_count': 0, 'reply_count': 0, 'like_count': 0, 'quote_count': 0}, 'created_at': '2021-11-10T00:57:27.000Z', 'author_id': '3183315712', 'id': '1458237333636059136', 'text': 'CVE-2021-41356 : #Windows Denial of Service Vulnerability... https://t.co/BCMDhZ6dN4'}, {'public_metrics': {'retweet_count': 0, 'reply_count': 0, 'like_count': 0, 'quote_count': 0}, 'created_at': '2021-11-10T00:57:09.000Z', 'author_id': '3183315712', 'id': '1458237257261912072', 'text': 'CVE-2021-41351 : Microsoft Edge  Chrome based  Spoofing on IE Mode... https://t.co/B24yiIxsuS'}, {'public_metrics': {'retweet_count': 0, 'reply_count': 0, 'like_count': 0, 'quote_count': 0}, 'created_at': '2021-11-10T00:56:57.000Z', 'author_id': '3183315712', 'id': '1458237206024314890', 'text': 'CVE-2021-41349 : Microsoft Exchange Server Spoofing Vulnerability This CVE ID is unique from CVE-2021-42305.... https://t.co/H58UgbFysv'}, {'public_metrics': {'retweet_count': 0, 'reply_count': 0, 'like_count': 0, 'quote_count': 0}, 'created_at': '2021-11-10T00:56:42.000Z', 'author_id': '3183315712', 'id': '1458237142317023232', 'text': 'CVE-2021-40442 : Microsoft Excel Remote Code Execution Vulnerability... https://t.co/5GD4EnYwE9'}, {'public_metrics': {'retweet_count': 0, 'reply_count': 0, 'like_count': 0, 'quote_count': 0}, 'created_at': '2021-11-10T00:56:25.000Z', 'author_id': '3183315712', 'id': '1458237074348384256', 'text': 'CVE-2021-38666 : Remote Desktop Client Remote Code Execution Vulnerability... https://t.co/zxrQkslZG6'}, {'public_metrics': {'retweet_count': 0, 'reply_count': 0, 'like_count': 0, 'quote_count': 0}, 'created_at': '2021-11-10T00:56:12.000Z', 'author_id': '3183315712', 'id': '1458237018773893126', 'text': 'CVE-2021-38665 : Remote Desktop Protocol Client Information Disclosure Vulnerability... https://t.co/ET400yO7uy'}, {'public_metrics': {'retweet_count': 0, 'reply_count': 0, 'like_count': 0, 'quote_count': 0}, 'created_at': '2021-11-10T00:55:46.000Z', 'author_id': '3183315712', 'id': '1458236908702740482', 'text': 'CVE-2021-38631 : #Windows Remote Desktop Protocol  RDP  Information Disclosure Vulnerability This CVE ID is unique from CVE-2021-41371.... https://t.co/WtETYXLedo'}, {'public_metrics': {'retweet_count': 0, 'reply_count': 0, 'like_count': 0, 'quote_count': 0}, 'created_at': '2021-11-10T00:55:29.000Z', 'author_id': '145281507', 'id': '1458236835830767628', 'text': 'CVE-2021-42321はちゃんとパッチを当てましょう。'}, {'public_metrics': {'retweet_count': 0, 'reply_count': 0, 'like_count': 0, 'quote_count': 0}, 'created_at': '2021-11-10T00:55:18.000Z', 'author_id': '3183315712', 'id': '1458236790393946115', 'text': 'CVE-2021-36957 : #Windows Desktop Bridge Elevation of Privilege Vulnerability... https://t.co/YDxwpkz9X9'}, {'public_metrics': {'retweet_count': 0, 'reply_count': 0, 'like_count': 0, 'quote_count': 0}, 'created_at': '2021-11-10T00:54:06.000Z', 'author_id': '1345711683147186177', 'id': '1458236489163165698', 'text': 'IT Risk:\\nRed Hat.Vulnerability in python-lxml\\nCross-site Scripting\\nCVE-2021-28957\\nhttps://t.co/RyArCvhSKE\\nhttps://t.co/v67ndjW4iC'}, {'public_metrics': {'retweet_count': 0, 'reply_count': 0, 'like_count': 0, 'quote_count': 0}, 'created_at': '2021-11-10T00:53:56.000Z', 'author_id': '1345711683147186177', 'id': '1458236445995327491', 'text': 'IT Risk:\\nRed Hat.python-lxmlに脆弱性\\nCross-site Scripting\\nCVE-2021-28957\\nhttps://t.co/RyArCvhSKE\\nhttps://t.co/v67ndjW4iC'}, {'public_metrics': {'retweet_count': 0, 'reply_count': 1, 'like_count': 0, 'quote_count': 0}, 'created_at': '2021-11-10T00:51:54.000Z', 'author_id': '1345711683147186177', 'id': '1458235936697774083', 'text': 'IT Risk:\\n（https://t.co/V6PY8DKd5G Patch Tuesday update for Microsoft Windows for November 202110 November 2021）\\nMicrosoft Visual Studio, Visual Studio Code vulnerable -1/2\\nExecute Arbitrary Code/Commands\\nIncreased Privileges\\nCVE-2021-42322 CVE-2021-42319 CVE-2021-42277'}, {'public_metrics': {'retweet_count': 0, 'reply_count': 0, 'like_count': 0, 'quote_count': 0}, 'created_at': '2021-11-10T00:50:46.000Z', 'author_id': '1345711683147186177', 'id': '1458235649702576132', 'text': 'IT Risk:\\n（https://t.co/y7kHxT5e6t月例アップデート2021年11月）\\nMicrosoft Visual Studio,Visual Studio Codeに脆弱性\\nExecute Arbitrary Code/Commands\\nIncreased Privileges\\nCVE-2021-42322 CVE-2021-42319 CVE-2021-42277 CVE-2021-3711 \\nhttps://t.co/PCaITsmgOH\\nhttps://t.co/LHXsoJyZ6G'}, {'public_metrics': {'retweet_count': 0, 'reply_count': 0, 'like_count': 0, 'quote_count': 0}, 'created_at': '2021-11-10T00:47:13.000Z', 'author_id': '1345711683147186177', 'id': '1458234759230881794', 'text': 'IT Risk:\\n（https://t.co/y7kHxT5e6t月例アップデート2021年11月）\\nPower BI Report Serverに複数の脆弱性\\nIncreased Privileges\\nCross-site Request Forgery\\nCross-site Scripting\\nProvide Misleading Information \\nCVE-2021-41372\\nhttps://t.co/PCaITsmgOH\\nhttps://t.co/bHDO37XcMK'}, {'public_metrics': {'retweet_count': 1, 'reply_count': 0, 'like_count': 3, 'quote_count': 1}, 'created_at': '2021-11-10T00:45:07.000Z', 'author_id': '821806287461740544', 'id': '1458234229037441029', 'text': 'CVE-2021-37158 An issue was discovered in OpenGamePanel OGP-Agent-Linux through 2021-08-14. An authenticated attacker could inject OS commands by starting a Counter-Strike server and using the map field to enter a Bash command. https://t.co/B0LBR4LNub'}, {'public_metrics': {'retweet_count': 0, 'reply_count': 0, 'like_count': 0, 'quote_count': 0}, 'created_at': '2021-11-10T00:45:07.000Z', 'author_id': '821806287461740544', 'id': '1458234226889969669', 'text': 'CVE-2021-37157 An issue was discovered in OpenGamePanel OGP-Agent-Linux through 2021-08-14. $HOME/OGP/Cfg/Config.pm has the root password in cleartext. https://t.co/zexUDAysgn'}, {'public_metrics': {'retweet_count': 0, 'reply_count': 0, 'like_count': 0, 'quote_count': 0}, 'created_at': '2021-11-10T00:45:04.000Z', 'author_id': '1098266147915485184', 'id': '1458234216357847044', 'text': 'CVE-2021-43572 https://t.co/6vlPGHttSh #TribeSecure #CyberAwareness'}, {'public_metrics': {'retweet_count': 0, 'reply_count': 0, 'like_count': 0, 'quote_count': 0}, 'created_at': '2021-11-10T00:45:03.000Z', 'author_id': '1098266147915485184', 'id': '1458234210947268608', 'text': 'CVE-2021-43571 https://t.co/kYJblcVfp6 #TribeSecure #CyberAwareness'}, {'public_metrics': {'retweet_count': 0, 'reply_count': 0, 'like_count': 0, 'quote_count': 0}, 'created_at': '2021-11-10T00:44:29.000Z', 'author_id': '1345711683147186177', 'id': '1458234071063007234', 'text': 'IT Risk:\\n（https://t.co/V6PY8DKd5G Patch Tuesday update for Microsoft Windows for November 202110 November 2021）\\nVulnerability in Microsoft Edge\\nProvide Misleading Information \\nCVE-2021-41351\\nhttps://t.co/PCaITsmgOH\\nhttps://t.co/5ljlGpazRD'}, {'public_metrics': {'retweet_count': 0, 'reply_count': 0, 'like_count': 0, 'quote_count': 0}, 'created_at': '2021-11-10T00:43:59.000Z', 'author_id': '1345711683147186177', 'id': '1458233943124168705', 'text': 'IT Risk:\\n（https://t.co/y7kHxT5e6t月例アップデート2021年11月）\\nMicrosoft Edgeに脆弱性\\nProvide Misleading Information \\nCVE-2021-41351\\nhttps://t.co/PCaITsmgOH\\nhttps://t.co/5ljlGpazRD'}, {'public_metrics': {'retweet_count': 0, 'reply_count': 1, 'like_count': 0, 'quote_count': 0}, 'created_at': '2021-11-10T00:40:33.000Z', 'author_id': '1345711683147186177', 'id': '1458233080456437765', 'text': 'IT Risk:\\n（https://t.co/y7kHxT5e6t月例アップデート2021年11月）\\nWindows 7,Windows Server 2008,Windows Server 2008 R2に複数の脆弱性 -1/3\\nExecute Arbitrary Code/Commands\\nIncreased Privileges\\nAccess Confidential Data\\nCVE-2021-42291 CVE-2021-42287 CVE-2021-42285 CVE-2021-42283'}, {'public_metrics': {'retweet_count': 1, 'reply_count': 1, 'like_count': 0, 'quote_count': 0}, 'created_at': '2021-11-10T00:35:52.000Z', 'author_id': '1345711683147186177', 'id': '1458231901362147328', 'text': 'IT Risk:\\n（https://t.co/V6PY8DKd5G Patch Tuesday update for Microsoft Windows for November 202110 November 2021）\\nVulnerability in Microsoft Dynamics 365 (on-premises) -1/2\\nExecute Arbitrary Code/Commands\\nUnauthorised Access \\nCVE-2021-42296 CVE-2021-42292 CVE-2021-41368'}, {'public_metrics': {'retweet_count': 0, 'reply_count': 0, 'like_count': 0, 'quote_count': 0}, 'created_at': '2021-11-10T00:35:16.000Z', 'author_id': '1345711683147186177', 'id': '1458231747989041152', 'text': 'IT Risk:\\n（https://t.co/y7kHxT5e6t月例アップデート2021年11月）\\nMicrosoft Dynamics 365 (on-premises)に脆弱性\\nExecute Arbitrary Code/Commands\\nUnauthorised Access \\nCVE-2021-42296 CVE-2021-42292 CVE-2021-41368 CVE-2021-40442\\nhttps://t.co/PCaITsmgOH\\nhttps://t.co/K6onfnwWlL'}, {'public_metrics': {'retweet_count': 0, 'reply_count': 1, 'like_count': 0, 'quote_count': 0}, 'created_at': '2021-11-10T00:31:20.000Z', 'author_id': '1345711683147186177', 'id': '1458230758389137412', 'text': 'IT Risk:\\n（https://t.co/V6PY8DKd5G Patch Tuesday update for Microsoft Windows for November 202110 November 2021）\\nMultiple vulnerabilities in Microsoft Office, Microsoft Office Services and Web Apps -1/2\\nExecute Arbitrary Code/Commands\\nUnauthorised Access \\nCVE-2021-42296'}, {'public_metrics': {'retweet_count': 0, 'reply_count': 1, 'like_count': 0, 'quote_count': 0}, 'created_at': '2021-11-10T00:30:12.000Z', 'author_id': '1345711683147186177', 'id': '1458230475411972105', 'text': 'IT Risk:\\n（https://t.co/y7kHxT5e6t月例アップデート2021年11月）\\nMicrosoft Office,Microsoft Office Services and Web Appsに複数の脆弱性 -1/2\\nExecute Arbitrary Code/Commands\\nUnauthorised Access \\nCVE-2021-42296 CVE-2021-42292 CVE-2021-41368 CVE-2021-40442\\nhttps://t.co/PCaITsmgOH'}, {'public_metrics': {'retweet_count': 0, 'reply_count': 1, 'like_count': 0, 'quote_count': 0}, 'created_at': '2021-11-10T00:27:32.000Z', 'author_id': '1345711683147186177', 'id': '1458229805707456512', 'text': 'IT Risk:\\n（https://t.co/V6PY8DKd5G Patch Tuesday update for Microsoft Windows for November 202110 November 2021）\\nMultiple vulnerabilities in Microsoft Azure -1/3\\nIncreased Privileges\\nModify Arbitrary Files\\nAccess Confidential Dat \\nCVE-2021-42323 CVE-2021-42304 CVE-2021-42303'}, {'public_metrics': {'retweet_count': 49, 'reply_count': 1, 'like_count': 119, 'quote_count': 2}, 'created_at': '2021-11-10T00:27:07.000Z', 'author_id': '52462500', 'id': '1458229701042868224', 'text': \"Lots of good patches today. Doing a quick thread on them as some of these have Event IDs that should be collected.\\n\\nDomain controller impersonation using sAMAccountName spoofing\\n\\nAfter applying KB5008102, collect System Log Event IDs 16990-16991 on DC's\\n\\nhttps://t.co/bn7a7t5UPP\"}, {'public_metrics': {'retweet_count': 0, 'reply_count': 1, 'like_count': 0, 'quote_count': 0}, 'created_at': '2021-11-10T00:26:04.000Z', 'author_id': '1345711683147186177', 'id': '1458229435279106048', 'text': 'IT Risk:\\n（https://t.co/y7kHxT5e6t月例アップデート2021年11月）\\nMicrosoftAzureに複数の脆弱性 -1/2\\nIncreased Privileges\\nModify Arbitrary Files\\nAccess Confidential Dat \\nCVE-2021-42323 CVE-2021-42304 CVE-2021-42303 CVE-2021-42302 CVE-2021-42301 CVE-2021-42300 CVE-2021-41376'}, {'public_metrics': {'retweet_count': 1, 'reply_count': 1, 'like_count': 0, 'quote_count': 0}, 'created_at': '2021-11-10T00:22:40.000Z', 'author_id': '1345711683147186177', 'id': '1458228578634453000', 'text': 'IT Risk:\\n（https://t.co/V6PY8DKd5G Patch Tuesday update for Microsoft Windows for November 202110 November 2021）\\nMultiple vulnerabilities in Microsoft Exchange Server -1/2\\nExecute Arbitrary Code/Commands            \\nProvide Misleading Information \\nCVE-2021-42321 CVE-2021-42305'}, {'public_metrics': {'retweet_count': 0, 'reply_count': 0, 'like_count': 0, 'quote_count': 0}, 'created_at': '2021-11-10T00:21:38.000Z', 'author_id': '1345711683147186177', 'id': '1458228317358682113', 'text': 'IT Risk:\\n（https://t.co/y7kHxT5e6t月例アップデート2021年11月）\\nMicrosoft Exchange Serverに複数の脆弱性\\nExecute Arbitrary Code/Commands            \\nProvide Misleading Information \\nCVE-2021-42321 CVE-2021-42305 CVE-2021-41349\\nhttps://t.co/PCaITsmgOH\\nhttps://t.co/xiHDzSiqVl'}, {'public_metrics': {'retweet_count': 0, 'reply_count': 0, 'like_count': 0, 'quote_count': 0}, 'created_at': '2021-11-10T00:19:32.000Z', 'author_id': '904129001723011072', 'id': '1458227789988040715', 'text': '🚨 NEW: CVE-2021-37157 🚨 An issue was discovered in OpenGamePanel OGP-Agent-Linux through 2021-08-14. $HOME/OGP/Cfg/Config.pm has the root password in cleartext. Severity: [object Object] https://t.co/xPhNvbihRk'}, {'public_metrics': {'retweet_count': 0, 'reply_count': 0, 'like_count': 0, 'quote_count': 0}, 'created_at': '2021-11-10T00:15:49.000Z', 'author_id': '941239097422688256', 'id': '1458226853550993414', 'text': 'Security Bulletin: IBM InfoSphere Information Server is vulnerable to Information disclosure (CVE-2021-38887) https://t.co/8RC8HGmHeo'}, {'public_metrics': {'retweet_count': 0, 'reply_count': 0, 'like_count': 0, 'quote_count': 0}, 'created_at': '2021-11-10T00:12:03.000Z', 'attachments': {'media_keys': ['3_1458225907236106242']}, 'author_id': '1125715120561315840', 'id': '1458225909152968704', 'text': 'Microsoft patches actively exploited Exchange, Excel zero-days (CVE-2021-42321, CVE-2021-42292) - Help Net Security https://t.co/P3EBsC8epA #cybersecurity #threatintelligence #cybernews https://t.co/weXGKBpBjj'}, {'public_metrics': {'retweet_count': 0, 'reply_count': 1, 'like_count': 0, 'quote_count': 0}, 'created_at': '2021-11-10T00:11:17.000Z', 'author_id': '1345711683147186177', 'id': '1458225715149639684', 'text': 'IT Risk:\\nhttps://t.co/V6PY8DKd5G Patch Tuesday update for Microsoft Windows for November 202110 November 2021 -1/4\\nExecute Arbitrary Code/Commands\\nIncreased Privileges\\nDenial of Service\\nAccess Confidential Data\\nCVE-2021-42291 CVE-2021-42288 CVE-2021-42287 CVE-2021-42286'}, {'public_metrics': {'retweet_count': 0, 'reply_count': 0, 'like_count': 0, 'quote_count': 0}, 'created_at': '2021-11-10T00:09:00.000Z', 'author_id': '1437489413043408903', 'id': '1458225138608984064', 'text': 'Severity: 🔥🔥  | Cloudera Hue 4.6.0 allows XSS via the ty... | CVE-2021-32481 | Link for more: https://t.co/bGmRyYqW0q'}, {'public_metrics': {'retweet_count': 0, 'reply_count': 0, 'like_count': 0, 'quote_count': 0}, 'created_at': '2021-11-10T00:08:24.000Z', 'author_id': '1437489413043408903', 'id': '1458224988306034696', 'text': 'Severity: 🔥🔥  | In JetBrains TeamCity before 2021.1.3, a... | CVE-2021-43201 | Link for more: https://t.co/OA4rQXEyCy'}, {'public_metrics': {'retweet_count': 0, 'reply_count': 0, 'like_count': 0, 'quote_count': 0}, 'created_at': '2021-11-10T00:08:03.000Z', 'author_id': '1109319878828130305', 'id': '1458224901299576835', 'text': '(Same from about 20 hours ago.)\\nI think that the most retweeted(124 times) tweet that contains CVE ID between Nov 9 2021 00:01 UTC and Nov 10 2021 00:00 UTC is:\\nhttps://t.co/PqqFkkatKQ\\nIt has CVE-2021-40449. #l24_qak5lrlulueoo'}, {'public_metrics': {'retweet_count': 0, 'reply_count': 0, 'like_count': 0, 'quote_count': 0}, 'created_at': '2021-11-10T00:08:02.000Z', 'author_id': '1109319878828130305', 'id': '1458224896190910465', 'text': '(third → second)\\nI think that the second retweeted(32 times) tweet that contains CVE ID between Nov 9 2021 00:01 UTC and Nov 10 2021 00:00 UTC is:\\nhttps://t.co/CqMqC9ZKuv\\nIt has CVE-2021-42292. #l24_3hbseibsjw5bu'}, {'public_metrics': {'retweet_count': 0, 'reply_count': 0, 'like_count': 0, 'quote_count': 0}, 'created_at': '2021-11-10T00:08:01.000Z', 'author_id': '1109319878828130305', 'id': '1458224890843181065', 'text': '(second → third)\\nI think that the third retweeted(23 times) tweet that contains CVE ID between Nov 9 2021 00:01 UTC and Nov 10 2021 00:00 UTC is:\\nhttps://t.co/fSUMCAkCME\\nIt has CVE-2021-40539. #l24_vvbjgbwg2ac7e'}, {'public_metrics': {'retweet_count': 0, 'reply_count': 0, 'like_count': 0, 'quote_count': 0}, 'created_at': '2021-11-10T00:07:48.000Z', 'author_id': '1437489413043408903', 'id': '1458224838003232769', 'text': 'Severity: 🔥🔥🔥  | In JetBrains TeamCity before 2021.1.2, p... | CVE-2021-43200 | Link for more: https://t.co/PJJtVDhq1W'}, {'public_metrics': {'retweet_count': 0, 'reply_count': 0, 'like_count': 0, 'quote_count': 0}, 'created_at': '2021-11-10T00:07:12.000Z', 'author_id': '3183315712', 'id': '1458224687960440835', 'text': 'CVE-2021-37158 : An issue was discovered in OpenGamePanel OGP-Agent-Linux through 2021-08-14. An authenticated attacker could inject OS commands by starting a Counter-Strike server and using the map field to enter a Bash command.... https://t.co/ybZ320IZvZ'}, {'public_metrics': {'retweet_count': 0, 'reply_count': 0, 'like_count': 0, 'quote_count': 0}, 'created_at': '2021-11-10T00:07:12.000Z', 'author_id': '1437489413043408903', 'id': '1458224687536771079', 'text': 'Severity: 🔥🔥  | In JetBrains TeamCity before 2021.1.2, p... | CVE-2021-43199 | Link for more: https://t.co/Fk7Ug9Ag8B'}, {'public_metrics': {'retweet_count': 0, 'reply_count': 0, 'like_count': 0, 'quote_count': 0}, 'created_at': '2021-11-10T00:06:45.000Z', 'author_id': '3183315712', 'id': '1458224573841817603', 'text': 'CVE-2021-37157 : An issue was discovered in OpenGamePanel OGP-Agent-Linux through 2021-08-14. $HOME/OGP/Cfg/Config.pm has the root password in cleartext.... https://t.co/66m1D6OCCR'}, {'public_metrics': {'retweet_count': 0, 'reply_count': 0, 'like_count': 0, 'quote_count': 0}, 'created_at': '2021-11-10T00:06:36.000Z', 'author_id': '1437489413043408903', 'id': '1458224537166770177', 'text': 'Severity: 🔥  | In JetBrains TeamCity before 2021.1.2, s... | CVE-2021-43198 | Link for more: https://t.co/SXpAUG0pju'}, {'public_metrics': {'retweet_count': 0, 'reply_count': 0, 'like_count': 0, 'quote_count': 0}, 'created_at': '2021-11-10T00:06:00.000Z', 'author_id': '1437489413043408903', 'id': '1458224386847100930', 'text': 'Severity: 🔥🔥  | In JetBrains TeamCity before 2021.1.2, e... | CVE-2021-43197 | Link for more: https://t.co/EYGYbjarr1'}, {'public_metrics': {'retweet_count': 0, 'reply_count': 0, 'like_count': 0, 'quote_count': 0}, 'created_at': '2021-11-10T00:06:00.000Z', 'author_id': '1109319878828130305', 'id': '1458224386352291849', 'text': 'The vuln CVE-2021-42321 has a tweet created 0 days ago and retweeted 10 times.\\nhttps://t.co/YZwCQIF3bG\\n#pow1rtrtwwcve'}, {'public_metrics': {'retweet_count': 0, 'reply_count': 0, 'like_count': 0, 'quote_count': 0}, 'created_at': '2021-11-10T00:05:25.000Z', 'author_id': '1437489413043408903', 'id': '1458224236254748675', 'text': 'Severity: 🔥🔥  | In JetBrains TeamCity before 2021.1, inf... | CVE-2021-43196 | Link for more: https://t.co/KZHsTMGzO7'}, {'public_metrics': {'retweet_count': 0, 'reply_count': 0, 'like_count': 0, 'quote_count': 0}, 'created_at': '2021-11-10T00:05:16.000Z', 'author_id': '955014888446939136', 'id': '1458224200452345861', 'text': 'New post from https://t.co/uXvPWJy6tj (CVE-2021-43569) has been published on https://t.co/T0m8B6Qu48'}, {'public_metrics': {'retweet_count': 0, 'reply_count': 0, 'like_count': 0, 'quote_count': 0}, 'created_at': '2021-11-10T00:05:16.000Z', 'author_id': '955014888446939136', 'id': '1458224199072374790', 'text': 'New post from https://t.co/uXvPWJy6tj (CVE-2021-43568) has been published on https://t.co/VzB0ADZTPj'}, {'public_metrics': {'retweet_count': 0, 'reply_count': 0, 'like_count': 0, 'quote_count': 0}, 'created_at': '2021-11-10T00:05:15.000Z', 'author_id': '955014888446939136', 'id': '1458224197524758534', 'text': 'New post from https://t.co/uXvPWJy6tj (CVE-2021-43571) has been published on https://t.co/doabIDgasP'}, {'public_metrics': {'retweet_count': 0, 'reply_count': 0, 'like_count': 0, 'quote_count': 0}, 'created_at': '2021-11-10T00:05:15.000Z', 'author_id': '958005194398289920', 'id': '1458224196320956420', 'text': 'New post from https://t.co/9KYxtdZjkl (CVE-2021-43570) has been published on https://t.co/nY8sl2g4rU'}, {'public_metrics': {'retweet_count': 0, 'reply_count': 0, 'like_count': 0, 'quote_count': 0}, 'created_at': '2021-11-10T00:05:15.000Z', 'author_id': '958005194398289920', 'id': '1458224194882265094', 'text': 'New post from https://t.co/9KYxtdZjkl (CVE-2021-43569) has been published on https://t.co/pQUDjLg964'}, {'public_metrics': {'retweet_count': 0, 'reply_count': 0, 'like_count': 0, 'quote_count': 0}, 'created_at': '2021-11-10T00:05:14.000Z', 'author_id': '958005194398289920', 'id': '1458224193456197640', 'text': 'New post from https://t.co/9KYxtdZjkl (CVE-2021-43568) has been published on https://t.co/q2JlJ6JaXf'}, {'public_metrics': {'retweet_count': 0, 'reply_count': 0, 'like_count': 0, 'quote_count': 0}, 'created_at': '2021-11-10T00:05:14.000Z', 'author_id': '958005194398289920', 'id': '1458224192063741954', 'text': 'New post from https://t.co/9KYxtdZjkl (CVE-2021-43571) has been published on https://t.co/Gxtkd56NqQ'}, {'public_metrics': {'retweet_count': 0, 'reply_count': 0, 'like_count': 0, 'quote_count': 0}, 'created_at': '2021-11-10T00:05:14.000Z', 'author_id': '958005194398289920', 'id': '1458224190843203584', 'text': 'New post from https://t.co/9KYxtdZjkl (CVE-2021-43572) has been published on https://t.co/cSU0HZmdOx'}, {'public_metrics': {'retweet_count': 0, 'reply_count': 0, 'like_count': 0, 'quote_count': 0}, 'created_at': '2021-11-10T00:05:13.000Z', 'author_id': '955014888446939136', 'id': '1458224189689716741', 'text': 'New post from https://t.co/uXvPWJy6tj (CVE-2021-43572) has been published on https://t.co/7v5rQE6QnJ'}, {'public_metrics': {'retweet_count': 0, 'reply_count': 0, 'like_count': 0, 'quote_count': 0}, 'created_at': '2021-11-10T00:05:13.000Z', 'author_id': '955014888446939136', 'id': '1458224188209176576', 'text': 'New post from https://t.co/uXvPWJy6tj (CVE-2021-43570) has been published on https://t.co/zH6nueI7he'}, {'public_metrics': {'retweet_count': 0, 'reply_count': 0, 'like_count': 0, 'quote_count': 0}, 'created_at': '2021-11-10T00:04:49.000Z', 'author_id': '1437489413043408903', 'id': '1458224086035812360', 'text': 'Severity: 🔥🔥  | In JetBrains TeamCity before 2021.1.2, s... | CVE-2021-43195 | Link for more: https://t.co/tCvLiMwNh2'}, {'public_metrics': {'retweet_count': 0, 'reply_count': 0, 'like_count': 0, 'quote_count': 0}, 'created_at': '2021-11-10T00:04:13.000Z', 'author_id': '1437489413043408903', 'id': '1458223935414169602', 'text': 'Severity: 🔥  | JetBrains YouTrack before 2021.3.24402 i... | CVE-2021-43186 | Link for more: https://t.co/HXE2wTjRol'}, {'public_metrics': {'retweet_count': 0, 'reply_count': 1, 'like_count': 0, 'quote_count': 0}, 'created_at': '2021-11-10T00:04:02.000Z', 'author_id': '1109319878828130305', 'id': '1458223891713830914', 'text': 'The vuln CVE-2021-42237 has a tweet created 0 days ago and retweeted 9 times.\\nhttps://t.co/82uVItNPx7\\n#Sqo4tsqvekxsbq'}, {'public_metrics': {'retweet_count': 0, 'reply_count': 0, 'like_count': 0, 'quote_count': 0}, 'created_at': '2021-11-10T00:04:02.000Z', 'author_id': '1109319878828130305', 'id': '1458223890967183360', 'text': 'I know no IPS that has a protection/signature/rule for the vulnerability CVE-2021-42237.\\nThe vuln was published 4 days ago by NIST.\\nhttps://t.co/MFE0Aj9kQ5\\n#Sqo4tsqvekxsbq'}, {'public_metrics': {'retweet_count': 0, 'reply_count': 0, 'like_count': 0, 'quote_count': 0}, 'created_at': '2021-11-10T00:03:37.000Z', 'author_id': '1437489413043408903', 'id': '1458223785090240512', 'text': 'Severity: 🔥🔥  | An issue was discovered in Barrier befor... | CVE-2021-42074 | Link for more: https://t.co/B196SHO91M'}, {'public_metrics': {'retweet_count': 0, 'reply_count': 0, 'like_count': 0, 'quote_count': 0}, 'created_at': '2021-11-10T00:03:01.000Z', 'author_id': '1437489413043408903', 'id': '1458223634367979527', 'text': 'Severity: 🔥🔥  | An issue was discovered in Barrier befor... | CVE-2021-42075 | Link for more: https://t.co/NTJjqKUUsr'}, {'public_metrics': {'retweet_count': 0, 'reply_count': 0, 'like_count': 0, 'quote_count': 0}, 'created_at': '2021-11-10T00:02:25.000Z', 'author_id': '1437489413043408903', 'id': '1458223483830169601', 'text': 'Severity: 🔥🔥  | An issue was discovered in Barrier befor... | CVE-2021-42076 | Link for more: https://t.co/RdLAIC2dxz'}, {'public_metrics': {'retweet_count': 0, 'reply_count': 0, 'like_count': 0, 'quote_count': 0}, 'created_at': '2021-11-10T00:01:49.000Z', 'author_id': '1437489413043408903', 'id': '1458223333514772483', 'text': 'Severity: 🔥🔥  | PHP Event Calendar through 2021-11-04 al... | CVE-2021-42078 | Link for more: https://t.co/H2SvfcSPwA'}, {'public_metrics': {'retweet_count': 0, 'reply_count': 0, 'like_count': 0, 'quote_count': 0}, 'created_at': '2021-11-10T00:01:13.000Z', 'author_id': '1437489413043408903', 'id': '1458223183073452033', 'text': 'Severity: 🔥🔥  | Cloudera Hue 4.6.0 allows XSS.... | CVE-2021-29994 | Link for more: https://t.co/gHNd5RwDhP'}, {'public_metrics': {'retweet_count': 0, 'reply_count': 0, 'like_count': 0, 'quote_count': 0}, 'created_at': '2021-11-10T00:00:38.000Z', 'author_id': '1437489413043408903', 'id': '1458223032711798787', 'text': 'Severity: 🔥🔥  | Applications using Spring Cloud Gateway ... | CVE-2021-22051 | Link for more: https://t.co/pvJ6bRoyYQ'}, {'public_metrics': {'retweet_count': 0, 'reply_count': 0, 'like_count': 0, 'quote_count': 0}, 'created_at': '2021-11-09T23:56:44.000Z', 'author_id': '1345711683147186177', 'id': '1458222051865489411', 'text': 'IT Risk:\\nSamba Releases Security Updates\\nCVE-2016-2124 CVE-2020-25717 CVE-2020-25718 CVE-2020-25719 CVE-2020-25721 CVE-2020-25722 CVE-2021-3738 CVE-2021-23192\\nhttps://t.co/583h9envt1'}, {'public_metrics': {'retweet_count': 0, 'reply_count': 0, 'like_count': 0, 'quote_count': 0}, 'created_at': '2021-11-09T23:55:48.000Z', 'author_id': '1096056138569842688', 'id': '1458221819064995843', 'text': 'My real name is CVE-2021-20119 but all my friends call me Doughy Mosasaur\\nhttps://t.co/XeGqjapEnM'}, {'public_metrics': {'retweet_count': 0, 'reply_count': 0, 'like_count': 0, 'quote_count': 0}, 'created_at': '2021-11-09T23:54:49.000Z', 'author_id': '1345711683147186177', 'id': '1458221568916549632', 'text': 'IT Risk:\\nAdobe.Multiple vulnerabilities in InCopy\\nWindows and macOS\\nAccess of Memory Location After End of Buffer\\nNULL Pointer Dereference\\nCVE-2021-43015 CVE-2021-43016\\nhttps://t.co/NTWkDnPeES\\nhttps://t.co/8h82tzGe94'}, {'public_metrics': {'retweet_count': 0, 'reply_count': 0, 'like_count': 0, 'quote_count': 0}, 'created_at': '2021-11-09T23:54:40.000Z', 'author_id': '1345711683147186177', 'id': '1458221534493827084', 'text': 'IT Risk:\\nAdobe.InCopyに複数の脆弱性\\nWindows and macOS\\nバッファ終了後のメモリ位置へのアクセス\\nNULLポインター逆参照\\nCVE-2021-43015 CVE-2021-43016\\nhttps://t.co/NTWkDnPeES\\nhttps://t.co/8h82tzGe94'}, {'public_metrics': {'retweet_count': 0, 'reply_count': 0, 'like_count': 0, 'quote_count': 0}, 'created_at': '2021-11-09T23:51:00.000Z', 'author_id': '1345711683147186177', 'id': '1458220611042304004', 'text': 'IT Risk:\\nAdobe.Creative Cloud Desktop? Application Vulnerability\\nmacOS\\nCreation of Temporary File in Directory with Incorrect Permissions\\nCVE-2021-43017\\nhttps://t.co/lE0EMA9QPo\\nhttps://t.co/8h82tzGe94'}, {'public_metrics': {'retweet_count': 0, 'reply_count': 0, 'like_count': 0, 'quote_count': 0}, 'created_at': '2021-11-09T23:50:51.000Z', 'author_id': '1345711683147186177', 'id': '1458220570357628930', 'text': 'IT Risk:\\nAdobe.Creative Cloud Desktop?Applicationに脆弱性\\nmacOS\\n不正なアクセス許可を持つディレクトリに一時ファイルを作成する\\nCVE-2021-43017\\nhttps://t.co/lE0EMA9QPo\\nhttps://t.co/8h82tzGe94'}, {'public_metrics': {'retweet_count': 0, 'reply_count': 0, 'like_count': 0, 'quote_count': 0}, 'created_at': '2021-11-09T23:50:18.000Z', 'author_id': '955014888446939136', 'id': '1458220432377659392', 'text': 'New post from https://t.co/uXvPWJy6tj (CVE-2021-43200 (teamcity)) has been published on https://t.co/Cug6TkPsE4'}, {'public_metrics': {'retweet_count': 0, 'reply_count': 0, 'like_count': 0, 'quote_count': 0}, 'created_at': '2021-11-09T23:50:17.000Z', 'author_id': '958005194398289920', 'id': '1458220430951600138', 'text': 'New post from https://t.co/9KYxtdZjkl (CVE-2021-43201 (teamcity)) has been published on https://t.co/TpnxsXbat9'}, {'public_metrics': {'retweet_count': 0, 'reply_count': 0, 'like_count': 0, 'quote_count': 0}, 'created_at': '2021-11-09T23:50:17.000Z', 'author_id': '958005194398289920', 'id': '1458220429697499138', 'text': 'New post from https://t.co/9KYxtdZjkl (CVE-2021-43200 (teamcity)) has been published on https://t.co/4QATTlNJ6z'}, {'public_metrics': {'retweet_count': 0, 'reply_count': 0, 'like_count': 0, 'quote_count': 0}, 'created_at': '2021-11-09T23:50:17.000Z', 'author_id': '955014888446939136', 'id': '1458220428317667329', 'text': 'New post from https://t.co/uXvPWJy6tj (CVE-2021-43197 (teamcity)) has been published on https://t.co/8FTaXwRYt1'}, {'public_metrics': {'retweet_count': 0, 'reply_count': 0, 'like_count': 0, 'quote_count': 0}, 'created_at': '2021-11-09T23:50:16.000Z', 'author_id': '958005194398289920', 'id': '1458220427088695301', 'text': 'New post from https://t.co/9KYxtdZjkl (CVE-2021-43196 (teamcity)) has been published on https://t.co/Z9BHRlc2Uk'}, {'public_metrics': {'retweet_count': 0, 'reply_count': 0, 'like_count': 0, 'quote_count': 0}, 'created_at': '2021-11-09T23:50:16.000Z', 'author_id': '955014888446939136', 'id': '1458220425691942912', 'text': 'New post from https://t.co/uXvPWJy6tj (CVE-2021-43198 (teamcity)) has been published on https://t.co/DRX6atqtB7'}, {'public_metrics': {'retweet_count': 0, 'reply_count': 0, 'like_count': 0, 'quote_count': 0}, 'created_at': '2021-11-09T23:50:16.000Z', 'author_id': '958005194398289920', 'id': '1458220424500809731', 'text': 'New post from https://t.co/9KYxtdZjkl (CVE-2021-43197 (teamcity)) has been published on https://t.co/ZKHA6dSr2b'}, {'public_metrics': {'retweet_count': 0, 'reply_count': 0, 'like_count': 0, 'quote_count': 0}, 'created_at': '2021-11-09T23:50:15.000Z', 'author_id': '955014888446939136', 'id': '1458220423276072964', 'text': 'New post from https://t.co/uXvPWJy6tj (CVE-2021-43201 (teamcity)) has been published on https://t.co/Bzt5CS7qvj'}, {'public_metrics': {'retweet_count': 0, 'reply_count': 0, 'like_count': 0, 'quote_count': 0}, 'created_at': '2021-11-09T23:50:15.000Z', 'author_id': '958005194398289920', 'id': '1458220421556355075', 'text': 'New post from https://t.co/9KYxtdZjkl (CVE-2021-43195 (teamcity)) has been published on https://t.co/30ijISnvnU'}, {'public_metrics': {'retweet_count': 0, 'reply_count': 0, 'like_count': 0, 'quote_count': 0}, 'created_at': '2021-11-09T23:50:15.000Z', 'author_id': '955014888446939136', 'id': '1458220420117803008', 'text': 'New post from https://t.co/uXvPWJy6tj (CVE-2021-43196 (teamcity)) has been published on https://t.co/iXTSIEDmKR'}, {'public_metrics': {'retweet_count': 0, 'reply_count': 0, 'like_count': 0, 'quote_count': 0}, 'created_at': '2021-11-09T23:50:14.000Z', 'author_id': '955014888446939136', 'id': '1458220418490380292', 'text': 'New post from https://t.co/uXvPWJy6tj (CVE-2021-43195 (teamcity)) has been published on https://t.co/1YkvXLgisw'}, {'public_metrics': {'retweet_count': 0, 'reply_count': 0, 'like_count': 0, 'quote_count': 0}, 'created_at': '2021-11-09T23:50:14.000Z', 'author_id': '958005194398289920', 'id': '1458220417206738946', 'text': 'New post from https://t.co/9KYxtdHHVL (CVE-2021-43198 (teamcity)) has been published on https://t.co/gFxVbYWZOa'}, {'public_metrics': {'retweet_count': 0, 'reply_count': 0, 'like_count': 0, 'quote_count': 0}, 'created_at': '2021-11-09T23:50:14.000Z', 'author_id': '955014888446939136', 'id': '1458220415793475592', 'text': 'New post from https://t.co/uXvPWJy6tj (CVE-2021-43199 (teamcity)) has been published on https://t.co/b1nk2zzYOK'}, {'public_metrics': {'retweet_count': 0, 'reply_count': 0, 'like_count': 0, 'quote_count': 0}, 'created_at': '2021-11-09T23:50:13.000Z', 'author_id': '958005194398289920', 'id': '1458220414602252293', 'text': 'New post from https://t.co/9KYxtdZjkl (CVE-2021-43199 (teamcity)) has been published on https://t.co/cbi2abzc3h'}, {'public_metrics': {'retweet_count': 50, 'reply_count': 5, 'like_count': 162, 'quote_count': 2}, 'created_at': '2021-11-09T23:49:27.000Z', 'author_id': '19767495', 'id': '1458220220376616960', 'text': 'CVE-2021-42287 is worth paying attention is - if you install this patch on some domain controllers but not all, in July 2022 a patch will follow that will break all Domain Controllers without the update. https://t.co/iCqkkm8RcF'}, {'public_metrics': {'retweet_count': 0, 'reply_count': 0, 'like_count': 0, 'quote_count': 0}, 'created_at': '2021-11-09T23:48:35.000Z', 'author_id': '941389496771399680', 'id': '1458220000741924871', 'text': 'CVE-2021-43572\\n\\nThe verify function in the Stark Bank Python ECDSA library (ecdsa-python) 2.0.0 fails to check that the signature is non-zero, which allows attackers to forge signatures on arbitrary messages.\\n\\nhttps://t.co/Fcw9ijuls8'}, {'public_metrics': {'retweet_count': 0, 'reply_count': 0, 'like_count': 0, 'quote_count': 0}, 'created_at': '2021-11-09T23:45:35.000Z', 'author_id': '941389496771399680', 'id': '1458219245704302593', 'text': 'CVE-2021-43569\\n\\nThe verify function in the Stark Bank .NET ECDSA library (ecdsa-dotnet) ...\\n\\nhttps://t.co/kbDsw2lS7p\\n\\nVulnerability Notification: https://t.co/xhLrNnfyrO'}, {'public_metrics': {'retweet_count': 0, 'reply_count': 0, 'like_count': 0, 'quote_count': 0}, 'created_at': '2021-11-09T23:45:09.000Z', 'author_id': '821806287461740544', 'id': '1458219135830216705', 'text': 'CVE-2021-43575 ** DISPUTED ** KNX ETS6 through 6.0.0 uses the hard-coded password ETS5Password, with a salt value of Ivan Medvedev, allowing local users to read project information, a similar issue to CVE-2021-36799. NOTE: The vendor disputes this... https://t.co/CdMLOL3eDf'}, {'public_metrics': {'retweet_count': 1, 'reply_count': 0, 'like_count': 1, 'quote_count': 0}, 'created_at': '2021-11-09T23:45:07.000Z', 'author_id': '821806287461740544', 'id': '1458219131170430977', 'text': 'CVE-2021-35489 Thruk 2.40-2 allows /thruk/#cgi-bin/extinfo.cgi?type=2&amp;host={HOSTNAME]&amp;service={SERVICENAME]&amp;backend={BACKEND] Reflected XSS via the host or service parameter. An attacker could inject arbitrary JavaScript into e... https://t.co/YQ10kCJwgG'}, {'public_metrics': {'retweet_count': 1, 'reply_count': 0, 'like_count': 0, 'quote_count': 0}, 'created_at': '2021-11-09T23:45:07.000Z', 'author_id': '821806287461740544', 'id': '1458219129299689473', 'text': 'CVE-2021-35488 Thruk 2.40-2 allows /thruk/#cgi-bin/status.cgi?style=combined&amp;title={TITLE] Reflected XSS via the host or title parameter. An attacker could inject arbitrary JavaScript into status.cgi. The payload would be tri... https://t.co/UsGJiyPLfd'}, {'public_metrics': {'retweet_count': 0, 'reply_count': 0, 'like_count': 0, 'quote_count': 0}, 'created_at': '2021-11-09T23:42:35.000Z', 'author_id': '941389496771399680', 'id': '1458218490591162373', 'text': 'CVE-2021-43568\\n\\nThe verify function in the Stark Bank Elixir ECDSA library (ecdsa-elixir) 1.0.0 fails to check that the signature is non-zero, which allows attackers to forge signatures on arbitrary messages.\\n\\nhttps://t.co/1UF7nN5pXl'}, {'public_metrics': {'retweet_count': 0, 'reply_count': 0, 'like_count': 0, 'quote_count': 0}, 'created_at': '2021-11-09T23:41:42.000Z', 'author_id': '801367725830508549', 'id': '1458218269542866944', 'text': 'https://t.co/eYpTY4QnEt #PatchTuesday #vulnerability'}, {'public_metrics': {'retweet_count': 0, 'reply_count': 0, 'like_count': 0, 'quote_count': 0}, 'created_at': '2021-11-09T23:40:56.000Z', 'author_id': '799521214356197377', 'id': '1458218077850685441', 'text': 'Python - CVE-2021-43572: https://t.co/rZXXeYT0ZN'}, {'public_metrics': {'retweet_count': 0, 'reply_count': 0, 'like_count': 0, 'quote_count': 0}, 'created_at': '2021-11-09T23:40:16.000Z', 'author_id': '955014888446939136', 'id': '1458217908501364741', 'text': 'New post from https://t.co/uXvPWJy6tj (CVE-2021-34685 (vantara_pentaho)) has been published on https://t.co/xFX2KS2CYf'}, {'public_metrics': {'retweet_count': 1, 'reply_count': 0, 'like_count': 6, 'quote_count': 0}, 'created_at': '2021-11-09T23:40:13.000Z', 'author_id': '2835071339', 'id': '1458217894521753604', 'text': '37 new OPEN, 42 new PRO (37 + 5). CVE-2021-40539, CVE-2021-20837, Lyceum, Cobalt Strike\\n\\nThanks @Thingzeye, @twinwavesec \\n\\nhttps://t.co/sS5qEw7IfW'}, {'public_metrics': {'retweet_count': 0, 'reply_count': 0, 'like_count': 0, 'quote_count': 0}, 'created_at': '2021-11-09T23:40:12.000Z', 'author_id': '955014888446939136', 'id': '1458217890570702851', 'text': 'New post from https://t.co/uXvPWJy6tj (CVE-2021-34684 (vantara_pentaho)) has been published on https://t.co/ijvmeoRDMi'}, {'public_metrics': {'retweet_count': 0, 'reply_count': 0, 'like_count': 0, 'quote_count': 0}, 'created_at': '2021-11-09T23:40:11.000Z', 'author_id': '955014888446939136', 'id': '1458217888834260996', 'text': 'New post from https://t.co/uXvPWJy6tj (CVE-2021-42072 (barrier)) has been published on https://t.co/T3aQgvB2oF'}, {'public_metrics': {'retweet_count': 0, 'reply_count': 0, 'like_count': 0, 'quote_count': 0}, 'created_at': '2021-11-09T23:40:11.000Z', 'author_id': '955014888446939136', 'id': '1458217887165034500', 'text': 'New post from https://t.co/uXvPWJy6tj (CVE-2021-42078 (php_event_calendar)) has been published on https://t.co/o4LlAp5YiG'}, {'public_metrics': {'retweet_count': 0, 'reply_count': 0, 'like_count': 0, 'quote_count': 0}, 'created_at': '2021-11-09T23:40:08.000Z', 'author_id': '955014888446939136', 'id': '1458217874783408132', 'text': 'New post from https://t.co/uXvPWJy6tj (CVE-2021-42073 (barrier)) has been published on https://t.co/ON3YsXCE1X'}, {'public_metrics': {'retweet_count': 0, 'reply_count': 0, 'like_count': 0, 'quote_count': 0}, 'created_at': '2021-11-09T23:40:05.000Z', 'author_id': '958005194398289920', 'id': '1458217862745792520', 'text': 'New post from https://t.co/9KYxtdZjkl (CVE-2021-42072 (barrier)) has been published on https://t.co/fy5HRkp3OU'}, {'public_metrics': {'retweet_count': 0, 'reply_count': 0, 'like_count': 0, 'quote_count': 0}, 'created_at': '2021-11-09T23:40:05.000Z', 'author_id': '958005194398289920', 'id': '1458217861525221378', 'text': 'New post from https://t.co/9KYxtdZjkl (CVE-2021-34684 (vantara_pentaho)) has been published on https://t.co/QUUJ1N3Ral'}, {'public_metrics': {'retweet_count': 0, 'reply_count': 0, 'like_count': 0, 'quote_count': 0}, 'created_at': '2021-11-09T23:40:04.000Z', 'author_id': '958005194398289920', 'id': '1458217860334030856', 'text': 'New post from https://t.co/9KYxtdZjkl (CVE-2021-43186 (youtrack)) has been published on https://t.co/hM84Di4xot'}, {'public_metrics': {'retweet_count': 0, 'reply_count': 0, 'like_count': 0, 'quote_count': 0}, 'created_at': '2021-11-09T23:40:04.000Z', 'author_id': '958005194398289920', 'id': '1458217858966736902', 'text': 'New post from https://t.co/9KYxtdZjkl (CVE-2021-32481 (hue)) has been published on https://t.co/jtuf1xb1kA'}, {'public_metrics': {'retweet_count': 0, 'reply_count': 0, 'like_count': 0, 'quote_count': 0}, 'created_at': '2021-11-09T23:40:04.000Z', 'author_id': '958005194398289920', 'id': '1458217857582604302', 'text': 'New post from https://t.co/9KYxtdZjkl (CVE-2021-42073 (barrier)) has been published on https://t.co/OtNcr53PR0'}, {'public_metrics': {'retweet_count': 0, 'reply_count': 0, 'like_count': 0, 'quote_count': 0}, 'created_at': '2021-11-09T23:39:35.000Z', 'author_id': '941389496771399680', 'id': '1458217735591235586', 'text': 'CVE-2021-43570\\n\\nThe verify function in the Stark Bank Java ECDSA library (ecdsa-java) 1.0.0 fails to check that the signature is non-zero, which allows attackers to forge signatures on arbitrary messages.\\n\\nhttps://t.co/6vPWk28o17'}, {'public_metrics': {'retweet_count': 0, 'reply_count': 0, 'like_count': 0, 'quote_count': 0}, 'created_at': '2021-11-09T23:36:35.000Z', 'author_id': '941389496771399680', 'id': '1458216980608163845', 'text': 'CVE-2021-43571\\n\\nThe verify function in the Stark Bank Node.js ECDSA library (ecdsa-node) 1.1.2 fails to check that the signature is non-zero, which allows attackers to forge signatures on arbitrary messages.\\n\\nhttps://t.co/eC7yXpEE37'}, {'public_metrics': {'retweet_count': 0, 'reply_count': 0, 'like_count': 0, 'quote_count': 0}, 'created_at': '2021-11-09T23:35:40.000Z', 'author_id': '955014888446939136', 'id': '1458216749220995073', 'text': 'New post from https://t.co/uXvPWJy6tj (CVE-2021-42074 (barrier)) has been published on https://t.co/V5ub7fN2h8'}, {'public_metrics': {'retweet_count': 0, 'reply_count': 0, 'like_count': 0, 'quote_count': 0}, 'created_at': '2021-11-09T23:35:39.000Z', 'author_id': '958005194398289920', 'id': '1458216747941642250', 'text': 'New post from https://t.co/9KYxtdZjkl (CVE-2021-42078 (php_event_calendar)) has been published on https://t.co/EM7AkXI1tZ'}, {'public_metrics': {'retweet_count': 0, 'reply_count': 0, 'like_count': 0, 'quote_count': 0}, 'created_at': '2021-11-09T23:35:35.000Z', 'author_id': '958005194398289920', 'id': '1458216731479060485', 'text': 'New post from https://t.co/9KYxtdZjkl (CVE-2021-42076 (barrier)) has been published on https://t.co/Ik017EyTPO'}, {'public_metrics': {'retweet_count': 0, 'reply_count': 0, 'like_count': 0, 'quote_count': 0}, 'created_at': '2021-11-09T23:35:35.000Z', 'author_id': '958005194398289920', 'id': '1458216730250076162', 'text': 'New post from https://t.co/9KYxtdZjkl (CVE-2021-42074 (barrier)) has been published on https://t.co/d2z25ZF68k'}, {'public_metrics': {'retweet_count': 0, 'reply_count': 0, 'like_count': 0, 'quote_count': 0}, 'created_at': '2021-11-09T23:35:35.000Z', 'author_id': '955014888446939136', 'id': '1458216728928919559', 'text': 'New post from https://t.co/uXvPWJy6tj (CVE-2021-42075 (barrier)) has been published on https://t.co/LBeMAlDVbQ'}, {'public_metrics': {'retweet_count': 0, 'reply_count': 0, 'like_count': 0, 'quote_count': 0}, 'created_at': '2021-11-09T23:35:31.000Z', 'author_id': '955014888446939136', 'id': '1458216711367372800', 'text': 'New post from https://t.co/uXvPWJy6tj (CVE-2021-42076 (barrier)) has been published on https://t.co/8isKj91Xli'}, {'public_metrics': {'retweet_count': 0, 'reply_count': 0, 'like_count': 0, 'quote_count': 0}, 'created_at': '2021-11-09T23:35:30.000Z', 'author_id': '955014888446939136', 'id': '1458216709911891971', 'text': 'New post from https://t.co/uXvPWJy6tj (CVE-2021-32481 (hue)) has been published on https://t.co/iIivpAqdMT'}, {'public_metrics': {'retweet_count': 0, 'reply_count': 0, 'like_count': 0, 'quote_count': 0}, 'created_at': '2021-11-09T23:35:30.000Z', 'author_id': '958005194398289920', 'id': '1458216708368478213', 'text': 'New post from https://t.co/9KYxtdZjkl (CVE-2021-42075 (barrier)) has been published on https://t.co/lqjvVYwrQa'}, {'public_metrics': {'retweet_count': 0, 'reply_count': 0, 'like_count': 0, 'quote_count': 0}, 'created_at': '2021-11-09T23:35:27.000Z', 'author_id': '958005194398289920', 'id': '1458216696230158338', 'text': 'New post from https://t.co/9KYxtdZjkl (CVE-2021-34685 (vantara_pentaho)) has been published on https://t.co/gIXPdg4Omm'}, {'public_metrics': {'retweet_count': 0, 'reply_count': 0, 'like_count': 0, 'quote_count': 0}, 'created_at': '2021-11-09T23:35:24.000Z', 'author_id': '955014888446939136', 'id': '1458216683185790984', 'text': 'New post from https://t.co/uXvPWJy6tj (CVE-2021-43186 (youtrack)) has been published on https://t.co/bPRtRI8VgO'}, {'public_metrics': {'retweet_count': 62, 'reply_count': 1, 'like_count': 85, 'quote_count': 3}, 'created_at': '2021-11-09T23:28:45.000Z', 'author_id': '3129456030', 'id': '1458215010367197186', 'text': '今日はマイクロソフトパッチの日です。今月も早期の適用をどうぞよろしくお願いします。\\n特に Microsoft Excel セキュリティ機能のバイパスの脆弱性 (CVE-2021-42292) および Microsoft Exchange Server リモートコード実行の脆弱性 (CVE-2021-42321) は、すでに脆弱性の悪用が確認されています。 https://t.co/K5Zkjk8gnV'}, {'public_metrics': {'retweet_count': 0, 'reply_count': 0, 'like_count': 2, 'quote_count': 0}, 'created_at': '2021-11-09T23:24:49.000Z', 'author_id': '2990334854', 'id': '1458214022206140421', 'text': 'So we got a new deserailization MS-Exchange vulnerabillity? Damn thats hot #CVE-2021-42321 (CVE-2021-42321) https://t.co/TXtUP9OYa9'}, {'public_metrics': {'retweet_count': 0, 'reply_count': 0, 'like_count': 0, 'quote_count': 0}, 'created_at': '2021-11-09T23:21:32.000Z', 'author_id': '589271715', 'id': '1458213194644721665', 'text': 'Get a VPN... The Microsoft November 2021 Patch Tuesday is out\\n\\n-patches 55 security flaws\\n-including 2 actively exploited zero-days (CVE-2021-42292 and CVE-2021-42321)'}, {'public_metrics': {'retweet_count': 0, 'reply_count': 0, 'like_count': 0, 'quote_count': 0}, 'created_at': '2021-11-09T23:20:59.000Z', 'author_id': '955014888446939136', 'id': '1458213056924770309', 'text': 'New post from https://t.co/uXvPWJy6tj (CVE-2021-29994 (hue)) has been published on https://t.co/T1jLi4oQXi'}, {'public_metrics': {'retweet_count': 0, 'reply_count': 0, 'like_count': 0, 'quote_count': 0}, 'created_at': '2021-11-09T23:20:59.000Z', 'author_id': '955014888446939136', 'id': '1458213055490404355', 'text': 'New post from https://t.co/uXvPWJy6tj (CVE-2021-22051 (spring_cloud_gateway)) has been published on https://t.co/wd96zhFo1X'}, {'public_metrics': {'retweet_count': 0, 'reply_count': 0, 'like_count': 0, 'quote_count': 0}, 'created_at': '2021-11-09T23:20:54.000Z', 'author_id': '958005194398289920', 'id': '1458213037006016514', 'text': 'New post from https://t.co/9KYxtdZjkl (CVE-2021-22051 (spring_cloud_gateway)) has been published on https://t.co/SOw8JAE42M'}, {'public_metrics': {'retweet_count': 0, 'reply_count': 0, 'like_count': 0, 'quote_count': 0}, 'created_at': '2021-11-09T23:20:51.000Z', 'author_id': '955014888446939136', 'id': '1458213024003760128', 'text': 'New post from https://t.co/uXvPWJy6tj (CVE-2021-31602 (vantara_pentaho, vantara_pentaho_business_intelligence_server)) has been published on https://t.co/50UcbPTBTk'}, {'public_metrics': {'retweet_count': 0, 'reply_count': 0, 'like_count': 0, 'quote_count': 0}, 'created_at': '2021-11-09T23:20:42.000Z', 'author_id': '958005194398289920', 'id': '1458212984526974977', 'text': 'New post from https://t.co/9KYxtdZjkl (CVE-2021-31602 (vantara_pentaho, vantara_pentaho_business_intelligence_server)) has been published on https://t.co/e4Flez3bSG'}, {'public_metrics': {'retweet_count': 0, 'reply_count': 0, 'like_count': 0, 'quote_count': 0}, 'created_at': '2021-11-09T23:20:30.000Z', 'author_id': '958005194398289920', 'id': '1458212935751421953', 'text': 'New post from https://t.co/9KYxtdZjkl (CVE-2021-31600 (vantara_pentaho, vantara_pentaho_business_intelligence_server)) has been published on https://t.co/vvEnUPkXl5'}, {'public_metrics': {'retweet_count': 0, 'reply_count': 0, 'like_count': 0, 'quote_count': 0}, 'created_at': '2021-11-09T23:20:30.000Z', 'author_id': '958005194398289920', 'id': '1458212934094577666', 'text': 'New post from https://t.co/9KYxtdZjkl (CVE-2021-31599 (vantara_pentaho, vantara_pentaho_business_intelligence_server)) has been published on https://t.co/diI0saout4'}, {'public_metrics': {'retweet_count': 0, 'reply_count': 0, 'like_count': 0, 'quote_count': 0}, 'created_at': '2021-11-09T23:20:29.000Z', 'author_id': '955014888446939136', 'id': '1458212928205856773', 'text': 'New post from https://t.co/uXvPWJy6tj (CVE-2021-31601 (vantara_pentaho, vantara_pentaho_business_intelligence_server)) has been published on https://t.co/9lF3FBa1ya'}, {'public_metrics': {'retweet_count': 0, 'reply_count': 0, 'like_count': 0, 'quote_count': 0}, 'created_at': '2021-11-09T23:20:22.000Z', 'author_id': '958005194398289920', 'id': '1458212899600670721', 'text': 'New post from https://t.co/9KYxtdZjkl (CVE-2021-29994 (hue)) has been published on https://t.co/vrW0NQEXAK'}, {'public_metrics': {'retweet_count': 0, 'reply_count': 0, 'like_count': 0, 'quote_count': 0}, 'created_at': '2021-11-09T23:20:21.000Z', 'author_id': '955014888446939136', 'id': '1458212898132615175', 'text': 'New post from https://t.co/uXvPWJy6tj (CVE-2021-31599 (vantara_pentaho, vantara_pentaho_business_intelligence_server)) has been published on https://t.co/jZTwSg86xB'}, {'public_metrics': {'retweet_count': 0, 'reply_count': 0, 'like_count': 0, 'quote_count': 0}, 'created_at': '2021-11-09T23:20:21.000Z', 'author_id': '958005194398289920', 'id': '1458212896585003010', 'text': 'New post from https://t.co/9KYxtdZjkl (CVE-2021-31601 (vantara_pentaho, vantara_pentaho_business_intelligence_server)) has been published on https://t.co/54yoHecCCZ'}, {'public_metrics': {'retweet_count': 0, 'reply_count': 0, 'like_count': 0, 'quote_count': 0}, 'created_at': '2021-11-09T23:20:18.000Z', 'author_id': '955014888446939136', 'id': '1458212883385528323', 'text': 'New post from https://t.co/uXvPWJy6tj (CVE-2021-31600 (vantara_pentaho, vantara_pentaho_business_intelligence_server)) has been published on https://t.co/jWQJ1LASNP'}, {'public_metrics': {'retweet_count': 0, 'reply_count': 0, 'like_count': 0, 'quote_count': 0}, 'created_at': '2021-11-09T23:13:51.000Z', 'author_id': '1345711683147186177', 'id': '1458211261951315969', 'text': 'IT Risk:\\n（Microsoft has released its monthly security patch update for the month of November 2021）\\nMicrosoft.Vulnerability in System Center\\nExecute Arbitrary Code/Commands\\nCVE-2021-42298\\nhttps://t.co/PCaITsmgOH\\nhttps://t.co/P9gzQH7eKr'}, {'public_metrics': {'retweet_count': 0, 'reply_count': 0, 'like_count': 0, 'quote_count': 0}, 'created_at': '2021-11-09T23:13:43.000Z', 'author_id': '1345711683147186177', 'id': '1458211225855135746', 'text': 'IT Risk:\\n（Microsoft monthly security patch update for the month of November 2021）\\nMicrosoft.System Centerに脆弱性\\n意図しないコードやコマンドを実行される\\nExecute Arbitrary Code/Commands\\nCVE-2021-42298\\nhttps://t.co/PCaITsmgOH\\nhttps://t.co/P9gzQH7eKr'}, {'public_metrics': {'retweet_count': 0, 'reply_count': 0, 'like_count': 0, 'quote_count': 0}, 'created_at': '2021-11-09T23:08:27.000Z', 'author_id': '3183315712', 'id': '1458209901671550976', 'text': 'CVE-2021-43575 : ** DISPUTED ** KNX ETS6 through 6.0.0 uses the hard-coded password ETS5Password, with a salt value of Ivan Medvedev, allowing local users to read project information, a similar issue to CVE-2021-36799. NOTE: The vendor d... https://t.co/egihwGzrIM'}, {'public_metrics': {'retweet_count': 7, 'reply_count': 0, 'like_count': 14, 'quote_count': 1}, 'created_at': '2021-11-09T23:08:18.000Z', 'author_id': '804487856085467137', 'id': '1458209864249851909', 'text': 'マイクロソフトがExchange Server 2016/2019の不具合パッチを速やかに適用するよう警告。CVE-2021-42321が該当不具合。認証済の攻撃者による遠隔コード実行で、コマンドレット引数の不適切な検証に起因。既に限られた範囲で実際に悪用されていることが確認されている。 https://t.co/3hQORpGKhi'}, {'public_metrics': {'retweet_count': 0, 'reply_count': 0, 'like_count': 0, 'quote_count': 0}, 'created_at': '2021-11-09T23:07:59.000Z', 'author_id': '3183315712', 'id': '1458209783085993990', 'text': 'CVE-2021-35489 : Thruk 2.40-2 allows /thruk/#cgi-bin/extinfo.cgi?type=2&amp;host={HOSTNAME]&amp;service={SERVICENAME]&amp;backend={BACKEND] Reflected #XSS via the host or service parameter. An attacker could inject arbitrary JavaScript into extinfo.c... https://t.co/JbU9FXV8Ba'}, {'public_metrics': {'retweet_count': 0, 'reply_count': 0, 'like_count': 0, 'quote_count': 0}, 'created_at': '2021-11-09T23:07:30.000Z', 'author_id': '3183315712', 'id': '1458209664554962946', 'text': 'CVE-2021-35488 : Thruk 2.40-2 allows /thruk/#cgi-bin/status.cgi?style=combined&amp;title={TITLE] Reflected #XSS via the host or title parameter. An attacker could inject arbitrary JavaScript into status.cgi. The payload would be triggered eve... https://t.co/Ap0eySrQOG'}, {'public_metrics': {'retweet_count': 0, 'reply_count': 0, 'like_count': 0, 'quote_count': 0}, 'created_at': '2021-11-09T23:07:12.000Z', 'author_id': '1437489413043408903', 'id': '1458209587153158144', 'text': 'Severity: 🔥  | Vulnerability in the Java SE, Oracle Gra... | CVE-2021-35588 | Link for more: https://t.co/btuX2bAcLp'}, {'public_metrics': {'retweet_count': 0, 'reply_count': 0, 'like_count': 0, 'quote_count': 0}, 'created_at': '2021-11-09T23:06:36.000Z', 'author_id': '1437489413043408903', 'id': '1458209436686696451', 'text': 'Severity: 🔥🔥  | An issue was discovered in Hitachi Vanta... | CVE-2021-31599 | Link for more: https://t.co/2hVcRVu8Q2'}, {'public_metrics': {'retweet_count': 0, 'reply_count': 0, 'like_count': 0, 'quote_count': 0}, 'created_at': '2021-11-09T23:04:48.000Z', 'author_id': '1437489413043408903', 'id': '1458208985329258497', 'text': 'Severity: 🔥🔥  | An issue was discovered in Hitachi Vanta... | CVE-2021-31600 | Link for more: https://t.co/5YsSfxg1l3'}, {'public_metrics': {'retweet_count': 0, 'reply_count': 0, 'like_count': 0, 'quote_count': 0}, 'created_at': '2021-11-09T23:03:37.000Z', 'author_id': '1437489413043408903', 'id': '1458208684434096130', 'text': 'Severity: 🔥🔥  | An issue was discovered in Hitachi Vanta... | CVE-2021-31601 | Link for more: https://t.co/PdO9DT9zx2'}, {'public_metrics': {'retweet_count': 0, 'reply_count': 0, 'like_count': 0, 'quote_count': 0}, 'created_at': '2021-11-09T23:03:01.000Z', 'author_id': '1437489413043408903', 'id': '1458208533657186305', 'text': 'Severity: 🔥🔥  | An issue was discovered in Hitachi Vanta... | CVE-2021-31602 | Link for more: https://t.co/3bQyV9TvLO'}, {'public_metrics': {'retweet_count': 0, 'reply_count': 0, 'like_count': 0, 'quote_count': 0}, 'created_at': '2021-11-09T23:02:25.000Z', 'author_id': '1437489413043408903', 'id': '1458208383228547072', 'text': 'Severity: 🔥🔥🔥  | Hitachi Vantara Pentaho Business Analyti... | CVE-2021-34684 | Link for more: https://t.co/qhYzL3airh'}]\n"
     ]
    }
   ],
   "source": [
    "for i in range (0,len(twitter_data['data'])):\n",
    "    if 'public_metrics' not in twitter_data['data'][i]:\n",
    "        print(\"Δεν υπάρχουν public metrics στο index \",i, \"της λίστας. Ας δούμε λοιπόν τί υπάρχει εδώ:\\n\\n\" )\n",
    "        print(twitter_data['data'][i])\n",
    "        break   "
   ]
  },
  {
   "cell_type": "markdown",
   "id": "f3bed192",
   "metadata": {
    "id": "f3bed192"
   },
   "source": [
    "Εντοπίσαμε το σημείο από το οποίο η λίστα σταματά να αποτελείται πια από tweets, αλλά περιέχει πλέον υπο-λίστες από tweets. Αυτό σημαίνει ότι χρειάζεται να δώσουμε μεγαλύτερη προσοχή στην δομή του JSON, στον τρόπο δηλαδή με τον οποία είναι αποθηκευμένα τα αντικείμενα."
   ]
  },
  {
   "cell_type": "code",
   "execution_count": null,
   "id": "fa54510f",
   "metadata": {
    "id": "fa54510f",
    "outputId": "c297d609-0bcf-4d65-f954-e5ec0dd3ab2c",
    "scrolled": false
   },
   "outputs": [
    {
     "name": "stdout",
     "output_type": "stream",
     "text": [
      "Συνολικά η λίστα του αντικειμένου data με τα tweets, δηλ. η twitter_data['data] αποτελείται από 921 αντικείμενα.\n",
      "Είδαμε όμως ότι δεν έχουμε ίδιου τύπου αντικείμενα σε κάθε θέση της λίστας.\n",
      "Στις 500 πρώτες θέσεις έχουμε tweets και στις υπόλοιπες έως το τέλος έχουμε λίστες από tweets.\n",
      "\n",
      "Μέχρι και το index 499 της λίστας έχουμε σε κάθε θέση 5 πεδία,τα οποία είναι τα πεδία που συνθέτουν ένα tweet (δηλ. text, author_id, created_at, public_metrics και id).\n"
     ]
    }
   ],
   "source": [
    "print(\"Συνολικά η λίστα του αντικειμένου data με τα tweets, δηλ. η twitter_data['data] αποτελείται από\",len(twitter_data['data']),\"αντικείμενα.\\nΕίδαμε όμως ότι δεν έχουμε ίδιου τύπου αντικείμενα σε κάθε θέση της λίστας.\")\n",
    "print(\"Στις 500 πρώτες θέσεις έχουμε tweets και στις υπόλοιπες έως το τέλος έχουμε λίστες από tweets.\")\n",
    "print(\"\\nΜέχρι και το index 499 της λίστας έχουμε σε κάθε θέση\",len(twitter_data['data'][499]),\"πεδία,τα οποία είναι τα πεδία που συνθέτουν ένα tweet (δηλ. text, author_id, created_at, public_metrics και id).\")"
   ]
  },
  {
   "cell_type": "markdown",
   "id": "e2683699",
   "metadata": {
    "id": "e2683699"
   },
   "source": [
    "Από το index 500 όμως της λίστας και ύστερα, βρίσκοντα άλλες -εμφωλευμένες- υπολίστες. Παρακάτω βλέπουμε τον αριθμό των tweets που περιέχονται στις λίστες που υπάρχουν στις θέσεις 500 και 920 της βασικής λίστας twitter_data['data']."
   ]
  },
  {
   "cell_type": "code",
   "execution_count": null,
   "id": "59501617",
   "metadata": {
    "id": "59501617",
    "outputId": "14c065ad-c27e-42a9-f78f-6f2185b551ae"
   },
   "outputs": [
    {
     "name": "stdout",
     "output_type": "stream",
     "text": [
      "Στο index 500 έχουμε μια υπολίστα με 500 αντικείμενα, καθένα από τα οποία είναι ολόκληρα αντικείμενα tweets (με τα 5 πεδία που  αναφέρθηκαν παραπάνω για το κάθε tweet).\n",
      "Το ίδιο ισχύει και για τα τελευταία 167 tweets που εντοπίζονται στη θέση 920, που είναι και η τελευταία της λίστας.\n"
     ]
    }
   ],
   "source": [
    "print(\"Στο index 500 έχουμε μια υπολίστα με\",len(twitter_data['data'][500]),\"αντικείμενα, καθένα από τα οποία είναι ολόκληρα αντικείμενα tweets (με τα 5 πεδία που  αναφέρθηκαν παραπάνω για το κάθε tweet).\")\n",
    "print(\"Το ίδιο ισχύει και για τα τελευταία\",len(twitter_data['data'][920]),\"tweets που εντοπίζονται στη θέση 920, που είναι και η τελευταία της λίστας.\")\n",
    "# Δες εδώ για έλεγχο: https://note.nkmk.me/en/python-dict-in-values-items/"
   ]
  },
  {
   "cell_type": "markdown",
   "id": "c8774e1a",
   "metadata": {
    "id": "c8774e1a"
   },
   "source": [
    "Άρα συμπαιραίνουμε ότι χρειάζεται ειδική επεξεργασία-προσπέλαση η λίστα με τα tweets. Θα χρειαστούμε διπλό for\n",
    "για να πάρουμε όλα τα tweets που υπάρχουν εκεί. Στις λίστες της λίστας... \n",
    "\n",
    "### Το αντικείμενο users\n",
    "\n",
    "Παρόμοια όμως και η συλλογή των δεδομένων των χρηστών απαιτεί προσεκτική μεταχείριση καθώς όπως θα δούμε τώρα, και σε αυτό το μέρος του JSON τα δεδομένα εντοπίζονται σε μια λίστα με υπο-λίστες."
   ]
  },
  {
   "cell_type": "code",
   "execution_count": null,
   "id": "58aebfe7",
   "metadata": {
    "id": "58aebfe7",
    "outputId": "b4cc5c67-4b47-4e74-f00a-c37e2f027179"
   },
   "outputs": [
    {
     "name": "stdout",
     "output_type": "stream",
     "text": [
      "Στο αντικείμενο users έχουμε μια λίστα που αποτελείται από 500 αντικείμενα με πληροφορίες χρηστών στο json.\n",
      "Κάθε ένα από τα αντικείμενα αυτά είτε είναι users είτε λίστα από users.\n",
      "Στις θέσεις από 0 έως και 78 σε αυτή την λίστα, έχουμε ένα αντικείμενο user σε κάθε θέση.\n",
      "Μέγεθος του αντικειμένου στη θέση 0 της λίστας: 5\n",
      "Μέγεθος του αντικειμένου στη θέση 1 της λίστας: 5\n",
      "Μέγεθος του αντικειμένου στη θέση 78 της λίστας: 5\n",
      "Το 5 υποδηλώνει τα 5 keys που έχουν τα δεδομένα των χρηστών:\n",
      "Για παράδειγμα βλέπουμε το αντικείμενο που υπάρχει στη θέση 78 της κεντρικής λίστας\n",
      " {\n",
      " \"description\": \"Free NIST & CVE vulnerability alerts provided by @remotelyrmm.\",\n",
      " \"username\": \"RemotelyAlerts\",\n",
      " \"public_metrics\": {\n",
      "  \"followers_count\": 8,\n",
      "  \"following_count\": 28,\n",
      "  \"tweet_count\": 940,\n",
      "  \"listed_count\": 0\n",
      " },\n",
      " \"id\": \"1437489413043408903\",\n",
      " \"name\": \"Remotely Alerts\"\n",
      "}\n",
      "Στις υπόλοιπες θέσεις της λίστας έχουμε σε κάθε θέση και από μια υπο-λίστα η οποία με τη σειρά της περιέχει άγνωστο αριθμό από αντικείμενα users.\n",
      "Μέγεθος της υπο-λίστας στη θέση 79 της κεντρικής λίστας: 54\n",
      "Μέγεθος της υπο-λίστας στη θέση 100 της κεντρικής λίστας: 143\n",
      "Μέγεθος της υπο-λίστας στη θέση 200 της κεντρικής λίστας: 70\n",
      "Μέγεθος της υπο-λίστας στη θέση 499 της κεντρικής λίστας: 28\n",
      "Για παράδειγμα βλέπουμε το αντικείμενο της θέσης 5 της υπο-λίστας εκείνης που υπάρχει \n",
      "στη θέση 79 της κεντρικής λίστας\n",
      " {\n",
      " \"name\": \"www.sesin.at\",\n",
      " \"description\": \"for more information about us please visit https://t.co/5izwsomN8w\",\n",
      " \"public_metrics\": {\n",
      "  \"followers_count\": 88,\n",
      "  \"following_count\": 0,\n",
      "  \"tweet_count\": 212994,\n",
      "  \"listed_count\": 0\n",
      " },\n",
      " \"id\": \"958005194398289920\",\n",
      " \"username\": \"www_sesin_at\"\n",
      "}\n"
     ]
    }
   ],
   "source": [
    "# Διερεύνηση του μέρους του JSON που περιέχει τις πληροφορίες των users\n",
    "\n",
    "# Συνολικά έχουμε 500 λίστες με ['users']\n",
    "print(\"Στο αντικείμενο users έχουμε μια λίστα που αποτελείται από\", len(twitter_data['includes']['users']),\"αντικείμενα με πληροφορίες χρηστών στο json.\")\n",
    "print(\"Κάθε ένα από τα αντικείμενα αυτά είτε είναι users είτε λίστα από users.\") \n",
    "\n",
    "# Και από τη θέση [0] έως και την θέση [78] της λίστας user έχουμε κάθε φορά και από ένα user object. \n",
    "print(\"Στις θέσεις από 0 έως και 78 σε αυτή την λίστα, έχουμε ένα αντικείμενο user σε κάθε θέση.\")\n",
    "print(\"Μέγεθος του αντικειμένου στη θέση 0 της λίστας:\",len(twitter_data['includes']['users'][0]))   \n",
    "print(\"Μέγεθος του αντικειμένου στη θέση 1 της λίστας:\",len(twitter_data['includes']['users'][1]))     \n",
    "print(\"Μέγεθος του αντικειμένου στη θέση 78 της λίστας:\",len(twitter_data['includes']['users'][78]))\n",
    "print(\"Το 5 υποδηλώνει τα 5 keys που έχουν τα δεδομένα των χρηστών:\")\n",
    "print(\"Για παράδειγμα βλέπουμε το αντικείμενο που υπάρχει στη θέση 78 της κεντρικής λίστας\\n\", json.dumps(twitter_data['includes']['users'][78], indent = 1))\n",
    "\n",
    "# Mετά έχουμε πολλά user objects σε κάθε μια θέση.\n",
    "print(\"Στις υπόλοιπες θέσεις της λίστας έχουμε σε κάθε θέση και από μια υπο-λίστα η οποία με τη σειρά της περιέχει άγνωστο αριθμό από αντικείμενα users.\")  \n",
    "print(\"Μέγεθος της υπο-λίστας στη θέση 79 της κεντρικής λίστας:\",len(twitter_data['includes']['users'][79]))\n",
    "print(\"Μέγεθος της υπο-λίστας στη θέση 100 της κεντρικής λίστας:\",len(twitter_data['includes']['users'][100])) \n",
    "print(\"Μέγεθος της υπο-λίστας στη θέση 200 της κεντρικής λίστας:\",len(twitter_data['includes']['users'][200])) \n",
    "print(\"Μέγεθος της υπο-λίστας στη θέση 499 της κεντρικής λίστας:\",len(twitter_data['includes']['users'][499])) \n",
    "print(\"Για παράδειγμα βλέπουμε το αντικείμενο της θέσης 5 της υπο-λίστας εκείνης που υπάρχει \\nστη θέση 79 της κεντρικής λίστας\\n\", json.dumps(twitter_data['includes']['users'][79][5], indent = 1))"
   ]
  },
  {
   "cell_type": "markdown",
   "id": "a3bfe4f2",
   "metadata": {
    "id": "a3bfe4f2"
   },
   "source": [
    "Οπότε χρειαζόμαστε προσοχή και στην επαναληπτική διαδικασία για την συλλογή των δεδομένων των χρηστών!\n",
    "\n",
    "### Η συλλογή των δεδομένων των users\n",
    "\n",
    "Συλλέγουμε αρχικά τα δεδομένα των χρηστών από το αντικείμενο users του JSON και τα τοποθετούμε σε μια λίστα."
   ]
  },
  {
   "cell_type": "code",
   "execution_count": null,
   "id": "7be6af49",
   "metadata": {
    "id": "7be6af49"
   },
   "outputs": [],
   "source": [
    "users = []\n",
    "\n",
    "# Η διαδικασία διάσχυσης ορίζεται από τον ιδιαίτερο τρόπο με τον οποίο είναι διατεταγμένα τα δεδομένα \n",
    "# στο json file, τον οποίο διερευνήσαμε παραπάνω.\n",
    "for i in range (79):\n",
    "\n",
    "    user_id = twitter_data['includes']['users'][i]['id']\n",
    "    user_name = twitter_data['includes']['users'][i]['name']\n",
    "    user_username = twitter_data['includes']['users'][i]['username']\n",
    "    user_description = twitter_data['includes']['users'][i]['description']\n",
    "    user_followers = twitter_data['includes']['users'][i]['public_metrics']['followers_count']\n",
    "    user_following = twitter_data['includes']['users'][i]['public_metrics']['following_count']\n",
    "    user_tweet_count = twitter_data['includes']['users'][i]['public_metrics']['tweet_count']\n",
    "    user_listed_count = twitter_data['includes']['users'][i]['public_metrics']['listed_count']\n",
    "\n",
    "    users.append([user_id,\n",
    "                  user_name,\n",
    "                  user_username,\n",
    "                  user_description,\n",
    "                  user_followers,\n",
    "                  user_following,\n",
    "                  user_tweet_count,\n",
    "                  user_listed_count\n",
    "                 ])\n",
    "\n",
    "# Και μετά η διάσχιση συνεχίζει στα υπόλοιπα δεδομένα που διατάσσονται πολλά-πολλά σε υπο-λίστες, ξεκινώντας από τη\n",
    "# θέση 79 της λίστας twitter_data['includes']['users'].\n",
    "for i in range (79, 500):\n",
    "    \n",
    "    # Οι πληροφορίες για κάθε user ξεχωριστά εντοπίζονται ως στοιχεία της υπολίστας [i] της κεντρικής λίστας['users']\n",
    "    # και δεν ξέρουμε πόσους users έχει κάθε τέτοια υπολίστα.\n",
    "    for j in range (0, len(twitter_data['includes']['users'][i])):\n",
    "        \n",
    "        user_id = twitter_data['includes']['users'][i][j]['id']\n",
    "        user_name = twitter_data['includes']['users'][i][j]['name']\n",
    "        user_username = twitter_data['includes']['users'][i][j]['username']\n",
    "        user_description = twitter_data['includes']['users'][i][j]['description']\n",
    "        user_followers = twitter_data['includes']['users'][i][j]['public_metrics']['followers_count']\n",
    "        user_following = twitter_data['includes']['users'][i][j]['public_metrics']['following_count']\n",
    "        user_tweet_count = twitter_data['includes']['users'][i][j]['public_metrics']['tweet_count']\n",
    "        user_listed_count = twitter_data['includes']['users'][i][j]['public_metrics']['listed_count']\n",
    "        \n",
    "        users.append([user_id,\n",
    "                      user_name,\n",
    "                      user_username,\n",
    "                      user_description,\n",
    "                      user_followers,\n",
    "                      user_following,\n",
    "                      user_tweet_count,\n",
    "                      user_listed_count\n",
    "                     ])"
   ]
  },
  {
   "cell_type": "markdown",
   "id": "be462012",
   "metadata": {
    "id": "be462012"
   },
   "source": [
    "Και τώρα παιρνάμε τα δεδομένα σε ένα DataFrame, το οποίο και ονομάζουμε **users_df**."
   ]
  },
  {
   "cell_type": "code",
   "execution_count": null,
   "id": "7889fa8e",
   "metadata": {
    "id": "7889fa8e",
    "outputId": "2ae4d1a6-b5e3-4d21-c2ca-e5684f206385",
    "scrolled": true
   },
   "outputs": [
    {
     "data": {
      "text/html": [
       "<div>\n",
       "<style scoped>\n",
       "    .dataframe tbody tr th:only-of-type {\n",
       "        vertical-align: middle;\n",
       "    }\n",
       "\n",
       "    .dataframe tbody tr th {\n",
       "        vertical-align: top;\n",
       "    }\n",
       "\n",
       "    .dataframe thead th {\n",
       "        text-align: right;\n",
       "    }\n",
       "</style>\n",
       "<table border=\"1\" class=\"dataframe\">\n",
       "  <thead>\n",
       "    <tr style=\"text-align: right;\">\n",
       "      <th></th>\n",
       "      <th>author_id</th>\n",
       "      <th>author_name</th>\n",
       "      <th>author_username</th>\n",
       "      <th>author_description</th>\n",
       "      <th>author_followers_count</th>\n",
       "      <th>author_following_count</th>\n",
       "      <th>author_tweet_count</th>\n",
       "      <th>author_listed_count</th>\n",
       "    </tr>\n",
       "  </thead>\n",
       "  <tbody>\n",
       "    <tr>\n",
       "      <th>0</th>\n",
       "      <td>941389496771399680</td>\n",
       "      <td>Vulmon Vulnerability Feed</td>\n",
       "      <td>VulmonFeeds</td>\n",
       "      <td>Vulnerability Feed Bot (tweets new and some ol...</td>\n",
       "      <td>1830</td>\n",
       "      <td>2</td>\n",
       "      <td>85174</td>\n",
       "      <td>46</td>\n",
       "    </tr>\n",
       "    <tr>\n",
       "      <th>1</th>\n",
       "      <td>1132127578922344448</td>\n",
       "      <td>IT news for all</td>\n",
       "      <td>IT_news_for_all</td>\n",
       "      <td>Сбор новостей с каналов ИТ тематики\\n🔥🎯https:/...</td>\n",
       "      <td>20</td>\n",
       "      <td>17</td>\n",
       "      <td>4684</td>\n",
       "      <td>1</td>\n",
       "    </tr>\n",
       "    <tr>\n",
       "      <th>2</th>\n",
       "      <td>955014888446939136</td>\n",
       "      <td>Wolfgang Sesin</td>\n",
       "      <td>WolfgangSesin</td>\n",
       "      <td>Check Point Master &amp; Instructor, Pentest Exper...</td>\n",
       "      <td>292</td>\n",
       "      <td>494</td>\n",
       "      <td>203761</td>\n",
       "      <td>9</td>\n",
       "    </tr>\n",
       "    <tr>\n",
       "      <th>3</th>\n",
       "      <td>958005194398289920</td>\n",
       "      <td>www.sesin.at</td>\n",
       "      <td>www_sesin_at</td>\n",
       "      <td>for more information about us please visit htt...</td>\n",
       "      <td>88</td>\n",
       "      <td>0</td>\n",
       "      <td>212994</td>\n",
       "      <td>0</td>\n",
       "    </tr>\n",
       "    <tr>\n",
       "      <th>4</th>\n",
       "      <td>1345711683147186177</td>\n",
       "      <td>Sun_up Risk_management</td>\n",
       "      <td>management_sun</td>\n",
       "      <td>シス管不在企業を応援するリスクマージメント系情報提供サービスを運営しています。\\n#フリーラ...</td>\n",
       "      <td>50</td>\n",
       "      <td>79</td>\n",
       "      <td>4265</td>\n",
       "      <td>3</td>\n",
       "    </tr>\n",
       "    <tr>\n",
       "      <th>...</th>\n",
       "      <td>...</td>\n",
       "      <td>...</td>\n",
       "      <td>...</td>\n",
       "      <td>...</td>\n",
       "      <td>...</td>\n",
       "      <td>...</td>\n",
       "      <td>...</td>\n",
       "      <td>...</td>\n",
       "    </tr>\n",
       "    <tr>\n",
       "      <th>39168</th>\n",
       "      <td>68806705</td>\n",
       "      <td>Francisco Donoso</td>\n",
       "      <td>Francisckrs</td>\n",
       "      <td>I only tweet about Infosec topics. The analysi...</td>\n",
       "      <td>1506</td>\n",
       "      <td>613</td>\n",
       "      <td>2091</td>\n",
       "      <td>39</td>\n",
       "    </tr>\n",
       "    <tr>\n",
       "      <th>39169</th>\n",
       "      <td>873270375538458626</td>\n",
       "      <td>DarkOwl</td>\n",
       "      <td>BuhoOscuro</td>\n",
       "      <td>Cyber &amp; Human Intelligence | Qualitative Risk ...</td>\n",
       "      <td>537</td>\n",
       "      <td>851</td>\n",
       "      <td>10380</td>\n",
       "      <td>6</td>\n",
       "    </tr>\n",
       "    <tr>\n",
       "      <th>39170</th>\n",
       "      <td>1122743043914858496</td>\n",
       "      <td>jah🇪🇹</td>\n",
       "      <td>jah_s3</td>\n",
       "      <td>17 y.o wannabe hacker |Blockchain  security</td>\n",
       "      <td>32</td>\n",
       "      <td>414</td>\n",
       "      <td>267</td>\n",
       "      <td>2</td>\n",
       "    </tr>\n",
       "    <tr>\n",
       "      <th>39171</th>\n",
       "      <td>1242047789959393280</td>\n",
       "      <td>imacbot</td>\n",
       "      <td>imacbot1</td>\n",
       "      <td></td>\n",
       "      <td>0</td>\n",
       "      <td>0</td>\n",
       "      <td>59</td>\n",
       "      <td>0</td>\n",
       "    </tr>\n",
       "    <tr>\n",
       "      <th>39172</th>\n",
       "      <td>834837198964940801</td>\n",
       "      <td>Molsson Testact</td>\n",
       "      <td>molsson365</td>\n",
       "      <td></td>\n",
       "      <td>0</td>\n",
       "      <td>1</td>\n",
       "      <td>4</td>\n",
       "      <td>0</td>\n",
       "    </tr>\n",
       "  </tbody>\n",
       "</table>\n",
       "<p>39173 rows × 8 columns</p>\n",
       "</div>"
      ],
      "text/plain": [
       "                 author_id                author_name  author_username  \\\n",
       "0       941389496771399680  Vulmon Vulnerability Feed      VulmonFeeds   \n",
       "1      1132127578922344448            IT news for all  IT_news_for_all   \n",
       "2       955014888446939136             Wolfgang Sesin    WolfgangSesin   \n",
       "3       958005194398289920               www.sesin.at     www_sesin_at   \n",
       "4      1345711683147186177     Sun_up Risk_management   management_sun   \n",
       "...                    ...                        ...              ...   \n",
       "39168             68806705           Francisco Donoso      Francisckrs   \n",
       "39169   873270375538458626                    DarkOwl       BuhoOscuro   \n",
       "39170  1122743043914858496                      jah🇪🇹           jah_s3   \n",
       "39171  1242047789959393280                    imacbot         imacbot1   \n",
       "39172   834837198964940801            Molsson Testact       molsson365   \n",
       "\n",
       "                                      author_description  \\\n",
       "0      Vulnerability Feed Bot (tweets new and some ol...   \n",
       "1      Сбор новостей с каналов ИТ тематики\\n🔥🎯https:/...   \n",
       "2      Check Point Master & Instructor, Pentest Exper...   \n",
       "3      for more information about us please visit htt...   \n",
       "4      シス管不在企業を応援するリスクマージメント系情報提供サービスを運営しています。\\n#フリーラ...   \n",
       "...                                                  ...   \n",
       "39168  I only tweet about Infosec topics. The analysi...   \n",
       "39169  Cyber & Human Intelligence | Qualitative Risk ...   \n",
       "39170        17 y.o wannabe hacker |Blockchain  security   \n",
       "39171                                                      \n",
       "39172                                                      \n",
       "\n",
       "       author_followers_count  author_following_count  author_tweet_count  \\\n",
       "0                        1830                       2               85174   \n",
       "1                          20                      17                4684   \n",
       "2                         292                     494              203761   \n",
       "3                          88                       0              212994   \n",
       "4                          50                      79                4265   \n",
       "...                       ...                     ...                 ...   \n",
       "39168                    1506                     613                2091   \n",
       "39169                     537                     851               10380   \n",
       "39170                      32                     414                 267   \n",
       "39171                       0                       0                  59   \n",
       "39172                       0                       1                   4   \n",
       "\n",
       "       author_listed_count  \n",
       "0                       46  \n",
       "1                        1  \n",
       "2                        9  \n",
       "3                        0  \n",
       "4                        3  \n",
       "...                    ...  \n",
       "39168                   39  \n",
       "39169                    6  \n",
       "39170                    2  \n",
       "39171                    0  \n",
       "39172                    0  \n",
       "\n",
       "[39173 rows x 8 columns]"
      ]
     },
     "execution_count": 10,
     "metadata": {},
     "output_type": "execute_result"
    }
   ],
   "source": [
    "users_df = pd.DataFrame(users, columns =  [\n",
    "                                   'author_id',\n",
    "                                   'author_name',\n",
    "                                   'author_username',\n",
    "                                   'author_description',\n",
    "                                   'author_followers_count',\n",
    "                                   'author_following_count',\n",
    "                                   'author_tweet_count',\n",
    "                                   'author_listed_count'])\n",
    "users_df"
   ]
  },
  {
   "cell_type": "markdown",
   "id": "30d86b46",
   "metadata": {
    "id": "30d86b46"
   },
   "source": [
    "Στην συνέχεια εξετάζουμε το ενδεχόμενο να έχουμε κρατήσει διπλότυπους χρήστες στο DataFrame μας."
   ]
  },
  {
   "cell_type": "code",
   "execution_count": null,
   "id": "cc6bd551",
   "metadata": {
    "id": "cc6bd551",
    "outputId": "d56ba3df-1096-4cfd-d095-49a6007d40dc"
   },
   "outputs": [
    {
     "name": "stdout",
     "output_type": "stream",
     "text": [
      "Υπάρχουν διπλότυπες εγγραφές στο users_df, δηλ. γραμμές με ίδιο author_id.\n",
      "Μπορεί να υπάρχουν και διπλότυπα author_descriptions αλλά μας αφορά το author_id αφού θέλουμε να κρατήσουμε\n",
      "τους διαφορετικούς χρήστες (το author_id θα λέγαμε πως είναι το primary key μιλώντας με database όρους).\n",
      "Ας δούμε όμως πρώτα τα διαφορετικά author_ids και το πόσα αντίγραφα έχουμε για κάθε ένα από αυτά:\n",
      "\n",
      "author_id\n",
      "10000122               1\n",
      "1000206141417177088    1\n",
      "100027629              1\n",
      "1000288828194615296    1\n",
      "1000297241368825856    1\n",
      "                      ..\n",
      "999768020456108032     5\n",
      "999799141              9\n",
      "99981998               1\n",
      "999826194429304832     1\n",
      "999959508217577472     1\n",
      "Length: 10609, dtype: int64\n",
      "\n",
      "Συμπεραίνουμε ότι έχουμε 10609 διαφορετικούς authors στο dataset μας, ενώ αυτή την στιγμή το users_df αποτελείται   από 39173 εγγραφές.\n"
     ]
    }
   ],
   "source": [
    "if (users_df['author_id'].is_unique):\n",
    "    print(\"Όλα καλά! Δεν έχουν μπει στο users_df διπλότυπες εγγραφές για ίδιους authors.\")\n",
    "    print(\"Στο dataset μας έχουμε \", len(users_df), \"ξεχωριστούς authors.\")\n",
    "else:\n",
    "    print(\"Υπάρχουν διπλότυπες εγγραφές στο users_df, δηλ. γραμμές με ίδιο author_id.\")\n",
    "    print(\"Μπορεί να υπάρχουν και διπλότυπα author_descriptions αλλά μας αφορά το author_id αφού θέλουμε να κρατήσουμε\\nτους διαφορετικούς χρήστες (το author_id θα λέγαμε πως είναι το primary key μιλώντας με database όρους).\")\n",
    "    print(\"Ας δούμε όμως πρώτα τα διαφορετικά author_ids και το πόσα αντίγραφα έχουμε για κάθε ένα από αυτά:\\n\")\n",
    "    duplicates_author_ids = users_df.pivot_table(columns=['author_id'], aggfunc='size') # Από https://datatofish.com/count-duplicates-pandas/\n",
    "    print (duplicates_author_ids)\n",
    "    print(\"\\nΣυμπεραίνουμε ότι έχουμε 10609 διαφορετικούς authors στο dataset μας, ενώ αυτή την στιγμή το users_df αποτελείται   από\",users_df.shape[0],\"εγγραφές.\")"
   ]
  },
  {
   "cell_type": "markdown",
   "id": "396861c9",
   "metadata": {
    "id": "396861c9"
   },
   "source": [
    "Θα διαγράψουμε τις διπλότυπες εγγραφές, δηλαδή τις γραμμές στο users_df που έχουν ίδιο author_id. Για να το κάνουμε αυτό μπορούμε να χρησιμοποιήσουμε την παράμετρο *subset* της *drop_duplicates*. Όμως αν το κάνουμε αυτό **δεν θα διασφαλίσουμε ότι έχουμε κρατήσει την τελευταία εγγραφή του χρήστη**. Στο JSON έχουμε πολλές εμφανίσεις του ίδιου χρήστη, επειδή ανάμεσα σε κάθε νέα απάντηση που λαβαίνουμε από το Twitter API, έχει μεσολαβήσει ένας χρόνος, έστω και μικρός. Κατά την διάρκεια αυτού του χρόνου, είναι σίγουρο ότι έχουν συμβεί αλλαγές στο Twitter, και μια αλλαγή που μας αφορά είναι να έχουν τροποποιηθεί τα δεδομένα των χρηστών. Αυτό το βλέπουμε με ένα παράδειγμα στη συνέχεια εμφανίζοντας τις γραμμές στις οποίες το author_id είναι ίσο με 109082290.\n",
    "\n",
    "Αν πάμε να εμφανίσουμε τις εγγραφές που έχουν αυτό το author_id στο users_df θα πάρουμε:"
   ]
  },
  {
   "cell_type": "code",
   "execution_count": null,
   "id": "b2d9ded3",
   "metadata": {
    "id": "b2d9ded3",
    "outputId": "4b0998a7-8217-4cdf-ef1c-c7df22f5baaf"
   },
   "outputs": [
    {
     "data": {
      "text/html": [
       "<div>\n",
       "<style scoped>\n",
       "    .dataframe tbody tr th:only-of-type {\n",
       "        vertical-align: middle;\n",
       "    }\n",
       "\n",
       "    .dataframe tbody tr th {\n",
       "        vertical-align: top;\n",
       "    }\n",
       "\n",
       "    .dataframe thead th {\n",
       "        text-align: right;\n",
       "    }\n",
       "</style>\n",
       "<table border=\"1\" class=\"dataframe\">\n",
       "  <thead>\n",
       "    <tr style=\"text-align: right;\">\n",
       "      <th></th>\n",
       "      <th>author_id</th>\n",
       "      <th>author_name</th>\n",
       "      <th>author_username</th>\n",
       "      <th>author_description</th>\n",
       "      <th>author_followers_count</th>\n",
       "      <th>author_following_count</th>\n",
       "      <th>author_tweet_count</th>\n",
       "      <th>author_listed_count</th>\n",
       "    </tr>\n",
       "  </thead>\n",
       "  <tbody>\n",
       "    <tr>\n",
       "      <th>176</th>\n",
       "      <td>109082290</td>\n",
       "      <td>National Cyber Security</td>\n",
       "      <td>NcsVentures</td>\n",
       "      <td>We are a leader in #news for #cybersecurity #h...</td>\n",
       "      <td>9816</td>\n",
       "      <td>159</td>\n",
       "      <td>309801</td>\n",
       "      <td>167</td>\n",
       "    </tr>\n",
       "    <tr>\n",
       "      <th>1744</th>\n",
       "      <td>109082290</td>\n",
       "      <td>National Cyber Security</td>\n",
       "      <td>NcsVentures</td>\n",
       "      <td>We are a leader in #news for #cybersecurity #h...</td>\n",
       "      <td>9816</td>\n",
       "      <td>159</td>\n",
       "      <td>309801</td>\n",
       "      <td>167</td>\n",
       "    </tr>\n",
       "    <tr>\n",
       "      <th>1811</th>\n",
       "      <td>109082290</td>\n",
       "      <td>National Cyber Security</td>\n",
       "      <td>NcsVentures</td>\n",
       "      <td>We are a leader in #news for #cybersecurity #h...</td>\n",
       "      <td>9816</td>\n",
       "      <td>159</td>\n",
       "      <td>309801</td>\n",
       "      <td>167</td>\n",
       "    </tr>\n",
       "    <tr>\n",
       "      <th>2440</th>\n",
       "      <td>109082290</td>\n",
       "      <td>National Cyber Security</td>\n",
       "      <td>NcsVentures</td>\n",
       "      <td>We are a leader in #news for #cybersecurity #h...</td>\n",
       "      <td>9816</td>\n",
       "      <td>159</td>\n",
       "      <td>309801</td>\n",
       "      <td>167</td>\n",
       "    </tr>\n",
       "    <tr>\n",
       "      <th>3986</th>\n",
       "      <td>109082290</td>\n",
       "      <td>National Cyber Security</td>\n",
       "      <td>NcsVentures</td>\n",
       "      <td>We are a leader in #news for #cybersecurity #h...</td>\n",
       "      <td>9816</td>\n",
       "      <td>159</td>\n",
       "      <td>309801</td>\n",
       "      <td>167</td>\n",
       "    </tr>\n",
       "    <tr>\n",
       "      <th>4917</th>\n",
       "      <td>109082290</td>\n",
       "      <td>National Cyber Security</td>\n",
       "      <td>NcsVentures</td>\n",
       "      <td>We are a leader in #news for #cybersecurity #h...</td>\n",
       "      <td>9816</td>\n",
       "      <td>159</td>\n",
       "      <td>309801</td>\n",
       "      <td>167</td>\n",
       "    </tr>\n",
       "    <tr>\n",
       "      <th>6412</th>\n",
       "      <td>109082290</td>\n",
       "      <td>National Cyber Security</td>\n",
       "      <td>NcsVentures</td>\n",
       "      <td>We are a leader in #news for #cybersecurity #h...</td>\n",
       "      <td>9816</td>\n",
       "      <td>159</td>\n",
       "      <td>309801</td>\n",
       "      <td>167</td>\n",
       "    </tr>\n",
       "    <tr>\n",
       "      <th>6768</th>\n",
       "      <td>109082290</td>\n",
       "      <td>National Cyber Security</td>\n",
       "      <td>NcsVentures</td>\n",
       "      <td>We are a leader in #news for #cybersecurity #h...</td>\n",
       "      <td>9816</td>\n",
       "      <td>159</td>\n",
       "      <td>309801</td>\n",
       "      <td>167</td>\n",
       "    </tr>\n",
       "    <tr>\n",
       "      <th>7301</th>\n",
       "      <td>109082290</td>\n",
       "      <td>National Cyber Security</td>\n",
       "      <td>NcsVentures</td>\n",
       "      <td>We are a leader in #news for #cybersecurity #h...</td>\n",
       "      <td>9816</td>\n",
       "      <td>159</td>\n",
       "      <td>309801</td>\n",
       "      <td>167</td>\n",
       "    </tr>\n",
       "    <tr>\n",
       "      <th>7754</th>\n",
       "      <td>109082290</td>\n",
       "      <td>National Cyber Security</td>\n",
       "      <td>NcsVentures</td>\n",
       "      <td>We are a leader in #news for #cybersecurity #h...</td>\n",
       "      <td>9816</td>\n",
       "      <td>159</td>\n",
       "      <td>309801</td>\n",
       "      <td>167</td>\n",
       "    </tr>\n",
       "    <tr>\n",
       "      <th>7948</th>\n",
       "      <td>109082290</td>\n",
       "      <td>National Cyber Security</td>\n",
       "      <td>NcsVentures</td>\n",
       "      <td>We are a leader in #news for #cybersecurity #h...</td>\n",
       "      <td>9816</td>\n",
       "      <td>159</td>\n",
       "      <td>309801</td>\n",
       "      <td>167</td>\n",
       "    </tr>\n",
       "    <tr>\n",
       "      <th>12417</th>\n",
       "      <td>109082290</td>\n",
       "      <td>National Cyber Security</td>\n",
       "      <td>NcsVentures</td>\n",
       "      <td>We are a leader in #news for #cybersecurity #h...</td>\n",
       "      <td>9816</td>\n",
       "      <td>159</td>\n",
       "      <td>309801</td>\n",
       "      <td>167</td>\n",
       "    </tr>\n",
       "    <tr>\n",
       "      <th>14516</th>\n",
       "      <td>109082290</td>\n",
       "      <td>National Cyber Security</td>\n",
       "      <td>NcsVentures</td>\n",
       "      <td>We are a leader in #news for #cybersecurity #h...</td>\n",
       "      <td>9816</td>\n",
       "      <td>159</td>\n",
       "      <td>309801</td>\n",
       "      <td>167</td>\n",
       "    </tr>\n",
       "    <tr>\n",
       "      <th>14953</th>\n",
       "      <td>109082290</td>\n",
       "      <td>National Cyber Security</td>\n",
       "      <td>NcsVentures</td>\n",
       "      <td>We are a leader in #news for #cybersecurity #h...</td>\n",
       "      <td>9816</td>\n",
       "      <td>159</td>\n",
       "      <td>309801</td>\n",
       "      <td>167</td>\n",
       "    </tr>\n",
       "    <tr>\n",
       "      <th>16216</th>\n",
       "      <td>109082290</td>\n",
       "      <td>National Cyber Security</td>\n",
       "      <td>NcsVentures</td>\n",
       "      <td>We are a leader in #news for #cybersecurity #h...</td>\n",
       "      <td>9816</td>\n",
       "      <td>159</td>\n",
       "      <td>309802</td>\n",
       "      <td>167</td>\n",
       "    </tr>\n",
       "    <tr>\n",
       "      <th>17693</th>\n",
       "      <td>109082290</td>\n",
       "      <td>National Cyber Security</td>\n",
       "      <td>NcsVentures</td>\n",
       "      <td>We are a leader in #news for #cybersecurity #h...</td>\n",
       "      <td>9816</td>\n",
       "      <td>159</td>\n",
       "      <td>309802</td>\n",
       "      <td>167</td>\n",
       "    </tr>\n",
       "    <tr>\n",
       "      <th>18747</th>\n",
       "      <td>109082290</td>\n",
       "      <td>National Cyber Security</td>\n",
       "      <td>NcsVentures</td>\n",
       "      <td>We are a leader in #news for #cybersecurity #h...</td>\n",
       "      <td>9816</td>\n",
       "      <td>159</td>\n",
       "      <td>309803</td>\n",
       "      <td>167</td>\n",
       "    </tr>\n",
       "    <tr>\n",
       "      <th>19077</th>\n",
       "      <td>109082290</td>\n",
       "      <td>National Cyber Security</td>\n",
       "      <td>NcsVentures</td>\n",
       "      <td>We are a leader in #news for #cybersecurity #h...</td>\n",
       "      <td>9816</td>\n",
       "      <td>159</td>\n",
       "      <td>309803</td>\n",
       "      <td>167</td>\n",
       "    </tr>\n",
       "    <tr>\n",
       "      <th>19809</th>\n",
       "      <td>109082290</td>\n",
       "      <td>National Cyber Security</td>\n",
       "      <td>NcsVentures</td>\n",
       "      <td>We are a leader in #news for #cybersecurity #h...</td>\n",
       "      <td>9816</td>\n",
       "      <td>159</td>\n",
       "      <td>309804</td>\n",
       "      <td>167</td>\n",
       "    </tr>\n",
       "    <tr>\n",
       "      <th>23638</th>\n",
       "      <td>109082290</td>\n",
       "      <td>National Cyber Security</td>\n",
       "      <td>NcsVentures</td>\n",
       "      <td>We are a leader in #news for #cybersecurity #h...</td>\n",
       "      <td>9816</td>\n",
       "      <td>159</td>\n",
       "      <td>309807</td>\n",
       "      <td>167</td>\n",
       "    </tr>\n",
       "    <tr>\n",
       "      <th>24365</th>\n",
       "      <td>109082290</td>\n",
       "      <td>National Cyber Security</td>\n",
       "      <td>NcsVentures</td>\n",
       "      <td>We are a leader in #news for #cybersecurity #h...</td>\n",
       "      <td>9816</td>\n",
       "      <td>159</td>\n",
       "      <td>309807</td>\n",
       "      <td>167</td>\n",
       "    </tr>\n",
       "    <tr>\n",
       "      <th>24482</th>\n",
       "      <td>109082290</td>\n",
       "      <td>National Cyber Security</td>\n",
       "      <td>NcsVentures</td>\n",
       "      <td>We are a leader in #news for #cybersecurity #h...</td>\n",
       "      <td>9816</td>\n",
       "      <td>159</td>\n",
       "      <td>309807</td>\n",
       "      <td>167</td>\n",
       "    </tr>\n",
       "    <tr>\n",
       "      <th>25019</th>\n",
       "      <td>109082290</td>\n",
       "      <td>National Cyber Security</td>\n",
       "      <td>NcsVentures</td>\n",
       "      <td>We are a leader in #news for #cybersecurity #h...</td>\n",
       "      <td>9816</td>\n",
       "      <td>159</td>\n",
       "      <td>309808</td>\n",
       "      <td>167</td>\n",
       "    </tr>\n",
       "    <tr>\n",
       "      <th>25112</th>\n",
       "      <td>109082290</td>\n",
       "      <td>National Cyber Security</td>\n",
       "      <td>NcsVentures</td>\n",
       "      <td>We are a leader in #news for #cybersecurity #h...</td>\n",
       "      <td>9816</td>\n",
       "      <td>159</td>\n",
       "      <td>309808</td>\n",
       "      <td>167</td>\n",
       "    </tr>\n",
       "    <tr>\n",
       "      <th>27861</th>\n",
       "      <td>109082290</td>\n",
       "      <td>National Cyber Security</td>\n",
       "      <td>NcsVentures</td>\n",
       "      <td>We are a leader in #news for #cybersecurity #h...</td>\n",
       "      <td>9816</td>\n",
       "      <td>159</td>\n",
       "      <td>309811</td>\n",
       "      <td>167</td>\n",
       "    </tr>\n",
       "    <tr>\n",
       "      <th>32261</th>\n",
       "      <td>109082290</td>\n",
       "      <td>National Cyber Security</td>\n",
       "      <td>NcsVentures</td>\n",
       "      <td>We are a leader in #news for #cybersecurity #h...</td>\n",
       "      <td>9816</td>\n",
       "      <td>159</td>\n",
       "      <td>309814</td>\n",
       "      <td>167</td>\n",
       "    </tr>\n",
       "    <tr>\n",
       "      <th>34095</th>\n",
       "      <td>109082290</td>\n",
       "      <td>National Cyber Security</td>\n",
       "      <td>NcsVentures</td>\n",
       "      <td>We are a leader in #news for #cybersecurity #h...</td>\n",
       "      <td>9816</td>\n",
       "      <td>159</td>\n",
       "      <td>309814</td>\n",
       "      <td>167</td>\n",
       "    </tr>\n",
       "    <tr>\n",
       "      <th>34720</th>\n",
       "      <td>109082290</td>\n",
       "      <td>National Cyber Security</td>\n",
       "      <td>NcsVentures</td>\n",
       "      <td>We are a leader in #news for #cybersecurity #h...</td>\n",
       "      <td>9816</td>\n",
       "      <td>159</td>\n",
       "      <td>309815</td>\n",
       "      <td>167</td>\n",
       "    </tr>\n",
       "    <tr>\n",
       "      <th>35326</th>\n",
       "      <td>109082290</td>\n",
       "      <td>National Cyber Security</td>\n",
       "      <td>NcsVentures</td>\n",
       "      <td>We are a leader in #news for #cybersecurity #h...</td>\n",
       "      <td>9816</td>\n",
       "      <td>159</td>\n",
       "      <td>309815</td>\n",
       "      <td>167</td>\n",
       "    </tr>\n",
       "  </tbody>\n",
       "</table>\n",
       "</div>"
      ],
      "text/plain": [
       "       author_id              author_name author_username  \\\n",
       "176    109082290  National Cyber Security     NcsVentures   \n",
       "1744   109082290  National Cyber Security     NcsVentures   \n",
       "1811   109082290  National Cyber Security     NcsVentures   \n",
       "2440   109082290  National Cyber Security     NcsVentures   \n",
       "3986   109082290  National Cyber Security     NcsVentures   \n",
       "4917   109082290  National Cyber Security     NcsVentures   \n",
       "6412   109082290  National Cyber Security     NcsVentures   \n",
       "6768   109082290  National Cyber Security     NcsVentures   \n",
       "7301   109082290  National Cyber Security     NcsVentures   \n",
       "7754   109082290  National Cyber Security     NcsVentures   \n",
       "7948   109082290  National Cyber Security     NcsVentures   \n",
       "12417  109082290  National Cyber Security     NcsVentures   \n",
       "14516  109082290  National Cyber Security     NcsVentures   \n",
       "14953  109082290  National Cyber Security     NcsVentures   \n",
       "16216  109082290  National Cyber Security     NcsVentures   \n",
       "17693  109082290  National Cyber Security     NcsVentures   \n",
       "18747  109082290  National Cyber Security     NcsVentures   \n",
       "19077  109082290  National Cyber Security     NcsVentures   \n",
       "19809  109082290  National Cyber Security     NcsVentures   \n",
       "23638  109082290  National Cyber Security     NcsVentures   \n",
       "24365  109082290  National Cyber Security     NcsVentures   \n",
       "24482  109082290  National Cyber Security     NcsVentures   \n",
       "25019  109082290  National Cyber Security     NcsVentures   \n",
       "25112  109082290  National Cyber Security     NcsVentures   \n",
       "27861  109082290  National Cyber Security     NcsVentures   \n",
       "32261  109082290  National Cyber Security     NcsVentures   \n",
       "34095  109082290  National Cyber Security     NcsVentures   \n",
       "34720  109082290  National Cyber Security     NcsVentures   \n",
       "35326  109082290  National Cyber Security     NcsVentures   \n",
       "\n",
       "                                      author_description  \\\n",
       "176    We are a leader in #news for #cybersecurity #h...   \n",
       "1744   We are a leader in #news for #cybersecurity #h...   \n",
       "1811   We are a leader in #news for #cybersecurity #h...   \n",
       "2440   We are a leader in #news for #cybersecurity #h...   \n",
       "3986   We are a leader in #news for #cybersecurity #h...   \n",
       "4917   We are a leader in #news for #cybersecurity #h...   \n",
       "6412   We are a leader in #news for #cybersecurity #h...   \n",
       "6768   We are a leader in #news for #cybersecurity #h...   \n",
       "7301   We are a leader in #news for #cybersecurity #h...   \n",
       "7754   We are a leader in #news for #cybersecurity #h...   \n",
       "7948   We are a leader in #news for #cybersecurity #h...   \n",
       "12417  We are a leader in #news for #cybersecurity #h...   \n",
       "14516  We are a leader in #news for #cybersecurity #h...   \n",
       "14953  We are a leader in #news for #cybersecurity #h...   \n",
       "16216  We are a leader in #news for #cybersecurity #h...   \n",
       "17693  We are a leader in #news for #cybersecurity #h...   \n",
       "18747  We are a leader in #news for #cybersecurity #h...   \n",
       "19077  We are a leader in #news for #cybersecurity #h...   \n",
       "19809  We are a leader in #news for #cybersecurity #h...   \n",
       "23638  We are a leader in #news for #cybersecurity #h...   \n",
       "24365  We are a leader in #news for #cybersecurity #h...   \n",
       "24482  We are a leader in #news for #cybersecurity #h...   \n",
       "25019  We are a leader in #news for #cybersecurity #h...   \n",
       "25112  We are a leader in #news for #cybersecurity #h...   \n",
       "27861  We are a leader in #news for #cybersecurity #h...   \n",
       "32261  We are a leader in #news for #cybersecurity #h...   \n",
       "34095  We are a leader in #news for #cybersecurity #h...   \n",
       "34720  We are a leader in #news for #cybersecurity #h...   \n",
       "35326  We are a leader in #news for #cybersecurity #h...   \n",
       "\n",
       "       author_followers_count  author_following_count  author_tweet_count  \\\n",
       "176                      9816                     159              309801   \n",
       "1744                     9816                     159              309801   \n",
       "1811                     9816                     159              309801   \n",
       "2440                     9816                     159              309801   \n",
       "3986                     9816                     159              309801   \n",
       "4917                     9816                     159              309801   \n",
       "6412                     9816                     159              309801   \n",
       "6768                     9816                     159              309801   \n",
       "7301                     9816                     159              309801   \n",
       "7754                     9816                     159              309801   \n",
       "7948                     9816                     159              309801   \n",
       "12417                    9816                     159              309801   \n",
       "14516                    9816                     159              309801   \n",
       "14953                    9816                     159              309801   \n",
       "16216                    9816                     159              309802   \n",
       "17693                    9816                     159              309802   \n",
       "18747                    9816                     159              309803   \n",
       "19077                    9816                     159              309803   \n",
       "19809                    9816                     159              309804   \n",
       "23638                    9816                     159              309807   \n",
       "24365                    9816                     159              309807   \n",
       "24482                    9816                     159              309807   \n",
       "25019                    9816                     159              309808   \n",
       "25112                    9816                     159              309808   \n",
       "27861                    9816                     159              309811   \n",
       "32261                    9816                     159              309814   \n",
       "34095                    9816                     159              309814   \n",
       "34720                    9816                     159              309815   \n",
       "35326                    9816                     159              309815   \n",
       "\n",
       "       author_listed_count  \n",
       "176                    167  \n",
       "1744                   167  \n",
       "1811                   167  \n",
       "2440                   167  \n",
       "3986                   167  \n",
       "4917                   167  \n",
       "6412                   167  \n",
       "6768                   167  \n",
       "7301                   167  \n",
       "7754                   167  \n",
       "7948                   167  \n",
       "12417                  167  \n",
       "14516                  167  \n",
       "14953                  167  \n",
       "16216                  167  \n",
       "17693                  167  \n",
       "18747                  167  \n",
       "19077                  167  \n",
       "19809                  167  \n",
       "23638                  167  \n",
       "24365                  167  \n",
       "24482                  167  \n",
       "25019                  167  \n",
       "25112                  167  \n",
       "27861                  167  \n",
       "32261                  167  \n",
       "34095                  167  \n",
       "34720                  167  \n",
       "35326                  167  "
      ]
     },
     "execution_count": 12,
     "metadata": {},
     "output_type": "execute_result"
    }
   ],
   "source": [
    "users_df.loc[users_df['author_id'] == '109082290']"
   ]
  },
  {
   "cell_type": "markdown",
   "id": "bf7725d0",
   "metadata": {
    "id": "bf7725d0"
   },
   "source": [
    "Βλέπουμε ότι έχουμε πολλές εγγραφές για τον ίδιο χρήστη. Με μια γρήγρη ματιά φαίνονται ίδιες όλες τους, όμως αν είμαστε πιο προσεκτικοί θα δούμε ότι οι τιμές της στήλης 'author_tweet_count' που περιλαμβάνει τον αριθμό των tweets που έχουν δημοσιευτεί από τον συγκεκριμένο λογαριασμό διαφέρουν. Οπότε εμείς θέλουμε να κρατήσουμε την τελευταία γιατί αυτή είναι η πιο πρόσφατη. Στο συγκεκριμένο παράδειγμα, έχουν αλλάξει οι τιμές αυτής της στήλης. Σε άλλα παραδείγματα μπορεί να έχουν αλλάξει τιμές από περισσότερες στήλες.\n",
    "\n",
    "Αν κάνουμε απλά drop_duplicates ως προς το author_id θα δούμε ότι δεν κρατείται η τελευταία γραμμή, αλλά η πρώτη:"
   ]
  },
  {
   "cell_type": "code",
   "execution_count": null,
   "id": "de6e2312",
   "metadata": {
    "id": "de6e2312"
   },
   "outputs": [],
   "source": [
    "removed = users_df.drop_duplicates(subset = ['author_id'])"
   ]
  },
  {
   "cell_type": "code",
   "execution_count": null,
   "id": "b87ea009",
   "metadata": {
    "id": "b87ea009",
    "outputId": "22d4c884-dd57-4c74-d3ad-0e5bb09d79f6"
   },
   "outputs": [
    {
     "data": {
      "text/html": [
       "<div>\n",
       "<style scoped>\n",
       "    .dataframe tbody tr th:only-of-type {\n",
       "        vertical-align: middle;\n",
       "    }\n",
       "\n",
       "    .dataframe tbody tr th {\n",
       "        vertical-align: top;\n",
       "    }\n",
       "\n",
       "    .dataframe thead th {\n",
       "        text-align: right;\n",
       "    }\n",
       "</style>\n",
       "<table border=\"1\" class=\"dataframe\">\n",
       "  <thead>\n",
       "    <tr style=\"text-align: right;\">\n",
       "      <th></th>\n",
       "      <th>author_id</th>\n",
       "      <th>author_name</th>\n",
       "      <th>author_username</th>\n",
       "      <th>author_description</th>\n",
       "      <th>author_followers_count</th>\n",
       "      <th>author_following_count</th>\n",
       "      <th>author_tweet_count</th>\n",
       "      <th>author_listed_count</th>\n",
       "    </tr>\n",
       "  </thead>\n",
       "  <tbody>\n",
       "    <tr>\n",
       "      <th>176</th>\n",
       "      <td>109082290</td>\n",
       "      <td>National Cyber Security</td>\n",
       "      <td>NcsVentures</td>\n",
       "      <td>We are a leader in #news for #cybersecurity #h...</td>\n",
       "      <td>9816</td>\n",
       "      <td>159</td>\n",
       "      <td>309801</td>\n",
       "      <td>167</td>\n",
       "    </tr>\n",
       "  </tbody>\n",
       "</table>\n",
       "</div>"
      ],
      "text/plain": [
       "     author_id              author_name author_username  \\\n",
       "176  109082290  National Cyber Security     NcsVentures   \n",
       "\n",
       "                                    author_description  \\\n",
       "176  We are a leader in #news for #cybersecurity #h...   \n",
       "\n",
       "     author_followers_count  author_following_count  author_tweet_count  \\\n",
       "176                    9816                     159              309801   \n",
       "\n",
       "     author_listed_count  \n",
       "176                  167  "
      ]
     },
     "execution_count": 14,
     "metadata": {},
     "output_type": "execute_result"
    }
   ],
   "source": [
    "removed.loc[removed['author_id'] == '109082290']"
   ]
  },
  {
   "cell_type": "markdown",
   "id": "c4ea588f",
   "metadata": {
    "id": "c4ea588f"
   },
   "source": [
    "Οπότε θα χεριαστεί να χρησιμοποιήσουμε την παράμετρο **keep** της μεθόδου, δίνοντας την τιμή last, ζητώντας ουσιαστικά από την βιβλιοθήκη, να διαγράψει τις γραμμές που έχουν ίδιο author_id, αλλά να κρατήσει την τελευταία εμφάνιση."
   ]
  },
  {
   "cell_type": "code",
   "execution_count": null,
   "id": "aa1c81ae",
   "metadata": {
    "id": "aa1c81ae"
   },
   "outputs": [],
   "source": [
    "users_df = users_df.drop_duplicates(subset = ['author_id'], keep = 'last')"
   ]
  },
  {
   "cell_type": "code",
   "execution_count": null,
   "id": "11eaa97d",
   "metadata": {
    "id": "11eaa97d",
    "outputId": "d19b02fd-61ca-462d-9360-6ec2237336b2"
   },
   "outputs": [
    {
     "data": {
      "text/html": [
       "<div>\n",
       "<style scoped>\n",
       "    .dataframe tbody tr th:only-of-type {\n",
       "        vertical-align: middle;\n",
       "    }\n",
       "\n",
       "    .dataframe tbody tr th {\n",
       "        vertical-align: top;\n",
       "    }\n",
       "\n",
       "    .dataframe thead th {\n",
       "        text-align: right;\n",
       "    }\n",
       "</style>\n",
       "<table border=\"1\" class=\"dataframe\">\n",
       "  <thead>\n",
       "    <tr style=\"text-align: right;\">\n",
       "      <th></th>\n",
       "      <th>author_id</th>\n",
       "      <th>author_name</th>\n",
       "      <th>author_username</th>\n",
       "      <th>author_description</th>\n",
       "      <th>author_followers_count</th>\n",
       "      <th>author_following_count</th>\n",
       "      <th>author_tweet_count</th>\n",
       "      <th>author_listed_count</th>\n",
       "    </tr>\n",
       "  </thead>\n",
       "  <tbody>\n",
       "    <tr>\n",
       "      <th>35326</th>\n",
       "      <td>109082290</td>\n",
       "      <td>National Cyber Security</td>\n",
       "      <td>NcsVentures</td>\n",
       "      <td>We are a leader in #news for #cybersecurity #h...</td>\n",
       "      <td>9816</td>\n",
       "      <td>159</td>\n",
       "      <td>309815</td>\n",
       "      <td>167</td>\n",
       "    </tr>\n",
       "  </tbody>\n",
       "</table>\n",
       "</div>"
      ],
      "text/plain": [
       "       author_id              author_name author_username  \\\n",
       "35326  109082290  National Cyber Security     NcsVentures   \n",
       "\n",
       "                                      author_description  \\\n",
       "35326  We are a leader in #news for #cybersecurity #h...   \n",
       "\n",
       "       author_followers_count  author_following_count  author_tweet_count  \\\n",
       "35326                    9816                     159              309815   \n",
       "\n",
       "       author_listed_count  \n",
       "35326                  167  "
      ]
     },
     "execution_count": 16,
     "metadata": {},
     "output_type": "execute_result"
    }
   ],
   "source": [
    "users_df.loc[users_df['author_id'] == '109082290']"
   ]
  },
  {
   "cell_type": "markdown",
   "id": "11ef2960",
   "metadata": {
    "id": "11ef2960"
   },
   "source": [
    "Τέλεια! Έχουμε κρατήσει την πιο πρόσφατη παρατήρηση, αυτή που είναι και η επιθυμητή ώστε τα δεδομένα μας να ανταποκρίνονται όσο το δυνατόν περισσότερο στην πραγματικότητα!\n",
    "\n",
    "**Δίδαγμα**: Πάντα πρέπει να προσέχουμε να κάνουμε το καλύτερο που μπορούμε στην διαδικασία της συλλογής δεδομένων έτσι ώστε αυτά να ανταποκρίνονται -όσο είναι δυνατόν- στην πραγματικότητα. Ο σκοπός που συλλέγουμε τα δεδομένα άλλωστε, είναι να τα αναλύσουμε ώστε να βγάλουμε χρήσιμα συμπεράσματα από αυτά, να εξάγουμε γνώση. Άρα απαιτείται να δίνουμε **ΤΕΡΑΣΤΙΑ** σημασία στην ποιότητα των δεδομένων!\n",
    "\n"
   ]
  },
  {
   "cell_type": "code",
   "execution_count": null,
   "id": "e70cb952",
   "metadata": {
    "id": "e70cb952",
    "outputId": "c69e1872-22d2-4a44-bfe1-7ee58dc793fb"
   },
   "outputs": [
    {
     "name": "stdout",
     "output_type": "stream",
     "text": [
      "Τώρα το users_df έχει μέγεθος ίσο με 10609  όσοι είναι δηλαδή οι ξεχωριστοί users.\n"
     ]
    }
   ],
   "source": [
    "print(\"Τώρα το users_df έχει μέγεθος ίσο με\",len(users_df),\" όσοι είναι δηλαδή οι ξεχωριστοί users.\")"
   ]
  },
  {
   "cell_type": "markdown",
   "id": "408b415f",
   "metadata": {
    "id": "408b415f"
   },
   "source": [
    "Ας ελέγξουμε μήπως υπάρχουν mising values στο DataFrame."
   ]
  },
  {
   "cell_type": "code",
   "execution_count": null,
   "id": "71f97c05",
   "metadata": {
    "id": "71f97c05",
    "outputId": "c12af6f8-cd64-4dbe-c71f-1e5e274f7aac"
   },
   "outputs": [
    {
     "data": {
      "text/plain": [
       "author_id                 0\n",
       "author_name               0\n",
       "author_username           0\n",
       "author_description        0\n",
       "author_followers_count    0\n",
       "author_following_count    0\n",
       "author_tweet_count        0\n",
       "author_listed_count       0\n",
       "dtype: int64"
      ]
     },
     "execution_count": 18,
     "metadata": {},
     "output_type": "execute_result"
    }
   ],
   "source": [
    "users_df.isnull().sum()"
   ]
  },
  {
   "cell_type": "markdown",
   "id": "30b6c676",
   "metadata": {
    "id": "30b6c676"
   },
   "source": [
    "Βλέπουμε να εμφανίζεται μηδενικός αριθμός από missing values στο DataFrame. Στην πράξη όμως μετά από δοκιμές, βρέθηκε ότι **τελικά υπάρχουν missing values**! Δεν έχουν μετρηθεί όμως παραπάνω, για τον λόγο ότι δεν έχουν την τιμή NaN. Έχουν την τιμή του κενού string την οποία πήραν από τις καταχωρίσεις στο JSON. Για παράδειγμα, αυτό συμβαίνει με την τιμή του χαρακτηριστικού *author_description* της γραμμής 51 του DataFrame όπως βλέπουμε στην συνέχεια:"
   ]
  },
  {
   "cell_type": "code",
   "execution_count": null,
   "id": "05444325",
   "metadata": {
    "id": "05444325",
    "outputId": "293df1d5-551e-4883-8ef5-0b82a5aa30f4",
    "scrolled": true
   },
   "outputs": [
    {
     "data": {
      "text/html": [
       "<div>\n",
       "<style scoped>\n",
       "    .dataframe tbody tr th:only-of-type {\n",
       "        vertical-align: middle;\n",
       "    }\n",
       "\n",
       "    .dataframe tbody tr th {\n",
       "        vertical-align: top;\n",
       "    }\n",
       "\n",
       "    .dataframe thead th {\n",
       "        text-align: right;\n",
       "    }\n",
       "</style>\n",
       "<table border=\"1\" class=\"dataframe\">\n",
       "  <thead>\n",
       "    <tr style=\"text-align: right;\">\n",
       "      <th></th>\n",
       "      <th>author_id</th>\n",
       "      <th>author_name</th>\n",
       "      <th>author_username</th>\n",
       "      <th>author_description</th>\n",
       "      <th>author_followers_count</th>\n",
       "      <th>author_following_count</th>\n",
       "      <th>author_tweet_count</th>\n",
       "      <th>author_listed_count</th>\n",
       "    </tr>\n",
       "  </thead>\n",
       "  <tbody>\n",
       "    <tr>\n",
       "      <th>11013</th>\n",
       "      <td>1299305317944250368</td>\n",
       "      <td>RedBeard</td>\n",
       "      <td>RedBeardIOCs</td>\n",
       "      <td></td>\n",
       "      <td>333</td>\n",
       "      <td>0</td>\n",
       "      <td>22566</td>\n",
       "      <td>17</td>\n",
       "    </tr>\n",
       "  </tbody>\n",
       "</table>\n",
       "</div>"
      ],
      "text/plain": [
       "                 author_id author_name author_username author_description  \\\n",
       "11013  1299305317944250368    RedBeard    RedBeardIOCs                      \n",
       "\n",
       "       author_followers_count  author_following_count  author_tweet_count  \\\n",
       "11013                     333                       0               22566   \n",
       "\n",
       "       author_listed_count  \n",
       "11013                   17  "
      ]
     },
     "execution_count": 19,
     "metadata": {},
     "output_type": "execute_result"
    }
   ],
   "source": [
    "users_df.loc[users_df['author_username'] == 'RedBeardIOCs']"
   ]
  },
  {
   "cell_type": "markdown",
   "id": "74d12b92",
   "metadata": {
    "id": "74d12b92"
   },
   "source": [
    "Συνεπώς, πρέπει να ελέγξουμε και για missing values που έχουν την τιμή του κενού."
   ]
  },
  {
   "cell_type": "code",
   "execution_count": null,
   "id": "025487a9",
   "metadata": {
    "id": "025487a9"
   },
   "outputs": [],
   "source": [
    "emptys_from_users_df = users_df.loc[:,:] == \"\""
   ]
  },
  {
   "cell_type": "code",
   "execution_count": null,
   "id": "7c170ea5",
   "metadata": {
    "id": "7c170ea5",
    "outputId": "15156a25-8731-476e-bb95-e1d981564536"
   },
   "outputs": [
    {
     "data": {
      "text/plain": [
       "author_id                   0\n",
       "author_name                 0\n",
       "author_username             0\n",
       "author_description        876\n",
       "author_followers_count      0\n",
       "author_following_count      0\n",
       "author_tweet_count          0\n",
       "author_listed_count         0\n",
       "dtype: int64"
      ]
     },
     "execution_count": 21,
     "metadata": {},
     "output_type": "execute_result"
    }
   ],
   "source": [
    "emptys_from_users_df.sum()"
   ]
  },
  {
   "cell_type": "markdown",
   "id": "7c21c068",
   "metadata": {
    "id": "7c21c068"
   },
   "source": [
    "Παρατηρούμε, ότι υπάρχουν 876 γραμμές με κενή τιμή στην περιγραφή του λογαριασμού. Μπορούμε να συμπαιράνουμε ότι ίσως δεν είναι υποχρεωτική η δήλωση περιγραφής του λογαριασμού στο Twitter. Όμως, επιθυμούμε να έχουμε την τιμή NaN εκεί έτσι ώστε να μπορούμε να μετρήσουμε τους users που έχουν κενή περιγραφή λογαριασμού. Είναι ιδιαίτερα σημαντικό αυτό, καθώς μπορεί τελικά να παίζουν κάποιον ρόλο οι χρήστες που δεν έχουν περιγραφή (π.χ. μπορεί η πλειοψηφία τους να είναι bot accounts)."
   ]
  },
  {
   "cell_type": "code",
   "execution_count": null,
   "id": "8cd4ff92",
   "metadata": {
    "id": "8cd4ff92",
    "outputId": "a0cab9f5-e19f-4514-c6a8-cb6ed9a5912d"
   },
   "outputs": [
    {
     "name": "stderr",
     "output_type": "stream",
     "text": [
      "/home/terzisilias/anaconda3/lib/python3.9/site-packages/pandas/core/indexing.py:1817: SettingWithCopyWarning: \n",
      "A value is trying to be set on a copy of a slice from a DataFrame.\n",
      "Try using .loc[row_indexer,col_indexer] = value instead\n",
      "\n",
      "See the caveats in the documentation: https://pandas.pydata.org/pandas-docs/stable/user_guide/indexing.html#returning-a-view-versus-a-copy\n",
      "  self._setitem_single_column(loc, value, pi)\n"
     ]
    }
   ],
   "source": [
    "users_df.loc[users_df['author_description'] == \"\", 'author_description'] = np.NaN"
   ]
  },
  {
   "cell_type": "code",
   "execution_count": null,
   "id": "f17a1dbc",
   "metadata": {
    "id": "f17a1dbc",
    "outputId": "8211fcba-d9c9-4362-81c4-7497108acc10"
   },
   "outputs": [
    {
     "data": {
      "text/plain": [
       "author_id                   0\n",
       "author_name                 0\n",
       "author_username             0\n",
       "author_description        876\n",
       "author_followers_count      0\n",
       "author_following_count      0\n",
       "author_tweet_count          0\n",
       "author_listed_count         0\n",
       "dtype: int64"
      ]
     },
     "execution_count": 23,
     "metadata": {},
     "output_type": "execute_result"
    }
   ],
   "source": [
    "users_df.isna().sum()"
   ]
  },
  {
   "cell_type": "markdown",
   "id": "5648a765",
   "metadata": {
    "id": "5648a765"
   },
   "source": [
    "Υπάρχουν και κάποιοι (λίγοι) λογαριασμοί χρηστών που είτε στο όνομά τους, είτε στο description έχουν για τιμή ένα αλφαριθμητικό όπως το *'N/A'*, το *'n/a'* ή το *'null'*. Σε μια παλιότερη υλοποίηση, η βιβλιοθήκη pandas σε αυτές τις περιπτώσεις, έδινε την τιμή NaN. Τέτοιοι λογαριασμοί είναι: "
   ]
  },
  {
   "cell_type": "code",
   "execution_count": null,
   "id": "5f1fbfd8",
   "metadata": {
    "id": "5f1fbfd8",
    "outputId": "d4415a37-f736-4bf6-893f-83109da5679a",
    "scrolled": true
   },
   "outputs": [
    {
     "data": {
      "text/html": [
       "<div>\n",
       "<style scoped>\n",
       "    .dataframe tbody tr th:only-of-type {\n",
       "        vertical-align: middle;\n",
       "    }\n",
       "\n",
       "    .dataframe tbody tr th {\n",
       "        vertical-align: top;\n",
       "    }\n",
       "\n",
       "    .dataframe thead th {\n",
       "        text-align: right;\n",
       "    }\n",
       "</style>\n",
       "<table border=\"1\" class=\"dataframe\">\n",
       "  <thead>\n",
       "    <tr style=\"text-align: right;\">\n",
       "      <th></th>\n",
       "      <th>author_id</th>\n",
       "      <th>author_name</th>\n",
       "      <th>author_username</th>\n",
       "      <th>author_description</th>\n",
       "      <th>author_followers_count</th>\n",
       "      <th>author_following_count</th>\n",
       "      <th>author_tweet_count</th>\n",
       "      <th>author_listed_count</th>\n",
       "    </tr>\n",
       "  </thead>\n",
       "  <tbody>\n",
       "    <tr>\n",
       "      <th>8360</th>\n",
       "      <td>1113180707646472193</td>\n",
       "      <td>N/A</td>\n",
       "      <td>c3yhuncamli</td>\n",
       "      <td>NaN</td>\n",
       "      <td>55</td>\n",
       "      <td>546</td>\n",
       "      <td>611</td>\n",
       "      <td>1</td>\n",
       "    </tr>\n",
       "  </tbody>\n",
       "</table>\n",
       "</div>"
      ],
      "text/plain": [
       "                author_id author_name author_username author_description  \\\n",
       "8360  1113180707646472193         N/A     c3yhuncamli                NaN   \n",
       "\n",
       "      author_followers_count  author_following_count  author_tweet_count  \\\n",
       "8360                      55                     546                 611   \n",
       "\n",
       "      author_listed_count  \n",
       "8360                    1  "
      ]
     },
     "execution_count": 24,
     "metadata": {},
     "output_type": "execute_result"
    }
   ],
   "source": [
    "users_df.loc[users_df['author_name'] == 'N/A']"
   ]
  },
  {
   "cell_type": "code",
   "execution_count": null,
   "id": "fa22d65e",
   "metadata": {
    "id": "fa22d65e",
    "outputId": "5f6b0fad-049b-483f-df58-a3f9f9dc11c9",
    "scrolled": true
   },
   "outputs": [
    {
     "data": {
      "text/html": [
       "<div>\n",
       "<style scoped>\n",
       "    .dataframe tbody tr th:only-of-type {\n",
       "        vertical-align: middle;\n",
       "    }\n",
       "\n",
       "    .dataframe tbody tr th {\n",
       "        vertical-align: top;\n",
       "    }\n",
       "\n",
       "    .dataframe thead th {\n",
       "        text-align: right;\n",
       "    }\n",
       "</style>\n",
       "<table border=\"1\" class=\"dataframe\">\n",
       "  <thead>\n",
       "    <tr style=\"text-align: right;\">\n",
       "      <th></th>\n",
       "      <th>author_id</th>\n",
       "      <th>author_name</th>\n",
       "      <th>author_username</th>\n",
       "      <th>author_description</th>\n",
       "      <th>author_followers_count</th>\n",
       "      <th>author_following_count</th>\n",
       "      <th>author_tweet_count</th>\n",
       "      <th>author_listed_count</th>\n",
       "    </tr>\n",
       "  </thead>\n",
       "  <tbody>\n",
       "    <tr>\n",
       "      <th>13585</th>\n",
       "      <td>1192059930779537409</td>\n",
       "      <td>Annie Do</td>\n",
       "      <td>AnnieDo52640257</td>\n",
       "      <td>n/a</td>\n",
       "      <td>9</td>\n",
       "      <td>5</td>\n",
       "      <td>15778</td>\n",
       "      <td>0</td>\n",
       "    </tr>\n",
       "  </tbody>\n",
       "</table>\n",
       "</div>"
      ],
      "text/plain": [
       "                 author_id author_name  author_username author_description  \\\n",
       "13585  1192059930779537409    Annie Do  AnnieDo52640257                n/a   \n",
       "\n",
       "       author_followers_count  author_following_count  author_tweet_count  \\\n",
       "13585                       9                       5               15778   \n",
       "\n",
       "       author_listed_count  \n",
       "13585                    0  "
      ]
     },
     "execution_count": 25,
     "metadata": {},
     "output_type": "execute_result"
    }
   ],
   "source": [
    "users_df.loc[users_df['author_description'] == 'n/a']"
   ]
  },
  {
   "cell_type": "code",
   "execution_count": null,
   "id": "907729a1",
   "metadata": {
    "id": "907729a1",
    "outputId": "e4abd7b3-8748-4d62-d798-9a87ed76d36c"
   },
   "outputs": [
    {
     "data": {
      "text/html": [
       "<div>\n",
       "<style scoped>\n",
       "    .dataframe tbody tr th:only-of-type {\n",
       "        vertical-align: middle;\n",
       "    }\n",
       "\n",
       "    .dataframe tbody tr th {\n",
       "        vertical-align: top;\n",
       "    }\n",
       "\n",
       "    .dataframe thead th {\n",
       "        text-align: right;\n",
       "    }\n",
       "</style>\n",
       "<table border=\"1\" class=\"dataframe\">\n",
       "  <thead>\n",
       "    <tr style=\"text-align: right;\">\n",
       "      <th></th>\n",
       "      <th>author_id</th>\n",
       "      <th>author_name</th>\n",
       "      <th>author_username</th>\n",
       "      <th>author_description</th>\n",
       "      <th>author_followers_count</th>\n",
       "      <th>author_following_count</th>\n",
       "      <th>author_tweet_count</th>\n",
       "      <th>author_listed_count</th>\n",
       "    </tr>\n",
       "  </thead>\n",
       "  <tbody>\n",
       "    <tr>\n",
       "      <th>22964</th>\n",
       "      <td>371100310</td>\n",
       "      <td>Abdullah Alharbi</td>\n",
       "      <td>Abady0x1</td>\n",
       "      <td>null</td>\n",
       "      <td>1995</td>\n",
       "      <td>92</td>\n",
       "      <td>1186</td>\n",
       "      <td>4</td>\n",
       "    </tr>\n",
       "  </tbody>\n",
       "</table>\n",
       "</div>"
      ],
      "text/plain": [
       "       author_id       author_name author_username author_description  \\\n",
       "22964  371100310  Abdullah Alharbi        Abady0x1               null   \n",
       "\n",
       "       author_followers_count  author_following_count  author_tweet_count  \\\n",
       "22964                    1995                      92                1186   \n",
       "\n",
       "       author_listed_count  \n",
       "22964                    4  "
      ]
     },
     "execution_count": 26,
     "metadata": {},
     "output_type": "execute_result"
    }
   ],
   "source": [
    "users_df.loc[users_df['author_description'] == 'null']"
   ]
  },
  {
   "cell_type": "markdown",
   "id": "6af467fd",
   "metadata": {
    "id": "6af467fd"
   },
   "source": [
    "Όμως αποφασίστηκε ότι δεν θα πρέπει να καταχωρούνται ως NaN μιας και είναι τιμές που επέλεξαν οι χρήστες να δώσουν (είτε στο όνομα είτε στην περιγραφή). Μπορούμε να δούμε άλλωστε ότι είναι και valuable χρήστες από τα metrics τους.\n",
    "\n",
    "Ας κρατήσουμε σε ένα CSV αρχείο το DataFrame των users, γιατί ίσως μας χρειαστεί στην πορεία που θα έχουμε στα επόμενα notebooks."
   ]
  },
  {
   "cell_type": "code",
   "execution_count": null,
   "id": "94d6b4c3",
   "metadata": {
    "id": "94d6b4c3"
   },
   "outputs": [],
   "source": [
    "users_df.to_csv('Data/tweets/users.csv', index=False)"
   ]
  },
  {
   "cell_type": "markdown",
   "id": "2280ab65",
   "metadata": {
    "id": "2280ab65"
   },
   "source": [
    "Τώρα πλέον που έχουμε κρατήσει στο users_df τις τελευταίες εμφανίσεις των χρηστών από το JSON και έχουμε δώσει την τιμή NaN στα κελιά του *users_df* που είχαν για τιμή ένα κενό string, έχουμε το DataFrame μας στην μορφή που θέλουμε. Οπότε έχοντας συγκεντρωμένους τους users μας, μπορούμε να προσωρήσουμε με την συλλογή των tweets."
   ]
  },
  {
   "cell_type": "markdown",
   "id": "dfaf282c",
   "metadata": {
    "id": "dfaf282c"
   },
   "source": [
    "### Η συλλογή των δεδομένων των tweets σε μια λίστα\n",
    "\n",
    "Διατρέχουμε τώρα επαναληπτικά το αντικείμενο **data** του JSON έτσι ώστε να συλλέξουμε σε μια λίστα το περιεχόμενο και τις πληροφορίες των tweets. Κάθε φορά που συναντάμε ένα tweet, αναζητούμε στο *users_df* τις πληροφορίες του χρήστη που δημοσίευσε το συγκεκριμένο tweet. Έτσι κρατάμε στη λίστα τόσο τις πληροφορίες των tweets όσο και τις πληροφορίες των συγγραφέων τους.  \n",
    "\n",
    "#### Σχετικά με την αποδοτικότητα\n",
    "\n",
    "Ο σωστός τρόπος να \"γεμίσουμε\" ένα DataFrame με δεδομένα δεν είναι με χρήση της μεθόδου append. Υπολογιστικά το κόστος είναι μεγάλο. (*Περισσότερες πληροφορίες είναι διαθέσιμες στο [σχετικό ερώτημα](https://stackoverflow.com/questions/13784192/creating-an-empty-pandas-dataframe-then-filling-it) από το StackOverflow*). Η σωστή προσέγγιση είναι να δημιουργήσουμε πρώτα μια λίστα και στη συνέχεια να την \"γεμίσουμε\" με δεδομένα χρησιμοποιώντας την μέθοδο append και μετά να κάνουμε μετατροπή της σε DataFrame.\n",
    "\n",
    "Στην πρώτη προσπάθεια συγγραφής αυτού του notebook, εφαρμόστηκε η κακή μέθοδος της δημιουργίας κενού DataFrame το οποίο γεμίζει στη συνέχεια με append. Ο χρόνος που χρειάστηκε για να γεμίσει το DataFrame ήταν απαγορευτικός, ενώ στην παρούσα υλοποίηση με την χρήση λίστας είναι πολύ μικρότερος. Η διαδικασία ήταν ιδιαίτερα χρονοβόρα και μάλιστα για να μπορεί να γίνει ελεγχόμενα, έγινε επαναληπτικά (δηλ. στο μεθεπόμενο κελί δεν έτρεξε ο βρόχος *for i in range (500,920)* αλλά ανά 50 (500,550) και μετά (550,600) κοκ και κάθε φορά η εκτέλεση απαιτούσε περίπου 15 λεπτά). Στην παρούσα έκδοση, αν και η εκτέλεση απαιτεί περίπου 5 λεπτά, αυτό οφείλεται στο ότι χρειαζόμαστε να προσπελάσουμε το DataFrame με τους χρήστες, δηλαδή το *users_df*. (Άλλωστε, κάθε φορά που γίνεται διάσχυση ενός DataFrame ο χρόνος εκτέλεσης είναι μεγάλος.) Αν δεν προσθέσουμε και τις πληροφορίες των χρηστών τώρα, τότε ο χρόνος θα είναι αμελητέος. Όμως εάν το κάναμε αυτό μετά, (αφού δηλαδή δημιουργούσαμε το DataFrame με τα tweets) τότε θα χρειάζονταν πολύ περισσότερος χρόνος για να τοποθετήσουμε τα δεδομένα του κάθε user εκεί που πρέπει (σε μια υλοποίηση που ακολούθησε αυτή την προσέγγιση, η εκτέλεση χρειάστηκε περίπου μία ώρα).  \n",
    "\n",
    "**Δίδαγμα**: Από αυτή την διαδικασία πάντως λαμβάνεται ένα ιδιαίτερα σημαντικό δίδαγμα, για άλλη μια φορά, που τονίζει ότι *πρέπει να αναζητάμε πάντα την ορθή και αποδοτική λύση, την προτιμότερη, και όχι μια λύση που απλώς \"δουλεύει\"*."
   ]
  },
  {
   "cell_type": "code",
   "execution_count": null,
   "id": "b028ca54",
   "metadata": {
    "id": "b028ca54"
   },
   "outputs": [],
   "source": [
    "tweets = [] \n",
    "\n",
    "# Ξεκινάμε με τα πρώτα 500 που έχουν απλή πρόσβαση...\n",
    "for i in range (0,500):\n",
    "    \n",
    "    # Αναζήτηση στο users_df του user εκείνου που είναι ο συγγραφέας του συγκεκριμένου tweet.\n",
    "    # Έτσι θα αποθηκεύσουμε στο row μαζί με τις πληροφορίες του tweet και τις πληροφορίες του user.\n",
    "    user_id = twitter_data['data'][i]['author_id']\n",
    "    user_row = users_df.loc[users_df['author_id'] == user_id]     \n",
    "    \n",
    "    tweets.append({'id': twitter_data['data'][i]['id'],\n",
    "                   'text': twitter_data['data'][i]['text'],\n",
    "                   'created_at': twitter_data['data'][i]['created_at'],\n",
    "                   'retweet_count': twitter_data['data'][i]['public_metrics']['retweet_count'],\n",
    "                   'reply_count': twitter_data['data'][i]['public_metrics']['reply_count'],\n",
    "                   'like_count': twitter_data['data'][i]['public_metrics']['like_count'],\n",
    "                   'quote_count': twitter_data['data'][i]['public_metrics']['quote_count'],\n",
    "                   'author_id': twitter_data['data'][i]['author_id'],\n",
    "                   'author_name': user_row['author_name'].values[0],\n",
    "                   'author_username': user_row['author_username'].values[0],\n",
    "                   'author_description': user_row['author_description'].values[0],\n",
    "                   'author_followers_count': user_row['author_followers_count'].values[0],\n",
    "                   'author_following_count': user_row['author_following_count'].values[0],\n",
    "                   'author_tweet_count': user_row['author_tweet_count'].values[0],\n",
    "                   'author_listed_count': user_row['author_listed_count'].values[0]\n",
    "                  })"
   ]
  },
  {
   "cell_type": "code",
   "execution_count": null,
   "id": "39f1e103",
   "metadata": {
    "id": "39f1e103"
   },
   "outputs": [],
   "source": [
    "# ...και συνεχίζουμε με τις εμφωλευμένες λίστες που υπάρχουν στις επόμενες θέσεις της λίστας twitter_data['data']...\n",
    "for i in range (500,920):\n",
    "    for tweet in twitter_data['data'][i]:\n",
    "        \n",
    "        user_id = tweet['author_id']\n",
    "        user_row = users_df.loc[users_df['author_id'] == user_id]\n",
    "        \n",
    "        tweets.append({'id': tweet['id'],\n",
    "                       'text': tweet['text'],\n",
    "                       'created_at': tweet['created_at'],\n",
    "                       'retweet_count': tweet['public_metrics']['retweet_count'],\n",
    "                       'reply_count': tweet['public_metrics']['reply_count'],\n",
    "                       'like_count': tweet['public_metrics']['like_count'],\n",
    "                       'quote_count': tweet['public_metrics']['quote_count'],\n",
    "                       'author_id': tweet['author_id'],\n",
    "                       'author_name': user_row['author_name'].values[0],\n",
    "                       'author_username': user_row['author_username'].values[0],\n",
    "                       'author_description': user_row['author_description'].values[0],\n",
    "                       'author_followers_count': user_row['author_followers_count'].values[0],\n",
    "                       'author_following_count': user_row['author_following_count'].values[0],\n",
    "                       'author_tweet_count': user_row['author_tweet_count'].values[0],\n",
    "                       'author_listed_count': user_row['author_listed_count'].values[0]\n",
    "                      })"
   ]
  },
  {
   "cell_type": "markdown",
   "id": "d408bd1d",
   "metadata": {
    "id": "d408bd1d"
   },
   "source": [
    "### Από την λίστα στο DataFrame\n",
    "\n",
    "Στην συνέχεια δημιουργούμε κι εμφανίζουμε το DataFrame που σχηματίζεται με τα δεδομένα που συλλέξαμε από το JSON αρχείο. \n"
   ]
  },
  {
   "cell_type": "code",
   "execution_count": null,
   "id": "c2435d51",
   "metadata": {
    "id": "c2435d51"
   },
   "outputs": [],
   "source": [
    "tweets_df = pd.DataFrame(tweets)"
   ]
  },
  {
   "cell_type": "code",
   "execution_count": null,
   "id": "babfafe9",
   "metadata": {
    "id": "babfafe9",
    "outputId": "45525ed7-3004-4c7a-85ca-324f62bef31a"
   },
   "outputs": [
    {
     "data": {
      "text/html": [
       "<div>\n",
       "<style scoped>\n",
       "    .dataframe tbody tr th:only-of-type {\n",
       "        vertical-align: middle;\n",
       "    }\n",
       "\n",
       "    .dataframe tbody tr th {\n",
       "        vertical-align: top;\n",
       "    }\n",
       "\n",
       "    .dataframe thead th {\n",
       "        text-align: right;\n",
       "    }\n",
       "</style>\n",
       "<table border=\"1\" class=\"dataframe\">\n",
       "  <thead>\n",
       "    <tr style=\"text-align: right;\">\n",
       "      <th></th>\n",
       "      <th>id</th>\n",
       "      <th>text</th>\n",
       "      <th>created_at</th>\n",
       "      <th>retweet_count</th>\n",
       "      <th>reply_count</th>\n",
       "      <th>like_count</th>\n",
       "      <th>quote_count</th>\n",
       "      <th>author_id</th>\n",
       "      <th>author_name</th>\n",
       "      <th>author_username</th>\n",
       "      <th>author_description</th>\n",
       "      <th>author_followers_count</th>\n",
       "      <th>author_following_count</th>\n",
       "      <th>author_tweet_count</th>\n",
       "      <th>author_listed_count</th>\n",
       "    </tr>\n",
       "  </thead>\n",
       "  <tbody>\n",
       "    <tr>\n",
       "      <th>0</th>\n",
       "      <td>1458428897368940553</td>\n",
       "      <td>CVE-2021-34582\\n\\nIn Phoenix Contact FL MGUARD...</td>\n",
       "      <td>2021-11-10T13:38:40.000Z</td>\n",
       "      <td>0</td>\n",
       "      <td>0</td>\n",
       "      <td>0</td>\n",
       "      <td>0</td>\n",
       "      <td>941389496771399680</td>\n",
       "      <td>Vulmon Vulnerability Feed</td>\n",
       "      <td>VulmonFeeds</td>\n",
       "      <td>Vulnerability Feed Bot (tweets new and some ol...</td>\n",
       "      <td>1830</td>\n",
       "      <td>2</td>\n",
       "      <td>85176</td>\n",
       "      <td>46</td>\n",
       "    </tr>\n",
       "    <tr>\n",
       "      <th>1</th>\n",
       "      <td>1458428424326983680</td>\n",
       "      <td>SAP объявила об исправлении критических уязвим...</td>\n",
       "      <td>2021-11-10T13:36:47.000Z</td>\n",
       "      <td>0</td>\n",
       "      <td>0</td>\n",
       "      <td>0</td>\n",
       "      <td>0</td>\n",
       "      <td>1132127578922344448</td>\n",
       "      <td>IT news for all</td>\n",
       "      <td>IT_news_for_all</td>\n",
       "      <td>Сбор новостей с каналов ИТ тематики\\n🔥🎯https:/...</td>\n",
       "      <td>20</td>\n",
       "      <td>17</td>\n",
       "      <td>4685</td>\n",
       "      <td>1</td>\n",
       "    </tr>\n",
       "    <tr>\n",
       "      <th>2</th>\n",
       "      <td>1458428142373179392</td>\n",
       "      <td>CVE-2021-34598\\n\\nIn Phoenix Contact FL MGUARD...</td>\n",
       "      <td>2021-11-10T13:35:40.000Z</td>\n",
       "      <td>0</td>\n",
       "      <td>0</td>\n",
       "      <td>0</td>\n",
       "      <td>0</td>\n",
       "      <td>941389496771399680</td>\n",
       "      <td>Vulmon Vulnerability Feed</td>\n",
       "      <td>VulmonFeeds</td>\n",
       "      <td>Vulnerability Feed Bot (tweets new and some ol...</td>\n",
       "      <td>1830</td>\n",
       "      <td>2</td>\n",
       "      <td>85176</td>\n",
       "      <td>46</td>\n",
       "    </tr>\n",
       "    <tr>\n",
       "      <th>3</th>\n",
       "      <td>1458427987301371911</td>\n",
       "      <td>New post from https://t.co/uXvPWJy6tj (CVE-202...</td>\n",
       "      <td>2021-11-10T13:35:03.000Z</td>\n",
       "      <td>0</td>\n",
       "      <td>0</td>\n",
       "      <td>0</td>\n",
       "      <td>0</td>\n",
       "      <td>955014888446939136</td>\n",
       "      <td>Wolfgang Sesin</td>\n",
       "      <td>WolfgangSesin</td>\n",
       "      <td>Check Point Master &amp; Instructor, Pentest Exper...</td>\n",
       "      <td>292</td>\n",
       "      <td>494</td>\n",
       "      <td>203762</td>\n",
       "      <td>9</td>\n",
       "    </tr>\n",
       "    <tr>\n",
       "      <th>4</th>\n",
       "      <td>1458427985753776138</td>\n",
       "      <td>New post from https://t.co/9KYxtdZjkl (CVE-202...</td>\n",
       "      <td>2021-11-10T13:35:02.000Z</td>\n",
       "      <td>0</td>\n",
       "      <td>0</td>\n",
       "      <td>0</td>\n",
       "      <td>0</td>\n",
       "      <td>958005194398289920</td>\n",
       "      <td>www.sesin.at</td>\n",
       "      <td>www_sesin_at</td>\n",
       "      <td>for more information about us please visit htt...</td>\n",
       "      <td>88</td>\n",
       "      <td>0</td>\n",
       "      <td>212995</td>\n",
       "      <td>0</td>\n",
       "    </tr>\n",
       "    <tr>\n",
       "      <th>...</th>\n",
       "      <td>...</td>\n",
       "      <td>...</td>\n",
       "      <td>...</td>\n",
       "      <td>...</td>\n",
       "      <td>...</td>\n",
       "      <td>...</td>\n",
       "      <td>...</td>\n",
       "      <td>...</td>\n",
       "      <td>...</td>\n",
       "      <td>...</td>\n",
       "      <td>...</td>\n",
       "      <td>...</td>\n",
       "      <td>...</td>\n",
       "      <td>...</td>\n",
       "      <td>...</td>\n",
       "    </tr>\n",
       "    <tr>\n",
       "      <th>210094</th>\n",
       "      <td>1346143661831172097</td>\n",
       "      <td>CVE-2021-26287 is called Confident Sickle\\nhtt...</td>\n",
       "      <td>2021-01-04T17:17:13.000Z</td>\n",
       "      <td>0</td>\n",
       "      <td>0</td>\n",
       "      <td>0</td>\n",
       "      <td>0</td>\n",
       "      <td>1096056138569842688</td>\n",
       "      <td>vulnonym</td>\n",
       "      <td>vulnonym</td>\n",
       "      <td>I'm a bot generating names for CVE IDs.</td>\n",
       "      <td>902</td>\n",
       "      <td>0</td>\n",
       "      <td>37553</td>\n",
       "      <td>16</td>\n",
       "    </tr>\n",
       "    <tr>\n",
       "      <th>210095</th>\n",
       "      <td>1346143642998743043</td>\n",
       "      <td>CVE-2021-26286 shall henceforth be named Relia...</td>\n",
       "      <td>2021-01-04T17:17:09.000Z</td>\n",
       "      <td>0</td>\n",
       "      <td>0</td>\n",
       "      <td>0</td>\n",
       "      <td>0</td>\n",
       "      <td>1096056138569842688</td>\n",
       "      <td>vulnonym</td>\n",
       "      <td>vulnonym</td>\n",
       "      <td>I'm a bot generating names for CVE IDs.</td>\n",
       "      <td>902</td>\n",
       "      <td>0</td>\n",
       "      <td>37553</td>\n",
       "      <td>16</td>\n",
       "    </tr>\n",
       "    <tr>\n",
       "      <th>210096</th>\n",
       "      <td>1346143619967811586</td>\n",
       "      <td>One night, CVE-2021-25847 wished upon a star, ...</td>\n",
       "      <td>2021-01-04T17:17:03.000Z</td>\n",
       "      <td>0</td>\n",
       "      <td>0</td>\n",
       "      <td>0</td>\n",
       "      <td>0</td>\n",
       "      <td>1096056138569842688</td>\n",
       "      <td>vulnonym</td>\n",
       "      <td>vulnonym</td>\n",
       "      <td>I'm a bot generating names for CVE IDs.</td>\n",
       "      <td>902</td>\n",
       "      <td>0</td>\n",
       "      <td>37553</td>\n",
       "      <td>16</td>\n",
       "    </tr>\n",
       "    <tr>\n",
       "      <th>210097</th>\n",
       "      <td>1346143576116375555</td>\n",
       "      <td>Let the annals of the day show that CVE-2021-1...</td>\n",
       "      <td>2021-01-04T17:16:53.000Z</td>\n",
       "      <td>0</td>\n",
       "      <td>0</td>\n",
       "      <td>0</td>\n",
       "      <td>0</td>\n",
       "      <td>1096056138569842688</td>\n",
       "      <td>vulnonym</td>\n",
       "      <td>vulnonym</td>\n",
       "      <td>I'm a bot generating names for CVE IDs.</td>\n",
       "      <td>902</td>\n",
       "      <td>0</td>\n",
       "      <td>37553</td>\n",
       "      <td>16</td>\n",
       "    </tr>\n",
       "    <tr>\n",
       "      <th>210098</th>\n",
       "      <td>1346143574568611840</td>\n",
       "      <td>My real name is CVE-2021-16268 but all my frie...</td>\n",
       "      <td>2021-01-04T17:16:52.000Z</td>\n",
       "      <td>0</td>\n",
       "      <td>0</td>\n",
       "      <td>0</td>\n",
       "      <td>0</td>\n",
       "      <td>1096056138569842688</td>\n",
       "      <td>vulnonym</td>\n",
       "      <td>vulnonym</td>\n",
       "      <td>I'm a bot generating names for CVE IDs.</td>\n",
       "      <td>902</td>\n",
       "      <td>0</td>\n",
       "      <td>37553</td>\n",
       "      <td>16</td>\n",
       "    </tr>\n",
       "  </tbody>\n",
       "</table>\n",
       "<p>210099 rows × 15 columns</p>\n",
       "</div>"
      ],
      "text/plain": [
       "                         id  \\\n",
       "0       1458428897368940553   \n",
       "1       1458428424326983680   \n",
       "2       1458428142373179392   \n",
       "3       1458427987301371911   \n",
       "4       1458427985753776138   \n",
       "...                     ...   \n",
       "210094  1346143661831172097   \n",
       "210095  1346143642998743043   \n",
       "210096  1346143619967811586   \n",
       "210097  1346143576116375555   \n",
       "210098  1346143574568611840   \n",
       "\n",
       "                                                     text  \\\n",
       "0       CVE-2021-34582\\n\\nIn Phoenix Contact FL MGUARD...   \n",
       "1       SAP объявила об исправлении критических уязвим...   \n",
       "2       CVE-2021-34598\\n\\nIn Phoenix Contact FL MGUARD...   \n",
       "3       New post from https://t.co/uXvPWJy6tj (CVE-202...   \n",
       "4       New post from https://t.co/9KYxtdZjkl (CVE-202...   \n",
       "...                                                   ...   \n",
       "210094  CVE-2021-26287 is called Confident Sickle\\nhtt...   \n",
       "210095  CVE-2021-26286 shall henceforth be named Relia...   \n",
       "210096  One night, CVE-2021-25847 wished upon a star, ...   \n",
       "210097  Let the annals of the day show that CVE-2021-1...   \n",
       "210098  My real name is CVE-2021-16268 but all my frie...   \n",
       "\n",
       "                      created_at  retweet_count  reply_count  like_count  \\\n",
       "0       2021-11-10T13:38:40.000Z              0            0           0   \n",
       "1       2021-11-10T13:36:47.000Z              0            0           0   \n",
       "2       2021-11-10T13:35:40.000Z              0            0           0   \n",
       "3       2021-11-10T13:35:03.000Z              0            0           0   \n",
       "4       2021-11-10T13:35:02.000Z              0            0           0   \n",
       "...                          ...            ...          ...         ...   \n",
       "210094  2021-01-04T17:17:13.000Z              0            0           0   \n",
       "210095  2021-01-04T17:17:09.000Z              0            0           0   \n",
       "210096  2021-01-04T17:17:03.000Z              0            0           0   \n",
       "210097  2021-01-04T17:16:53.000Z              0            0           0   \n",
       "210098  2021-01-04T17:16:52.000Z              0            0           0   \n",
       "\n",
       "        quote_count            author_id                author_name  \\\n",
       "0                 0   941389496771399680  Vulmon Vulnerability Feed   \n",
       "1                 0  1132127578922344448            IT news for all   \n",
       "2                 0   941389496771399680  Vulmon Vulnerability Feed   \n",
       "3                 0   955014888446939136             Wolfgang Sesin   \n",
       "4                 0   958005194398289920               www.sesin.at   \n",
       "...             ...                  ...                        ...   \n",
       "210094            0  1096056138569842688                   vulnonym   \n",
       "210095            0  1096056138569842688                   vulnonym   \n",
       "210096            0  1096056138569842688                   vulnonym   \n",
       "210097            0  1096056138569842688                   vulnonym   \n",
       "210098            0  1096056138569842688                   vulnonym   \n",
       "\n",
       "        author_username                                 author_description  \\\n",
       "0           VulmonFeeds  Vulnerability Feed Bot (tweets new and some ol...   \n",
       "1       IT_news_for_all  Сбор новостей с каналов ИТ тематики\\n🔥🎯https:/...   \n",
       "2           VulmonFeeds  Vulnerability Feed Bot (tweets new and some ol...   \n",
       "3         WolfgangSesin  Check Point Master & Instructor, Pentest Exper...   \n",
       "4          www_sesin_at  for more information about us please visit htt...   \n",
       "...                 ...                                                ...   \n",
       "210094         vulnonym            I'm a bot generating names for CVE IDs.   \n",
       "210095         vulnonym            I'm a bot generating names for CVE IDs.   \n",
       "210096         vulnonym            I'm a bot generating names for CVE IDs.   \n",
       "210097         vulnonym            I'm a bot generating names for CVE IDs.   \n",
       "210098         vulnonym            I'm a bot generating names for CVE IDs.   \n",
       "\n",
       "        author_followers_count  author_following_count  author_tweet_count  \\\n",
       "0                         1830                       2               85176   \n",
       "1                           20                      17                4685   \n",
       "2                         1830                       2               85176   \n",
       "3                          292                     494              203762   \n",
       "4                           88                       0              212995   \n",
       "...                        ...                     ...                 ...   \n",
       "210094                     902                       0               37553   \n",
       "210095                     902                       0               37553   \n",
       "210096                     902                       0               37553   \n",
       "210097                     902                       0               37553   \n",
       "210098                     902                       0               37553   \n",
       "\n",
       "        author_listed_count  \n",
       "0                        46  \n",
       "1                         1  \n",
       "2                        46  \n",
       "3                         9  \n",
       "4                         0  \n",
       "...                     ...  \n",
       "210094                   16  \n",
       "210095                   16  \n",
       "210096                   16  \n",
       "210097                   16  \n",
       "210098                   16  \n",
       "\n",
       "[210099 rows x 15 columns]"
      ]
     },
     "execution_count": 30,
     "metadata": {},
     "output_type": "execute_result"
    }
   ],
   "source": [
    "tweets_df"
   ]
  },
  {
   "cell_type": "markdown",
   "id": "c4b6bc68",
   "metadata": {
    "id": "c4b6bc68"
   },
   "source": [
    "Ας δούμε τί συμβαίνει με τα missing values. Αρχικά θα ελέγξουμε μήπως έχουμε για τιμή κάπου την κενή συμβολοσειρά και στη συνέχεια θα χρησιμοποιήσουμε την μέθοδο isna()."
   ]
  },
  {
   "cell_type": "code",
   "execution_count": null,
   "id": "c5a180f3",
   "metadata": {
    "id": "c5a180f3"
   },
   "outputs": [],
   "source": [
    "emptys_from_tweets_df = tweets_df.loc[:,:] == \"\""
   ]
  },
  {
   "cell_type": "code",
   "execution_count": null,
   "id": "f5ac3bfd",
   "metadata": {
    "id": "f5ac3bfd",
    "outputId": "84a45fa0-654a-437b-8ad6-d875fe302a93"
   },
   "outputs": [
    {
     "data": {
      "text/plain": [
       "id                        0\n",
       "text                      0\n",
       "created_at                0\n",
       "retweet_count             0\n",
       "reply_count               0\n",
       "like_count                0\n",
       "quote_count               0\n",
       "author_id                 0\n",
       "author_name               0\n",
       "author_username           0\n",
       "author_description        0\n",
       "author_followers_count    0\n",
       "author_following_count    0\n",
       "author_tweet_count        0\n",
       "author_listed_count       0\n",
       "dtype: int64"
      ]
     },
     "execution_count": 32,
     "metadata": {},
     "output_type": "execute_result"
    }
   ],
   "source": [
    "emptys_from_tweets_df.sum()"
   ]
  },
  {
   "cell_type": "code",
   "execution_count": null,
   "id": "6b42cd61",
   "metadata": {
    "id": "6b42cd61",
    "outputId": "53a08664-4c56-4a6d-ae23-31b56dec3f04",
    "scrolled": true
   },
   "outputs": [
    {
     "name": "stdout",
     "output_type": "stream",
     "text": [
      "id                           0\n",
      "text                         0\n",
      "created_at                   0\n",
      "retweet_count                0\n",
      "reply_count                  0\n",
      "like_count                   0\n",
      "quote_count                  0\n",
      "author_id                    0\n",
      "author_name                  0\n",
      "author_username              0\n",
      "author_description        3859\n",
      "author_followers_count       0\n",
      "author_following_count       0\n",
      "author_tweet_count           0\n",
      "author_listed_count          0\n",
      "dtype: int64\n"
     ]
    }
   ],
   "source": [
    "print(tweets_df.isna().sum())"
   ]
  },
  {
   "cell_type": "markdown",
   "id": "8c997b7b",
   "metadata": {
    "id": "8c997b7b"
   },
   "source": [
    "Ωραία, υπάρχουν missing values μόνο στις περιγραφές των χρηστών και αυτό είναι αναμενόμενο, το αντιμετωπίσαμε στην ενότητα του σχηματισμού του **users_df**. \n",
    "Τώρα ας κάνουμε τον έλεγχο για διπλότυπα tweets."
   ]
  },
  {
   "cell_type": "code",
   "execution_count": null,
   "id": "cbccee1c",
   "metadata": {
    "id": "cbccee1c",
    "outputId": "943da04b-776f-4dd7-8368-7593fa7b8dc4"
   },
   "outputs": [
    {
     "name": "stdout",
     "output_type": "stream",
     "text": [
      "Όλα καλά! Δεν έχουν μπει στο tweets διπλότυπες εγγραφές για ίδια tweets, (ενώ είναι αναμενόμενο να έχουμε διπλότυπα\n",
      "για τους users αφού ένας user κοινοποιεί άγνωστο αριθμό από tweets).\n",
      "Στο dataset μας έχουμε 210099 ξεχωριστά tweets.\n"
     ]
    }
   ],
   "source": [
    "if (tweets_df['id'].is_unique):\n",
    "    print(\"Όλα καλά! Δεν έχουν μπει στο tweets διπλότυπες εγγραφές για ίδια tweets, (ενώ είναι αναμενόμενο να έχουμε διπλότυπα\\nγια τους users αφού ένας user κοινοποιεί άγνωστο αριθμό από tweets).\")\n",
    "    print(\"Στο dataset μας έχουμε\", tweets_df.shape[0], \"ξεχωριστά tweets.\")"
   ]
  },
  {
   "cell_type": "markdown",
   "id": "1108caf7",
   "metadata": {
    "id": "1108caf7"
   },
   "source": [
    "Ολοκληρώνουμε αποθηκεύοντας το DataFrame μας σε ένα αρχείο CSV για να μπορέσουμε να προχωρήσουμε σε επόμενα notebooks με την ανάλυση."
   ]
  },
  {
   "cell_type": "code",
   "execution_count": null,
   "id": "33239f77",
   "metadata": {
    "id": "33239f77"
   },
   "outputs": [],
   "source": [
    "tweets_df.to_csv('Data/tweets/tweets_2021_with_users.csv', index=False)"
   ]
  },
  {
   "cell_type": "code",
   "execution_count": null,
   "id": "abc456f2",
   "metadata": {
    "id": "abc456f2"
   },
   "outputs": [],
   "source": [
    "# Ερώτηση: μήπως τώρα που το DataFrame σχηματίζεται από λίστα είναι διαφορετικά τα δεδομένα που κρατούνται; \n",
    "# Απάντηση: όχι, δεν είναι διαφορετικά! Το ελέγξαμε όπως φαίνεται στην συνέχεια. Ας σημειωθεί ότι ο κώδικας παρακάτω\n",
    "# αφορά στην περίπτωση που χτίζουμε το DataFrame μόνο με τα tweets, χωρίς τις πληροφορίες των χρηστών. Δοκιμάστηκε\n",
    "# όμως και για το DataFrame που έχει και tweets και users και βρέθηκε ότι είναι ίδιο, με την διαφορά ότι δεν έχει \n",
    "# NaNs εκεί που δεν πρέπει να έχει όπως συνέβαινε στο άλλο (π.χ. ονόματα λογαριασμών 'null' και 'n/a').\n",
    "#\n",
    "# Απλά απαιτήθηκε να γίνει type casting καθώς για κάποιον λόγο στο παλιό csv τα ids αποθηκεύτηκαν ως int και όχι \n",
    "# ως str (το οποίο str είναι και το σωστό σαν τύπος για αναγνωριστικά, αφού δεν έχουν την έννοια του αριθμού).\n",
    "# Το tweets_df2 περιείχε το dataset όπως είχε σχηματιστεί με append σε DataFrame και όχι σε λίστα.\n",
    "# Το print εμφάνισε True και η concat επέστρεψε ένα κενό DataFrame.\n",
    "\n",
    "#tweets_df = tweets_df.astype({\"id\": int, \"author_id\": int})\n",
    "#tweets_df2 = pd.read_csv('../Data/tweets/tweets_2021.csv',lineterminator='\\n')\n",
    "#print(tweets_df.equals(tweets_df2))\n",
    "#pd.concat([tweets_df,tweets_df2]).drop_duplicates(keep=False)"
   ]
  }
 ],
 "metadata": {
  "colab": {
   "collapsed_sections": [
    "c8774e1a",
    "a3bfe4f2",
    "dfaf282c",
    "d408bd1d"
   ],
   "name": "1 Σημειωματάριο πρώτο-Συνθέτοντας το DataFrame για τα tweets (proceed_Twitter_data).ipynb",
   "provenance": []
  },
  "kernelspec": {
   "display_name": "Python 3 (ipykernel)",
   "language": "python",
   "name": "python3"
  },
  "language_info": {
   "codemirror_mode": {
    "name": "ipython",
    "version": 3
   },
   "file_extension": ".py",
   "mimetype": "text/x-python",
   "name": "python",
   "nbconvert_exporter": "python",
   "pygments_lexer": "ipython3",
   "version": "3.9.7"
  }
 },
 "nbformat": 4,
 "nbformat_minor": 5
}
